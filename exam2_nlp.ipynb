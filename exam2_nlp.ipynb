{
  "nbformat": 4,
  "nbformat_minor": 0,
  "metadata": {
    "colab": {
      "name": "exam2_nlp.ipynb",
      "provenance": [],
      "collapsed_sections": [],
      "include_colab_link": true
    },
    "kernelspec": {
      "name": "python3",
      "display_name": "Python 3"
    },
    "language_info": {
      "name": "python"
    },
    "accelerator": "GPU"
  },
  "cells": [
    {
      "cell_type": "markdown",
      "metadata": {
        "id": "view-in-github",
        "colab_type": "text"
      },
      "source": [
        "<a href=\"https://colab.research.google.com/github/Varchala/NaturalLanguageProcessing_CSC8980/blob/main/exam2_nlp.ipynb\" target=\"_parent\"><img src=\"https://colab.research.google.com/assets/colab-badge.svg\" alt=\"Open In Colab\"/></a>"
      ]
    },
    {
      "cell_type": "markdown",
      "metadata": {
        "id": "guasZh2J8Vc8"
      },
      "source": [
        "# **G Varchaleswari**\n",
        "\n",
        "vganugapati1@student.gsu.edu "
      ]
    },
    {
      "cell_type": "code",
      "metadata": {
        "colab": {
          "base_uri": "https://localhost:8080/"
        },
        "id": "BShziUX-dj1M",
        "outputId": "9351c76d-fb0f-4b3e-fbfe-f910db37ae29"
      },
      "source": [
        "import pandas as pd\n",
        "import numpy as np\n",
        "from sklearn.metrics.pairwise import cosine_similarity\n",
        "from sklearn.feature_extraction.text import TfidfVectorizer\n",
        "import os\n",
        "import matplotlib.pyplot as plt\n",
        "import gensim\n",
        "from nltk.corpus import abc\n",
        "from collections import Counter, defaultdict\n",
        "import nltk, re\n",
        "from nltk import word_tokenize, sent_tokenize\n",
        "from nltk import bigrams, trigrams\n",
        "nltk.download('punkt')\n"
      ],
      "execution_count": null,
      "outputs": [
        {
          "output_type": "stream",
          "text": [
            "[nltk_data] Downloading package punkt to /root/nltk_data...\n",
            "[nltk_data]   Unzipping tokenizers/punkt.zip.\n"
          ],
          "name": "stdout"
        },
        {
          "output_type": "execute_result",
          "data": {
            "text/plain": [
              "True"
            ]
          },
          "metadata": {
            "tags": []
          },
          "execution_count": 4
        }
      ]
    },
    {
      "cell_type": "code",
      "metadata": {
        "id": "zwTH4TA_eK8r"
      },
      "source": [
        "seed_value = 12345"
      ],
      "execution_count": null,
      "outputs": []
    },
    {
      "cell_type": "markdown",
      "metadata": {
        "id": "w5YFczAZfPSX"
      },
      "source": [
        "#**Question 1) (20 points)**\n",
        "Write a function that takes a List of five words: [‘apple’, ‘house’, ‘pear’,\n",
        "‘dog’, ‘doctor’] and returns a list of lists with each element being a word and a list of the top five\n",
        "most similar words. For this task you have to use the most suitable method of the ones we have\n",
        "seen in class to determine the most similar words to the original input list. You can use a\n",
        "pre-trained resource if you think is appropriate. After calling your function, print the most similar\n",
        "words to the screen. Are these ‘similar’ words actually similar? If not, why not? What do you\n",
        "think can be improved and how - talk about it, do not necessarily implement it?\n"
      ]
    },
    {
      "cell_type": "code",
      "metadata": {
        "colab": {
          "base_uri": "https://localhost:8080/"
        },
        "id": "8ObQ9jGff0QJ",
        "outputId": "bfe379f2-5ce2-41f9-f2f5-026e6a81607d"
      },
      "source": [
        "!gdown --id 0B7XkCwpI5KDYNlNUTTlSS21pQmM"
      ],
      "execution_count": null,
      "outputs": [
        {
          "output_type": "stream",
          "text": [
            "Permission denied: https://drive.google.com/uc?id=0B7XkCwpI5KDYNlNUTTlSS21pQmM\n",
            "Maybe you need to change permission over 'Anyone with the link'?\n"
          ],
          "name": "stdout"
        }
      ]
    },
    {
      "cell_type": "code",
      "metadata": {
        "colab": {
          "base_uri": "https://localhost:8080/"
        },
        "id": "n3k6s-DAim0B",
        "outputId": "1d00fd27-c8d8-4a4f-e230-c95a15724d44"
      },
      "source": [
        "!gunzip /content/drive/MyDrive/GoogleNews-vectors-negative300.bin.gz"
      ],
      "execution_count": null,
      "outputs": [
        {
          "output_type": "stream",
          "text": [
            "\n"
          ],
          "name": "stdout"
        }
      ]
    },
    {
      "cell_type": "code",
      "metadata": {
        "id": "ZVgfrmFDjrN0"
      },
      "source": [
        "from gensim.models import KeyedVectors\n",
        "from sklearn.metrics.pairwise import cosine_similarity"
      ],
      "execution_count": null,
      "outputs": []
    },
    {
      "cell_type": "code",
      "metadata": {
        "id": "m0Sw4XO-rqyM"
      },
      "source": [
        "filename = '/content/drive/MyDrive/GoogleNews-vectors-negative300.bin'\n",
        "model = KeyedVectors.load_word2vec_format(filename, binary=True)"
      ],
      "execution_count": null,
      "outputs": []
    },
    {
      "cell_type": "code",
      "metadata": {
        "colab": {
          "base_uri": "https://localhost:8080/"
        },
        "id": "IgSlKyw9yZ7M",
        "outputId": "5839c27f-d8c0-43e9-d526-364acb2c7542"
      },
      "source": [
        "for i in model.most_similar('apple')[0:6]:\n",
        "  print(i[0])"
      ],
      "execution_count": null,
      "outputs": [
        {
          "output_type": "stream",
          "text": [
            "apples\n",
            "pear\n",
            "fruit\n",
            "berry\n",
            "pears\n",
            "strawberry\n"
          ],
          "name": "stdout"
        }
      ]
    },
    {
      "cell_type": "code",
      "metadata": {
        "colab": {
          "base_uri": "https://localhost:8080/"
        },
        "id": "FFatkNGfQBMC",
        "outputId": "6ee62f43-4057-4358-989a-4dc789d9deec"
      },
      "source": [
        "for i in model.most_similar('dog')[0:10]:\n",
        "  print(i[0])"
      ],
      "execution_count": null,
      "outputs": [
        {
          "output_type": "stream",
          "text": [
            "dogs\n",
            "puppy\n",
            "pit_bull\n",
            "pooch\n",
            "cat\n",
            "golden_retriever\n",
            "German_shepherd\n",
            "Rottweiler\n",
            "beagle\n",
            "pup\n"
          ],
          "name": "stdout"
        }
      ]
    },
    {
      "cell_type": "code",
      "metadata": {
        "id": "1dzS47g0fAu3"
      },
      "source": [
        "def word_similarity(words):\n",
        "  word_vec_list = []\n",
        "  for i in words:\n",
        "    docs = []\n",
        "    for j in model.most_similar(i)[0:5]:\n",
        "      docs.append(j[0])\n",
        "    word_vec_list.append(docs)\n",
        "  return word_vec_list"
      ],
      "execution_count": null,
      "outputs": []
    },
    {
      "cell_type": "code",
      "metadata": {
        "id": "h3NiraBwqu51"
      },
      "source": [
        "sim_Call= word_similarity( ['apple', 'house', 'pear','dog', 'doctor'])"
      ],
      "execution_count": null,
      "outputs": []
    },
    {
      "cell_type": "code",
      "metadata": {
        "colab": {
          "base_uri": "https://localhost:8080/"
        },
        "id": "voMwwD2wsmXr",
        "outputId": "0c6531bb-8195-4ccd-dad1-c8544506212f"
      },
      "source": [
        "sim_Call"
      ],
      "execution_count": null,
      "outputs": [
        {
          "output_type": "execute_result",
          "data": {
            "text/plain": [
              "[['apples', 'pear', 'fruit', 'berry', 'pears'],\n",
              " ['houses', 'bungalow', 'apartment', 'bedroom', 'townhouse'],\n",
              " ['pears', 'apricot', 'apricots', 'nectarine', 'Fuji_apple'],\n",
              " ['dogs', 'puppy', 'pit_bull', 'pooch', 'cat'],\n",
              " ['physician', 'doctors', 'gynecologist', 'surgeon', 'dentist']]"
            ]
          },
          "metadata": {
            "tags": []
          },
          "execution_count": 31
        }
      ]
    },
    {
      "cell_type": "markdown",
      "metadata": {
        "id": "Oe7VBYgWIjVg"
      },
      "source": [
        "Few words that were obtained in the list are quite similar although a few words are redundant. This is one problem I noticed which could be curbed by applying nlp techniques like lemmatization and stemming. A word like 'cat' in comparision to dog is not apt given that the similar words are a set of dog breeds. This is also because cat is an animal the model is categorizing it in the similar way. This could be improved by training the model with a dataset that is relevant to context,i.e. a dataset that has enough combination of sentences to lay a proper distinction between a cat and a dog. But to practically do this at a word level becomes nearly impossible. However, the kind of dataset used to train the neural network, as in word2vec, makes a huge difference and so a relevant dataset could solve this kind of problems to some extent."
      ]
    },
    {
      "cell_type": "markdown",
      "metadata": {
        "id": "SsGYlQIKgcJs"
      },
      "source": [
        "# **Question 2) (30 points)**\n",
        "\n",
        "Using the Homework 2 dataset, also attached in the Exam 2 files, shakespeares-works_TXT_FolgerShakespeare.zip. Find the document to document similarity using:\n",
        "\n",
        "a) Cosine similarity. And create a 42 x 42 heatmap of these similarities.\n",
        "\n",
        "b) Use Doc2Vec to create document embeddings and find the similarities between the documents. To visualize this, also create a 42 x 42 heatmap for this.\n",
        "\n",
        "c) What are the differences you find between the two methods? Is there anything radically\n",
        "different? Please describe your answer in terms of the heatmap of part a and part b.\n"
      ]
    },
    {
      "cell_type": "code",
      "metadata": {
        "colab": {
          "base_uri": "https://localhost:8080/"
        },
        "id": "fyD1gJCIguf9",
        "outputId": "b337d33d-0568-4356-bd1a-22188d52c5f7"
      },
      "source": [
        "path ='/content/drive/MyDrive/exam2/shakespeares-works_TXT_FolgerShakespeare'\n",
        "count=0\n",
        "fileMatrix=[]\n",
        "fileName=[]\n",
        "with os.scandir(path) as files:\n",
        "    for file in files:\n",
        "        if file.name.endswith(\".txt\"):\n",
        "            count +=1\n",
        "            fileName.append(file.name)\n",
        "            with open(path+\"/\"+file.name) as openfile:\n",
        "              fileMatrix.append(openfile.read())\n",
        "    print(count)"
      ],
      "execution_count": null,
      "outputs": [
        {
          "output_type": "stream",
          "text": [
            "42\n"
          ],
          "name": "stdout"
        }
      ]
    },
    {
      "cell_type": "code",
      "metadata": {
        "colab": {
          "base_uri": "https://localhost:8080/"
        },
        "id": "SUG5adjWi3hG",
        "outputId": "472351e4-e708-47fe-df27-ed8010740282"
      },
      "source": [
        "#TfidfVectorizer object\n",
        "vectorizer = TfidfVectorizer()\n",
        "\n",
        "# matrix of word vectors\n",
        "tfidf_matrix = vectorizer.fit_transform(fileMatrix)\n",
        "\n",
        "#shape of tfidf_matrix\n",
        "print(tfidf_matrix.shape)"
      ],
      "execution_count": null,
      "outputs": [
        {
          "output_type": "stream",
          "text": [
            "(42, 24618)\n"
          ],
          "name": "stdout"
        }
      ]
    },
    {
      "cell_type": "code",
      "metadata": {
        "id": "0rPFMoi2jHI4"
      },
      "source": [
        "# compute and print the cosine similarity matrix\n",
        "cosine_sim = cosine_similarity(tfidf_matrix, tfidf_matrix)"
      ],
      "execution_count": null,
      "outputs": []
    },
    {
      "cell_type": "code",
      "metadata": {
        "colab": {
          "base_uri": "https://localhost:8080/",
          "height": 435
        },
        "id": "aHzoSnJijPYM",
        "outputId": "091d04d0-b6c3-469d-a866-e74cef629aef"
      },
      "source": [
        "import seaborn as sns; sns.set_theme()\n",
        "plt.figure(figsize=(9, 7))\n",
        "ax = sns.heatmap(cosine_sim, vmin=0, vmax=1,center=0)"
      ],
      "execution_count": null,
      "outputs": [
        {
          "output_type": "display_data",
          "data": {
            "image/png": "[encoded data removed]",
            "text/plain": [
              "<Figure size 648x504 with 2 Axes>"
            ]
          },
          "metadata": {
            "tags": []
          }
        }
      ]
    },
    {
      "cell_type": "markdown",
      "metadata": {
        "id": "51qVqi9olfLk"
      },
      "source": [
        "# **b)**\n",
        "Use Doc2Vec to create document embeddings and find the similarities between the\n",
        "documents. To visualize this, also create a 42 x 42 heatmap for this.\n"
      ]
    },
    {
      "cell_type": "code",
      "metadata": {
        "colab": {
          "base_uri": "https://localhost:8080/"
        },
        "id": "6gwvTLWlmAh7",
        "outputId": "9ce719c1-c8ff-40c1-c29f-9d35560336a9"
      },
      "source": [
        "!pip install gensim"
      ],
      "execution_count": null,
      "outputs": [
        {
          "output_type": "stream",
          "text": [
            "Requirement already satisfied: gensim in /usr/local/lib/python3.7/dist-packages (3.6.0)\n",
            "Requirement already satisfied: six>=1.5.0 in /usr/local/lib/python3.7/dist-packages (from gensim) (1.15.0)\n",
            "Requirement already satisfied: smart-open>=1.2.1 in /usr/local/lib/python3.7/dist-packages (from gensim) (4.2.0)\n",
            "Requirement already satisfied: numpy>=1.11.3 in /usr/local/lib/python3.7/dist-packages (from gensim) (1.19.5)\n",
            "Requirement already satisfied: scipy>=0.18.1 in /usr/local/lib/python3.7/dist-packages (from gensim) (1.4.1)\n"
          ],
          "name": "stdout"
        }
      ]
    },
    {
      "cell_type": "code",
      "metadata": {
        "id": "lAxUvk49lj33"
      },
      "source": [
        "from gensim.models.doc2vec import Doc2Vec, TaggedDocument"
      ],
      "execution_count": null,
      "outputs": []
    },
    {
      "cell_type": "code",
      "metadata": {
        "id": "CnX8ON2qnPCS"
      },
      "source": [
        "# fileMatrix[0]"
      ],
      "execution_count": null,
      "outputs": []
    },
    {
      "cell_type": "code",
      "metadata": {
        "colab": {
          "base_uri": "https://localhost:8080/"
        },
        "id": "IVa5dFwTpPhV",
        "outputId": "ab68105e-39ea-4557-8bd8-8e036f59a12c"
      },
      "source": [
        "print(fileName)"
      ],
      "execution_count": null,
      "outputs": [
        {
          "output_type": "stream",
          "text": [
            "['richard-iii_TXT_FolgerShakespeare.txt', 'much-ado-about-nothing_TXT_FolgerShakespeare.txt', 'henry-vi-part-3_TXT_FolgerShakespeare.txt', 'venus-and-adonis_TXT_FolgerShakespeare.txt', 'richard-ii_TXT_FolgerShakespeare.txt', 'the-winters-tale_TXT_FolgerShakespeare.txt', 'timon-of-athens_TXT_FolgerShakespeare.txt', 'the-merchant-of-venice_TXT_FolgerShakespeare.txt', 'troilus-and-cressida_TXT_FolgerShakespeare.txt', 'the-two-noble-kinsmen_TXT_FolgerShakespeare.txt', 'loves-labors-lost_TXT_FolgerShakespeare.txt', 'the-taming-of-the-shrew_TXT_FolgerShakespeare.txt', 'cymbeline_TXT_FolgerShakespeare.txt', 'coriolanus_TXT_FolgerShakespeare.txt', 'henry-viii_TXT_FolgerShakespeare.txt', 'the-tempest_TXT_FolgerShakespeare.txt', 'shakespeares-sonnets_TXT_FolgerShakespeare.txt', 'measure-for-measure_TXT_FolgerShakespeare.txt', 'alls-well-that-ends-well_TXT_FolgerShakespeare.txt', 'a-midsummer-nights-dream_TXT_FolgerShakespeare.txt', 'henry-iv-part-1_TXT_FolgerShakespeare.txt', 'henry-vi-part-1_TXT_FolgerShakespeare.txt', 'henry-v_TXT_FolgerShakespeare.txt', 'lucrece_TXT_FolgerShakespeare.txt', 'king-lear_TXT_FolgerShakespeare.txt', 'julius-caesar_TXT_FolgerShakespeare.txt', 'twelfth-night_TXT_FolgerShakespeare.txt', 'henry-vi-part-2_TXT_FolgerShakespeare.txt', 'antony-and-cleopatra_TXT_FolgerShakespeare.txt', 'the-merry-wives-of-windsor_TXT_FolgerShakespeare.txt', 'king-john_TXT_FolgerShakespeare.txt', 'henry-iv-part-2_TXT_FolgerShakespeare.txt', 'titus-andronicus_TXT_FolgerShakespeare.txt', 'pericles_TXT_FolgerShakespeare.txt', 'the-two-gentlemen-of-verona_TXT_FolgerShakespeare.txt', 'the-phoenix-and-turtle_TXT_FolgerShakespeare.txt', 'romeo-and-juliet_TXT_FolgerShakespeare.txt', 'othello_TXT_FolgerShakespeare.txt', 'as-you-like-it_TXT_FolgerShakespeare.txt', 'macbeth_TXT_FolgerShakespeare.txt', 'hamlet_TXT_FolgerShakespeare.txt', 'the-comedy-of-errors_TXT_FolgerShakespeare.txt']\n"
          ],
          "name": "stdout"
        }
      ]
    },
    {
      "cell_type": "code",
      "metadata": {
        "id": "pvdGEk97m7ja"
      },
      "source": [
        "tagged_data = [TaggedDocument(words=word_tokenize(doc.lower()), tags=[str(i)]) for i, doc in zip(fileName,fileMatrix)]"
      ],
      "execution_count": null,
      "outputs": []
    },
    {
      "cell_type": "code",
      "metadata": {
        "id": "nCdWPftTnvjq"
      },
      "source": [
        "model_doc2vec = Doc2Vec()\n",
        "model_doc2vec.build_vocab(tagged_data)\n",
        "model_doc2vec.train(tagged_data,total_examples=model_doc2vec.corpus_count,epochs=model_doc2vec.epochs)"
      ],
      "execution_count": null,
      "outputs": []
    },
    {
      "cell_type": "code",
      "metadata": {
        "colab": {
          "base_uri": "https://localhost:8080/"
        },
        "id": "RNKSStyIopgV",
        "outputId": "2a8c9e14-85b2-4d9f-abf2-8eb86181ef5f"
      },
      "source": [
        "# print(model_doc2vec.docvecs['richard-iii_TXT_FolgerShakespeare.txt'])\n",
        "docvec = []\n",
        "for i in fileName:\n",
        "  docvec.append(model_doc2vec.docvecs[i])\n",
        "print(len(docvec))"
      ],
      "execution_count": null,
      "outputs": [
        {
          "output_type": "stream",
          "text": [
            "42\n"
          ],
          "name": "stdout"
        }
      ]
    },
    {
      "cell_type": "code",
      "metadata": {
        "id": "QVRiiK2Kp7U9"
      },
      "source": [
        "# compute and print the cosine similarity matrix\n",
        "cosine_sim_doc2vec = cosine_similarity(docvec, docvec)"
      ],
      "execution_count": null,
      "outputs": []
    },
    {
      "cell_type": "code",
      "metadata": {
        "colab": {
          "base_uri": "https://localhost:8080/",
          "height": 435
        },
        "id": "Ti3YjJt1qC8c",
        "outputId": "9b5592ec-93f3-4031-e22d-904c303e5ae5"
      },
      "source": [
        "plt.figure(figsize=(9, 7))\n",
        "ax = sns.heatmap(cosine_sim_doc2vec, vmin=0, vmax=1,center=0)"
      ],
      "execution_count": null,
      "outputs": [
        {
          "output_type": "display_data",
          "data": {
            "image/png": "[encoded data removed]",
            "text/plain": [
              "<Figure size 648x504 with 2 Axes>"
            ]
          },
          "metadata": {
            "tags": []
          }
        }
      ]
    },
    {
      "cell_type": "markdown",
      "metadata": {
        "id": "WoLD5Z_2sLNM"
      },
      "source": [
        "# **c**\n",
        "What are the differences you find between the two methods? Is there anything radically different? Please describe your answer in terms of the heatmap of part a and part b."
      ]
    },
    {
      "cell_type": "markdown",
      "metadata": {
        "id": "LYxfV3RhsOXT"
      },
      "source": [
        "The most important and clear difference that I find in the heatmap is that the **Model b** has greater similarity values between different documents as compared to **Model a**. This could be attributed to the method of computation used in these models for finding the document vectors. Model a uses TF-IDF in which words are given weights by term frequency and inverse document frequency instead of only the word frequencies in the document.This helps is finding the important words i.e. words that occur frequently will have less importance due to inverse frequency as compared to rare words. In doc2vec the models are built with underlying representations for each document and its words by using a neural network like CBOW and skipgrams as used in word2vec.Doc2Vec which is a generalization of word2vec model, uses words appearing around the particular word to find the vector (something like bigram and trigram models) whereas tf-idf uses the word frequency in the entire document."
      ]
    },
    {
      "cell_type": "markdown",
      "metadata": {
        "id": "QtpjATblyW48"
      },
      "source": [
        "#**Question 3)**\n",
        "\n",
        "(30 points) Using the Homework 2 dataset. Use SpaCy to extract the following:\n",
        "\n",
        "a) Write a function to generate all unique bigrams from all documents in the dataset. The\n",
        "input of this function should be the concatenated dataset and the output should be the\n",
        "list of bigrams and their frequency. Display the top 10 most common bigrams and their\n",
        "frequency.\n"
      ]
    },
    {
      "cell_type": "code",
      "metadata": {
        "id": "QRM-JuGm2rab"
      },
      "source": [
        "from nltk import bigrams, trigrams"
      ],
      "execution_count": null,
      "outputs": []
    },
    {
      "cell_type": "code",
      "metadata": {
        "id": "EsQ00cnc3lVp"
      },
      "source": [
        "# fileMatrix[0]"
      ],
      "execution_count": null,
      "outputs": []
    },
    {
      "cell_type": "code",
      "metadata": {
        "id": "afmNuXZQ3yRY"
      },
      "source": [
        "fileMatrix_str = lambda a: \"\".join([i for i in a])\n",
        "docm_str = fileMatrix_str(fileMatrix)"
      ],
      "execution_count": null,
      "outputs": []
    },
    {
      "cell_type": "code",
      "metadata": {
        "colab": {
          "base_uri": "https://localhost:8080/",
          "height": 35
        },
        "id": "6LNx1tN74sEX",
        "outputId": "4c80ee51-04ea-4d2f-c177-eb86cf66bdee"
      },
      "source": [
        "docm_str[:10]"
      ],
      "execution_count": null,
      "outputs": [
        {
          "output_type": "execute_result",
          "data": {
            "application/vnd.google.colaboratory.intrinsic+json": {
              "type": "string"
            },
            "text/plain": [
              "'Richard II'"
            ]
          },
          "metadata": {
            "tags": []
          },
          "execution_count": 7
        }
      ]
    },
    {
      "cell_type": "code",
      "metadata": {
        "id": "5SiGXhuyy-_r"
      },
      "source": [
        "def generate_bigrams(sentences):\n",
        "  corpus=[]\n",
        "  for sentence in nltk.sent_tokenize(sentences):\n",
        "    corpus.append(nltk.word_tokenize(sentence))\n",
        "  model_bi = defaultdict(lambda: defaultdict(lambda: 0)) \n",
        "  for sentence in corpus:\n",
        "      for w1, w2 in bigrams(sentence):\n",
        "          # print(w1)\n",
        "          model_bi[w1][w2] += 1\n",
        "  freq_l = []\n",
        "  for w1 in model_bi:\n",
        "      for w2 in model_bi[w1]:\n",
        "          freq_l.append({str(w1)+\" \"+str(w2):model_bi[w1][w2]})\n",
        "  return freq_l\n"
      ],
      "execution_count": null,
      "outputs": []
    },
    {
      "cell_type": "code",
      "metadata": {
        "id": "MtxtYbLz8CF7"
      },
      "source": [
        "res_bigram = generate_bigrams(docm_str)"
      ],
      "execution_count": null,
      "outputs": []
    },
    {
      "cell_type": "code",
      "metadata": {
        "id": "7dx0_ez2_mi9"
      },
      "source": [
        "res_bigram_srt = sorted(res_bigram, key = lambda i: next(iter(i.values())),reverse=True)"
      ],
      "execution_count": null,
      "outputs": []
    },
    {
      "cell_type": "code",
      "metadata": {
        "colab": {
          "base_uri": "https://localhost:8080/"
        },
        "id": "yAK3EF5qKGaW",
        "outputId": "07a36e5c-7df8-4d0d-9af3-46e9eadffaec"
      },
      "source": [
        "res_bigram_srt[:10]"
      ],
      "execution_count": null,
      "outputs": [
        {
          "output_type": "execute_result",
          "data": {
            "text/plain": [
              "[{', and': 7555},\n",
              " {'. ]': 6765},\n",
              " {', I': 4460},\n",
              " {', And': 3742},\n",
              " {', [': 2773},\n",
              " {', my': 2251},\n",
              " {'[ Enter': 2177},\n",
              " {'I am': 1962},\n",
              " {\"I 'll\": 1854},\n",
              " {'I have': 1707}]"
            ]
          },
          "metadata": {
            "tags": []
          },
          "execution_count": 284
        }
      ]
    },
    {
      "cell_type": "markdown",
      "metadata": {
        "id": "jlI8woYfy_RY"
      },
      "source": [
        "\n",
        "b) Write a function to generate all unique trigrams from all documents in the dataset. The\n",
        "input of this function should be the concatenated dataset and the output should be the\n",
        "list of trigrams and their frequency. Display the top 10 most common trigrams and their\n",
        "frequency."
      ]
    },
    {
      "cell_type": "code",
      "metadata": {
        "id": "p4TOveDzzCLi"
      },
      "source": [
        "def generate_trigrams(sentences):\n",
        "  corpus=[]\n",
        "  for sentence in nltk.sent_tokenize(sentences):\n",
        "    corpus.append(nltk.word_tokenize(sentence))\n",
        "\n",
        "\n",
        "  model_tri = defaultdict(lambda: defaultdict(lambda: 0))\n",
        "\n",
        "  \n",
        "  for sentence in corpus:\n",
        "      for w1, w2, w3 in trigrams(sentence):\n",
        "          model_tri[(w1, w2)][w3] += 1\n",
        "  \n",
        "  freq_l = []\n",
        "  for w1_w2 in model_tri:\n",
        "      total_count = float(sum(model_tri[w1_w2].values()))\n",
        "      for w3 in model_tri[w1_w2]:\n",
        "          freq_l.append({str(w1_w2[0])+\" \"+str(w1_w2[1])+\" \"+str(w3):model_tri[w1_w2][w3]})\n",
        "\n",
        "  return freq_l\n"
      ],
      "execution_count": null,
      "outputs": []
    },
    {
      "cell_type": "code",
      "metadata": {
        "id": "fRuGsYPUTZXz"
      },
      "source": [
        "res_trigram = generate_trigrams(docm_str)"
      ],
      "execution_count": null,
      "outputs": []
    },
    {
      "cell_type": "code",
      "metadata": {
        "colab": {
          "base_uri": "https://localhost:8080/"
        },
        "id": "QPpxvLYWU_EX",
        "outputId": "9f0aa33c-18a0-4233-eb4e-a476b0c9da7f"
      },
      "source": [
        "res_trigram[1000]"
      ],
      "execution_count": null,
      "outputs": [
        {
          "output_type": "execute_result",
          "data": {
            "text/plain": [
              "{'Play ====================== Four': 1}"
            ]
          },
          "metadata": {
            "tags": []
          },
          "execution_count": 287
        }
      ]
    },
    {
      "cell_type": "code",
      "metadata": {
        "id": "c_-bEhuCTZX0"
      },
      "source": [
        "res_trigram_srt = sorted(res_trigram, key = lambda i: next(iter(i.values())),reverse=True)"
      ],
      "execution_count": null,
      "outputs": []
    },
    {
      "cell_type": "code",
      "metadata": {
        "colab": {
          "base_uri": "https://localhost:8080/"
        },
        "id": "OPeGCBVLTZX1",
        "outputId": "ac101f3c-fcfd-4563-f4de-79a07390618c"
      },
      "source": [
        "res_trigram_srt[:10]"
      ],
      "execution_count": null,
      "outputs": [
        {
          "output_type": "execute_result",
          "data": {
            "text/plain": [
              "[{', sir ,': 991},\n",
              " {'exits . ]': 986},\n",
              " {'exit . ]': 970},\n",
              " {', my lord': 957},\n",
              " {', [ to': 876},\n",
              " {', [ as': 717},\n",
              " {'======= [ Enter': 630},\n",
              " {', [ aside': 627},\n",
              " {\"' th '\": 580},\n",
              " {'[ They exit': 570}]"
            ]
          },
          "metadata": {
            "tags": []
          },
          "execution_count": 289
        }
      ]
    },
    {
      "cell_type": "markdown",
      "metadata": {
        "id": "Nc76KIbEzBQN"
      },
      "source": [
        "\n",
        "c) Write a function to extract all unique NOUN and VERB tokens. The input of this function\n",
        "should be the concatenated dataset and the output should be two lists: one of the NOUN\n",
        "tokens and their frequency, the other list should be the VERB tokens and their counts.\n",
        "Display the top 10 most common NOUN and VERB tokens.\n",
        "\n",
        "\n"
      ]
    },
    {
      "cell_type": "code",
      "metadata": {
        "id": "s0-2bb5nZu5q"
      },
      "source": [
        "import spacy"
      ],
      "execution_count": null,
      "outputs": []
    },
    {
      "cell_type": "code",
      "metadata": {
        "id": "WwqxGIVtccHw"
      },
      "source": [
        ""
      ],
      "execution_count": null,
      "outputs": []
    },
    {
      "cell_type": "code",
      "metadata": {
        "id": "U0Fr7kRLzFqn"
      },
      "source": [
        "def pos_tag(data_st):\n",
        "  noun = []\n",
        "  verb = []\n",
        "  dv = defaultdict(lambda: 0)\n",
        "  dn = defaultdict(lambda: 0)\n",
        "  nlp = spacy.load(\"en_core_web_sm\")\n",
        "  for i in nltk.sent_tokenize(data_st):\n",
        "    # nlp.max_length = len(data_st)\n",
        "    doc = nlp(i)\n",
        "    for token in doc:\n",
        "      if token.pos_ == 'VERB':\n",
        "        dv[token.text] += 1\n",
        "      elif token.pos_ == 'NOUN':\n",
        "        dn[token.text] += 1\n",
        "  for key in dv:\n",
        "    verb.append((key,dv[key]))\n",
        "  for key in dn:\n",
        "    noun.append((key,dn[key]))\n",
        "  return noun,verb"
      ],
      "execution_count": null,
      "outputs": []
    },
    {
      "cell_type": "code",
      "metadata": {
        "id": "Wly6rlFWcYfx"
      },
      "source": [
        "n,v = pos_tag(docm_str)"
      ],
      "execution_count": null,
      "outputs": []
    },
    {
      "cell_type": "code",
      "metadata": {
        "id": "5aPZXglPiw7k"
      },
      "source": [
        "v_srt = sorted(v, key = lambda i: i[1],reverse=True)"
      ],
      "execution_count": null,
      "outputs": []
    },
    {
      "cell_type": "code",
      "metadata": {
        "id": "zyDm6V62e6mm"
      },
      "source": [
        "n_srt = sorted(n, key = lambda i: i[1],reverse=True)"
      ],
      "execution_count": null,
      "outputs": []
    },
    {
      "cell_type": "code",
      "metadata": {
        "colab": {
          "base_uri": "https://localhost:8080/"
        },
        "id": "r1puyOerekAc",
        "outputId": "4c827490-f9fc-4c50-e5f2-1f8b13586b65"
      },
      "source": [
        "print(\"Top 10 most common Nouns :\")\n",
        "print(n_srt[:10])\n",
        "print(\"Top 10 most common Verbs :\")\n",
        "print(v_srt[:10])"
      ],
      "execution_count": null,
      "outputs": [
        {
          "output_type": "stream",
          "text": [
            "Top 10 most common Nouns :\n",
            "[('man', 2000), ('love', 1575), ('sir', 1236), ('heart', 1099), ('time', 1080), ('father', 1021), ('men', 970), ('life', 933), ('hand', 926), ('death', 877)]\n",
            "Top 10 most common Verbs :\n",
            "[('will', 4449), ('shall', 3349), (\"'ll\", 2598), ('would', 2166), ('can', 1901), ('know', 1680), ('Enter', 1640), ('make', 1578), ('come', 1566), ('may', 1546)]\n"
          ],
          "name": "stdout"
        }
      ]
    },
    {
      "cell_type": "markdown",
      "metadata": {
        "id": "1vzxSWoVzGHJ"
      },
      "source": [
        "d) What do you think the most common bigrams and trigrams could be useful for? There is\n",
        "a particular method we have seen in this class to characterize a corpus that could benefit\n",
        "from having these bigrams/trigrams when the underlying text corpus can’t be shared.\n",
        "Please talk about this."
      ]
    },
    {
      "cell_type": "markdown",
      "metadata": {
        "id": "repnV3aDSWZh"
      },
      "source": [
        "The most common bigrams and trigrams could be used for finding something like most similar words. For example a word like german shepherd is most likely to appear with a word like dog and so is dachshund. This will help us to deduce the words with common bigrams could posses some similarity. As language is sequence dependent, it becomes quite useful to deduce the most commonly occuring sequence of terms as  the bigram or trigram probabilities could encode some syntactic facts. For example a word like \"loves\" is most likely to follow a pronoun or a noun. That means this will also help in finding the parts of speech in a given sentence."
      ]
    },
    {
      "cell_type": "markdown",
      "metadata": {
        "id": "rbkSJU-vkE-g"
      },
      "source": [
        "# **Question 4) (30 points)**\n",
        "Using the dataset: Ask0729, found in Exam files, write two functions to\n",
        "extract all dates found in this dataset. The input of these functions should take the dataset as\n",
        "input, and output a list of dates. You should use two different methods, one per function.\n",
        "\n",
        "a) First method: using SpaCy (this is a big enough hint)\n",
        "\n",
        "b) Second method: using regular expressions.\n",
        "\n",
        "c) Print to screen to compare the results from the two functions.\n",
        "\n",
        "d) Which one of the two approaches was better? Why do you think so? \n",
        "Would you use any\n",
        "of these approaches? Or a different one?\n"
      ]
    },
    {
      "cell_type": "code",
      "metadata": {
        "id": "cGi4ivdnkWSE"
      },
      "source": [
        "q4_data = pd.read_csv('/content/drive/MyDrive/exam2/Ask0729/Ask0729-fixed.txt', delimiter = \"\\t\",header=None)"
      ],
      "execution_count": null,
      "outputs": []
    },
    {
      "cell_type": "code",
      "metadata": {
        "colab": {
          "base_uri": "https://localhost:8080/",
          "height": 195
        },
        "id": "nHqDXi-vlEHV",
        "outputId": "9e19191d-1fd5-4fd8-f407-989c3484d772"
      },
      "source": [
        "q4_data.head()"
      ],
      "execution_count": null,
      "outputs": [
        {
          "output_type": "execute_result",
          "data": {
            "text/html": [
              "<div>\n",
              "<style scoped>\n",
              "    .dataframe tbody tr th:only-of-type {\n",
              "        vertical-align: middle;\n",
              "    }\n",
              "\n",
              "    .dataframe tbody tr th {\n",
              "        vertical-align: top;\n",
              "    }\n",
              "\n",
              "    .dataframe thead th {\n",
              "        text-align: right;\n",
              "    }\n",
              "</style>\n",
              "<table border=\"1\" class=\"dataframe\">\n",
              "  <thead>\n",
              "    <tr style=\"text-align: right;\">\n",
              "      <th></th>\n",
              "      <th>0</th>\n",
              "      <th>1</th>\n",
              "    </tr>\n",
              "  </thead>\n",
              "  <tbody>\n",
              "    <tr>\n",
              "      <th>0</th>\n",
              "      <td>No</td>\n",
              "      <td>&gt;&gt;&gt; [1]Contact Me Now to Make $100 Today!$LINK</td>\n",
              "    </tr>\n",
              "    <tr>\n",
              "      <th>1</th>\n",
              "      <td>No</td>\n",
              "      <td>Act now to keep your life on the go!</td>\n",
              "    </tr>\n",
              "    <tr>\n",
              "      <th>2</th>\n",
              "      <td>No</td>\n",
              "      <td>Choose between $500 and $10000 dollars with up...</td>\n",
              "    </tr>\n",
              "    <tr>\n",
              "      <th>3</th>\n",
              "      <td>No</td>\n",
              "      <td>Click above to earn today.</td>\n",
              "    </tr>\n",
              "    <tr>\n",
              "      <th>4</th>\n",
              "      <td>No</td>\n",
              "      <td>Click here to receive your first $10 today:</td>\n",
              "    </tr>\n",
              "  </tbody>\n",
              "</table>\n",
              "</div>"
            ],
            "text/plain": [
              "    0                                                  1\n",
              "0  No     >>> [1]Contact Me Now to Make $100 Today!$LINK\n",
              "1  No               Act now to keep your life on the go!\n",
              "2  No  Choose between $500 and $10000 dollars with up...\n",
              "3  No                         Click above to earn today.\n",
              "4  No        Click here to receive your first $10 today:"
            ]
          },
          "metadata": {
            "tags": []
          },
          "execution_count": 34
        }
      ]
    },
    {
      "cell_type": "markdown",
      "metadata": {
        "id": "XG8MkQegpSnD"
      },
      "source": [
        "#**spacy**"
      ]
    },
    {
      "cell_type": "code",
      "metadata": {
        "id": "Ou2kkRwAlW5m"
      },
      "source": [
        "def spacy_dates(df):\n",
        "  dates=[]\n",
        "  nlp = spacy.load(\"en_core_web_sm\")\n",
        "  for i in df:\n",
        "    # print(i)\n",
        "    doc = nlp(i)\n",
        "    for ent in doc.ents:\n",
        "      if ent.label_ == \"DATE\":\n",
        "        dates.append(ent.text)\n",
        "  return dates"
      ],
      "execution_count": null,
      "outputs": []
    },
    {
      "cell_type": "code",
      "metadata": {
        "id": "oFv8ZTBTn3xd"
      },
      "source": [
        "d_a = spacy_dates(q4_data.iloc[:,1])"
      ],
      "execution_count": null,
      "outputs": []
    },
    {
      "cell_type": "code",
      "metadata": {
        "colab": {
          "base_uri": "https://localhost:8080/"
        },
        "id": "0lKXVtAnpG5d",
        "outputId": "20c5ddd1-531b-4e0b-a395-9f73fa7b3b5e"
      },
      "source": [
        "len(d_a)"
      ],
      "execution_count": null,
      "outputs": [
        {
          "output_type": "execute_result",
          "data": {
            "text/plain": [
              "1061"
            ]
          },
          "metadata": {
            "tags": []
          },
          "execution_count": 193
        }
      ]
    },
    {
      "cell_type": "markdown",
      "metadata": {
        "id": "Lsm6X716pk4M"
      },
      "source": [
        "# **Regex**"
      ]
    },
    {
      "cell_type": "code",
      "metadata": {
        "id": "WcNtw7VzpkhR"
      },
      "source": [
        "def regex_dates(df):\n",
        "  regex = ['\\d+\\s\\w+\\s\\d+','(?:(?-i:Jan|Feb|Mar|Apr|May|Jun|Jul|Aug|Sep|Oct|Nov|Dec)[a-z]*)','(?:(?-i:Mon|Tue|Wed|Fri|Sat|Sun)[a-z]*)']\n",
        "  regex_str = '(?:% s)' % '|'.join(regex)\n",
        "  dates = []\n",
        "  for i in df:\n",
        "    # print(i)\n",
        "    for j in regex:\n",
        "      if re.search(j, i):\n",
        "        dates.append(re.findall(j, i))\n",
        "  return [item for i in dates for item in i]"
      ],
      "execution_count": null,
      "outputs": []
    },
    {
      "cell_type": "code",
      "metadata": {
        "id": "ZNMvCMvNvghd"
      },
      "source": [
        "d_b = regex_dates(q4_data.iloc[:,1])"
      ],
      "execution_count": null,
      "outputs": []
    },
    {
      "cell_type": "code",
      "metadata": {
        "colab": {
          "base_uri": "https://localhost:8080/"
        },
        "id": "oKd0GYkyvnG9",
        "outputId": "bb23f56e-c471-4b07-cf80-560f372d4bb4"
      },
      "source": [
        "len(d_b)"
      ],
      "execution_count": null,
      "outputs": [
        {
          "output_type": "execute_result",
          "data": {
            "text/plain": [
              "562"
            ]
          },
          "metadata": {
            "tags": []
          },
          "execution_count": 197
        }
      ]
    },
    {
      "cell_type": "code",
      "metadata": {
        "colab": {
          "base_uri": "https://localhost:8080/"
        },
        "id": "kEN75jmB-r4u",
        "outputId": "b024e0f2-371c-43ce-b866-7cc006da2baa"
      },
      "source": [
        "print(\"Spacy dates: \")\n",
        "print(d_a)\n",
        "print(\"Regular expression dates: \")\n",
        "print(d_b)"
      ],
      "execution_count": null,
      "outputs": [
        {
          "output_type": "stream",
          "text": [
            "Spacy dates: \n",
            "['up to 5 years', 'today', 'today', 'today', 'one week', 'MA 02143', 'daily', 'today', '3+ Nights &', 'this week', 'weekend', 'this week', '2 Weeks', 'the day', 'the year', 'tomorrow', 'the 1st and', 'Wednesday', 'Saturday', 'the 6 year old', 'tomorrow', '25 years', 'year end 2000', '40', 'junior-year', 'all summer', 'next week', 'yesterday', 'Monday', 'Thursday', 'July 31, 2014', '30 June 2012', 'April 15th', 'this year', 'this time', 'next year', 'years', 'Friday', 'Monday', 'December 7th', 'yesterday', 'yesterday', 'tomorrow', '14 day', '2 days', 'years', 'tomorrow', 'tomorrow', 'tomorrow', 'the next year', 'Sunday', 'a day', '12 MONTHS', 'July 4, 2012', 'Tomorrow', 'this week', 'Tuesday, March 20, 2001', 'annual', '21st Century', 'this week', '4', 'tomorrow', 'next Wednesday', 'the old days', 'Next week', 'April', 'the 19th', 'August 31st', 'the year', 'only a week', 'June 23, 2000', 'this weekend', 'today', 'Last week', 'Friday', 'the week', 'the 31st of March', '1 Year', 'Thanksgiving', 'Today', 'Tomorrow', '2 weeks ago', 'every day', 'day', 'weekly', 'annual', 'tomorrow', 'A few weeks ago', 'this week', '1999', '2000', 'annual', '2081', 'Monday', 'March 8, 2013', 'the late 18th century', 'last week', 'today', 'next week', 'Sunday', 'the next two weeks', 'a few weeks', 'today', '1850-1940', 'February 28, 2014', 'the last year', 'the weeks', 'months ahead', '2 day', 'today', 'winter', '30 June', 'the next 75 days', '2000', 'about a month', \"last Tuesday'Wednesday's\", 'Thursday', 'this year', '11 July', '1 year', 'April 2011', 'Day 5', 'April 5-19 15,000/day', 'April', 'Wednesday, June 27', 'the first weekend', 'April', 'Jan 26th', 'the weekend', 'the week of January 15th', 'that week', 'friday', 'yesterday', 'Thursday', 'approximately 2 years', 'the next 3-6 months', 'yesterday', 'August 2013', 'August 22, 2012', 'August 23, 2012', 'August 8, 2012', 'this Monday, September 2nd, 2013', 'Autumn Nights', 'a week or so ago', 'Friday', '2001', 'today', 'tomorrow', 'last week', 'tomorrow', 'yesterday', 'Monday', 'Tuesday', 'the days/weeks ahead', 'Thursday', '36 months', 'Wednesday', 'Christmas', 'Thursday', 'Tuesday, October 24 - available', 'daily', 'August', \"Dec. '95\", \"Dec. '95\", 'today', 'tomorrow', 'Wednesday, July 31, 2013', 'the 16th of August', 'Monday, January 14, 2013', 'Friday', 'Friday', 'the first two days', '17 days ago', 'Nov. 8, 2000', 'today', 'the end of the month', 'five-year', 'May 16th', '7', 'quarterly', 'April 16', '2001', 'the school year', 'Weekly', 'Monday, April 23rd', 'Weekly', 'Monday, January 29', 'Thursday, June 14, 2001', 'St 65', 'Friday', 'Friday', 'Friday', 'Christmas', 'July', 'tomorrow', 'tomorrow', 'August', 'the week of April 16', 'April 16, 17', '18 or 19th', 'today', 'Thursday', 'tomorrow', 'today', 'the 13th and 14th', 'tomorrow', 'Monday', 'another month', 'weeks', 'mid-May', 'today', 'tomorrow', 'this week', 'next week', 'this week', 'the day', 'tomorrow', 'today', 'this weeks', 'Monday', 'the past few winters', 'tomorrow', 'tomorrow', 'today', 'tomorrow', 'this week', 'next week', 'next week', 'early November', 'tomorrow', 'this season', 'yesterday', 'a day', 'days', 'today', 'quarter this year', 'Monday', 'Tuesday', 'Monday', 'tomorrow', 'Thursday', 'today', 'tomorrow', 'Tuesday', 'today', 'next week', 'several business days', 'today', 'today', '36', 'half days', 'next week', 'tomorrow', 'next week', 'this summer', 'Nov. 29', 'a couple of weeks', 'today', 'yesterday', 'Wednesday, October 25', 'later this week', 'next week', 'the day', 'tomorrow - deal 169576', 'tomorrow', 'last year', 'Friday', 'July', 'the 16th', 'no quarter', 'the next 60-90 days', 'one month', 'today', 'last week', 'today', 'this week', 'all day', 'tomorrow', 'next week', 'the week', 'tomorrow', 'about 10 days', 'this week', 'today', 'February', 'monthly', 'next week', 'every day', 'the next couple of hours', 'Friday', 'end of day', 'today', 'Monday', 'tomorrow', 'Wednesday', 'Monday', 'today', 'today', '9 years', 'the next ten days', 'January', 'December', 'daily', 'GoHealthInsurance', 'January 16, 2013 to January 18, 2013', '3-5800', 'today', 'NY 10010', 'the end of April', 'tomorrow', 'two year', 'this year', 'monthly', 'every month', 'this month', '2 Weeks', 'the 13th', 'the 12th', 'the weeks', 'today', 'Halloween', 'next week', 'December', 'NaNoWriMo 2013', 'the last 6 months', 'each day', 'Monday', 'Wednesday', 'this week', 'July', 'June 2011 13', 'Day 5', 'June', 'an awesome month', 'the last several months', 'Thursday', 'the weekend', 'daily', 'Half-Year', 'July 11', 'deal 202939', '380571', 'LAST DAY TO BOGO', 'LAST DAY TO', 'LAST WEEKEND TO BOGO', 'Last Week', 'Last year', 'every week', 'Wednesday', 'Saturday', 'the 14th of May.', 'a week', 'Aug. 3, 2000', 'March 2011 12: Period Day 1 13:', '7 28', 'Day 1', 'Wednesday, December 31st', 'Monday', 'Monday', 'Monday through Friday', 'Monday, April 16th', 'Monday, August 6th', 'Monday, June 4th', 'Monday, May 14th', 'this week', 'several weeks ago', 'Feb. 20, 2001', 'the Tuesday', 'the first quarter', 'January', 'today', 'this week', 'Feb 26, 2013', 'Friday, October 26, 2001', 'July 3, 2012', 'May 3rd', 'November 3', 'the days', 'Saturday', '30 days', 'One Week to Christmas', 'One day', 'Friday, May 25', 'tomorrow', 'the last several years', 'a few weeks ago', 'Monday', 'Tuesday, October 2 4, 2000', '1 year', 'Monday January 29, 2001', 'the week of the 11th', 'tomorrow', 'Monday', 'monthly', 'today', 'Friday', 'Tuesday, June 12, 2001', '7 days', 'every month', 'Thursday', 'next week', 'Saturday', 'HE15-19', 'Monday', 'next week', 'Friday', 'Saturday January 19, 2002', 'Saturday', 'Monday', 'Sunday', 'Friday, April the 27th', 'Monday', 'tomorrow', 'tomorrow', 'last Thursday', 'September 4, 2011', 'Wednesday', 'the fall', 'Thursday', 'Sunday 28 August 2011', 'hundreds of years ago', 'the football season', 'tomorrow', 'yesterday', 'this year', 'tomorrow', 'Tomorrow', 'August 21, 2001', 'next summer', 'today', 'tomorrow', 'today', 'Monday, December 16th, 2013', 'tomorrow', 'Friday the 15th', 'Nov. 15th', 'Dec. 1', 'Wednesday', 'Wednesday', 'this week', 'Friday', 'next week', 'this week', 'yesterday', 'tomorrow', 'tomorrow', 'tomorrow', 'Wednesday', '33462', '33464', '33491', '33492', 'Feb. 8', 'Wednesday, August 28th', 'yesterday', 'the end of next week', 'August 18th', 'Sunday, July 14th', 'Four Weeks', '4 Weeks', '1-Hour', 'next day', 'nightly', 'tomorrow', '2001', 'April 2010', 'this week', 'Sunday', 'tomorrow', 'today', '1989', '1989', 'October 17, 2013', 'tomorrow', 'next week', 'next week', 'This Friday', 'Saturday', '251415618', 'today', 'Friday', 'July 28 - August 4, 2001', 'Monday', 'every single day', 'the weekend', 'summer', 'This month', 'later this quarter', 'This week', '72', 'This week', 'Halloween', 'This week', 'This weekend', '2001', '2001', 'This year', 'today', '3:45pm - 10:00pm', 'Today', 'Today', 'Today', 'Today', 'Today', 'Today', 'Tomorrow', 'Wednesday', 'Thursday', 'Friday', 'Tomorrow', 'this week', 'year 2001', 'this week', 'today', 'Two Weeks', 'the next couple of weeks', 'this summer', '6 years', 'Thursday', 'Thursday & Friday', 'Thursday, January 25, 2001 08:36 AM?ET', 'Sept. 11', 'Thursday, September 19th', 'each day', 'daily', 'Saturday', 'between the days', 'July', 'Friday', 'Thursday', 'today', 'tomorrow', 'Thursday', 'later this week', 'tomorrow', 'this month', 'daily', 'monthly', 'this week', 'next week', 'Wednesday', '01&prudent', 'the past few months', \"this current year's\", 'a couple of days', 'Thursday', '2014-07-01', 'this week', 'next week', 'Wednesday', 'Labor Day', 'Friday of this week', 'Monday', 'this weekend', 'Monday 5 November', '19.30', '1201', '7 FREE days', 'this day', 'tomorrow', 'these last few weeks', 'Wednesday, August 2nd', 'last week', 'January', 'the new day', 'summer', 'maybe weeks', 'the coming decade', 'the coming decade', 'year', 'winter', 'the coming year', 'the next 3 business days', 'four weeks', 'the winter', 'the next week', 'Tuesday', 'a couple of weeks', 'tomorrow', 'daily', '1 Dec 2013', '30 day', 'Sunday 29 April 2012', 'January 31, 2013', 'Monday', 'today', 'today', 'Thursday, 31st January', 'the 29th', 'this week', 'today', 'today', 'Tuesday', 'each day', 'this week', 'may 1', 'may 2', '978/281-0744', '2 weeks', 'next week', 'Sept. 11', 'today', 'yesterday', 'weekly', '7 days', 'tomorrow', 'Sunday', 'another 30 days', 'Friday', 'Friday', 'Thursday June 20', 'January', 'Monday, October 8, 2001', 'the month of November', 'Sept. 20', 'tomorrow', 'Thursday', 'Friday', 'today', 'Sunday, December 8th, 2013', 'Monday, November 11th', 'Wednesday, September 25th', '415)244-6094', 'tomorrow', 'this June', 'Tuesday', 'the end of September', 'September 25', 'Thursday', '14 day', 'today', 'today', 'Halloween', 'today', 'tomorrow', 'tomorrow', 'this week', 'Tuesday', 'today', 'Monday', 'the day on Monday or Tuesday', 'Saturday', 'Monday', 'Friday', 'tomorrow', 'Friday', 'this school year', '1-877', 'This week', 'Wednesday', 'Wednesday', 'each day', '2001', 'up to 3 years', 'Thursday', 'today', 'Monday', 'this week', 'Tuesday', 'this Sunday', 'today', 'the beginning of the month', 'Saturday, March 25', 'this weekend', '713/853-5984', '713/853-6440', 'weekly', 'tomorrow', 'daily', 'the past several months', 'Saturday', 'December 7', 'this week', 'Monday', 'Tuesday, January 8th', 'next week', 'Thursday', 'about Friday', 'tomorrow', 'this weekend', 'Thursday, March 22', 'tomorrow', '30 days', 'tomorrow', 'next week', 'tomorrow', 'this week', 'November', 'tomorrow', '1130', 'the weekend', 'today', 'Friday', 'daily', 'October 11th', 'this week', 'the 18th', 'Friday', 'Monday', 'November', 'this week', 'Tuesday', 'Tuesday', 'Wednesday', 'Tuesday', 'tomorrow', '2 day', 'Friday', 'Monday', 'last weekend', 'Monday', 'Jan 2000', 'yesterday', 'daily', 'this week', 'next week', 'that day', 'Tuesday, February 20, 2001', 'Tuesday', 'the weekend', '87-7449', 'today', 'Friday', '2001', 'tomorrow', 'July', 'Sunday', 'tomorrow', 'a year anniversary', 'the following week', 'today', 'early next week', 'March', 'March 28th', 'next week', 'tomorrow', 'tomorrow', 'tomorrow', 'Friday', 'next week', 'Monday, June 4th', 'all day', 'tomorrow', 'the end of the week', 'tomorrow', 'the end of the day', 'Monday', 'December 9', 'next Monday', 'tomorrow', 'the week', 'tomorrow', 'Thursday the 2nd', 'today', 'this weekend', 'next week', 'next week', 'either day', 'this weekend', 'the day and tomorrow', 'Thursday, November 29th', 'between now and Thursday', 'the week', 'next week', 'November 5th', 'today', 'this weekend', 'next week', 'this week', 'the next week', 'a couple days this week', 'next week', 'this week', 'tomorrow', 'a few weeks ago', 'Sunday', 'Monday', 'next week', 'Thursday', 'Wednesday', 'Thursday', 'this week', 'today', 'tomorrow', '3-0977', 'last Thursday', 'tomorrow', 'Thursday', 'Thursday', 'Friday', '3 nights', 'sunday', 'March', '21 years old', 'December', 'today', '251408768', 'Tuesday, August 27th, 2013', 'Friday', 'Friday', 'between May 6 and May 24', 'between November 11th and December 2nd, 2013', 'November 1, 2001', 'Monday, November 20th', 'a couple weeks', 'tomorrow', 'Monday, Jan. 22nd', 'Wednesday, Jan. 24th', 'today', 'the next few business days', 'some days/time', 'the next couple of weeks', 'Sunday earlier', 'Friday, August 17', 'Thursday', 'next week', 'last week', 'XXXXXXXXX2159', 'Wednesday', 'April 12th', '2:30pm', 'Dec 2000', 'March', 'Monday', '2001', 'Thursday', 'Friday', 'Monday', 'Tuesday', 'tomorrow', 'daily', 'tomorrow (Sunday', 'today', 'next week', 'every Friday', 'Wednesday', 'Tuesday', 'tomorrow', 'Friday', 'later this week', 'a few days', 'every week', 'this week', 'Sunday', 'Thursday', 'April 30', 'tomorrow', 'Friday', '2001', 'this next week', 'Saturday', 'Sunday', 'Tuesday', 'next week', 'next Monday', 'tomorrow', 'a later date', 'tomorrow', 'Friday', '02325', 'tomorrow', 'today', 'about the weekend of', 'next week', 'last week', 'Monday', 'next Wednesday', 'Thursday', 'Saturday', '2000', 'Friday', 'two weeks', 'quarterly', 'Monday', 'late Oct.', 'today', 'tomorrow', 'tomorrow', 'Friday', 'the next few days', 'tomorrow', 'next week', 'annual', 'May 12, 2001', 'tomorrow', 'Monday', 'tomorrow', 'Monday', 'next week', 'Sunday', 'Thursday', 'Wednesday', 'Monday', 'Wednesday', 'Monday', 'today', 'Monday', 'next week', '10/31', 'Monday, December 18', 'Intra-month', 'the holidays', 'next Monday', 'the end of the week', 'tomorrow', 'last week', 'Wednesday', 'next week', 'Wednesday, Dec. 13th', 'tomorrow', 'summer', 'April', 'May', 'summer', 'next week', 'Monday', 'Monday', 'tomorrow', 'Friday', 'Monday', '627-8172', 'next Tuesday/Wednesday', 'Thursday', 'between now and Monday', 'Friday', 'a day', 'Sunday', 'December', 'today', 'next week', '301/652-7877', 'tommorrow', 'today', 'tomorrow', 'Monday', 'Saturday', 'Friday', 'Friday', 'the next week', 'March 12', 'this week', 'Saturday', 'last Sunday', 'Labor Day', 'January 2001', 'the 17th', 'today', 'Christmas', 'tomorrow', 'season', 'season', 'today', 'tomorrow', 'Christmas', 'Friday, August 4th', 'this coming Monday', 'every other week', 'a week and a half', 'tomorrow', 'monthly', 'last week', 'Thursday', '7-10', '1100', 'Monday', 'two days', 'Wednesday', 'Thursday', '2014', 'Tuesday, September 30th', 'January', 'these days', 'this week', 'Thursday', 'next week', 'early next week', 'Monday', 'one day', '2000', 'this week', 'yesterday', 'the weekend', 'Monday', 'next week', 'the following week', 'next week', 'Tuesday', 'this week', 'the end of January', 'mid January', 'Wednesday', 'Thursday', 'early October', 'the next couple weeks', 'Friday', 'early next week', 'today', 'this weekend', 'this weekend', 'next summer', 'today', 'Week 2013', 'the next month', 'April 16', 'Monday', 'today', '15s', 'this week', 'today', 'next Monday', 'Thursday', 'all next week', 'next week', 'the next many months', 'September 5, 2000', 'tomorrow', 'weekly', 'Friday', 'weekly', 'this week', 'Dec. 17th', 'Thursday', 'this weekend', '2000', 'year', 'tomorrow', 'Thursday, November 28', 'Monday', 'tomorrow', 'that day', 'this week', 'monthly', 'tomorrow', 'tomorrow', 'next week', 'next year', 'this week', 'tomorrow', 'the next few weeks', 'Sunday', 'Saturday', 'April 11', 'same week', 'Saturday', 'Tuesday the 24th', 'Sunday', 'the next couple of days', 'Monday', 'next week', 'the weekend', 'this weekend', 'next Thursday', 'the last several weeks', 'Thursday', 'tomorrow', 'Sunday', 'tomorrow', 'the 25th - 28th', 'the 28th', 'tomorrow', 'Wednesday']\n",
            "Regular expression dates: \n",
            "['30 on 3', 'Jane', 'Wednesday', 'Saturday', 'Monday', 'July', '30 June 2012', 'June', 'April', 'Friday', 'Monday', 'December', 'Mark', 'Sunday', 'Maybe', 'July', 'March', 'Tuesday', 'Wednesday', 'April', 'August', 'June', 'Marks', 'Friday', 'March', '1999 and 2000', 'Marketing', 'Monday', 'March', 'Market', 'Sunday', 'February', 'June', 'Tuesday', 'Wednesday', 'July', 'April', 'April', 'April', 'June', 'Wednesday', 'April', 'Martin', 'Jan', 'Sat', 'January', 'Decrease', 'August', 'August', 'August', 'August', 'September', 'Monday', 'Friday', 'Monterrey', 'Monday', 'Tuesday', 'Wednesday', 'October', 'Tuesday', 'August', 'Dec', 'Dec', '0527 Cell 781', '8397 Fax 781', 'July', 'Wednesday', 'August', 'January', 'Monday', 'Friday', 'Friday', 'Market', '27 Jun 14', 'Jun', 'Montana', 'Nov', 'May', 'April', 'Aug', 'Dec', 'April', 'Monday', 'January', 'Monday', 'June', 'Friday', 'Friday', 'Friday', 'July', 'August', '18 or 19', 'April', 'April', 'August', 'Martha', 'Martha', 'Monday', 'May', 'Montali', 'Margaret', 'Monday', '02 Sep 13', 'Sep', 'Monday', 'November', 'Marty', 'Mona', 'Monday', 'Tuesday', 'Monday', '00 to 10', 'Tuesday', 'Wed', 'Nov', 'October', 'Wednesday', 'May', 'June', 'July', 'Frihart', 'Friday', 'Julie', 'Mark', 'February', 'Friday', 'Monday', 'Wednesday', 'Monday', 'Mary', 'Mary', 'Mary', 'January', 'December', 'January', 'January', '20 West 22', 'Marksman', 'April', 'December', 'Monday', 'Wednesday', 'Jana', 'Marty', 'July', 'June', 'June', 'July', 'Sep', 'Wednesday', 'Saturday', 'May', 'Aug', 'March', 'Mark', 'Mark', 'Mark', 'Mark', 'Married', 'Marvelous', 'May', 'December', 'Wednesday', 'Monday', 'Monday', 'Monday', 'Friday', 'April', 'Monday', 'August', 'Monday', 'June', 'Monday', 'May', 'Monday', 'Feb', 'Friend', 'Mary', 'Tuesday', 'January', 'Feb', 'October', 'Friday', 'July', 'May', 'November', 'Monterrey', 'Saturday', 'May', 'Friday', 'Monday', 'October', 'Tuesday', '3571 x 1910', 'January', 'Monday', 'Monday', 'Friday', 'June', 'Tuesday', 'Friedman', 'Saturday', 'Monday', 'Friday', 'January', 'Saturday', 'Saturday', 'Monday', 'Sunday', 'April', 'Friday', 'Monday', 'Monday', 'September', 'Wednesday', '28 August 2011', 'August', 'Sunday', 'August', 'December', 'Monday', 'Friday', 'Nov', 'Dec', 'Wednesday', 'Wednesday', 'Friday', 'Marty', 'Sunde', 'Wednesday', 'Mary', 'Feb', 'August', 'Wednesday', 'August', 'July', 'Wedding', 'Sunday', 'April', 'Sunday', 'October', 'Wed', 'Friday', 'Saturday', 'June', 'July', 'August', 'Friday', '07 PM 06', 'Monday', '72 or 77', '2011 from 3', 'Sat', 'Wednesday', 'Friday', 'Friday', 'January', 'Sept', 'September', 'Montgomery', 'Saturday', 'Tues', 'July', 'Friday', 'Wednesday', 'Wednesday', 'Mark', 'Friday', 'Monday', 'November', 'Monday', 'Mont', 'August', 'Wednesday', 'January', 'Nov', 'Monitor', 'Mon', 'Tuesday', '1 Dec 2013', 'Dec', 'Sun', '29 April 2012', 'April', 'Sunday', 'January', 'Monday', 'January', '26 Jun 14', 'Jun', 'Montrond', 'Tuesday', 'Tues', 'Sept', 'Sunday', 'Friday', 'Friday', 'Janet', 'June', 'May', 'January', 'October', 'November', 'Monday', 'Sept', 'Friday', 'December', 'Sunday', 'November', 'Monday', 'September', 'Wednesday', 'June', 'Tuesday', 'September', 'September', 'Tuesday', 'Monday', 'Monday', 'Tuesday', 'Saturday', 'Monday', 'Friday', 'Friday', 'Mario', 'Mark', 'Wednesday', 'Wednesday', 'Weds', 'Monday', 'Friday', 'Tuesday', 'Sunday', 'March', 'Saturday', 'Mary', 'Saturday', 'December', 'Monday', 'Mark', 'January', 'Tuesday', 'Friday', '30 or 12', 'March', 'November', 'Marissa', 'Friday', 'Apr', 'October', 'Friday', 'Monday', 'November', 'Tuesday', 'Tuesday', 'Wednesday', 'Tuesday', 'Sept', 'Monday', 'Friday', 'Monday', 'Monday', 'Jan', 'February', 'Tuesday', 'Marston', 'Tuesday', 'Friday', 'July', 'Sunday', 'March', 'March', 'Friday', 'June', 'Monday', 'Monday', 'December', 'Monday', 'Mary', 'Tuesday', 'Tueday', 'November', 'Mark', 'November', '2887 or 713', 'Mark', 'Janelle', 'Julie', 'Mark', 'Sunday', 'Monday', 'Wednesday', 'Mark', 'Mark', 'Marylyn', 'Maybe', 'Maybe', 'Maybe', 'Friday', '01 at 9', 'Tues', 'March', 'December', 'Janette', '251408768 through 11', 'August', 'Tuesday', 'Friday', 'Friday', 'May', 'May', 'November', 'December', 'November', 'Mark', 'November', 'Monday', 'Jan', 'Jan', 'Monday', 'Wednesday', 'Sunday', 'August', 'Friday', 'April', 'Wednesday', 'Janette', 'Janette', 'Dec', 'March', 'Monday', '713 853 3848', 'Friday', 'Monday', 'Tuesday', 'Sunday', 'Marketing', 'Friday', 'Wednesday', 'Tuesday', 'Friday', 'Sunday', 'April', 'Friday', 'Monday', 'Saturday', 'Sunday', 'Tuesday', 'Monday', 'Friday', 'Fri', 'Monday', 'Wednesday', 'Saturday', 'Friday', 'Monday', 'Oct', 'Friday', 'May', 'Monday', 'Monday', 'Sunday', 'Wednesday', 'Monday', 'Wednesday', 'Monday', 'Monday', 'December', 'Monday', 'Monday', 'Monday', 'Wednesday', 'Dec', 'Wednesday', 'Sunday', '3 or 4', '1 or 2', 'April', 'May', 'Mark', '22 Apr 14', 'Apr', 'Monday', '7 at 888', '26 Jun 14', 'Jun', '21 Apr 14', 'Apr', 'Monday', 'Friday', 'Monday', '7 at 855', 'Tuesday', 'Wednesday', 'Monday', 'Friday', 'December', 'Sunday', 'Monday', 'Mark', 'Janel', 'Monday', 'Saturday', 'Friday', 'Friday', '12 at 10', 'March', 'Saturday', 'Sunday', 'Mark', 'January', 'Wednesday', 'Mark', 'August', 'Friday', 'Monday', 'Monday', 'Wednesday', 'September', 'Tuesday', 'January', 'Monday', 'Monday', 'Martha', 'Tuesday', 'January', 'January', 'Wednesday', 'October', 'Friday', '0989 Extension 4864', 'April', 'Monday', 'Wed', 'Mark', 'Monday', 'Janet', 'September', 'Mark', 'Mark', 'Maybe', 'Friday', 'Dec', 'Wednesday', 'November', 'Monday', 'Saturday', 'September', 'Satisfaction', 'Sunday', 'Saturday', 'April', 'Saturday', 'Tuesday', 'Sunday', 'Monday', 'Sunday', 'Feb', '5 to 10', 'Mary', 'Dec', 'Wednesday']\n"
          ],
          "name": "stdout"
        }
      ]
    },
    {
      "cell_type": "markdown",
      "metadata": {
        "id": "HeUBNlvia-ge"
      },
      "source": [
        "Which one of the two approaches was better? Why do you think so? Would you use any of these approaches? Or a different one?\n",
        "\n"
      ]
    },
    {
      "cell_type": "markdown",
      "metadata": {
        "id": "zFUdODTxbAms"
      },
      "source": [
        "I find using spacy as a better approach as it is more efficient to use the spacy's trained pipline for NER rather than writing regular expressions for every form of date present in the text. Regex becomes more tedious when we need to find the required expression which is not in a definite form and also it is not a model that has some understanding of what could follow or occur before a word/key/number to make it a relevant date instance in the document."
      ]
    },
    {
      "cell_type": "markdown",
      "metadata": {
        "id": "F3XFSoUo_VpG"
      },
      "source": [
        "# **Question 5) (30 points)**\n",
        "Train an LSTM model to classify the Cornell Movie Review data\n",
        "using the polarity_dataset V2.0. You can use the code for class 19, but take a note that\n",
        "you will have to adapt some of the parameters like: Review size = 450, epochs=5. You will use\n",
        "85% of the dataset for training, and 15% for testing. Once you build the model, please display\n",
        "the sklearn classification report. What are you noticing here? Anything unexpected? How does\n",
        "this model compare to the one built with the IMDB dataset in class? Any ideas on how to\n",
        "improve it?\n"
      ]
    },
    {
      "cell_type": "code",
      "metadata": {
        "id": "QxboQT_A_dhx"
      },
      "source": [
        "def file_extract(data,dir):\n",
        "  path = '/content/drive/MyDrive/exam2/txt_sentoken/'\n",
        "  path += dir\n",
        "  with os.scandir(path) as files:\n",
        "    for file in files:\n",
        "      if file.name.endswith(\".txt\"):\n",
        "        with open(path+\"/\"+file.name) as review:\n",
        "          data = data.append({'data':review.read(),'labels':dir,'name':file.name},ignore_index=True)\n",
        "  return data"
      ],
      "execution_count": null,
      "outputs": []
    },
    {
      "cell_type": "code",
      "metadata": {
        "id": "FYzKOLoFBG6e"
      },
      "source": [
        "q5_data = pd.DataFrame()\n",
        "q5_data = file_extract(q5_data,\"neg\")\n",
        "q5_data = file_extract(q5_data,\"pos\")"
      ],
      "execution_count": null,
      "outputs": []
    },
    {
      "cell_type": "code",
      "metadata": {
        "colab": {
          "base_uri": "https://localhost:8080/",
          "height": 402
        },
        "id": "AQhjcwI1GVqL",
        "outputId": "0635335b-5ed1-4eed-ad26-6ee28adcddd8"
      },
      "source": [
        "q5_data"
      ],
      "execution_count": null,
      "outputs": [
        {
          "output_type": "execute_result",
          "data": {
            "text/html": [
              "<div>\n",
              "<style scoped>\n",
              "    .dataframe tbody tr th:only-of-type {\n",
              "        vertical-align: middle;\n",
              "    }\n",
              "\n",
              "    .dataframe tbody tr th {\n",
              "        vertical-align: top;\n",
              "    }\n",
              "\n",
              "    .dataframe thead th {\n",
              "        text-align: right;\n",
              "    }\n",
              "</style>\n",
              "<table border=\"1\" class=\"dataframe\">\n",
              "  <thead>\n",
              "    <tr style=\"text-align: right;\">\n",
              "      <th></th>\n",
              "      <th>data</th>\n",
              "      <th>labels</th>\n",
              "      <th>name</th>\n",
              "    </tr>\n",
              "  </thead>\n",
              "  <tbody>\n",
              "    <tr>\n",
              "      <th>0</th>\n",
              "      <td>before the remake of psycho appears , we've go...</td>\n",
              "      <td>neg</td>\n",
              "      <td>cv080_14899.txt</td>\n",
              "    </tr>\n",
              "    <tr>\n",
              "      <th>1</th>\n",
              "      <td>\" there will be another , \" the ads for this ...</td>\n",
              "      <td>neg</td>\n",
              "      <td>cv072_5928.txt</td>\n",
              "    </tr>\n",
              "    <tr>\n",
              "      <th>2</th>\n",
              "      <td>there's a 1 , 000-foot tidal wave at the end o...</td>\n",
              "      <td>neg</td>\n",
              "      <td>cv071_12969.txt</td>\n",
              "    </tr>\n",
              "    <tr>\n",
              "      <th>3</th>\n",
              "      <td>for better or worse , the appearance of basic ...</td>\n",
              "      <td>neg</td>\n",
              "      <td>cv074_7188.txt</td>\n",
              "    </tr>\n",
              "    <tr>\n",
              "      <th>4</th>\n",
              "      <td>\" virus \" is the type of cliched , vacuous fi...</td>\n",
              "      <td>neg</td>\n",
              "      <td>cv078_16506.txt</td>\n",
              "    </tr>\n",
              "    <tr>\n",
              "      <th>...</th>\n",
              "      <td>...</td>\n",
              "      <td>...</td>\n",
              "      <td>...</td>\n",
              "    </tr>\n",
              "    <tr>\n",
              "      <th>1995</th>\n",
              "      <td>ingredients : down-on-his-luck evangelist , ch...</td>\n",
              "      <td>pos</td>\n",
              "      <td>cv923_11051.txt</td>\n",
              "    </tr>\n",
              "    <tr>\n",
              "      <th>1996</th>\n",
              "      <td>when i first saw the previews for ron howard's...</td>\n",
              "      <td>pos</td>\n",
              "      <td>cv940_17705.txt</td>\n",
              "    </tr>\n",
              "    <tr>\n",
              "      <th>1997</th>\n",
              "      <td>armageddon , in itself , symbolizes everything...</td>\n",
              "      <td>pos</td>\n",
              "      <td>cv932_13401.txt</td>\n",
              "    </tr>\n",
              "    <tr>\n",
              "      <th>1998</th>\n",
              "      <td>there are some works of art that are almost im...</td>\n",
              "      <td>pos</td>\n",
              "      <td>cv930_13475.txt</td>\n",
              "    </tr>\n",
              "    <tr>\n",
              "      <th>1999</th>\n",
              "      <td>in zoolander , the world's most successful , i...</td>\n",
              "      <td>pos</td>\n",
              "      <td>cv920_29622.txt</td>\n",
              "    </tr>\n",
              "  </tbody>\n",
              "</table>\n",
              "<p>2000 rows × 3 columns</p>\n",
              "</div>"
            ],
            "text/plain": [
              "                                                   data labels             name\n",
              "0     before the remake of psycho appears , we've go...    neg  cv080_14899.txt\n",
              "1      \" there will be another , \" the ads for this ...    neg   cv072_5928.txt\n",
              "2     there's a 1 , 000-foot tidal wave at the end o...    neg  cv071_12969.txt\n",
              "3     for better or worse , the appearance of basic ...    neg   cv074_7188.txt\n",
              "4      \" virus \" is the type of cliched , vacuous fi...    neg  cv078_16506.txt\n",
              "...                                                 ...    ...              ...\n",
              "1995  ingredients : down-on-his-luck evangelist , ch...    pos  cv923_11051.txt\n",
              "1996  when i first saw the previews for ron howard's...    pos  cv940_17705.txt\n",
              "1997  armageddon , in itself , symbolizes everything...    pos  cv932_13401.txt\n",
              "1998  there are some works of art that are almost im...    pos  cv930_13475.txt\n",
              "1999  in zoolander , the world's most successful , i...    pos  cv920_29622.txt\n",
              "\n",
              "[2000 rows x 3 columns]"
            ]
          },
          "metadata": {
            "tags": []
          },
          "execution_count": 205
        }
      ]
    },
    {
      "cell_type": "code",
      "metadata": {
        "colab": {
          "base_uri": "https://localhost:8080/",
          "height": 402
        },
        "id": "GeODkzeRGh_2",
        "outputId": "dc649e9c-d600-46c5-e57f-8d6630cda55b"
      },
      "source": [
        "q5_data['labels'] = q5_data['labels'].map({'pos': 1, 'neg': 0}).astype(int)\n",
        "q5_data"
      ],
      "execution_count": null,
      "outputs": [
        {
          "output_type": "execute_result",
          "data": {
            "text/html": [
              "<div>\n",
              "<style scoped>\n",
              "    .dataframe tbody tr th:only-of-type {\n",
              "        vertical-align: middle;\n",
              "    }\n",
              "\n",
              "    .dataframe tbody tr th {\n",
              "        vertical-align: top;\n",
              "    }\n",
              "\n",
              "    .dataframe thead th {\n",
              "        text-align: right;\n",
              "    }\n",
              "</style>\n",
              "<table border=\"1\" class=\"dataframe\">\n",
              "  <thead>\n",
              "    <tr style=\"text-align: right;\">\n",
              "      <th></th>\n",
              "      <th>data</th>\n",
              "      <th>labels</th>\n",
              "      <th>name</th>\n",
              "    </tr>\n",
              "  </thead>\n",
              "  <tbody>\n",
              "    <tr>\n",
              "      <th>0</th>\n",
              "      <td>before the remake of psycho appears , we've go...</td>\n",
              "      <td>0</td>\n",
              "      <td>cv080_14899.txt</td>\n",
              "    </tr>\n",
              "    <tr>\n",
              "      <th>1</th>\n",
              "      <td>\" there will be another , \" the ads for this ...</td>\n",
              "      <td>0</td>\n",
              "      <td>cv072_5928.txt</td>\n",
              "    </tr>\n",
              "    <tr>\n",
              "      <th>2</th>\n",
              "      <td>there's a 1 , 000-foot tidal wave at the end o...</td>\n",
              "      <td>0</td>\n",
              "      <td>cv071_12969.txt</td>\n",
              "    </tr>\n",
              "    <tr>\n",
              "      <th>3</th>\n",
              "      <td>for better or worse , the appearance of basic ...</td>\n",
              "      <td>0</td>\n",
              "      <td>cv074_7188.txt</td>\n",
              "    </tr>\n",
              "    <tr>\n",
              "      <th>4</th>\n",
              "      <td>\" virus \" is the type of cliched , vacuous fi...</td>\n",
              "      <td>0</td>\n",
              "      <td>cv078_16506.txt</td>\n",
              "    </tr>\n",
              "    <tr>\n",
              "      <th>...</th>\n",
              "      <td>...</td>\n",
              "      <td>...</td>\n",
              "      <td>...</td>\n",
              "    </tr>\n",
              "    <tr>\n",
              "      <th>1995</th>\n",
              "      <td>ingredients : down-on-his-luck evangelist , ch...</td>\n",
              "      <td>1</td>\n",
              "      <td>cv923_11051.txt</td>\n",
              "    </tr>\n",
              "    <tr>\n",
              "      <th>1996</th>\n",
              "      <td>when i first saw the previews for ron howard's...</td>\n",
              "      <td>1</td>\n",
              "      <td>cv940_17705.txt</td>\n",
              "    </tr>\n",
              "    <tr>\n",
              "      <th>1997</th>\n",
              "      <td>armageddon , in itself , symbolizes everything...</td>\n",
              "      <td>1</td>\n",
              "      <td>cv932_13401.txt</td>\n",
              "    </tr>\n",
              "    <tr>\n",
              "      <th>1998</th>\n",
              "      <td>there are some works of art that are almost im...</td>\n",
              "      <td>1</td>\n",
              "      <td>cv930_13475.txt</td>\n",
              "    </tr>\n",
              "    <tr>\n",
              "      <th>1999</th>\n",
              "      <td>in zoolander , the world's most successful , i...</td>\n",
              "      <td>1</td>\n",
              "      <td>cv920_29622.txt</td>\n",
              "    </tr>\n",
              "  </tbody>\n",
              "</table>\n",
              "<p>2000 rows × 3 columns</p>\n",
              "</div>"
            ],
            "text/plain": [
              "                                                   data  ...             name\n",
              "0     before the remake of psycho appears , we've go...  ...  cv080_14899.txt\n",
              "1      \" there will be another , \" the ads for this ...  ...   cv072_5928.txt\n",
              "2     there's a 1 , 000-foot tidal wave at the end o...  ...  cv071_12969.txt\n",
              "3     for better or worse , the appearance of basic ...  ...   cv074_7188.txt\n",
              "4      \" virus \" is the type of cliched , vacuous fi...  ...  cv078_16506.txt\n",
              "...                                                 ...  ...              ...\n",
              "1995  ingredients : down-on-his-luck evangelist , ch...  ...  cv923_11051.txt\n",
              "1996  when i first saw the previews for ron howard's...  ...  cv940_17705.txt\n",
              "1997  armageddon , in itself , symbolizes everything...  ...  cv932_13401.txt\n",
              "1998  there are some works of art that are almost im...  ...  cv930_13475.txt\n",
              "1999  in zoolander , the world's most successful , i...  ...  cv920_29622.txt\n",
              "\n",
              "[2000 rows x 3 columns]"
            ]
          },
          "metadata": {
            "tags": []
          },
          "execution_count": 206
        }
      ]
    },
    {
      "cell_type": "code",
      "metadata": {
        "id": "IJ_b390xG4s2"
      },
      "source": [
        "import tensorflow as tf \n",
        "from tensorflow.keras.preprocessing import sequence\n",
        "import logging\n",
        "from sklearn.model_selection import train_test_split\n",
        "logging.getLogger('tensorflow').disabled = True\n",
        "class_names = [\"Negative\", \"Positive\"]\n"
      ],
      "execution_count": null,
      "outputs": []
    },
    {
      "cell_type": "code",
      "metadata": {
        "id": "f8t7g6BmHPTw"
      },
      "source": [
        "a_train,a_test = train_test_split(q5_data, test_size=0.15, random_state=seed_value)"
      ],
      "execution_count": null,
      "outputs": []
    },
    {
      "cell_type": "code",
      "metadata": {
        "id": "ueUj6t_nHPCg"
      },
      "source": [
        "x_train = []\n",
        "x_test = []\n",
        "for i in a_train.data:\n",
        "    x_train.append(i)\n",
        "for i in a_test.data:\n",
        "    x_test.append(i)\n",
        "tokenizer = tf.keras.preprocessing.text.Tokenizer(filters='')\n",
        "tokenizer.fit_on_texts(x_train)\n",
        "x_train = tokenizer.texts_to_sequences(x_train)\n",
        "x_test = tokenizer.texts_to_sequences(x_test)\n",
        "y_train = a_train['labels'].values\n",
        "y_test = a_test['labels'].values\n",
        "vocab_size = len(tokenizer.word_index) + 1"
      ],
      "execution_count": null,
      "outputs": []
    },
    {
      "cell_type": "code",
      "metadata": {
        "id": "E05AweFu0Imt"
      },
      "source": [
        "# Perform reverse word lookup and make it callable\n",
        "reverse_word_index = dict([(key,tokenizer.index_word[key]) for key in tokenizer.index_word])\n",
        "reverse_word_index[0] = \"<PAD>\"\n",
        "def decode_review(text):\n",
        "    return ' '.join([reverse_word_index[i] for i in text])"
      ],
      "execution_count": null,
      "outputs": []
    },
    {
      "cell_type": "code",
      "metadata": {
        "colab": {
          "base_uri": "https://localhost:8080/"
        },
        "id": "uNYcwMITFHbC",
        "outputId": "d7604fe7-c372-4068-c3d2-85deaf2b0246"
      },
      "source": [
        "# Concatonate test and training datasets\n",
        "allreviews = np.concatenate((x_train, x_test), axis=0)\n",
        "# Review lengths across test and training whole datasets\n",
        "print(\"Maximum review length: {}\".format(len(max((allreviews), key=len))))\n",
        "print(\"Minimum review length: {}\".format(len(min((allreviews), key=len))))\n",
        "result = [len(x) for x in allreviews]\n",
        "print(\"Mean review length: {}\".format(np.mean(result)))\n",
        "\n",
        "# Print a review and it's class as stored in the dataset. Replace the number\n",
        "# to select a different review.\n",
        "print(\"\")\n",
        "print(\"Machine readable Review\")\n",
        "print(\"  Review Text: \" + str(x_train[1]))\n",
        "print(\"  Review Sentiment: \" + str(y_train[1]))\n",
        "\n",
        "# Print a review and it's class in human readable format. Replace the number\n",
        "# to select a different review.\n",
        "print(\"\")\n",
        "print(\"Human Readable Review\")\n",
        "print(\"  Review Text: \" + decode_review(x_train[1]))\n",
        "print(\"  Review Sentiment: \" + class_names[y_train[1]])"
      ],
      "execution_count": null,
      "outputs": [
        {
          "output_type": "stream",
          "text": [
            "Maximum review length: 2680\n",
            "Minimum review length: 18\n",
            "Mean review length: 745.7995\n",
            "\n",
            "Machine readable Review\n",
            "  Review Text: [2360, 52, 28232, 5, 6365, 28233, 28234, 177, 99, 1625, 38, 39, 16999, 1220, 1581, 100, 25, 1437, 107, 78, 64, 22, 18, 28235, 7544, 393, 6, 39, 733, 14485, 3, 28236, 1, 355, 1647, 4483, 17000, 7116, 2102, 15, 28237, 437, 1, 9, 2, 5486, 1, 5, 241, 335, 2103, 3, 4642, 52, 1781, 4643, 818, 15, 4, 1781, 293, 1, 5, 2, 31, 156, 68, 6707, 11, 61, 4, 1254, 1968, 2591, 7, 223, 6366, 7545, 1, 12650, 1, 1469, 3, 220, 40, 23, 99, 1141, 9, 463, 7545, 1469, 1, 312, 1, 29, 2137, 40, 3467, 126, 20, 6041, 5, 266, 2, 3468, 3565, 5, 1901, 631, 8057, 330, 3181, 1, 219, 1648, 22, 267, 450, 3, 381, 230, 15, 11, 10, 31, 1, 10, 40, 144, 34, 7, 146, 137, 2, 2061, 599, 6, 334, 6366, 475, 7, 12651, 2494, 20963, 643, 47, 10, 6708, 3, 10, 193, 688, 101, 1969, 9, 2, 31, 3, 4315, 1, 140, 1716, 2275, 9366, 2322, 51, 1261, 2704, 39, 1469, 1, 70, 14486, 39, 733, 142, 2894, 17001, 28238, 6, 2027, 22, 1781, 600, 3, 776, 1581, 1, 7117, 1, 1437, 2062, 632, 4, 245, 9, 4, 8656, 275, 7, 964, 2, 2276, 6, 392, 830, 6709, 100, 20, 74, 10, 102, 4, 1672, 7, 1626, 3, 10, 4022, 3, 21, 31, 908, 7, 1347, 121, 143, 92, 7546, 50, 3, 3669, 12652, 3, 331, 81, 613, 2, 355, 4483, 17000, 1, 993, 6, 20964, 5, 4176, 14487, 77, 4484, 45, 1, 20965, 37, 330, 8657, 15, 1864, 17002, 304, 1, 5, 2102, 77, 8658, 3, 3566, 981, 1, 187, 1, 20965, 752, 39, 2060, 2103, 2651, 13, 12653, 12, 7, 545, 39, 1581, 9, 2, 151, 3, 532, 1, 68, 33, 2761, 2, 31, 3, 11279, 20, 3035, 1254, 592, 1, 1970, 479, 9, 17, 4, 65, 649, 54, 92, 3, 43]\n",
            "  Review Sentiment: 0\n",
            "\n",
            "Human Readable Review\n",
            "  Review Text: synopsis : big-breasted and dim-witted sculptress britt gets really mad at her grad student boyfriend because he spends too much time on his thought-transference experiments instead of her art showings . \n",
            "elderly , evil scientist everett longstreet switches minds with britt's boy , in the meantime , and goes completely mental . \n",
            "comments : naked souls opens with a naked woman , and the movie makes no illusion that it's a sci-fi vehicle designed to show pamela anderson's , um , talents . \n",
            "if you are really interested in seeing anderson's talents , however , i suggest you skip over this dud and watch the infamous pam and tommy lee honeymoon sex tape , now available on home video . \n",
            "at least with that \" movie , \" you don't have to go through the painful experience of watching pamela try to pronounce multiple syllable words like \" eclectic . \" \n",
            "a premise does exist in the movie . \n",
            "basically , while anderson wears skimpy clothes which barely contain her talents , she practices her art -- brilliantly slapping plaster of paris on naked women . \n",
            "her boyfriend , meanwhile , spends 20 hours a day in a morgue trying to view the memories of dead prison inmates because this will \" make a difference to humanity . \" \n",
            "whatever . \n",
            "the movie fails to explain how these two hooked up . \n",
            "be grateful . \n",
            "after we meet the evil everett longstreet , lots of technobabble and mystical mumbo-jumbo get tossed about , pammy has sex replete with cheesy make-out music , and minds get transferred . \n",
            "never fear , though , pammy uses her sharp mental abilities ( ahem ) to save her boyfriend in the end . \n",
            "unfortunately , no one saves the movie . \n",
            "avoid this would-be sci-fi thriller , unless you're in for a good laugh or two . \n",
            "\n",
            "  Review Sentiment: Negative\n"
          ],
          "name": "stdout"
        },
        {
          "output_type": "stream",
          "text": [
            "<string>:6: VisibleDeprecationWarning: Creating an ndarray from ragged nested sequences (which is a list-or-tuple of lists-or-tuples-or ndarrays with different lengths or shapes) is deprecated. If you meant to do this, you must specify 'dtype=object' when creating the ndarray\n"
          ],
          "name": "stderr"
        }
      ]
    },
    {
      "cell_type": "code",
      "metadata": {
        "id": "nyfQqKod7koB"
      },
      "source": [
        "# The length of reviews\n",
        "review_length =  450\n",
        "# Padding / truncated our reviews\n",
        "x_train = sequence.pad_sequences(x_train, maxlen = review_length)\n",
        "x_test = sequence.pad_sequences(x_test, maxlen = review_length)"
      ],
      "execution_count": null,
      "outputs": []
    },
    {
      "cell_type": "code",
      "metadata": {
        "colab": {
          "base_uri": "https://localhost:8080/"
        },
        "id": "iP1MHxzW-lUx",
        "outputId": "a29ae3d8-0a17-47b7-dba2-3addaff08528"
      },
      "source": [
        "print(\"Shape Training Review Data: \" + str(x_train.shape))\n",
        "print(\"Shape Training Class Data: \" + str(y_train.shape))\n",
        "print(\"Shape Test Review Data: \" + str(x_test.shape))\n",
        "print(\"Shape Test Class Data: \" + str(y_test.shape))\n",
        "print(\"Review data\"+str(x_train[60]))\n",
        "print()\n",
        "print(\"Human Readable Review Text (post padding):\\n\" + decode_review(x_train[60]))"
      ],
      "execution_count": null,
      "outputs": [
        {
          "output_type": "stream",
          "text": [
            "Shape Training Review Data: (1700, 450)\n",
            "Shape Training Class Data: (1700,)\n",
            "Shape Test Review Data: (300, 450)\n",
            "Shape Test Class Data: (300,)\n",
            "Review data[   18    96     6 28977   150     8    26  8206   126     2   369   940\n",
            "  2093     3    42    80    47    11     2    19   127   181     4   820\n",
            "   446    38   105     6     2   940  5514    54 28978     1    24    38\n",
            "  2334     9   859     5   121   319     8   471    26     2   790    13\n",
            "   310     2 28979  9553    86    77     4   290  4058    26     2   151\n",
            "     6     2    19    12     3    42   703     6     2  3594    23   351\n",
            "   762     1   135    16     4  5338  6139    11    25  1191    38     4\n",
            " 21362  3277     7    57     3    42  1971     6     2    19     8   335\n",
            "  2500     1    24   257     2   256   232    45    14     3    42   124\n",
            "    28  1515     1   694    19    38     2  2118     1    24     2  3825\n",
            "    11  3227    37   932     8    49    78    48  8207    63   755   636\n",
            "     9     2   569     3    42   317  1287     7    20   648     8  9554\n",
            "  1649     6  2808    88    20     8     4   171    11  1224  4094    22\n",
            "     4  2527  2122     3    43    42  3227     8    49    78   256     7\n",
            "   266   157   142   163   269   196     1    24   163    91  1055     9\n",
            "   801    11  2430    46    18    83   235   306    54  6846  4386  1438\n",
            "     3    43    42  3227     8    49    65    11  2808     1   658    18\n",
            "  6140    16     4   358   125     1     8    28  1007  1753     5  1718\n",
            "    83   200    36     2   527     3    21   512   208     8  3784     5\n",
            "  2524     3    42 28980     8 10449     1    16   269     1     5  1287\n",
            "     7    39 12901     6   896   512   531     3    42  9555  5134    37\n",
            "     4    65   179    16     4   906  3466    30   752 11483 28981     7\n",
            "    86    18  2326   155     3    42 12902  4329     8    28   308    30\n",
            "   184    27  5339     1    17  9556    29   981    25   182 28982     4\n",
            "   577  1407    15     2  2128     6    18   225    13   187   163    84\n",
            "   196     7   266    12     3    42   714  3696  1287     2  2933  1479\n",
            "     7    18  1073     6 12763 21363     3   948  2808  1798    42    42\n",
            "    80  1394    55   182    95    14    11    96     3    42    80   510\n",
            "  4500    26     2    19     1    24   136   237     1    29  1284   480\n",
            "    45  2334     3    42    80   180    11   115    30   198    20    19\n",
            "  1798    74    56    27 28983    26     2  5060     6     2    73     3\n",
            "    42    21    19   194   426     1     6   231   142     2   371   271\n",
            "   246   155    17   117     1     5     2     4   162     6     2   128\n",
            "   166  2808     5  5563   320   617    13   310     2  6708  1473   415\n",
            "     8  1904    12     3    42    87   143    23  1080 17320    45    28\n",
            "  1022   839    19     3    42  9548     8     4   857     1 12903   196\n",
            "   281    11  1117     7   117    11   940  1635    66  8208   258  2447\n",
            "    63     2  1878     3    42    43]\n",
            "\n",
            "Human Readable Review Text (post padding):\n",
            "his way of lashing back is by screwing over the entire political structure . ? \n",
            "i like that the film doesn't take a clear shot at any of the political parties or affiliations , but at politics in general and how everything is run by the rich ( although the anti-rich sentiments do get a bit tiresome by the end of the film ) . ? \n",
            "some of the segments are simply hilarious , such as a lengthy rap that he delivers at a luncheon dedicated to him . ? \n",
            "much of the film is completely absurd , but that's the fun part about it . ? \n",
            "it's an angry , serious film at the core , but the package that beatty has created is so much more accessible than recent attempts in the genre . ? \n",
            "what adds to this feeling is beatty's portrayal of bulworth ; this is a performance that deserves recognition on a higher scale . \n",
            " ? beatty is so much fun to watch here -- he's always funny , but he's also subtle in ways that flesh out his character without dialogue or hugely noticeable actions . \n",
            " ? beatty is so good that bulworth , despite his shortcomings as a human being , is an entirely sympathetic and likable character almost from the beginning . \n",
            "the supporting cast is vast and colorful . ? \n",
            "berry is luminous , as always , and adds to her repertoire of solid supporting roles . ? \n",
            "don cheadle has a good role as a drug dealer who uses gun-toting toddlers to do his dirty work . ? \n",
            "oliver platt is an actor who should be careful , for someday i fear he may induce a heart attack with the intensity of his acting ( though he's very funny to watch ) . ? paul sorvino adds the southern accent to his list of mastered inflections . \n",
            "is bulworth offensive ? ? \n",
            "i suppose some may see it that way . ? \n",
            "i wasn't offended by the film , but then again , i hardly care about politics . ? \n",
            "i think that people who find this film offensive will just be blindsided by the honesty of the story . ? \n",
            "the film isn't perfect , of course -- the ending didn't quite work for me , and the a few of the scenes between bulworth and nina feel forced ( although the eclectic dance sequence is fantastic ) . ? \n",
            "but these are minor quibbles about an otherwise brilliant film . ? \n",
            "bulworth is a smart , uproariously funny picture that proves to me that political satire can scratch far deeper than the surface . ? \n",
            "\n"
          ],
          "name": "stdout"
        }
      ]
    },
    {
      "cell_type": "code",
      "metadata": {
        "colab": {
          "base_uri": "https://localhost:8080/"
        },
        "id": "cLghhjKo3x1N",
        "outputId": "4afa5135-f314-4221-a79a-7096289754f5"
      },
      "source": [
        "print(vocab_size)"
      ],
      "execution_count": null,
      "outputs": [
        {
          "output_type": "stream",
          "text": [
            "52062\n"
          ],
          "name": "stdout"
        }
      ]
    },
    {
      "cell_type": "code",
      "metadata": {
        "colab": {
          "base_uri": "https://localhost:8080/"
        },
        "id": "8nmO8M4aCKwT",
        "outputId": "b840604d-f0e9-4863-aff3-42c3cd758dad"
      },
      "source": [
        "model = tf.keras.models.Sequential()\n",
        "model.add(tf.keras.layers.Embedding(input_dim = vocab_size,output_dim = 32,input_length = review_length))\n",
        "model.add(tf.keras.layers.Dropout(rate=0.25))\n",
        "model.add(tf.keras.layers.LSTM(units=32))\n",
        "model.add(tf.keras.layers.Dropout(rate=0.25))\n",
        "model.add(tf.keras.layers.Dense(units=1,activation='sigmoid'))\n",
        "\n",
        "# Compile the model\n",
        "model.compile(\n",
        "    loss=tf.keras.losses.binary_crossentropy, # loss function\n",
        "    optimizer=tf.keras.optimizers.Adam(), # optimiser function\n",
        "    metrics=['accuracy']) # reporting metric\n",
        "\n",
        "# Display a summary of the models structure\n",
        "model.summary()"
      ],
      "execution_count": null,
      "outputs": [
        {
          "output_type": "stream",
          "text": [
            "Model: \"sequential_2\"\n",
            "_________________________________________________________________\n",
            "Layer (type)                 Output Shape              Param #   \n",
            "=================================================================\n",
            "embedding_2 (Embedding)      (None, 450, 32)           1665984   \n",
            "_________________________________________________________________\n",
            "dropout_4 (Dropout)          (None, 450, 32)           0         \n",
            "_________________________________________________________________\n",
            "lstm_2 (LSTM)                (None, 32)                8320      \n",
            "_________________________________________________________________\n",
            "dropout_5 (Dropout)          (None, 32)                0         \n",
            "_________________________________________________________________\n",
            "dense_2 (Dense)              (None, 1)                 33        \n",
            "=================================================================\n",
            "Total params: 1,674,337\n",
            "Trainable params: 1,674,337\n",
            "Non-trainable params: 0\n",
            "_________________________________________________________________\n"
          ],
          "name": "stdout"
        }
      ]
    },
    {
      "cell_type": "code",
      "metadata": {
        "colab": {
          "base_uri": "https://localhost:8080/"
        },
        "id": "XB8KhSgl5rfB",
        "outputId": "cc4f3f3f-ee69-4275-a1b4-4e3a43c3686c"
      },
      "source": [
        "history = model.fit(x_train,y_train,batch_size=100,epochs=5,validation_split=0.2,verbose=1) "
      ],
      "execution_count": null,
      "outputs": [
        {
          "output_type": "stream",
          "text": [
            "Epoch 1/5\n",
            "14/14 [==============================] - 7s 345ms/step - loss: 0.6934 - accuracy: 0.5191 - val_loss: 0.6932 - val_accuracy: 0.4882\n",
            "Epoch 2/5\n",
            "14/14 [==============================] - 5s 324ms/step - loss: 0.6914 - accuracy: 0.5709 - val_loss: 0.6920 - val_accuracy: 0.5206\n",
            "Epoch 3/5\n",
            "14/14 [==============================] - 5s 328ms/step - loss: 0.6843 - accuracy: 0.5721 - val_loss: 0.6817 - val_accuracy: 0.5235\n",
            "Epoch 4/5\n",
            "14/14 [==============================] - 5s 325ms/step - loss: 0.6336 - accuracy: 0.7276 - val_loss: 0.6659 - val_accuracy: 0.6235\n",
            "Epoch 5/5\n",
            "14/14 [==============================] - 5s 327ms/step - loss: 0.5910 - accuracy: 0.7956 - val_loss: 0.6289 - val_accuracy: 0.7000\n"
          ],
          "name": "stdout"
        }
      ]
    },
    {
      "cell_type": "code",
      "metadata": {
        "colab": {
          "base_uri": "https://localhost:8080/"
        },
        "id": "nPnfxwbnITqV",
        "outputId": "c8329cbb-0fb8-4211-eebe-d9b572b6a6ce"
      },
      "source": [
        "# Get Model Predictions for test data\n",
        "from sklearn.metrics import classification_report\n",
        "predicted_classes = model.predict_classes(x_test)\n",
        "print(classification_report(y_test, predicted_classes, target_names=class_names))"
      ],
      "execution_count": null,
      "outputs": [
        {
          "output_type": "stream",
          "text": [
            "/usr/local/lib/python3.7/dist-packages/tensorflow/python/keras/engine/sequential.py:450: UserWarning: `model.predict_classes()` is deprecated and will be removed after 2021-01-01. Please use instead:* `np.argmax(model.predict(x), axis=-1)`,   if your model does multi-class classification   (e.g. if it uses a `softmax` last-layer activation).* `(model.predict(x) > 0.5).astype(\"int32\")`,   if your model does binary classification   (e.g. if it uses a `sigmoid` last-layer activation).\n",
            "  warnings.warn('`model.predict_classes()` is deprecated and '\n"
          ],
          "name": "stderr"
        },
        {
          "output_type": "stream",
          "text": [
            "              precision    recall  f1-score   support\n",
            "\n",
            "    Negative       0.69      0.63      0.66       164\n",
            "    Positive       0.59      0.65      0.62       136\n",
            "\n",
            "    accuracy                           0.64       300\n",
            "   macro avg       0.64      0.64      0.64       300\n",
            "weighted avg       0.64      0.64      0.64       300\n",
            "\n"
          ],
          "name": "stdout"
        }
      ]
    },
    {
      "cell_type": "code",
      "metadata": {
        "id": "GsEjj0bJNCss"
      },
      "source": [
        "import sklearn.metrics as sm\n",
        "def evaluate_model(pred,y):\n",
        "  acc = sm.accuracy_score(y,pred)\n",
        "  pr = sm.precision_score(y,pred)\n",
        "  re = sm.recall_score(y,pred)\n",
        "  f1 = sm.f1_score(pred, y, average='macro')\n",
        "  return acc,pr,re,f1"
      ],
      "execution_count": null,
      "outputs": []
    },
    {
      "cell_type": "code",
      "metadata": {
        "colab": {
          "base_uri": "https://localhost:8080/"
        },
        "id": "nEvzyPl9NJsE",
        "outputId": "4edd2c77-faa6-4c6f-f17e-0aff4ab41ca8"
      },
      "source": [
        "acc_nb,pr_nb,re_nb,f1_nb=evaluate_model(predicted_classes,y_test)\n",
        "print(\"Accuracy : \"+str(acc_nb))\n",
        "print(\"Precision : \"+str(pr_nb))\n",
        "print(\"Recall : \"+str(re_nb))\n",
        "print(\"F1 Score : \"+str(f1_nb))"
      ],
      "execution_count": null,
      "outputs": [
        {
          "output_type": "stream",
          "text": [
            "Accuracy : 0.64\n",
            "Precision : 0.5933333333333334\n",
            "Recall : 0.6544117647058824\n",
            "F1 Score : 0.6392142888958177\n"
          ],
          "name": "stdout"
        }
      ]
    },
    {
      "cell_type": "markdown",
      "metadata": {
        "id": "U8HHTO6EytW4"
      },
      "source": [
        "The metrics values are less as compared to the one trained using IMDB dataset. One reason is the size of the dataset. For LSTMs to perform well, input data should be of a fairly larger size than the one used in this model. Removing some irreleant stop words may improve the model's performance."
      ]
    },
    {
      "cell_type": "markdown",
      "metadata": {
        "id": "OjZGbz7LOUxg"
      },
      "source": [
        "# **Question 6) (30 points)**\n",
        "\n",
        "Use the train.txt file from the PubMed 20K RCT dataset fine-tune a\n",
        "BERT transformer (class 9 code). This task is a bit different as the one seen in class, here the\n",
        "source dataset has FIVE different classes: background, objective, method, result, and\n",
        "conclusion. Once the BERT model is fine-tuned, classify the: test.txt set. Please present the\n",
        "per-class classification report (accuracy, precision, recall, f1-score metrics). Also, present the\n",
        "global metrics - all classes (accuracy, precision, recall, f1-score metrics). Did you model beat the\n",
        "baseline results (https://arxiv.org/pdf/1710.06071.pdf)? What do you think you can do to improve\n",
        "it?\n"
      ]
    },
    {
      "cell_type": "code",
      "metadata": {
        "id": "cW4n2EOSOctt"
      },
      "source": [
        "q6_data = pd.read_csv('/content/drive/MyDrive/exam2/train.txt',delimiter= '\\t',skipinitialspace=True, header=None)"
      ],
      "execution_count": null,
      "outputs": []
    },
    {
      "cell_type": "code",
      "metadata": {
        "id": "sMIRH5rrnk-A"
      },
      "source": [
        "q6_test = pd.read_csv('/content/drive/MyDrive/exam2/test.txt',delimiter= '\\t',skipinitialspace=True, header=None)"
      ],
      "execution_count": null,
      "outputs": []
    },
    {
      "cell_type": "code",
      "metadata": {
        "colab": {
          "base_uri": "https://localhost:8080/",
          "height": 195
        },
        "id": "I9hG1l8invPB",
        "outputId": "0038c9c2-3251-44af-e5a4-a1dc64f11c54"
      },
      "source": [
        "q6_test.columns=['label','text']\n",
        "q6_test.head()"
      ],
      "execution_count": null,
      "outputs": [
        {
          "output_type": "execute_result",
          "data": {
            "text/html": [
              "<div>\n",
              "<style scoped>\n",
              "    .dataframe tbody tr th:only-of-type {\n",
              "        vertical-align: middle;\n",
              "    }\n",
              "\n",
              "    .dataframe tbody tr th {\n",
              "        vertical-align: top;\n",
              "    }\n",
              "\n",
              "    .dataframe thead th {\n",
              "        text-align: right;\n",
              "    }\n",
              "</style>\n",
              "<table border=\"1\" class=\"dataframe\">\n",
              "  <thead>\n",
              "    <tr style=\"text-align: right;\">\n",
              "      <th></th>\n",
              "      <th>label</th>\n",
              "      <th>text</th>\n",
              "    </tr>\n",
              "  </thead>\n",
              "  <tbody>\n",
              "    <tr>\n",
              "      <th>0</th>\n",
              "      <td>BACKGROUND</td>\n",
              "      <td>This study analyzed liver function abnormaliti...</td>\n",
              "    </tr>\n",
              "    <tr>\n",
              "      <th>1</th>\n",
              "      <td>RESULTS</td>\n",
              "      <td>A post hoc analysis was conducted with the use...</td>\n",
              "    </tr>\n",
              "    <tr>\n",
              "      <th>2</th>\n",
              "      <td>RESULTS</td>\n",
              "      <td>Liver function tests ( LFTs ) were measured at...</td>\n",
              "    </tr>\n",
              "    <tr>\n",
              "      <th>3</th>\n",
              "      <td>RESULTS</td>\n",
              "      <td>Survival analyses were used to assess the asso...</td>\n",
              "    </tr>\n",
              "    <tr>\n",
              "      <th>4</th>\n",
              "      <td>RESULTS</td>\n",
              "      <td>The percentage of patients with abnormal LFTs ...</td>\n",
              "    </tr>\n",
              "  </tbody>\n",
              "</table>\n",
              "</div>"
            ],
            "text/plain": [
              "        label                                               text\n",
              "0  BACKGROUND  This study analyzed liver function abnormaliti...\n",
              "1     RESULTS  A post hoc analysis was conducted with the use...\n",
              "2     RESULTS  Liver function tests ( LFTs ) were measured at...\n",
              "3     RESULTS  Survival analyses were used to assess the asso...\n",
              "4     RESULTS  The percentage of patients with abnormal LFTs ..."
            ]
          },
          "metadata": {
            "tags": []
          },
          "execution_count": 9
        }
      ]
    },
    {
      "cell_type": "code",
      "metadata": {
        "id": "hqVITi4lRQ0j"
      },
      "source": [
        "q6_data.columns=['label','text']"
      ],
      "execution_count": null,
      "outputs": []
    },
    {
      "cell_type": "code",
      "metadata": {
        "colab": {
          "base_uri": "https://localhost:8080/",
          "height": 195
        },
        "id": "OpOn7sLmfUaA",
        "outputId": "31ebcc09-ca8b-4d9f-f444-841390cfcce7"
      },
      "source": [
        "q6_data.head()"
      ],
      "execution_count": null,
      "outputs": [
        {
          "output_type": "execute_result",
          "data": {
            "text/html": [
              "<div>\n",
              "<style scoped>\n",
              "    .dataframe tbody tr th:only-of-type {\n",
              "        vertical-align: middle;\n",
              "    }\n",
              "\n",
              "    .dataframe tbody tr th {\n",
              "        vertical-align: top;\n",
              "    }\n",
              "\n",
              "    .dataframe thead th {\n",
              "        text-align: right;\n",
              "    }\n",
              "</style>\n",
              "<table border=\"1\" class=\"dataframe\">\n",
              "  <thead>\n",
              "    <tr style=\"text-align: right;\">\n",
              "      <th></th>\n",
              "      <th>label</th>\n",
              "      <th>text</th>\n",
              "    </tr>\n",
              "  </thead>\n",
              "  <tbody>\n",
              "    <tr>\n",
              "      <th>0</th>\n",
              "      <td>OBJECTIVE</td>\n",
              "      <td>To investigate the efficacy of 6 weeks of dail...</td>\n",
              "    </tr>\n",
              "    <tr>\n",
              "      <th>1</th>\n",
              "      <td>METHODS</td>\n",
              "      <td>A total of 125 patients with primary knee OA w...</td>\n",
              "    </tr>\n",
              "    <tr>\n",
              "      <th>2</th>\n",
              "      <td>METHODS</td>\n",
              "      <td>Outcome measures included pain reduction and i...</td>\n",
              "    </tr>\n",
              "    <tr>\n",
              "      <th>3</th>\n",
              "      <td>METHODS</td>\n",
              "      <td>Pain was assessed using the visual analog pain...</td>\n",
              "    </tr>\n",
              "    <tr>\n",
              "      <th>4</th>\n",
              "      <td>METHODS</td>\n",
              "      <td>Secondary outcome measures included the Wester...</td>\n",
              "    </tr>\n",
              "  </tbody>\n",
              "</table>\n",
              "</div>"
            ],
            "text/plain": [
              "       label                                               text\n",
              "0  OBJECTIVE  To investigate the efficacy of 6 weeks of dail...\n",
              "1    METHODS  A total of 125 patients with primary knee OA w...\n",
              "2    METHODS  Outcome measures included pain reduction and i...\n",
              "3    METHODS  Pain was assessed using the visual analog pain...\n",
              "4    METHODS  Secondary outcome measures included the Wester..."
            ]
          },
          "metadata": {
            "tags": []
          },
          "execution_count": 11
        }
      ]
    },
    {
      "cell_type": "code",
      "metadata": {
        "id": "XL-N05_3eZkP"
      },
      "source": [
        "q6_classes=['BACKGROUND', 'OBJECTIVE', 'METHODS', 'RESULTS', 'CONCLUSIONS']\n",
        "q6_data['label'] = q6_data['label'].map({'BACKGROUND':0, 'OBJECTIVE':1, 'METHODS':2, 'RESULTS':3, 'CONCLUSIONS':4}).astype(int)"
      ],
      "execution_count": null,
      "outputs": []
    },
    {
      "cell_type": "code",
      "metadata": {
        "id": "3KG6Zi16n92b"
      },
      "source": [
        "q6_test['label'] = q6_test['label'].map({'BACKGROUND':0, 'OBJECTIVE':1, 'METHODS':2, 'RESULTS':3, 'CONCLUSIONS':4}).astype(int)"
      ],
      "execution_count": null,
      "outputs": []
    },
    {
      "cell_type": "code",
      "metadata": {
        "colab": {
          "base_uri": "https://localhost:8080/",
          "height": 195
        },
        "id": "7uyqqzmeegvM",
        "outputId": "9d830499-2948-4d5a-a924-33a86da5d9c2"
      },
      "source": [
        "q6_data.head()"
      ],
      "execution_count": null,
      "outputs": [
        {
          "output_type": "execute_result",
          "data": {
            "text/html": [
              "<div>\n",
              "<style scoped>\n",
              "    .dataframe tbody tr th:only-of-type {\n",
              "        vertical-align: middle;\n",
              "    }\n",
              "\n",
              "    .dataframe tbody tr th {\n",
              "        vertical-align: top;\n",
              "    }\n",
              "\n",
              "    .dataframe thead th {\n",
              "        text-align: right;\n",
              "    }\n",
              "</style>\n",
              "<table border=\"1\" class=\"dataframe\">\n",
              "  <thead>\n",
              "    <tr style=\"text-align: right;\">\n",
              "      <th></th>\n",
              "      <th>label</th>\n",
              "      <th>text</th>\n",
              "    </tr>\n",
              "  </thead>\n",
              "  <tbody>\n",
              "    <tr>\n",
              "      <th>0</th>\n",
              "      <td>1</td>\n",
              "      <td>To investigate the efficacy of 6 weeks of dail...</td>\n",
              "    </tr>\n",
              "    <tr>\n",
              "      <th>1</th>\n",
              "      <td>2</td>\n",
              "      <td>A total of 125 patients with primary knee OA w...</td>\n",
              "    </tr>\n",
              "    <tr>\n",
              "      <th>2</th>\n",
              "      <td>2</td>\n",
              "      <td>Outcome measures included pain reduction and i...</td>\n",
              "    </tr>\n",
              "    <tr>\n",
              "      <th>3</th>\n",
              "      <td>2</td>\n",
              "      <td>Pain was assessed using the visual analog pain...</td>\n",
              "    </tr>\n",
              "    <tr>\n",
              "      <th>4</th>\n",
              "      <td>2</td>\n",
              "      <td>Secondary outcome measures included the Wester...</td>\n",
              "    </tr>\n",
              "  </tbody>\n",
              "</table>\n",
              "</div>"
            ],
            "text/plain": [
              "   label                                               text\n",
              "0      1  To investigate the efficacy of 6 weeks of dail...\n",
              "1      2  A total of 125 patients with primary knee OA w...\n",
              "2      2  Outcome measures included pain reduction and i...\n",
              "3      2  Pain was assessed using the visual analog pain...\n",
              "4      2  Secondary outcome measures included the Wester..."
            ]
          },
          "metadata": {
            "tags": []
          },
          "execution_count": 14
        }
      ]
    },
    {
      "cell_type": "code",
      "metadata": {
        "colab": {
          "base_uri": "https://localhost:8080/",
          "height": 402
        },
        "id": "4kRmMMdboDg0",
        "outputId": "125d55ce-4fe8-4a1d-f8e1-aaedcef24a01"
      },
      "source": [
        "q6_test"
      ],
      "execution_count": null,
      "outputs": [
        {
          "output_type": "execute_result",
          "data": {
            "text/html": [
              "<div>\n",
              "<style scoped>\n",
              "    .dataframe tbody tr th:only-of-type {\n",
              "        vertical-align: middle;\n",
              "    }\n",
              "\n",
              "    .dataframe tbody tr th {\n",
              "        vertical-align: top;\n",
              "    }\n",
              "\n",
              "    .dataframe thead th {\n",
              "        text-align: right;\n",
              "    }\n",
              "</style>\n",
              "<table border=\"1\" class=\"dataframe\">\n",
              "  <thead>\n",
              "    <tr style=\"text-align: right;\">\n",
              "      <th></th>\n",
              "      <th>label</th>\n",
              "      <th>text</th>\n",
              "    </tr>\n",
              "  </thead>\n",
              "  <tbody>\n",
              "    <tr>\n",
              "      <th>0</th>\n",
              "      <td>0</td>\n",
              "      <td>This study analyzed liver function abnormaliti...</td>\n",
              "    </tr>\n",
              "    <tr>\n",
              "      <th>1</th>\n",
              "      <td>3</td>\n",
              "      <td>A post hoc analysis was conducted with the use...</td>\n",
              "    </tr>\n",
              "    <tr>\n",
              "      <th>2</th>\n",
              "      <td>3</td>\n",
              "      <td>Liver function tests ( LFTs ) were measured at...</td>\n",
              "    </tr>\n",
              "    <tr>\n",
              "      <th>3</th>\n",
              "      <td>3</td>\n",
              "      <td>Survival analyses were used to assess the asso...</td>\n",
              "    </tr>\n",
              "    <tr>\n",
              "      <th>4</th>\n",
              "      <td>3</td>\n",
              "      <td>The percentage of patients with abnormal LFTs ...</td>\n",
              "    </tr>\n",
              "    <tr>\n",
              "      <th>...</th>\n",
              "      <td>...</td>\n",
              "      <td>...</td>\n",
              "    </tr>\n",
              "    <tr>\n",
              "      <th>30130</th>\n",
              "      <td>3</td>\n",
              "      <td>There was a statistically significant between-...</td>\n",
              "    </tr>\n",
              "    <tr>\n",
              "      <th>30131</th>\n",
              "      <td>3</td>\n",
              "      <td>There were no statistically significant betwee...</td>\n",
              "    </tr>\n",
              "    <tr>\n",
              "      <th>30132</th>\n",
              "      <td>3</td>\n",
              "      <td>There was no significant association between s...</td>\n",
              "    </tr>\n",
              "    <tr>\n",
              "      <th>30133</th>\n",
              "      <td>3</td>\n",
              "      <td>No adverse effects were reported .</td>\n",
              "    </tr>\n",
              "    <tr>\n",
              "      <th>30134</th>\n",
              "      <td>4</td>\n",
              "      <td>Performing a 6-week do-as-tolerated program of...</td>\n",
              "    </tr>\n",
              "  </tbody>\n",
              "</table>\n",
              "<p>30135 rows × 2 columns</p>\n",
              "</div>"
            ],
            "text/plain": [
              "       label                                               text\n",
              "0          0  This study analyzed liver function abnormaliti...\n",
              "1          3  A post hoc analysis was conducted with the use...\n",
              "2          3  Liver function tests ( LFTs ) were measured at...\n",
              "3          3  Survival analyses were used to assess the asso...\n",
              "4          3  The percentage of patients with abnormal LFTs ...\n",
              "...      ...                                                ...\n",
              "30130      3  There was a statistically significant between-...\n",
              "30131      3  There were no statistically significant betwee...\n",
              "30132      3  There was no significant association between s...\n",
              "30133      3                 No adverse effects were reported .\n",
              "30134      4  Performing a 6-week do-as-tolerated program of...\n",
              "\n",
              "[30135 rows x 2 columns]"
            ]
          },
          "metadata": {
            "tags": []
          },
          "execution_count": 15
        }
      ]
    },
    {
      "cell_type": "code",
      "metadata": {
        "colab": {
          "base_uri": "https://localhost:8080/"
        },
        "id": "l1khYN_gUnL0",
        "outputId": "645c326b-3618-4f2b-8cad-1b5bf2c1a385"
      },
      "source": [
        "# Get the GPU device name.\n",
        "device_name = tf.test.gpu_device_name()\n",
        "\n",
        "# The device name should look like the following:\n",
        "if device_name == '/device:GPU:0':\n",
        "    print('Found GPU at: {}'.format(device_name))\n",
        "else:\n",
        "    print('GPU device not found')"
      ],
      "execution_count": null,
      "outputs": [
        {
          "output_type": "stream",
          "text": [
            "Found GPU at: /device:GPU:0\n"
          ],
          "name": "stdout"
        }
      ]
    },
    {
      "cell_type": "code",
      "metadata": {
        "colab": {
          "base_uri": "https://localhost:8080/"
        },
        "id": "Vh1aF8O4Xfzl",
        "outputId": "eac11e45-4f90-4de4-9985-07e3c61d79d7"
      },
      "source": [
        "import torch\n",
        "\n",
        "if torch.cuda.is_available():     \n",
        "    device = torch.device(\"cuda\")\n",
        "\n",
        "    print('There are %d GPU(s) available.' % torch.cuda.device_count())\n",
        "\n",
        "    print('We will use the GPU:', torch.cuda.get_device_name(0))\n",
        "\n",
        "else:\n",
        "    print('No GPU available, using the CPU instead.')\n",
        "    device = torch.device(\"cpu\")"
      ],
      "execution_count": null,
      "outputs": [
        {
          "output_type": "stream",
          "text": [
            "There are 1 GPU(s) available.\n",
            "We will use the GPU: Tesla K80\n"
          ],
          "name": "stdout"
        }
      ]
    },
    {
      "cell_type": "code",
      "metadata": {
        "id": "FXRE7pyvYKM1"
      },
      "source": [
        "!pip install transformers"
      ],
      "execution_count": null,
      "outputs": []
    },
    {
      "cell_type": "code",
      "metadata": {
        "id": "ttHw-wpHYPJF"
      },
      "source": [
        "q6_text = q6_data.iloc[:,1].values\n",
        "q6_label = q6_data.iloc[:,0].values"
      ],
      "execution_count": null,
      "outputs": []
    },
    {
      "cell_type": "code",
      "metadata": {
        "id": "wIZ3k4n2utFR"
      },
      "source": [
        "# q6_test.iloc[:,0].values"
      ],
      "execution_count": null,
      "outputs": []
    },
    {
      "cell_type": "code",
      "metadata": {
        "id": "LPG3Cf2ztEIr"
      },
      "source": [
        "q6_text_test = q6_test.iloc[:,1].values\n",
        "q6_label_test = q6_test.iloc[:,0].values"
      ],
      "execution_count": null,
      "outputs": []
    },
    {
      "cell_type": "code",
      "metadata": {
        "id": "GpUsF5jRZkxb"
      },
      "source": [
        "from transformers import BertTokenizer\n",
        "\n",
        "tokenizer = BertTokenizer.from_pretrained('bert-base-uncased', do_lower_case=True)"
      ],
      "execution_count": null,
      "outputs": []
    },
    {
      "cell_type": "code",
      "metadata": {
        "colab": {
          "base_uri": "https://localhost:8080/"
        },
        "id": "uO09LfciaF33",
        "outputId": "0e250ef8-a884-4954-df6e-a754956b491d"
      },
      "source": [
        "print(' Original: ', q6_text[0])\n",
        "print('Tokenized: ', tokenizer.tokenize(q6_text[0]))\n",
        "print('Token IDs: ', tokenizer.convert_tokens_to_ids(tokenizer.tokenize(q6_text[0])))"
      ],
      "execution_count": null,
      "outputs": [
        {
          "output_type": "stream",
          "text": [
            " Original:  To investigate the efficacy of 6 weeks of daily low-dose oral prednisolone in improving pain , mobility , and systemic low-grade inflammation in the short term and whether the effect would be sustained at 12 weeks in older adults with moderate to severe knee osteoarthritis ( OA ) .\n",
            "Tokenized:  ['to', 'investigate', 'the', 'efficacy', 'of', '6', 'weeks', 'of', 'daily', 'low', '-', 'dose', 'oral', 'pre', '##d', '##nis', '##olo', '##ne', 'in', 'improving', 'pain', ',', 'mobility', ',', 'and', 'systemic', 'low', '-', 'grade', 'inflammation', 'in', 'the', 'short', 'term', 'and', 'whether', 'the', 'effect', 'would', 'be', 'sustained', 'at', '12', 'weeks', 'in', 'older', 'adults', 'with', 'moderate', 'to', 'severe', 'knee', 'os', '##te', '##oa', '##rth', '##rit', '##is', '(', 'o', '##a', ')', '.']\n",
            "Token IDs:  [2000, 8556, 1996, 21150, 1997, 1020, 3134, 1997, 3679, 2659, 1011, 13004, 8700, 3653, 2094, 8977, 12898, 2638, 1999, 9229, 3255, 1010, 12969, 1010, 1998, 22575, 2659, 1011, 3694, 21733, 1999, 1996, 2460, 2744, 1998, 3251, 1996, 3466, 2052, 2022, 8760, 2012, 2260, 3134, 1999, 3080, 6001, 2007, 8777, 2000, 5729, 6181, 9808, 2618, 10441, 15265, 14778, 2483, 1006, 1051, 2050, 1007, 1012]\n"
          ],
          "name": "stdout"
        }
      ]
    },
    {
      "cell_type": "code",
      "metadata": {
        "id": "r7yQ59aDcck9"
      },
      "source": [
        "def bert_encode(data_bert,l):\n",
        "  input_ids = []\n",
        "  attention_masks = []\n",
        "\n",
        "  # For every sentence...\n",
        "  for sent in data_bert:\n",
        "      encoded_dict = tokenizer.encode_plus(sent, add_special_tokens = True, max_length = 64,pad_to_max_length = True,return_attention_mask = True,return_tensors = 'pt') \n",
        "      input_ids.append(encoded_dict['input_ids'])\n",
        "      attention_masks.append(encoded_dict['attention_mask'])\n",
        "\n",
        "\n",
        "\n",
        "  input_ids = torch.cat(input_ids, dim=0)\n",
        "  attention_masks = torch.cat(attention_masks, dim=0)\n",
        "  l = torch.tensor(l)\n",
        "  return input_ids,attention_masks,l\n"
      ],
      "execution_count": null,
      "outputs": []
    },
    {
      "cell_type": "code",
      "metadata": {
        "colab": {
          "base_uri": "https://localhost:8080/"
        },
        "id": "VKymfstgth8f",
        "outputId": "68e3359d-978c-4652-ecb4-10284e70c75c"
      },
      "source": [
        "input_ids_train,attention_masks_train,l_train = bert_encode(q6_text,q6_label)\n",
        "input_ids_test,attention_masks_test,l_test = bert_encode(q6_text_test,q6_label_test)"
      ],
      "execution_count": null,
      "outputs": [
        {
          "output_type": "stream",
          "text": [
            "Truncation was not explicitly activated but `max_length` is provided a specific value, please use `truncation=True` to explicitly truncate examples to max length. Defaulting to 'longest_first' truncation strategy. If you encode pairs of sequences (GLUE-style) with the tokenizer you can select this strategy more precisely by providing a specific strategy to `truncation`.\n",
            "/usr/local/lib/python3.7/dist-packages/transformers/tokenization_utils_base.py:2079: FutureWarning: The `pad_to_max_length` argument is deprecated and will be removed in a future version, use `padding=True` or `padding='longest'` to pad to the longest sequence in the batch, or use `padding='max_length'` to pad to a max length. In this case, you can give a specific length with `max_length` (e.g. `max_length=45`) or leave max_length to None to pad to the maximal input size of the model (e.g. 512 for Bert).\n",
            "  FutureWarning,\n"
          ],
          "name": "stderr"
        }
      ]
    },
    {
      "cell_type": "code",
      "metadata": {
        "colab": {
          "base_uri": "https://localhost:8080/"
        },
        "id": "0_4hXbPkiACj",
        "outputId": "af3821f2-4a0f-46d7-d1d7-4e13c029149a"
      },
      "source": [
        "print('Original: ', q6_text[0])\n",
        "print('Token IDs:', input_ids_train[0])"
      ],
      "execution_count": null,
      "outputs": [
        {
          "output_type": "stream",
          "text": [
            "Original:  To investigate the efficacy of 6 weeks of daily low-dose oral prednisolone in improving pain , mobility , and systemic low-grade inflammation in the short term and whether the effect would be sustained at 12 weeks in older adults with moderate to severe knee osteoarthritis ( OA ) .\n",
            "Token IDs: tensor([  101,  2000,  8556,  1996, 21150,  1997,  1020,  3134,  1997,  3679,\n",
            "         2659,  1011, 13004,  8700,  3653,  2094,  8977, 12898,  2638,  1999,\n",
            "         9229,  3255,  1010, 12969,  1010,  1998, 22575,  2659,  1011,  3694,\n",
            "        21733,  1999,  1996,  2460,  2744,  1998,  3251,  1996,  3466,  2052,\n",
            "         2022,  8760,  2012,  2260,  3134,  1999,  3080,  6001,  2007,  8777,\n",
            "         2000,  5729,  6181,  9808,  2618, 10441, 15265, 14778,  2483,  1006,\n",
            "         1051,  2050,  1007,   102])\n"
          ],
          "name": "stdout"
        }
      ]
    },
    {
      "cell_type": "code",
      "metadata": {
        "colab": {
          "base_uri": "https://localhost:8080/"
        },
        "id": "1AEJUabXiTlY",
        "outputId": "40ff586a-afab-4187-8442-094ef7bb534a"
      },
      "source": [
        "q6_data.shape"
      ],
      "execution_count": null,
      "outputs": [
        {
          "output_type": "execute_result",
          "data": {
            "text/plain": [
              "(180040, 2)"
            ]
          },
          "metadata": {
            "tags": []
          },
          "execution_count": 32
        }
      ]
    },
    {
      "cell_type": "code",
      "metadata": {
        "colab": {
          "base_uri": "https://localhost:8080/"
        },
        "id": "_1ktmwn7v7Tk",
        "outputId": "5fd61168-6992-4b2b-87ca-f7be876b5bb0"
      },
      "source": [
        "q6_test.shape"
      ],
      "execution_count": null,
      "outputs": [
        {
          "output_type": "execute_result",
          "data": {
            "text/plain": [
              "(30135, 2)"
            ]
          },
          "metadata": {
            "tags": []
          },
          "execution_count": 33
        }
      ]
    },
    {
      "cell_type": "code",
      "metadata": {
        "colab": {
          "base_uri": "https://localhost:8080/"
        },
        "id": "fzZ1v6jakH5y",
        "outputId": "12122ee7-f1d6-47c9-df47-e002d9f91a2c"
      },
      "source": [
        "from torch.utils.data import TensorDataset, random_split\n",
        "\n",
        "# Combine the training inputs into a TensorDataset.\n",
        "dataset_train = TensorDataset(input_ids_train, attention_masks_train, l_train)\n",
        "\n",
        "# Create a 90-10 train-validation split.\n",
        "\n",
        "# Calculate the number of samples to include in each set.\n",
        "train_size = int(0.9 * len(dataset_train))\n",
        "val_size = len(dataset_train) - train_size\n",
        "\n",
        "# Divide the dataset by randomly selecting samples.\n",
        "train_dataset, val_dataset = random_split(dataset_train, [train_size, val_size],generator=torch.Generator().manual_seed(seed_value))\n",
        "\n",
        "print('{:>5,} training samples'.format(train_size))\n",
        "print('{:>5,} validation samples'.format(val_size))\n",
        "dataset_test = TensorDataset(input_ids_test, attention_masks_test, l_test)"
      ],
      "execution_count": null,
      "outputs": [
        {
          "output_type": "stream",
          "text": [
            "162,036 training samples\n",
            "18,004 validation samples\n"
          ],
          "name": "stdout"
        }
      ]
    },
    {
      "cell_type": "code",
      "metadata": {
        "id": "0N3vgMMZd1PP"
      },
      "source": [
        "from torch.utils.data import DataLoader, RandomSampler, SequentialSampler\n",
        "\n",
        "\n",
        "batch_size = 32\n",
        "train_dataloader = DataLoader(\n",
        "            train_dataset,  # The training samples.\n",
        "            sampler = RandomSampler(train_dataset), # Select batches randomly\n",
        "            batch_size = 32 # Trains with this batch size.\n",
        "        )\n",
        "\n",
        "validation_dataloader = DataLoader(\n",
        "            val_dataset, # The validation samples.\n",
        "            sampler = SequentialSampler(val_dataset), # Pull out batches sequentially.\n",
        "            batch_size = 32 # Evaluate with this batch size.\n",
        "        )"
      ],
      "execution_count": null,
      "outputs": []
    },
    {
      "cell_type": "code",
      "metadata": {
        "colab": {
          "base_uri": "https://localhost:8080/"
        },
        "id": "hviww7TFv1uD",
        "outputId": "3e679eb2-2575-426a-a14f-d84b50fdb1a3"
      },
      "source": [
        "from transformers import BertForSequenceClassification, AdamW, BertConfig\n",
        "\n",
        "\n",
        "model = BertForSequenceClassification.from_pretrained(\"bert-base-uncased\",num_labels = 5,output_attentions = False,output_hidden_states = False)\n",
        "\n",
        "# Tell pytorch to run this model on the GPU.\n",
        "model.cuda()"
      ],
      "execution_count": null,
      "outputs": [
        {
          "output_type": "stream",
          "text": [
            "Some weights of the model checkpoint at bert-base-uncased were not used when initializing BertForSequenceClassification: ['cls.predictions.bias', 'cls.predictions.transform.dense.weight', 'cls.predictions.transform.dense.bias', 'cls.predictions.decoder.weight', 'cls.seq_relationship.weight', 'cls.seq_relationship.bias', 'cls.predictions.transform.LayerNorm.weight', 'cls.predictions.transform.LayerNorm.bias']\n",
            "- This IS expected if you are initializing BertForSequenceClassification from the checkpoint of a model trained on another task or with another architecture (e.g. initializing a BertForSequenceClassification model from a BertForPreTraining model).\n",
            "- This IS NOT expected if you are initializing BertForSequenceClassification from the checkpoint of a model that you expect to be exactly identical (initializing a BertForSequenceClassification model from a BertForSequenceClassification model).\n",
            "Some weights of BertForSequenceClassification were not initialized from the model checkpoint at bert-base-uncased and are newly initialized: ['classifier.weight', 'classifier.bias']\n",
            "You should probably TRAIN this model on a down-stream task to be able to use it for predictions and inference.\n"
          ],
          "name": "stderr"
        },
        {
          "output_type": "execute_result",
          "data": {
            "text/plain": [
              "BertForSequenceClassification(\n",
              "  (bert): BertModel(\n",
              "    (embeddings): BertEmbeddings(\n",
              "      (word_embeddings): Embedding(30522, 768, padding_idx=0)\n",
              "      (position_embeddings): Embedding(512, 768)\n",
              "      (token_type_embeddings): Embedding(2, 768)\n",
              "      (LayerNorm): LayerNorm((768,), eps=1e-12, elementwise_affine=True)\n",
              "      (dropout): Dropout(p=0.1, inplace=False)\n",
              "    )\n",
              "    (encoder): BertEncoder(\n",
              "      (layer): ModuleList(\n",
              "        (0): BertLayer(\n",
              "          (attention): BertAttention(\n",
              "            (self): BertSelfAttention(\n",
              "              (query): Linear(in_features=768, out_features=768, bias=True)\n",
              "              (key): Linear(in_features=768, out_features=768, bias=True)\n",
              "              (value): Linear(in_features=768, out_features=768, bias=True)\n",
              "              (dropout): Dropout(p=0.1, inplace=False)\n",
              "            )\n",
              "            (output): BertSelfOutput(\n",
              "              (dense): Linear(in_features=768, out_features=768, bias=True)\n",
              "              (LayerNorm): LayerNorm((768,), eps=1e-12, elementwise_affine=True)\n",
              "              (dropout): Dropout(p=0.1, inplace=False)\n",
              "            )\n",
              "          )\n",
              "          (intermediate): BertIntermediate(\n",
              "            (dense): Linear(in_features=768, out_features=3072, bias=True)\n",
              "          )\n",
              "          (output): BertOutput(\n",
              "            (dense): Linear(in_features=3072, out_features=768, bias=True)\n",
              "            (LayerNorm): LayerNorm((768,), eps=1e-12, elementwise_affine=True)\n",
              "            (dropout): Dropout(p=0.1, inplace=False)\n",
              "          )\n",
              "        )\n",
              "        (1): BertLayer(\n",
              "          (attention): BertAttention(\n",
              "            (self): BertSelfAttention(\n",
              "              (query): Linear(in_features=768, out_features=768, bias=True)\n",
              "              (key): Linear(in_features=768, out_features=768, bias=True)\n",
              "              (value): Linear(in_features=768, out_features=768, bias=True)\n",
              "              (dropout): Dropout(p=0.1, inplace=False)\n",
              "            )\n",
              "            (output): BertSelfOutput(\n",
              "              (dense): Linear(in_features=768, out_features=768, bias=True)\n",
              "              (LayerNorm): LayerNorm((768,), eps=1e-12, elementwise_affine=True)\n",
              "              (dropout): Dropout(p=0.1, inplace=False)\n",
              "            )\n",
              "          )\n",
              "          (intermediate): BertIntermediate(\n",
              "            (dense): Linear(in_features=768, out_features=3072, bias=True)\n",
              "          )\n",
              "          (output): BertOutput(\n",
              "            (dense): Linear(in_features=3072, out_features=768, bias=True)\n",
              "            (LayerNorm): LayerNorm((768,), eps=1e-12, elementwise_affine=True)\n",
              "            (dropout): Dropout(p=0.1, inplace=False)\n",
              "          )\n",
              "        )\n",
              "        (2): BertLayer(\n",
              "          (attention): BertAttention(\n",
              "            (self): BertSelfAttention(\n",
              "              (query): Linear(in_features=768, out_features=768, bias=True)\n",
              "              (key): Linear(in_features=768, out_features=768, bias=True)\n",
              "              (value): Linear(in_features=768, out_features=768, bias=True)\n",
              "              (dropout): Dropout(p=0.1, inplace=False)\n",
              "            )\n",
              "            (output): BertSelfOutput(\n",
              "              (dense): Linear(in_features=768, out_features=768, bias=True)\n",
              "              (LayerNorm): LayerNorm((768,), eps=1e-12, elementwise_affine=True)\n",
              "              (dropout): Dropout(p=0.1, inplace=False)\n",
              "            )\n",
              "          )\n",
              "          (intermediate): BertIntermediate(\n",
              "            (dense): Linear(in_features=768, out_features=3072, bias=True)\n",
              "          )\n",
              "          (output): BertOutput(\n",
              "            (dense): Linear(in_features=3072, out_features=768, bias=True)\n",
              "            (LayerNorm): LayerNorm((768,), eps=1e-12, elementwise_affine=True)\n",
              "            (dropout): Dropout(p=0.1, inplace=False)\n",
              "          )\n",
              "        )\n",
              "        (3): BertLayer(\n",
              "          (attention): BertAttention(\n",
              "            (self): BertSelfAttention(\n",
              "              (query): Linear(in_features=768, out_features=768, bias=True)\n",
              "              (key): Linear(in_features=768, out_features=768, bias=True)\n",
              "              (value): Linear(in_features=768, out_features=768, bias=True)\n",
              "              (dropout): Dropout(p=0.1, inplace=False)\n",
              "            )\n",
              "            (output): BertSelfOutput(\n",
              "              (dense): Linear(in_features=768, out_features=768, bias=True)\n",
              "              (LayerNorm): LayerNorm((768,), eps=1e-12, elementwise_affine=True)\n",
              "              (dropout): Dropout(p=0.1, inplace=False)\n",
              "            )\n",
              "          )\n",
              "          (intermediate): BertIntermediate(\n",
              "            (dense): Linear(in_features=768, out_features=3072, bias=True)\n",
              "          )\n",
              "          (output): BertOutput(\n",
              "            (dense): Linear(in_features=3072, out_features=768, bias=True)\n",
              "            (LayerNorm): LayerNorm((768,), eps=1e-12, elementwise_affine=True)\n",
              "            (dropout): Dropout(p=0.1, inplace=False)\n",
              "          )\n",
              "        )\n",
              "        (4): BertLayer(\n",
              "          (attention): BertAttention(\n",
              "            (self): BertSelfAttention(\n",
              "              (query): Linear(in_features=768, out_features=768, bias=True)\n",
              "              (key): Linear(in_features=768, out_features=768, bias=True)\n",
              "              (value): Linear(in_features=768, out_features=768, bias=True)\n",
              "              (dropout): Dropout(p=0.1, inplace=False)\n",
              "            )\n",
              "            (output): BertSelfOutput(\n",
              "              (dense): Linear(in_features=768, out_features=768, bias=True)\n",
              "              (LayerNorm): LayerNorm((768,), eps=1e-12, elementwise_affine=True)\n",
              "              (dropout): Dropout(p=0.1, inplace=False)\n",
              "            )\n",
              "          )\n",
              "          (intermediate): BertIntermediate(\n",
              "            (dense): Linear(in_features=768, out_features=3072, bias=True)\n",
              "          )\n",
              "          (output): BertOutput(\n",
              "            (dense): Linear(in_features=3072, out_features=768, bias=True)\n",
              "            (LayerNorm): LayerNorm((768,), eps=1e-12, elementwise_affine=True)\n",
              "            (dropout): Dropout(p=0.1, inplace=False)\n",
              "          )\n",
              "        )\n",
              "        (5): BertLayer(\n",
              "          (attention): BertAttention(\n",
              "            (self): BertSelfAttention(\n",
              "              (query): Linear(in_features=768, out_features=768, bias=True)\n",
              "              (key): Linear(in_features=768, out_features=768, bias=True)\n",
              "              (value): Linear(in_features=768, out_features=768, bias=True)\n",
              "              (dropout): Dropout(p=0.1, inplace=False)\n",
              "            )\n",
              "            (output): BertSelfOutput(\n",
              "              (dense): Linear(in_features=768, out_features=768, bias=True)\n",
              "              (LayerNorm): LayerNorm((768,), eps=1e-12, elementwise_affine=True)\n",
              "              (dropout): Dropout(p=0.1, inplace=False)\n",
              "            )\n",
              "          )\n",
              "          (intermediate): BertIntermediate(\n",
              "            (dense): Linear(in_features=768, out_features=3072, bias=True)\n",
              "          )\n",
              "          (output): BertOutput(\n",
              "            (dense): Linear(in_features=3072, out_features=768, bias=True)\n",
              "            (LayerNorm): LayerNorm((768,), eps=1e-12, elementwise_affine=True)\n",
              "            (dropout): Dropout(p=0.1, inplace=False)\n",
              "          )\n",
              "        )\n",
              "        (6): BertLayer(\n",
              "          (attention): BertAttention(\n",
              "            (self): BertSelfAttention(\n",
              "              (query): Linear(in_features=768, out_features=768, bias=True)\n",
              "              (key): Linear(in_features=768, out_features=768, bias=True)\n",
              "              (value): Linear(in_features=768, out_features=768, bias=True)\n",
              "              (dropout): Dropout(p=0.1, inplace=False)\n",
              "            )\n",
              "            (output): BertSelfOutput(\n",
              "              (dense): Linear(in_features=768, out_features=768, bias=True)\n",
              "              (LayerNorm): LayerNorm((768,), eps=1e-12, elementwise_affine=True)\n",
              "              (dropout): Dropout(p=0.1, inplace=False)\n",
              "            )\n",
              "          )\n",
              "          (intermediate): BertIntermediate(\n",
              "            (dense): Linear(in_features=768, out_features=3072, bias=True)\n",
              "          )\n",
              "          (output): BertOutput(\n",
              "            (dense): Linear(in_features=3072, out_features=768, bias=True)\n",
              "            (LayerNorm): LayerNorm((768,), eps=1e-12, elementwise_affine=True)\n",
              "            (dropout): Dropout(p=0.1, inplace=False)\n",
              "          )\n",
              "        )\n",
              "        (7): BertLayer(\n",
              "          (attention): BertAttention(\n",
              "            (self): BertSelfAttention(\n",
              "              (query): Linear(in_features=768, out_features=768, bias=True)\n",
              "              (key): Linear(in_features=768, out_features=768, bias=True)\n",
              "              (value): Linear(in_features=768, out_features=768, bias=True)\n",
              "              (dropout): Dropout(p=0.1, inplace=False)\n",
              "            )\n",
              "            (output): BertSelfOutput(\n",
              "              (dense): Linear(in_features=768, out_features=768, bias=True)\n",
              "              (LayerNorm): LayerNorm((768,), eps=1e-12, elementwise_affine=True)\n",
              "              (dropout): Dropout(p=0.1, inplace=False)\n",
              "            )\n",
              "          )\n",
              "          (intermediate): BertIntermediate(\n",
              "            (dense): Linear(in_features=768, out_features=3072, bias=True)\n",
              "          )\n",
              "          (output): BertOutput(\n",
              "            (dense): Linear(in_features=3072, out_features=768, bias=True)\n",
              "            (LayerNorm): LayerNorm((768,), eps=1e-12, elementwise_affine=True)\n",
              "            (dropout): Dropout(p=0.1, inplace=False)\n",
              "          )\n",
              "        )\n",
              "        (8): BertLayer(\n",
              "          (attention): BertAttention(\n",
              "            (self): BertSelfAttention(\n",
              "              (query): Linear(in_features=768, out_features=768, bias=True)\n",
              "              (key): Linear(in_features=768, out_features=768, bias=True)\n",
              "              (value): Linear(in_features=768, out_features=768, bias=True)\n",
              "              (dropout): Dropout(p=0.1, inplace=False)\n",
              "            )\n",
              "            (output): BertSelfOutput(\n",
              "              (dense): Linear(in_features=768, out_features=768, bias=True)\n",
              "              (LayerNorm): LayerNorm((768,), eps=1e-12, elementwise_affine=True)\n",
              "              (dropout): Dropout(p=0.1, inplace=False)\n",
              "            )\n",
              "          )\n",
              "          (intermediate): BertIntermediate(\n",
              "            (dense): Linear(in_features=768, out_features=3072, bias=True)\n",
              "          )\n",
              "          (output): BertOutput(\n",
              "            (dense): Linear(in_features=3072, out_features=768, bias=True)\n",
              "            (LayerNorm): LayerNorm((768,), eps=1e-12, elementwise_affine=True)\n",
              "            (dropout): Dropout(p=0.1, inplace=False)\n",
              "          )\n",
              "        )\n",
              "        (9): BertLayer(\n",
              "          (attention): BertAttention(\n",
              "            (self): BertSelfAttention(\n",
              "              (query): Linear(in_features=768, out_features=768, bias=True)\n",
              "              (key): Linear(in_features=768, out_features=768, bias=True)\n",
              "              (value): Linear(in_features=768, out_features=768, bias=True)\n",
              "              (dropout): Dropout(p=0.1, inplace=False)\n",
              "            )\n",
              "            (output): BertSelfOutput(\n",
              "              (dense): Linear(in_features=768, out_features=768, bias=True)\n",
              "              (LayerNorm): LayerNorm((768,), eps=1e-12, elementwise_affine=True)\n",
              "              (dropout): Dropout(p=0.1, inplace=False)\n",
              "            )\n",
              "          )\n",
              "          (intermediate): BertIntermediate(\n",
              "            (dense): Linear(in_features=768, out_features=3072, bias=True)\n",
              "          )\n",
              "          (output): BertOutput(\n",
              "            (dense): Linear(in_features=3072, out_features=768, bias=True)\n",
              "            (LayerNorm): LayerNorm((768,), eps=1e-12, elementwise_affine=True)\n",
              "            (dropout): Dropout(p=0.1, inplace=False)\n",
              "          )\n",
              "        )\n",
              "        (10): BertLayer(\n",
              "          (attention): BertAttention(\n",
              "            (self): BertSelfAttention(\n",
              "              (query): Linear(in_features=768, out_features=768, bias=True)\n",
              "              (key): Linear(in_features=768, out_features=768, bias=True)\n",
              "              (value): Linear(in_features=768, out_features=768, bias=True)\n",
              "              (dropout): Dropout(p=0.1, inplace=False)\n",
              "            )\n",
              "            (output): BertSelfOutput(\n",
              "              (dense): Linear(in_features=768, out_features=768, bias=True)\n",
              "              (LayerNorm): LayerNorm((768,), eps=1e-12, elementwise_affine=True)\n",
              "              (dropout): Dropout(p=0.1, inplace=False)\n",
              "            )\n",
              "          )\n",
              "          (intermediate): BertIntermediate(\n",
              "            (dense): Linear(in_features=768, out_features=3072, bias=True)\n",
              "          )\n",
              "          (output): BertOutput(\n",
              "            (dense): Linear(in_features=3072, out_features=768, bias=True)\n",
              "            (LayerNorm): LayerNorm((768,), eps=1e-12, elementwise_affine=True)\n",
              "            (dropout): Dropout(p=0.1, inplace=False)\n",
              "          )\n",
              "        )\n",
              "        (11): BertLayer(\n",
              "          (attention): BertAttention(\n",
              "            (self): BertSelfAttention(\n",
              "              (query): Linear(in_features=768, out_features=768, bias=True)\n",
              "              (key): Linear(in_features=768, out_features=768, bias=True)\n",
              "              (value): Linear(in_features=768, out_features=768, bias=True)\n",
              "              (dropout): Dropout(p=0.1, inplace=False)\n",
              "            )\n",
              "            (output): BertSelfOutput(\n",
              "              (dense): Linear(in_features=768, out_features=768, bias=True)\n",
              "              (LayerNorm): LayerNorm((768,), eps=1e-12, elementwise_affine=True)\n",
              "              (dropout): Dropout(p=0.1, inplace=False)\n",
              "            )\n",
              "          )\n",
              "          (intermediate): BertIntermediate(\n",
              "            (dense): Linear(in_features=768, out_features=3072, bias=True)\n",
              "          )\n",
              "          (output): BertOutput(\n",
              "            (dense): Linear(in_features=3072, out_features=768, bias=True)\n",
              "            (LayerNorm): LayerNorm((768,), eps=1e-12, elementwise_affine=True)\n",
              "            (dropout): Dropout(p=0.1, inplace=False)\n",
              "          )\n",
              "        )\n",
              "      )\n",
              "    )\n",
              "    (pooler): BertPooler(\n",
              "      (dense): Linear(in_features=768, out_features=768, bias=True)\n",
              "      (activation): Tanh()\n",
              "    )\n",
              "  )\n",
              "  (dropout): Dropout(p=0.1, inplace=False)\n",
              "  (classifier): Linear(in_features=768, out_features=5, bias=True)\n",
              ")"
            ]
          },
          "metadata": {
            "tags": []
          },
          "execution_count": 36
        }
      ]
    },
    {
      "cell_type": "code",
      "metadata": {
        "id": "2kSayCcswvxQ"
      },
      "source": [
        "optimizer = AdamW(model.parameters(),lr = 2e-5, eps = 1e-8)"
      ],
      "execution_count": null,
      "outputs": []
    },
    {
      "cell_type": "code",
      "metadata": {
        "id": "onNRkdVyxOsK"
      },
      "source": [
        "from transformers import get_linear_schedule_with_warmup\n",
        "epochs = 2\n",
        "total_steps = len(train_dataloader) * epochs\n",
        "scheduler = get_linear_schedule_with_warmup(optimizer, num_warmup_steps = 0,num_training_steps = total_steps)"
      ],
      "execution_count": null,
      "outputs": []
    },
    {
      "cell_type": "code",
      "metadata": {
        "id": "67wtTQdKxnfL"
      },
      "source": [
        "# Function to calculate the accuracy of our predictions vs labels\n",
        "def flat_accuracy(preds, labels):\n",
        "    pred_flat = np.argmax(preds, axis=1).flatten()\n",
        "    labels_flat = labels.flatten()\n",
        "    return np.sum(pred_flat == labels_flat) / len(labels_flat)"
      ],
      "execution_count": null,
      "outputs": []
    },
    {
      "cell_type": "code",
      "metadata": {
        "id": "gICY9Do0xyFN"
      },
      "source": [
        "import time\n",
        "import datetime\n",
        "\n",
        "def format_time(elapsed):\n",
        "    # Round to the nearest second.\n",
        "    elapsed_rounded = int(round((elapsed)))\n",
        "    \n",
        "    # Format as hh:mm:ss\n",
        "    return str(datetime.timedelta(seconds=elapsed_rounded))"
      ],
      "execution_count": null,
      "outputs": []
    },
    {
      "cell_type": "code",
      "metadata": {
        "id": "Rgyo5N72z0x1"
      },
      "source": [
        "# import torch\n",
        "# torch.cuda.empty_cache()"
      ],
      "execution_count": null,
      "outputs": []
    },
    {
      "cell_type": "code",
      "metadata": {
        "colab": {
          "base_uri": "https://localhost:8080/"
        },
        "id": "R-5ExD0Lx4Nl",
        "outputId": "492fb66b-ebcf-4d05-9f6f-b2116a61f257"
      },
      "source": [
        "import random\n",
        "\n",
        "# This training code is based on the `run_glue.py` script here:\n",
        "# https://github.com/huggingface/transformers/blob/5bfcd0485ece086ebcbed2d008813037968a9e58/examples/run_glue.py#L128\n",
        "\n",
        "\n",
        "random.seed(seed_value)\n",
        "np.random.seed(seed_value)\n",
        "torch.manual_seed(seed_value)\n",
        "torch.cuda.manual_seed_all(seed_value)\n",
        "\n",
        "\n",
        "training_stats = []\n",
        "\n",
        "# Measure the total training time for the whole run.\n",
        "total_t0 = time.time()\n",
        "\n",
        "# For each epoch...\n",
        "for epoch_i in range(0, epochs):\n",
        "    \n",
        " \n",
        "    print(\"\")\n",
        "    print('======== Epoch {:} / {:} ========'.format(epoch_i + 1, epochs))\n",
        "    print('Training...')\n",
        "\n",
        "    # Measure how long the training epoch takes.\n",
        "    t0 = time.time()\n",
        "\n",
        "    # Reset the total loss for this epoch.\n",
        "    total_train_loss = 0\n",
        "\n",
        " \n",
        "    model.train()\n",
        "\n",
        "    # For each batch of training data...\n",
        "    for step, batch in enumerate(train_dataloader):\n",
        "\n",
        "        # Progress update every 40 batches.\n",
        "        if step % 40 == 0 and not step == 0:\n",
        "            # Calculate elapsed time in minutes.\n",
        "            elapsed = format_time(time.time() - t0)\n",
        "            \n",
        "            # Report progress.\n",
        "            print('  Batch {:>5,}  of  {:>5,}.    Elapsed: {:}.'.format(step, len(train_dataloader), elapsed))\n",
        "\n",
        "   \n",
        "        b_input_ids = batch[0].to(device)\n",
        "        b_input_mask = batch[1].to(device)\n",
        "        b_labels = batch[2].to(device)\n",
        "\n",
        "     \n",
        "        model.zero_grad()        \n",
        "\n",
        "     \n",
        "        result = model(b_input_ids, \n",
        "                       token_type_ids=None, \n",
        "                       attention_mask=b_input_mask, \n",
        "                       labels=b_labels,\n",
        "                       return_dict=True)\n",
        "\n",
        "        loss = result.loss\n",
        "        logits = result.logits\n",
        "\n",
        "       \n",
        "        total_train_loss += loss.item()\n",
        "\n",
        "        # Perform a backward pass to calculate the gradients.\n",
        "        loss.backward()\n",
        "\n",
        "        torch.nn.utils.clip_grad_norm_(model.parameters(), 1.0)\n",
        "\n",
        "   \n",
        "        optimizer.step()\n",
        "\n",
        "        # Update the learning rate.\n",
        "        scheduler.step()\n",
        "\n",
        "    # Calculate the average loss over all of the batches.\n",
        "    avg_train_loss = total_train_loss / len(train_dataloader)            \n",
        "    \n",
        "    # Measure how long this epoch took.\n",
        "    training_time = format_time(time.time() - t0)\n",
        "\n",
        "    print(\"\")\n",
        "    print(\"  Average training loss: {0:.2f}\".format(avg_train_loss))\n",
        "    print(\"  Training epcoh took: {:}\".format(training_time))\n",
        "        \n",
        "\n",
        "    print(\"\")\n",
        "    print(\"Running Validation...\")\n",
        "\n",
        "    t0 = time.time()\n",
        "\n",
        "  \n",
        "    model.eval()\n",
        "\n",
        "    # Tracking variables \n",
        "    total_eval_accuracy = 0\n",
        "    total_eval_loss = 0\n",
        "    nb_eval_steps = 0\n",
        "\n",
        "    # Evaluate data for one epoch\n",
        "    for batch in validation_dataloader:\n",
        "        \n",
        "        b_input_ids = batch[0].to(device)\n",
        "        b_input_mask = batch[1].to(device)\n",
        "        b_labels = batch[2].to(device)\n",
        "    \n",
        "        with torch.no_grad():        \n",
        "\n",
        "        \n",
        "            result = model(b_input_ids, \n",
        "                           token_type_ids=None, \n",
        "                           attention_mask=b_input_mask,\n",
        "                           labels=b_labels,\n",
        "                           return_dict=True)\n",
        "\n",
        "      \n",
        "        loss = result.loss\n",
        "        logits = result.logits\n",
        "            \n",
        "        # Accumulate the validation loss.\n",
        "        total_eval_loss += loss.item()\n",
        "\n",
        "        # Move logits and labels to CPU\n",
        "        logits = logits.detach().cpu().numpy()\n",
        "        label_ids = b_labels.to('cpu').numpy()\n",
        "\n",
        "      \n",
        "        total_eval_accuracy += flat_accuracy(logits, label_ids)\n",
        "        \n",
        "\n",
        "    # Report the final accuracy for this validation run.\n",
        "    avg_val_accuracy = total_eval_accuracy / len(validation_dataloader)\n",
        "    print(\"  Accuracy: {0:.2f}\".format(avg_val_accuracy))\n",
        "\n",
        "    # Calculate the average loss over all of the batches.\n",
        "    avg_val_loss = total_eval_loss / len(validation_dataloader)\n",
        "    \n",
        "    # Measure how long the validation run took.\n",
        "    validation_time = format_time(time.time() - t0)\n",
        "    \n",
        "    print(\"  Validation Loss: {0:.2f}\".format(avg_val_loss))\n",
        "    print(\"  Validation took: {:}\".format(validation_time))\n",
        "\n",
        "    # Record all statistics from this epoch.\n",
        "    training_stats.append(\n",
        "        {\n",
        "            'epoch': epoch_i + 1,\n",
        "            'Training Loss': avg_train_loss,\n",
        "            'Valid. Loss': avg_val_loss,\n",
        "            'Valid. Accur.': avg_val_accuracy,\n",
        "            'Training Time': training_time,\n",
        "            'Validation Time': validation_time\n",
        "        }\n",
        "    )\n",
        "\n",
        "print(\"\")\n",
        "print(\"Training complete!\")\n",
        "\n",
        "print(\"Total training took {:} (h:mm:ss)\".format(format_time(time.time()-total_t0)))\n"
      ],
      "execution_count": null,
      "outputs": [
        {
          "output_type": "stream",
          "text": [
            "\n",
            "======== Epoch 1 / 2 ========\n",
            "Training...\n",
            "  Batch    40  of  5,064.    Elapsed: 0:00:15.\n",
            "  Batch    80  of  5,064.    Elapsed: 0:00:31.\n",
            "  Batch   120  of  5,064.    Elapsed: 0:00:47.\n",
            "  Batch   160  of  5,064.    Elapsed: 0:01:02.\n",
            "  Batch   200  of  5,064.    Elapsed: 0:01:18.\n",
            "  Batch   240  of  5,064.    Elapsed: 0:01:33.\n",
            "  Batch   280  of  5,064.    Elapsed: 0:01:49.\n",
            "  Batch   320  of  5,064.    Elapsed: 0:02:05.\n",
            "  Batch   360  of  5,064.    Elapsed: 0:02:20.\n",
            "  Batch   400  of  5,064.    Elapsed: 0:02:36.\n",
            "  Batch   440  of  5,064.    Elapsed: 0:02:51.\n",
            "  Batch   480  of  5,064.    Elapsed: 0:03:07.\n",
            "  Batch   520  of  5,064.    Elapsed: 0:03:23.\n",
            "  Batch   560  of  5,064.    Elapsed: 0:03:38.\n",
            "  Batch   600  of  5,064.    Elapsed: 0:03:54.\n",
            "  Batch   640  of  5,064.    Elapsed: 0:04:10.\n",
            "  Batch   680  of  5,064.    Elapsed: 0:04:25.\n",
            "  Batch   720  of  5,064.    Elapsed: 0:04:41.\n",
            "  Batch   760  of  5,064.    Elapsed: 0:04:56.\n",
            "  Batch   800  of  5,064.    Elapsed: 0:05:12.\n",
            "  Batch   840  of  5,064.    Elapsed: 0:05:28.\n",
            "  Batch   880  of  5,064.    Elapsed: 0:05:43.\n",
            "  Batch   920  of  5,064.    Elapsed: 0:05:59.\n",
            "  Batch   960  of  5,064.    Elapsed: 0:06:14.\n",
            "  Batch 1,000  of  5,064.    Elapsed: 0:06:30.\n",
            "  Batch 1,040  of  5,064.    Elapsed: 0:06:45.\n",
            "  Batch 1,080  of  5,064.    Elapsed: 0:07:01.\n",
            "  Batch 1,120  of  5,064.    Elapsed: 0:07:17.\n",
            "  Batch 1,160  of  5,064.    Elapsed: 0:07:32.\n",
            "  Batch 1,200  of  5,064.    Elapsed: 0:07:48.\n",
            "  Batch 1,240  of  5,064.    Elapsed: 0:08:03.\n",
            "  Batch 1,280  of  5,064.    Elapsed: 0:08:19.\n",
            "  Batch 1,320  of  5,064.    Elapsed: 0:08:35.\n",
            "  Batch 1,360  of  5,064.    Elapsed: 0:08:50.\n",
            "  Batch 1,400  of  5,064.    Elapsed: 0:09:06.\n",
            "  Batch 1,440  of  5,064.    Elapsed: 0:09:22.\n",
            "  Batch 1,480  of  5,064.    Elapsed: 0:09:37.\n",
            "  Batch 1,520  of  5,064.    Elapsed: 0:09:53.\n",
            "  Batch 1,560  of  5,064.    Elapsed: 0:10:08.\n",
            "  Batch 1,600  of  5,064.    Elapsed: 0:10:24.\n",
            "  Batch 1,640  of  5,064.    Elapsed: 0:10:40.\n",
            "  Batch 1,680  of  5,064.    Elapsed: 0:10:55.\n",
            "  Batch 1,720  of  5,064.    Elapsed: 0:11:11.\n",
            "  Batch 1,760  of  5,064.    Elapsed: 0:11:26.\n",
            "  Batch 1,800  of  5,064.    Elapsed: 0:11:42.\n",
            "  Batch 1,840  of  5,064.    Elapsed: 0:11:58.\n",
            "  Batch 1,880  of  5,064.    Elapsed: 0:12:13.\n",
            "  Batch 1,920  of  5,064.    Elapsed: 0:12:29.\n",
            "  Batch 1,960  of  5,064.    Elapsed: 0:12:44.\n",
            "  Batch 2,000  of  5,064.    Elapsed: 0:13:00.\n",
            "  Batch 2,040  of  5,064.    Elapsed: 0:13:15.\n",
            "  Batch 2,080  of  5,064.    Elapsed: 0:13:31.\n",
            "  Batch 2,120  of  5,064.    Elapsed: 0:13:47.\n",
            "  Batch 2,160  of  5,064.    Elapsed: 0:14:02.\n",
            "  Batch 2,200  of  5,064.    Elapsed: 0:14:18.\n",
            "  Batch 2,240  of  5,064.    Elapsed: 0:14:33.\n",
            "  Batch 2,280  of  5,064.    Elapsed: 0:14:49.\n",
            "  Batch 2,320  of  5,064.    Elapsed: 0:15:05.\n",
            "  Batch 2,360  of  5,064.    Elapsed: 0:15:20.\n",
            "  Batch 2,400  of  5,064.    Elapsed: 0:15:36.\n",
            "  Batch 2,440  of  5,064.    Elapsed: 0:15:51.\n",
            "  Batch 2,480  of  5,064.    Elapsed: 0:16:07.\n",
            "  Batch 2,520  of  5,064.    Elapsed: 0:16:23.\n",
            "  Batch 2,560  of  5,064.    Elapsed: 0:16:38.\n",
            "  Batch 2,600  of  5,064.    Elapsed: 0:16:54.\n",
            "  Batch 2,640  of  5,064.    Elapsed: 0:17:09.\n",
            "  Batch 2,680  of  5,064.    Elapsed: 0:17:25.\n",
            "  Batch 2,720  of  5,064.    Elapsed: 0:17:41.\n",
            "  Batch 2,760  of  5,064.    Elapsed: 0:17:56.\n",
            "  Batch 2,800  of  5,064.    Elapsed: 0:18:12.\n",
            "  Batch 2,840  of  5,064.    Elapsed: 0:18:27.\n",
            "  Batch 2,880  of  5,064.    Elapsed: 0:18:43.\n",
            "  Batch 2,920  of  5,064.    Elapsed: 0:18:59.\n",
            "  Batch 2,960  of  5,064.    Elapsed: 0:19:14.\n",
            "  Batch 3,000  of  5,064.    Elapsed: 0:19:30.\n",
            "  Batch 3,040  of  5,064.    Elapsed: 0:19:45.\n",
            "  Batch 3,080  of  5,064.    Elapsed: 0:20:01.\n",
            "  Batch 3,120  of  5,064.    Elapsed: 0:20:16.\n",
            "  Batch 3,160  of  5,064.    Elapsed: 0:20:32.\n",
            "  Batch 3,200  of  5,064.    Elapsed: 0:20:48.\n",
            "  Batch 3,240  of  5,064.    Elapsed: 0:21:03.\n",
            "  Batch 3,280  of  5,064.    Elapsed: 0:21:19.\n",
            "  Batch 3,320  of  5,064.    Elapsed: 0:21:35.\n",
            "  Batch 3,360  of  5,064.    Elapsed: 0:21:50.\n",
            "  Batch 3,400  of  5,064.    Elapsed: 0:22:06.\n",
            "  Batch 3,440  of  5,064.    Elapsed: 0:22:21.\n",
            "  Batch 3,480  of  5,064.    Elapsed: 0:22:37.\n",
            "  Batch 3,520  of  5,064.    Elapsed: 0:22:53.\n",
            "  Batch 3,560  of  5,064.    Elapsed: 0:23:08.\n",
            "  Batch 3,600  of  5,064.    Elapsed: 0:23:24.\n",
            "  Batch 3,640  of  5,064.    Elapsed: 0:23:39.\n",
            "  Batch 3,680  of  5,064.    Elapsed: 0:23:55.\n",
            "  Batch 3,720  of  5,064.    Elapsed: 0:24:10.\n",
            "  Batch 3,760  of  5,064.    Elapsed: 0:24:26.\n",
            "  Batch 3,800  of  5,064.    Elapsed: 0:24:42.\n",
            "  Batch 3,840  of  5,064.    Elapsed: 0:24:57.\n",
            "  Batch 3,880  of  5,064.    Elapsed: 0:25:13.\n",
            "  Batch 3,920  of  5,064.    Elapsed: 0:25:28.\n",
            "  Batch 3,960  of  5,064.    Elapsed: 0:25:44.\n",
            "  Batch 4,000  of  5,064.    Elapsed: 0:26:00.\n",
            "  Batch 4,040  of  5,064.    Elapsed: 0:26:15.\n",
            "  Batch 4,080  of  5,064.    Elapsed: 0:26:31.\n",
            "  Batch 4,120  of  5,064.    Elapsed: 0:26:46.\n",
            "  Batch 4,160  of  5,064.    Elapsed: 0:27:02.\n",
            "  Batch 4,200  of  5,064.    Elapsed: 0:27:17.\n",
            "  Batch 4,240  of  5,064.    Elapsed: 0:27:33.\n",
            "  Batch 4,280  of  5,064.    Elapsed: 0:27:49.\n",
            "  Batch 4,320  of  5,064.    Elapsed: 0:28:04.\n",
            "  Batch 4,360  of  5,064.    Elapsed: 0:28:20.\n",
            "  Batch 4,400  of  5,064.    Elapsed: 0:28:35.\n",
            "  Batch 4,440  of  5,064.    Elapsed: 0:28:51.\n",
            "  Batch 4,480  of  5,064.    Elapsed: 0:29:06.\n",
            "  Batch 4,520  of  5,064.    Elapsed: 0:29:22.\n",
            "  Batch 4,560  of  5,064.    Elapsed: 0:29:38.\n",
            "  Batch 4,600  of  5,064.    Elapsed: 0:29:53.\n",
            "  Batch 4,640  of  5,064.    Elapsed: 0:30:09.\n",
            "  Batch 4,680  of  5,064.    Elapsed: 0:30:25.\n",
            "  Batch 4,720  of  5,064.    Elapsed: 0:30:40.\n",
            "  Batch 4,760  of  5,064.    Elapsed: 0:30:56.\n",
            "  Batch 4,800  of  5,064.    Elapsed: 0:31:11.\n",
            "  Batch 4,840  of  5,064.    Elapsed: 0:31:27.\n",
            "  Batch 4,880  of  5,064.    Elapsed: 0:31:42.\n",
            "  Batch 4,920  of  5,064.    Elapsed: 0:31:58.\n",
            "  Batch 4,960  of  5,064.    Elapsed: 0:32:14.\n",
            "  Batch 5,000  of  5,064.    Elapsed: 0:32:29.\n",
            "  Batch 5,040  of  5,064.    Elapsed: 0:32:45.\n",
            "\n",
            "  Average training loss: 0.41\n",
            "  Training epcoh took: 0:32:54\n",
            "\n",
            "Running Validation...\n",
            "  Accuracy: 0.87\n",
            "  Validation Loss: 0.36\n",
            "  Validation took: 0:01:15\n",
            "\n",
            "======== Epoch 2 / 2 ========\n",
            "Training...\n",
            "  Batch    40  of  5,064.    Elapsed: 0:00:16.\n",
            "  Batch    80  of  5,064.    Elapsed: 0:00:31.\n",
            "  Batch   120  of  5,064.    Elapsed: 0:00:47.\n",
            "  Batch   160  of  5,064.    Elapsed: 0:01:02.\n",
            "  Batch   200  of  5,064.    Elapsed: 0:01:18.\n",
            "  Batch   240  of  5,064.    Elapsed: 0:01:33.\n",
            "  Batch   280  of  5,064.    Elapsed: 0:01:49.\n",
            "  Batch   320  of  5,064.    Elapsed: 0:02:05.\n",
            "  Batch   360  of  5,064.    Elapsed: 0:02:20.\n",
            "  Batch   400  of  5,064.    Elapsed: 0:02:36.\n",
            "  Batch   440  of  5,064.    Elapsed: 0:02:52.\n",
            "  Batch   480  of  5,064.    Elapsed: 0:03:07.\n",
            "  Batch   520  of  5,064.    Elapsed: 0:03:23.\n",
            "  Batch   560  of  5,064.    Elapsed: 0:03:38.\n",
            "  Batch   600  of  5,064.    Elapsed: 0:03:54.\n",
            "  Batch   640  of  5,064.    Elapsed: 0:04:09.\n",
            "  Batch   680  of  5,064.    Elapsed: 0:04:25.\n",
            "  Batch   720  of  5,064.    Elapsed: 0:04:41.\n",
            "  Batch   760  of  5,064.    Elapsed: 0:04:56.\n",
            "  Batch   800  of  5,064.    Elapsed: 0:05:12.\n",
            "  Batch   840  of  5,064.    Elapsed: 0:05:27.\n",
            "  Batch   880  of  5,064.    Elapsed: 0:05:43.\n",
            "  Batch   920  of  5,064.    Elapsed: 0:05:59.\n",
            "  Batch   960  of  5,064.    Elapsed: 0:06:14.\n",
            "  Batch 1,000  of  5,064.    Elapsed: 0:06:30.\n",
            "  Batch 1,040  of  5,064.    Elapsed: 0:06:46.\n",
            "  Batch 1,080  of  5,064.    Elapsed: 0:07:01.\n",
            "  Batch 1,120  of  5,064.    Elapsed: 0:07:17.\n",
            "  Batch 1,160  of  5,064.    Elapsed: 0:07:32.\n",
            "  Batch 1,200  of  5,064.    Elapsed: 0:07:48.\n",
            "  Batch 1,240  of  5,064.    Elapsed: 0:08:03.\n",
            "  Batch 1,280  of  5,064.    Elapsed: 0:08:19.\n",
            "  Batch 1,320  of  5,064.    Elapsed: 0:08:35.\n",
            "  Batch 1,360  of  5,064.    Elapsed: 0:08:50.\n",
            "  Batch 1,400  of  5,064.    Elapsed: 0:09:06.\n",
            "  Batch 1,440  of  5,064.    Elapsed: 0:09:21.\n",
            "  Batch 1,480  of  5,064.    Elapsed: 0:09:37.\n",
            "  Batch 1,520  of  5,064.    Elapsed: 0:09:53.\n",
            "  Batch 1,560  of  5,064.    Elapsed: 0:10:08.\n",
            "  Batch 1,600  of  5,064.    Elapsed: 0:10:24.\n",
            "  Batch 1,640  of  5,064.    Elapsed: 0:10:39.\n",
            "  Batch 1,680  of  5,064.    Elapsed: 0:10:55.\n",
            "  Batch 1,720  of  5,064.    Elapsed: 0:11:10.\n",
            "  Batch 1,760  of  5,064.    Elapsed: 0:11:26.\n",
            "  Batch 1,800  of  5,064.    Elapsed: 0:11:42.\n",
            "  Batch 1,840  of  5,064.    Elapsed: 0:11:57.\n",
            "  Batch 1,880  of  5,064.    Elapsed: 0:12:13.\n",
            "  Batch 1,920  of  5,064.    Elapsed: 0:12:29.\n",
            "  Batch 1,960  of  5,064.    Elapsed: 0:12:44.\n",
            "  Batch 2,000  of  5,064.    Elapsed: 0:13:00.\n",
            "  Batch 2,040  of  5,064.    Elapsed: 0:13:15.\n",
            "  Batch 2,080  of  5,064.    Elapsed: 0:13:31.\n",
            "  Batch 2,120  of  5,064.    Elapsed: 0:13:46.\n",
            "  Batch 2,160  of  5,064.    Elapsed: 0:14:02.\n",
            "  Batch 2,200  of  5,064.    Elapsed: 0:14:18.\n",
            "  Batch 2,240  of  5,064.    Elapsed: 0:14:33.\n",
            "  Batch 2,280  of  5,064.    Elapsed: 0:14:49.\n",
            "  Batch 2,320  of  5,064.    Elapsed: 0:15:04.\n",
            "  Batch 2,360  of  5,064.    Elapsed: 0:15:20.\n",
            "  Batch 2,400  of  5,064.    Elapsed: 0:15:36.\n",
            "  Batch 2,440  of  5,064.    Elapsed: 0:15:51.\n",
            "  Batch 2,480  of  5,064.    Elapsed: 0:16:07.\n",
            "  Batch 2,520  of  5,064.    Elapsed: 0:16:22.\n",
            "  Batch 2,560  of  5,064.    Elapsed: 0:16:38.\n",
            "  Batch 2,600  of  5,064.    Elapsed: 0:16:54.\n",
            "  Batch 2,640  of  5,064.    Elapsed: 0:17:09.\n",
            "  Batch 2,680  of  5,064.    Elapsed: 0:17:25.\n",
            "  Batch 2,720  of  5,064.    Elapsed: 0:17:40.\n",
            "  Batch 2,760  of  5,064.    Elapsed: 0:17:56.\n",
            "  Batch 2,800  of  5,064.    Elapsed: 0:18:12.\n",
            "  Batch 2,840  of  5,064.    Elapsed: 0:18:27.\n",
            "  Batch 2,880  of  5,064.    Elapsed: 0:18:43.\n",
            "  Batch 2,920  of  5,064.    Elapsed: 0:18:58.\n",
            "  Batch 2,960  of  5,064.    Elapsed: 0:19:14.\n",
            "  Batch 3,000  of  5,064.    Elapsed: 0:19:30.\n",
            "  Batch 3,040  of  5,064.    Elapsed: 0:19:45.\n",
            "  Batch 3,080  of  5,064.    Elapsed: 0:20:01.\n",
            "  Batch 3,120  of  5,064.    Elapsed: 0:20:16.\n",
            "  Batch 3,160  of  5,064.    Elapsed: 0:20:32.\n",
            "  Batch 3,200  of  5,064.    Elapsed: 0:20:47.\n",
            "  Batch 3,240  of  5,064.    Elapsed: 0:21:03.\n",
            "  Batch 3,280  of  5,064.    Elapsed: 0:21:19.\n",
            "  Batch 3,320  of  5,064.    Elapsed: 0:21:34.\n",
            "  Batch 3,360  of  5,064.    Elapsed: 0:21:50.\n",
            "  Batch 3,400  of  5,064.    Elapsed: 0:22:06.\n",
            "  Batch 3,440  of  5,064.    Elapsed: 0:22:21.\n",
            "  Batch 3,480  of  5,064.    Elapsed: 0:22:37.\n",
            "  Batch 3,520  of  5,064.    Elapsed: 0:22:52.\n",
            "  Batch 3,560  of  5,064.    Elapsed: 0:23:08.\n",
            "  Batch 3,600  of  5,064.    Elapsed: 0:23:24.\n",
            "  Batch 3,640  of  5,064.    Elapsed: 0:23:39.\n",
            "  Batch 3,680  of  5,064.    Elapsed: 0:23:55.\n",
            "  Batch 3,720  of  5,064.    Elapsed: 0:24:10.\n",
            "  Batch 3,760  of  5,064.    Elapsed: 0:24:26.\n",
            "  Batch 3,800  of  5,064.    Elapsed: 0:24:42.\n",
            "  Batch 3,840  of  5,064.    Elapsed: 0:24:57.\n",
            "  Batch 3,880  of  5,064.    Elapsed: 0:25:13.\n",
            "  Batch 3,920  of  5,064.    Elapsed: 0:25:29.\n",
            "  Batch 3,960  of  5,064.    Elapsed: 0:25:44.\n",
            "  Batch 4,000  of  5,064.    Elapsed: 0:26:00.\n",
            "  Batch 4,040  of  5,064.    Elapsed: 0:26:15.\n",
            "  Batch 4,080  of  5,064.    Elapsed: 0:26:31.\n",
            "  Batch 4,120  of  5,064.    Elapsed: 0:26:47.\n",
            "  Batch 4,160  of  5,064.    Elapsed: 0:27:02.\n",
            "  Batch 4,200  of  5,064.    Elapsed: 0:27:18.\n",
            "  Batch 4,240  of  5,064.    Elapsed: 0:27:33.\n",
            "  Batch 4,280  of  5,064.    Elapsed: 0:27:49.\n",
            "  Batch 4,320  of  5,064.    Elapsed: 0:28:05.\n",
            "  Batch 4,360  of  5,064.    Elapsed: 0:28:20.\n",
            "  Batch 4,400  of  5,064.    Elapsed: 0:28:36.\n",
            "  Batch 4,440  of  5,064.    Elapsed: 0:28:51.\n",
            "  Batch 4,480  of  5,064.    Elapsed: 0:29:07.\n",
            "  Batch 4,520  of  5,064.    Elapsed: 0:29:23.\n",
            "  Batch 4,560  of  5,064.    Elapsed: 0:29:38.\n",
            "  Batch 4,600  of  5,064.    Elapsed: 0:29:54.\n",
            "  Batch 4,640  of  5,064.    Elapsed: 0:30:09.\n",
            "  Batch 4,680  of  5,064.    Elapsed: 0:30:25.\n",
            "  Batch 4,720  of  5,064.    Elapsed: 0:30:41.\n",
            "  Batch 4,760  of  5,064.    Elapsed: 0:30:56.\n",
            "  Batch 4,800  of  5,064.    Elapsed: 0:31:12.\n",
            "  Batch 4,840  of  5,064.    Elapsed: 0:31:28.\n",
            "  Batch 4,880  of  5,064.    Elapsed: 0:31:43.\n",
            "  Batch 4,920  of  5,064.    Elapsed: 0:31:59.\n",
            "  Batch 4,960  of  5,064.    Elapsed: 0:32:14.\n",
            "  Batch 5,000  of  5,064.    Elapsed: 0:32:30.\n",
            "  Batch 5,040  of  5,064.    Elapsed: 0:32:46.\n",
            "\n",
            "  Average training loss: 0.31\n",
            "  Training epcoh took: 0:32:55\n",
            "\n",
            "Running Validation...\n",
            "  Accuracy: 0.88\n",
            "  Validation Loss: 0.35\n",
            "  Validation took: 0:01:16\n",
            "\n",
            "Training complete!\n",
            "Total training took 1:08:20 (h:mm:ss)\n"
          ],
          "name": "stdout"
        }
      ]
    },
    {
      "cell_type": "code",
      "metadata": {
        "colab": {
          "base_uri": "https://localhost:8080/",
          "height": 136
        },
        "id": "WeSNqE7uJ72O",
        "outputId": "b9d1ce80-6ccc-4865-972d-fd96663b4315"
      },
      "source": [
        "pd.set_option('precision', 2)\n",
        "df_stats = pd.DataFrame(data=training_stats)\n",
        "df_stats = df_stats.set_index('epoch')\n",
        "# A hack to force the column headers to wrap.\n",
        "#df = df.style.set_table_styles([dict(selector=\"th\",props=[('max-width', '70px')])])\n",
        "df_stats"
      ],
      "execution_count": null,
      "outputs": [
        {
          "output_type": "execute_result",
          "data": {
            "text/html": [
              "<div>\n",
              "<style scoped>\n",
              "    .dataframe tbody tr th:only-of-type {\n",
              "        vertical-align: middle;\n",
              "    }\n",
              "\n",
              "    .dataframe tbody tr th {\n",
              "        vertical-align: top;\n",
              "    }\n",
              "\n",
              "    .dataframe thead th {\n",
              "        text-align: right;\n",
              "    }\n",
              "</style>\n",
              "<table border=\"1\" class=\"dataframe\">\n",
              "  <thead>\n",
              "    <tr style=\"text-align: right;\">\n",
              "      <th></th>\n",
              "      <th>Training Loss</th>\n",
              "      <th>Valid. Loss</th>\n",
              "      <th>Valid. Accur.</th>\n",
              "      <th>Training Time</th>\n",
              "      <th>Validation Time</th>\n",
              "    </tr>\n",
              "    <tr>\n",
              "      <th>epoch</th>\n",
              "      <th></th>\n",
              "      <th></th>\n",
              "      <th></th>\n",
              "      <th></th>\n",
              "      <th></th>\n",
              "    </tr>\n",
              "  </thead>\n",
              "  <tbody>\n",
              "    <tr>\n",
              "      <th>1</th>\n",
              "      <td>0.41</td>\n",
              "      <td>0.36</td>\n",
              "      <td>0.87</td>\n",
              "      <td>0:32:54</td>\n",
              "      <td>0:01:15</td>\n",
              "    </tr>\n",
              "    <tr>\n",
              "      <th>2</th>\n",
              "      <td>0.31</td>\n",
              "      <td>0.35</td>\n",
              "      <td>0.88</td>\n",
              "      <td>0:32:55</td>\n",
              "      <td>0:01:16</td>\n",
              "    </tr>\n",
              "  </tbody>\n",
              "</table>\n",
              "</div>"
            ],
            "text/plain": [
              "       Training Loss  Valid. Loss  Valid. Accur. Training Time Validation Time\n",
              "epoch                                                                         \n",
              "1               0.41         0.36           0.87       0:32:54         0:01:15\n",
              "2               0.31         0.35           0.88       0:32:55         0:01:16"
            ]
          },
          "metadata": {
            "tags": []
          },
          "execution_count": 42
        }
      ]
    },
    {
      "cell_type": "code",
      "metadata": {
        "colab": {
          "base_uri": "https://localhost:8080/",
          "height": 427
        },
        "id": "Rzhz31YWKvUS",
        "outputId": "a4041be9-c88b-4bd1-a586-774de477e6b5"
      },
      "source": [
        "import matplotlib.pyplot as plt\n",
        "% matplotlib inline\n",
        "\n",
        "import seaborn as sns\n",
        "\n",
        "# Use plot styling from seaborn.\n",
        "sns.set(style='darkgrid')\n",
        "\n",
        "# Increase the plot size and font size.\n",
        "sns.set(font_scale=1.5)\n",
        "plt.rcParams[\"figure.figsize\"] = (12,6)\n",
        "\n",
        "# Plot the learning curve.\n",
        "plt.plot(df_stats['Training Loss'], 'b-o', label=\"Training\")\n",
        "plt.plot(df_stats['Valid. Loss'], 'g-o', label=\"Validation\")\n",
        "\n",
        "# Label the plot.\n",
        "plt.title(\"Training & Validation Loss\")\n",
        "plt.xlabel(\"Epoch\")\n",
        "plt.ylabel(\"Loss\")\n",
        "plt.legend()\n",
        "plt.xticks([1, 2])\n",
        "\n",
        "plt.show()"
      ],
      "execution_count": null,
      "outputs": [
        {
          "output_type": "display_data",
          "data": {
            "image/png": "[encoded data removed]",
            "text/plain": [
              "<Figure size 864x432 with 1 Axes>"
            ]
          },
          "metadata": {
            "tags": []
          }
        }
      ]
    },
    {
      "cell_type": "markdown",
      "metadata": {
        "id": "skan6pyINnaW"
      },
      "source": [
        "# Testing the model"
      ]
    },
    {
      "cell_type": "code",
      "metadata": {
        "id": "UouJWC80NZ73"
      },
      "source": [
        "# Create the DataLoader.\n",
        "prediction_sampler = SequentialSampler(dataset_test)\n",
        "prediction_dataloader = DataLoader(dataset_test, sampler=prediction_sampler, batch_size=29)"
      ],
      "execution_count": null,
      "outputs": []
    },
    {
      "cell_type": "code",
      "metadata": {
        "colab": {
          "base_uri": "https://localhost:8080/"
        },
        "id": "sGWV5-uqQ9Tj",
        "outputId": "9eb2815d-b927-4809-8ddf-b57721bdb2f8"
      },
      "source": [
        "print('Predicting labels for {:,} test sentences...'.format(len(input_ids_test)))\n",
        "\n",
        "# Put model in evaluation mode\n",
        "model.eval()\n",
        "\n",
        "# Tracking variables \n",
        "predictions , true_labels = [], []\n",
        "\n",
        "# Predict \n",
        "for batch in prediction_dataloader:\n",
        "  # Add batch to GPU\n",
        "  batch = tuple(t.to(device) for t in batch)\n",
        "  \n",
        "  # Unpack the inputs from our dataloader\n",
        "  b_input_ids, b_input_mask, b_labels = batch\n",
        "  \n",
        "  # Telling the model not to compute or store gradients, saving memory and \n",
        "  # speeding up prediction\n",
        "  with torch.no_grad():\n",
        "      # Forward pass, calculate logit predictions.\n",
        "      result = model(b_input_ids, \n",
        "                     token_type_ids=None, \n",
        "                     attention_mask=b_input_mask,\n",
        "                     return_dict=True)\n",
        "\n",
        "  logits = result.logits\n",
        "\n",
        "  # Move logits and labels to CPU\n",
        "  logits = logits.detach().cpu().numpy()\n",
        "  label_ids = b_labels.to('cpu').numpy()\n",
        "  \n",
        "  # Store predictions and true labels\n",
        "  predictions.append(logits)\n",
        "  true_labels.append(label_ids)\n",
        "\n",
        "print('    DONE.')"
      ],
      "execution_count": null,
      "outputs": [
        {
          "output_type": "stream",
          "text": [
            "Predicting labels for 30,135 test sentences...\n",
            "    DONE.\n"
          ],
          "name": "stdout"
        }
      ]
    },
    {
      "cell_type": "code",
      "metadata": {
        "id": "S4cVa8BdS1ej"
      },
      "source": [
        "from sklearn.metrics import classification_report"
      ],
      "execution_count": null,
      "outputs": []
    },
    {
      "cell_type": "code",
      "metadata": {
        "colab": {
          "base_uri": "https://localhost:8080/"
        },
        "id": "zvV5DDNG_BYS",
        "outputId": "ac429bfa-a6c2-46eb-9af2-098d657251e5"
      },
      "source": [
        "# Combine the results across all batches. \n",
        "flat_predictions = np.concatenate(predictions, axis=0)\n",
        "\n",
        "flat_predictions = np.argmax(flat_predictions, axis=1).flatten()\n",
        "\n",
        "flat_true_labels = np.concatenate(true_labels, axis=0)\n",
        "\n",
        "metrics_report = classification_report(flat_true_labels, flat_predictions,target_names=['BACKGROUND', 'OBJECTIVE', 'METHODS', 'RESULTS', 'CONCLUSIONS'])\n",
        "\n",
        "print(metrics_report)"
      ],
      "execution_count": null,
      "outputs": [
        {
          "output_type": "stream",
          "text": [
            "              precision    recall  f1-score   support\n",
            "\n",
            "  BACKGROUND       0.68      0.81      0.74      3621\n",
            "   OBJECTIVE       0.77      0.55      0.64      2333\n",
            "     METHODS       0.93      0.95      0.94      9897\n",
            "     RESULTS       0.93      0.91      0.92      9713\n",
            " CONCLUSIONS       0.85      0.82      0.83      4571\n",
            "\n",
            "    accuracy                           0.87     30135\n",
            "   macro avg       0.83      0.81      0.82     30135\n",
            "weighted avg       0.87      0.87      0.87     30135\n",
            "\n"
          ],
          "name": "stdout"
        }
      ]
    },
    {
      "cell_type": "code",
      "metadata": {
        "id": "CbbNNmoEAiZv"
      },
      "source": [
        "import sklearn.metrics as sm\n",
        "def evaluate_model_bert(pred,y):\n",
        "  acc = sm.accuracy_score(y,pred)\n",
        "  pr = sm.precision_score(y,pred, average='macro')\n",
        "  re = sm.recall_score(y,pred, average='macro')\n",
        "  f1 = sm.f1_score(pred, y, average='macro')\n",
        "  return acc,pr,re,f1"
      ],
      "execution_count": null,
      "outputs": []
    },
    {
      "cell_type": "code",
      "metadata": {
        "colab": {
          "base_uri": "https://localhost:8080/"
        },
        "id": "RmXfjN9Q_ySS",
        "outputId": "165843fd-2a97-4158-d79d-69b193ad4cbb"
      },
      "source": [
        "acc_bert,pr_bert,re_bert,f1_bert=evaluate_model_bert(flat_predictions,flat_true_labels)\n",
        "print(\"Accuracy : \"+str(acc_bert))\n",
        "print(\"Precision : \"+str(pr_bert))\n",
        "print(\"Recall : \"+str(re_bert))\n",
        "print(\"F1 Score : \"+str(f1_bert))"
      ],
      "execution_count": null,
      "outputs": [
        {
          "output_type": "stream",
          "text": [
            "Accuracy : 0.8710137713622034\n",
            "Precision : 0.830231850480325\n",
            "Recall : 0.8095318881412659\n",
            "F1 Score : 0.8151079578451069\n"
          ],
          "name": "stdout"
        }
      ]
    },
    {
      "cell_type": "markdown",
      "metadata": {
        "id": "JH1lHQL44U62"
      },
      "source": [
        "The model has ***not beaten*** the the baseline models however has performed fairly decent in terms of its scores.\n",
        "Model will improve if the embedding layer is used such that it is trained in regard to the kind of dataset it is supposed to be used for rather than any generic embedding. Generic BERT is not trained on specific datasets suited for specific purposes so something like blueBert or bioBert helps better train datasets like the one presented for this question."
      ]
    },
    {
      "cell_type": "code",
      "metadata": {
        "id": "uyR1i-qr3iEW"
      },
      "source": [
        ""
      ],
      "execution_count": null,
      "outputs": []
    },
    {
      "cell_type": "markdown",
      "metadata": {
        "id": "stJDQCDNb9H9"
      },
      "source": [
        "# **Bonus Question: (50 points)** \n",
        "\n",
        "Solve question 6 but instead for fine-tuning BERT, use: BioBert\n",
        "(20 points) and BlueBERT (20 points) and compare the results of the three approaches in a\n",
        "nice table. Answer the following questions: Did you model beat the baseline results\n",
        "(https://arxiv.org/pdf/1710.06071.pdf)? What do you think you can do to improve it?"
      ]
    },
    {
      "cell_type": "code",
      "metadata": {
        "id": "0e1sFGeifN83"
      },
      "source": [
        "!pip install biobert_embedding"
      ],
      "execution_count": null,
      "outputs": []
    },
    {
      "cell_type": "code",
      "metadata": {
        "id": "xgnP06stfKPl"
      },
      "source": [
        "from biobert_embedding.embedding import BiobertEmbedding\n",
        "import biobert_embedding "
      ],
      "execution_count": null,
      "outputs": []
    },
    {
      "cell_type": "code",
      "metadata": {
        "colab": {
          "base_uri": "https://localhost:8080/"
        },
        "id": "x7bTFFrvf8HN",
        "outputId": "cb18465d-de14-4a1a-c5d9-8fb9fad40dbb"
      },
      "source": [
        "path = biobert_embedding.downloader.get_BioBert(\"google drive\")"
      ],
      "execution_count": null,
      "outputs": [
        {
          "output_type": "stream",
          "text": [
            "Downloading the biobert model, will take a minute...\n"
          ],
          "name": "stdout"
        },
        {
          "output_type": "stream",
          "text": [
            "/usr/local/lib/python3.7/dist-packages/urllib3/connectionpool.py:847: InsecureRequestWarning: Unverified HTTPS request is being made. Adding certificate verification is strongly advised. See: https://urllib3.readthedocs.io/en/latest/advanced-usage.html#ssl-warnings\n",
            "  InsecureRequestWarning)\n",
            "/usr/local/lib/python3.7/dist-packages/urllib3/connectionpool.py:847: InsecureRequestWarning: Unverified HTTPS request is being made. Adding certificate verification is strongly advised. See: https://urllib3.readthedocs.io/en/latest/advanced-usage.html#ssl-warnings\n",
            "  InsecureRequestWarning)\n",
            "/usr/local/lib/python3.7/dist-packages/urllib3/connectionpool.py:847: InsecureRequestWarning: Unverified HTTPS request is being made. Adding certificate verification is strongly advised. See: https://urllib3.readthedocs.io/en/latest/advanced-usage.html#ssl-warnings\n",
            "  InsecureRequestWarning)\n",
            "/usr/local/lib/python3.7/dist-packages/urllib3/connectionpool.py:847: InsecureRequestWarning: Unverified HTTPS request is being made. Adding certificate verification is strongly advised. See: https://urllib3.readthedocs.io/en/latest/advanced-usage.html#ssl-warnings\n",
            "  InsecureRequestWarning)\n",
            "/usr/local/lib/python3.7/dist-packages/urllib3/connectionpool.py:847: InsecureRequestWarning: Unverified HTTPS request is being made. Adding certificate verification is strongly advised. See: https://urllib3.readthedocs.io/en/latest/advanced-usage.html#ssl-warnings\n",
            "  InsecureRequestWarning)\n"
          ],
          "name": "stderr"
        }
      ]
    },
    {
      "cell_type": "code",
      "metadata": {
        "id": "kFfoW2aIkIY4"
      },
      "source": [
        "from transformers import BertTokenizer\n",
        "\n",
        "tokenizer = BertTokenizer.from_pretrained(path, do_lower_case=True)"
      ],
      "execution_count": null,
      "outputs": []
    },
    {
      "cell_type": "code",
      "metadata": {
        "id": "H2E_MPuSiq1q"
      },
      "source": [
        "def bert_encode(data_bert,l):\n",
        "  input_ids = []\n",
        "  attention_masks = []\n",
        "\n",
        "  # For every sentence...\n",
        "  for sent in data_bert:\n",
        "      encoded_dict = tokenizer.encode_plus(sent, add_special_tokens = True, max_length = 64,pad_to_max_length = True,return_attention_mask = True,return_tensors = 'pt') \n",
        "      input_ids.append(encoded_dict['input_ids'])\n",
        "      attention_masks.append(encoded_dict['attention_mask'])\n",
        "\n",
        "\n",
        "\n",
        "  input_ids = torch.cat(input_ids, dim=0)\n",
        "  attention_masks = torch.cat(attention_masks, dim=0)\n",
        "  l = torch.tensor(l)\n",
        "  return input_ids,attention_masks,l\n"
      ],
      "execution_count": null,
      "outputs": []
    },
    {
      "cell_type": "code",
      "metadata": {
        "colab": {
          "base_uri": "https://localhost:8080/"
        },
        "id": "EeNDpSN_iq1q",
        "outputId": "e6ad9f16-a7c6-4adb-8ba0-b0678873aad5"
      },
      "source": [
        "input_ids_train_bio,attention_masks_train_bio,l_train_bio = bert_encode(q6_text,q6_label)\n",
        "input_ids_test_bio,attention_masks_test_bio,l_test_bio = bert_encode(q6_text_test,q6_label_test)"
      ],
      "execution_count": null,
      "outputs": [
        {
          "output_type": "stream",
          "text": [
            "Truncation was not explicitly activated but `max_length` is provided a specific value, please use `truncation=True` to explicitly truncate examples to max length. Defaulting to 'longest_first' truncation strategy. If you encode pairs of sequences (GLUE-style) with the tokenizer you can select this strategy more precisely by providing a specific strategy to `truncation`.\n",
            "/usr/local/lib/python3.7/dist-packages/transformers/tokenization_utils_base.py:2079: FutureWarning: The `pad_to_max_length` argument is deprecated and will be removed in a future version, use `padding=True` or `padding='longest'` to pad to the longest sequence in the batch, or use `padding='max_length'` to pad to a max length. In this case, you can give a specific length with `max_length` (e.g. `max_length=45`) or leave max_length to None to pad to the maximal input size of the model (e.g. 512 for Bert).\n",
            "  FutureWarning,\n"
          ],
          "name": "stderr"
        }
      ]
    },
    {
      "cell_type": "code",
      "metadata": {
        "colab": {
          "base_uri": "https://localhost:8080/"
        },
        "id": "uZqe-jn1iq1r",
        "outputId": "ebf7bfe3-de64-4498-a7ad-3223103afe5b"
      },
      "source": [
        "from torch.utils.data import TensorDataset, random_split\n",
        "\n",
        "# Combine the training inputs into a TensorDataset.\n",
        "dataset_train = TensorDataset(input_ids_train_bio, attention_masks_train_bio, l_train_bio)\n",
        "\n",
        "\n",
        "train_size = int(0.9 * len(dataset_train))\n",
        "val_size = len(dataset_train) - train_size\n",
        "\n",
        "# Divide the dataset by randomly selecting samples.\n",
        "train_dataset, val_dataset = random_split(dataset_train, [train_size, val_size],generator=torch.Generator().manual_seed(seed_value))\n",
        "\n",
        "print('{:>5,} training samples'.format(train_size))\n",
        "print('{:>5,} validation samples'.format(val_size))\n",
        "dataset_test = TensorDataset(input_ids_test_bio, attention_masks_test_bio, l_test_bio)"
      ],
      "execution_count": null,
      "outputs": [
        {
          "output_type": "stream",
          "text": [
            "162,036 training samples\n",
            "18,004 validation samples\n"
          ],
          "name": "stdout"
        }
      ]
    },
    {
      "cell_type": "code",
      "metadata": {
        "id": "enw4HDbciq1r"
      },
      "source": [
        "from torch.utils.data import DataLoader, RandomSampler, SequentialSampler\n",
        "\n",
        "\n",
        "batch_size = 32\n",
        "train_dataloader = DataLoader(\n",
        "            train_dataset,  # The training samples.\n",
        "            sampler = RandomSampler(train_dataset), # Select batches randomly\n",
        "            batch_size = 32 # Trains with this batch size.\n",
        "        )\n",
        "\n",
        "validation_dataloader = DataLoader(\n",
        "            val_dataset, # The validation samples.\n",
        "            sampler = SequentialSampler(val_dataset), # Pull out batches sequentially.\n",
        "            batch_size = 32 # Evaluate with this batch size.\n",
        "        )"
      ],
      "execution_count": null,
      "outputs": []
    },
    {
      "cell_type": "code",
      "metadata": {
        "colab": {
          "base_uri": "https://localhost:8080/"
        },
        "id": "S8Xoo4Piiq1r",
        "outputId": "55729d00-ccf9-40d3-e147-ab49a302525c"
      },
      "source": [
        "from transformers import BertForSequenceClassification, AdamW, BertConfig\n",
        "\n",
        "\n",
        "model = BertForSequenceClassification.from_pretrained(path,num_labels = 5,output_attentions = False,output_hidden_states = False)\n",
        "\n",
        "# Tell pytorch to run this model on the GPU.\n",
        "model.cuda()"
      ],
      "execution_count": null,
      "outputs": [
        {
          "output_type": "stream",
          "text": [
            "Some weights of the model checkpoint at /content/biobert_v1.1_pubmed_pytorch_model were not used when initializing BertForSequenceClassification: ['cls.predictions.bias', 'cls.predictions.transform.dense.weight', 'cls.predictions.transform.dense.bias', 'cls.predictions.transform.LayerNorm.weight', 'cls.predictions.transform.LayerNorm.bias', 'cls.predictions.decoder.weight', 'cls.seq_relationship.weight', 'cls.seq_relationship.bias']\n",
            "- This IS expected if you are initializing BertForSequenceClassification from the checkpoint of a model trained on another task or with another architecture (e.g. initializing a BertForSequenceClassification model from a BertForPreTraining model).\n",
            "- This IS NOT expected if you are initializing BertForSequenceClassification from the checkpoint of a model that you expect to be exactly identical (initializing a BertForSequenceClassification model from a BertForSequenceClassification model).\n",
            "Some weights of BertForSequenceClassification were not initialized from the model checkpoint at /content/biobert_v1.1_pubmed_pytorch_model and are newly initialized: ['classifier.weight', 'classifier.bias']\n",
            "You should probably TRAIN this model on a down-stream task to be able to use it for predictions and inference.\n"
          ],
          "name": "stderr"
        },
        {
          "output_type": "execute_result",
          "data": {
            "text/plain": [
              "BertForSequenceClassification(\n",
              "  (bert): BertModel(\n",
              "    (embeddings): BertEmbeddings(\n",
              "      (word_embeddings): Embedding(28996, 768, padding_idx=0)\n",
              "      (position_embeddings): Embedding(512, 768)\n",
              "      (token_type_embeddings): Embedding(2, 768)\n",
              "      (LayerNorm): LayerNorm((768,), eps=1e-12, elementwise_affine=True)\n",
              "      (dropout): Dropout(p=0.1, inplace=False)\n",
              "    )\n",
              "    (encoder): BertEncoder(\n",
              "      (layer): ModuleList(\n",
              "        (0): BertLayer(\n",
              "          (attention): BertAttention(\n",
              "            (self): BertSelfAttention(\n",
              "              (query): Linear(in_features=768, out_features=768, bias=True)\n",
              "              (key): Linear(in_features=768, out_features=768, bias=True)\n",
              "              (value): Linear(in_features=768, out_features=768, bias=True)\n",
              "              (dropout): Dropout(p=0.1, inplace=False)\n",
              "            )\n",
              "            (output): BertSelfOutput(\n",
              "              (dense): Linear(in_features=768, out_features=768, bias=True)\n",
              "              (LayerNorm): LayerNorm((768,), eps=1e-12, elementwise_affine=True)\n",
              "              (dropout): Dropout(p=0.1, inplace=False)\n",
              "            )\n",
              "          )\n",
              "          (intermediate): BertIntermediate(\n",
              "            (dense): Linear(in_features=768, out_features=3072, bias=True)\n",
              "          )\n",
              "          (output): BertOutput(\n",
              "            (dense): Linear(in_features=3072, out_features=768, bias=True)\n",
              "            (LayerNorm): LayerNorm((768,), eps=1e-12, elementwise_affine=True)\n",
              "            (dropout): Dropout(p=0.1, inplace=False)\n",
              "          )\n",
              "        )\n",
              "        (1): BertLayer(\n",
              "          (attention): BertAttention(\n",
              "            (self): BertSelfAttention(\n",
              "              (query): Linear(in_features=768, out_features=768, bias=True)\n",
              "              (key): Linear(in_features=768, out_features=768, bias=True)\n",
              "              (value): Linear(in_features=768, out_features=768, bias=True)\n",
              "              (dropout): Dropout(p=0.1, inplace=False)\n",
              "            )\n",
              "            (output): BertSelfOutput(\n",
              "              (dense): Linear(in_features=768, out_features=768, bias=True)\n",
              "              (LayerNorm): LayerNorm((768,), eps=1e-12, elementwise_affine=True)\n",
              "              (dropout): Dropout(p=0.1, inplace=False)\n",
              "            )\n",
              "          )\n",
              "          (intermediate): BertIntermediate(\n",
              "            (dense): Linear(in_features=768, out_features=3072, bias=True)\n",
              "          )\n",
              "          (output): BertOutput(\n",
              "            (dense): Linear(in_features=3072, out_features=768, bias=True)\n",
              "            (LayerNorm): LayerNorm((768,), eps=1e-12, elementwise_affine=True)\n",
              "            (dropout): Dropout(p=0.1, inplace=False)\n",
              "          )\n",
              "        )\n",
              "        (2): BertLayer(\n",
              "          (attention): BertAttention(\n",
              "            (self): BertSelfAttention(\n",
              "              (query): Linear(in_features=768, out_features=768, bias=True)\n",
              "              (key): Linear(in_features=768, out_features=768, bias=True)\n",
              "              (value): Linear(in_features=768, out_features=768, bias=True)\n",
              "              (dropout): Dropout(p=0.1, inplace=False)\n",
              "            )\n",
              "            (output): BertSelfOutput(\n",
              "              (dense): Linear(in_features=768, out_features=768, bias=True)\n",
              "              (LayerNorm): LayerNorm((768,), eps=1e-12, elementwise_affine=True)\n",
              "              (dropout): Dropout(p=0.1, inplace=False)\n",
              "            )\n",
              "          )\n",
              "          (intermediate): BertIntermediate(\n",
              "            (dense): Linear(in_features=768, out_features=3072, bias=True)\n",
              "          )\n",
              "          (output): BertOutput(\n",
              "            (dense): Linear(in_features=3072, out_features=768, bias=True)\n",
              "            (LayerNorm): LayerNorm((768,), eps=1e-12, elementwise_affine=True)\n",
              "            (dropout): Dropout(p=0.1, inplace=False)\n",
              "          )\n",
              "        )\n",
              "        (3): BertLayer(\n",
              "          (attention): BertAttention(\n",
              "            (self): BertSelfAttention(\n",
              "              (query): Linear(in_features=768, out_features=768, bias=True)\n",
              "              (key): Linear(in_features=768, out_features=768, bias=True)\n",
              "              (value): Linear(in_features=768, out_features=768, bias=True)\n",
              "              (dropout): Dropout(p=0.1, inplace=False)\n",
              "            )\n",
              "            (output): BertSelfOutput(\n",
              "              (dense): Linear(in_features=768, out_features=768, bias=True)\n",
              "              (LayerNorm): LayerNorm((768,), eps=1e-12, elementwise_affine=True)\n",
              "              (dropout): Dropout(p=0.1, inplace=False)\n",
              "            )\n",
              "          )\n",
              "          (intermediate): BertIntermediate(\n",
              "            (dense): Linear(in_features=768, out_features=3072, bias=True)\n",
              "          )\n",
              "          (output): BertOutput(\n",
              "            (dense): Linear(in_features=3072, out_features=768, bias=True)\n",
              "            (LayerNorm): LayerNorm((768,), eps=1e-12, elementwise_affine=True)\n",
              "            (dropout): Dropout(p=0.1, inplace=False)\n",
              "          )\n",
              "        )\n",
              "        (4): BertLayer(\n",
              "          (attention): BertAttention(\n",
              "            (self): BertSelfAttention(\n",
              "              (query): Linear(in_features=768, out_features=768, bias=True)\n",
              "              (key): Linear(in_features=768, out_features=768, bias=True)\n",
              "              (value): Linear(in_features=768, out_features=768, bias=True)\n",
              "              (dropout): Dropout(p=0.1, inplace=False)\n",
              "            )\n",
              "            (output): BertSelfOutput(\n",
              "              (dense): Linear(in_features=768, out_features=768, bias=True)\n",
              "              (LayerNorm): LayerNorm((768,), eps=1e-12, elementwise_affine=True)\n",
              "              (dropout): Dropout(p=0.1, inplace=False)\n",
              "            )\n",
              "          )\n",
              "          (intermediate): BertIntermediate(\n",
              "            (dense): Linear(in_features=768, out_features=3072, bias=True)\n",
              "          )\n",
              "          (output): BertOutput(\n",
              "            (dense): Linear(in_features=3072, out_features=768, bias=True)\n",
              "            (LayerNorm): LayerNorm((768,), eps=1e-12, elementwise_affine=True)\n",
              "            (dropout): Dropout(p=0.1, inplace=False)\n",
              "          )\n",
              "        )\n",
              "        (5): BertLayer(\n",
              "          (attention): BertAttention(\n",
              "            (self): BertSelfAttention(\n",
              "              (query): Linear(in_features=768, out_features=768, bias=True)\n",
              "              (key): Linear(in_features=768, out_features=768, bias=True)\n",
              "              (value): Linear(in_features=768, out_features=768, bias=True)\n",
              "              (dropout): Dropout(p=0.1, inplace=False)\n",
              "            )\n",
              "            (output): BertSelfOutput(\n",
              "              (dense): Linear(in_features=768, out_features=768, bias=True)\n",
              "              (LayerNorm): LayerNorm((768,), eps=1e-12, elementwise_affine=True)\n",
              "              (dropout): Dropout(p=0.1, inplace=False)\n",
              "            )\n",
              "          )\n",
              "          (intermediate): BertIntermediate(\n",
              "            (dense): Linear(in_features=768, out_features=3072, bias=True)\n",
              "          )\n",
              "          (output): BertOutput(\n",
              "            (dense): Linear(in_features=3072, out_features=768, bias=True)\n",
              "            (LayerNorm): LayerNorm((768,), eps=1e-12, elementwise_affine=True)\n",
              "            (dropout): Dropout(p=0.1, inplace=False)\n",
              "          )\n",
              "        )\n",
              "        (6): BertLayer(\n",
              "          (attention): BertAttention(\n",
              "            (self): BertSelfAttention(\n",
              "              (query): Linear(in_features=768, out_features=768, bias=True)\n",
              "              (key): Linear(in_features=768, out_features=768, bias=True)\n",
              "              (value): Linear(in_features=768, out_features=768, bias=True)\n",
              "              (dropout): Dropout(p=0.1, inplace=False)\n",
              "            )\n",
              "            (output): BertSelfOutput(\n",
              "              (dense): Linear(in_features=768, out_features=768, bias=True)\n",
              "              (LayerNorm): LayerNorm((768,), eps=1e-12, elementwise_affine=True)\n",
              "              (dropout): Dropout(p=0.1, inplace=False)\n",
              "            )\n",
              "          )\n",
              "          (intermediate): BertIntermediate(\n",
              "            (dense): Linear(in_features=768, out_features=3072, bias=True)\n",
              "          )\n",
              "          (output): BertOutput(\n",
              "            (dense): Linear(in_features=3072, out_features=768, bias=True)\n",
              "            (LayerNorm): LayerNorm((768,), eps=1e-12, elementwise_affine=True)\n",
              "            (dropout): Dropout(p=0.1, inplace=False)\n",
              "          )\n",
              "        )\n",
              "        (7): BertLayer(\n",
              "          (attention): BertAttention(\n",
              "            (self): BertSelfAttention(\n",
              "              (query): Linear(in_features=768, out_features=768, bias=True)\n",
              "              (key): Linear(in_features=768, out_features=768, bias=True)\n",
              "              (value): Linear(in_features=768, out_features=768, bias=True)\n",
              "              (dropout): Dropout(p=0.1, inplace=False)\n",
              "            )\n",
              "            (output): BertSelfOutput(\n",
              "              (dense): Linear(in_features=768, out_features=768, bias=True)\n",
              "              (LayerNorm): LayerNorm((768,), eps=1e-12, elementwise_affine=True)\n",
              "              (dropout): Dropout(p=0.1, inplace=False)\n",
              "            )\n",
              "          )\n",
              "          (intermediate): BertIntermediate(\n",
              "            (dense): Linear(in_features=768, out_features=3072, bias=True)\n",
              "          )\n",
              "          (output): BertOutput(\n",
              "            (dense): Linear(in_features=3072, out_features=768, bias=True)\n",
              "            (LayerNorm): LayerNorm((768,), eps=1e-12, elementwise_affine=True)\n",
              "            (dropout): Dropout(p=0.1, inplace=False)\n",
              "          )\n",
              "        )\n",
              "        (8): BertLayer(\n",
              "          (attention): BertAttention(\n",
              "            (self): BertSelfAttention(\n",
              "              (query): Linear(in_features=768, out_features=768, bias=True)\n",
              "              (key): Linear(in_features=768, out_features=768, bias=True)\n",
              "              (value): Linear(in_features=768, out_features=768, bias=True)\n",
              "              (dropout): Dropout(p=0.1, inplace=False)\n",
              "            )\n",
              "            (output): BertSelfOutput(\n",
              "              (dense): Linear(in_features=768, out_features=768, bias=True)\n",
              "              (LayerNorm): LayerNorm((768,), eps=1e-12, elementwise_affine=True)\n",
              "              (dropout): Dropout(p=0.1, inplace=False)\n",
              "            )\n",
              "          )\n",
              "          (intermediate): BertIntermediate(\n",
              "            (dense): Linear(in_features=768, out_features=3072, bias=True)\n",
              "          )\n",
              "          (output): BertOutput(\n",
              "            (dense): Linear(in_features=3072, out_features=768, bias=True)\n",
              "            (LayerNorm): LayerNorm((768,), eps=1e-12, elementwise_affine=True)\n",
              "            (dropout): Dropout(p=0.1, inplace=False)\n",
              "          )\n",
              "        )\n",
              "        (9): BertLayer(\n",
              "          (attention): BertAttention(\n",
              "            (self): BertSelfAttention(\n",
              "              (query): Linear(in_features=768, out_features=768, bias=True)\n",
              "              (key): Linear(in_features=768, out_features=768, bias=True)\n",
              "              (value): Linear(in_features=768, out_features=768, bias=True)\n",
              "              (dropout): Dropout(p=0.1, inplace=False)\n",
              "            )\n",
              "            (output): BertSelfOutput(\n",
              "              (dense): Linear(in_features=768, out_features=768, bias=True)\n",
              "              (LayerNorm): LayerNorm((768,), eps=1e-12, elementwise_affine=True)\n",
              "              (dropout): Dropout(p=0.1, inplace=False)\n",
              "            )\n",
              "          )\n",
              "          (intermediate): BertIntermediate(\n",
              "            (dense): Linear(in_features=768, out_features=3072, bias=True)\n",
              "          )\n",
              "          (output): BertOutput(\n",
              "            (dense): Linear(in_features=3072, out_features=768, bias=True)\n",
              "            (LayerNorm): LayerNorm((768,), eps=1e-12, elementwise_affine=True)\n",
              "            (dropout): Dropout(p=0.1, inplace=False)\n",
              "          )\n",
              "        )\n",
              "        (10): BertLayer(\n",
              "          (attention): BertAttention(\n",
              "            (self): BertSelfAttention(\n",
              "              (query): Linear(in_features=768, out_features=768, bias=True)\n",
              "              (key): Linear(in_features=768, out_features=768, bias=True)\n",
              "              (value): Linear(in_features=768, out_features=768, bias=True)\n",
              "              (dropout): Dropout(p=0.1, inplace=False)\n",
              "            )\n",
              "            (output): BertSelfOutput(\n",
              "              (dense): Linear(in_features=768, out_features=768, bias=True)\n",
              "              (LayerNorm): LayerNorm((768,), eps=1e-12, elementwise_affine=True)\n",
              "              (dropout): Dropout(p=0.1, inplace=False)\n",
              "            )\n",
              "          )\n",
              "          (intermediate): BertIntermediate(\n",
              "            (dense): Linear(in_features=768, out_features=3072, bias=True)\n",
              "          )\n",
              "          (output): BertOutput(\n",
              "            (dense): Linear(in_features=3072, out_features=768, bias=True)\n",
              "            (LayerNorm): LayerNorm((768,), eps=1e-12, elementwise_affine=True)\n",
              "            (dropout): Dropout(p=0.1, inplace=False)\n",
              "          )\n",
              "        )\n",
              "        (11): BertLayer(\n",
              "          (attention): BertAttention(\n",
              "            (self): BertSelfAttention(\n",
              "              (query): Linear(in_features=768, out_features=768, bias=True)\n",
              "              (key): Linear(in_features=768, out_features=768, bias=True)\n",
              "              (value): Linear(in_features=768, out_features=768, bias=True)\n",
              "              (dropout): Dropout(p=0.1, inplace=False)\n",
              "            )\n",
              "            (output): BertSelfOutput(\n",
              "              (dense): Linear(in_features=768, out_features=768, bias=True)\n",
              "              (LayerNorm): LayerNorm((768,), eps=1e-12, elementwise_affine=True)\n",
              "              (dropout): Dropout(p=0.1, inplace=False)\n",
              "            )\n",
              "          )\n",
              "          (intermediate): BertIntermediate(\n",
              "            (dense): Linear(in_features=768, out_features=3072, bias=True)\n",
              "          )\n",
              "          (output): BertOutput(\n",
              "            (dense): Linear(in_features=3072, out_features=768, bias=True)\n",
              "            (LayerNorm): LayerNorm((768,), eps=1e-12, elementwise_affine=True)\n",
              "            (dropout): Dropout(p=0.1, inplace=False)\n",
              "          )\n",
              "        )\n",
              "      )\n",
              "    )\n",
              "    (pooler): BertPooler(\n",
              "      (dense): Linear(in_features=768, out_features=768, bias=True)\n",
              "      (activation): Tanh()\n",
              "    )\n",
              "  )\n",
              "  (dropout): Dropout(p=0.1, inplace=False)\n",
              "  (classifier): Linear(in_features=768, out_features=5, bias=True)\n",
              ")"
            ]
          },
          "metadata": {
            "tags": []
          },
          "execution_count": 37
        }
      ]
    },
    {
      "cell_type": "code",
      "metadata": {
        "id": "bZ0llYKGiq1t"
      },
      "source": [
        "optimizer = AdamW(model.parameters(),lr = 2e-5, eps = 1e-8)"
      ],
      "execution_count": null,
      "outputs": []
    },
    {
      "cell_type": "code",
      "metadata": {
        "id": "RbEe_7HQiq1t"
      },
      "source": [
        "from transformers import get_linear_schedule_with_warmup\n",
        "epochs = 2\n",
        "total_steps = len(train_dataloader) * epochs\n",
        "scheduler = get_linear_schedule_with_warmup(optimizer, num_warmup_steps = 0,num_training_steps = total_steps)"
      ],
      "execution_count": null,
      "outputs": []
    },
    {
      "cell_type": "code",
      "metadata": {
        "colab": {
          "base_uri": "https://localhost:8080/"
        },
        "id": "vkJmaqrQiq1t",
        "outputId": "672fe863-e0e3-4060-9b3e-d8ce510c8744"
      },
      "source": [
        "import random\n",
        "\n",
        "# This training code is based on the `run_glue.py` script here:\n",
        "# https://github.com/huggingface/transformers/blob/5bfcd0485ece086ebcbed2d008813037968a9e58/examples/run_glue.py#L128\n",
        "\n",
        "\n",
        "random.seed(seed_value)\n",
        "np.random.seed(seed_value)\n",
        "torch.manual_seed(seed_value)\n",
        "torch.cuda.manual_seed_all(seed_value)\n",
        "\n",
        "\n",
        "training_stats = []\n",
        "\n",
        "# Measure the total training time for the whole run.\n",
        "total_t0 = time.time()\n",
        "\n",
        "\n",
        "for epoch_i in range(0, epochs):\n",
        "    \n",
        "\n",
        "    print(\"\")\n",
        "    print('======== Epoch {:} / {:} ========'.format(epoch_i + 1, epochs))\n",
        "    print('Training...')\n",
        "\n",
        "    # Measure how long the training epoch takes.\n",
        "    t0 = time.time()\n",
        "\n",
        "    # Reset the total loss for this epoch.\n",
        "    total_train_loss = 0\n",
        "\n",
        " \n",
        "    model.train()\n",
        "\n",
        "    # For each batch of training data...\n",
        "    for step, batch in enumerate(train_dataloader):\n",
        "\n",
        "        # Progress update every 40 batches.\n",
        "        if step % 40 == 0 and not step == 0:\n",
        "            # Calculate elapsed time in minutes.\n",
        "            elapsed = format_time(time.time() - t0)\n",
        "            \n",
        "            # Report progress.\n",
        "            print('  Batch {:>5,}  of  {:>5,}.    Elapsed: {:}.'.format(step, len(train_dataloader), elapsed))\n",
        "\n",
        "\n",
        "        b_input_ids = batch[0].to(device)\n",
        "        b_input_mask = batch[1].to(device)\n",
        "        b_labels = batch[2].to(device)\n",
        "\n",
        "        model.zero_grad()        \n",
        "\n",
        "\n",
        "        result = model(b_input_ids, \n",
        "                       token_type_ids=None, \n",
        "                       attention_mask=b_input_mask, \n",
        "                       labels=b_labels,\n",
        "                       return_dict=True)\n",
        "\n",
        "        loss = result.loss\n",
        "        logits = result.logits\n",
        "\n",
        "       \n",
        "        total_train_loss += loss.item()\n",
        "\n",
        "        # Perform a backward pass to calculate the gradients.\n",
        "        loss.backward()\n",
        "\n",
        "        torch.nn.utils.clip_grad_norm_(model.parameters(), 1.0)\n",
        "\n",
        "        optimizer.step()\n",
        "\n",
        "        # Update the learning rate.\n",
        "        scheduler.step()\n",
        "\n",
        "    # Calculate the average loss over all of the batches.\n",
        "    avg_train_loss = total_train_loss / len(train_dataloader)            \n",
        "    \n",
        "    # Measure how long this epoch took.\n",
        "    training_time = format_time(time.time() - t0)\n",
        "\n",
        "    print(\"\")\n",
        "    print(\"  Average training loss: {0:.2f}\".format(avg_train_loss))\n",
        "    print(\"  Training epcoh took: {:}\".format(training_time))\n",
        "        \n",
        "\n",
        "\n",
        "    print(\"\")\n",
        "    print(\"Running Validation...\")\n",
        "\n",
        "    t0 = time.time()\n",
        "\n",
        "    \n",
        "    model.eval()\n",
        "\n",
        "    # Tracking variables \n",
        "    total_eval_accuracy = 0\n",
        "    total_eval_loss = 0\n",
        "    nb_eval_steps = 0\n",
        "\n",
        "    # Evaluate data for one epoch\n",
        "    for batch in validation_dataloader:\n",
        "        \n",
        "        \n",
        "        b_input_ids = batch[0].to(device)\n",
        "        b_input_mask = batch[1].to(device)\n",
        "        b_labels = batch[2].to(device)\n",
        "        \n",
        " \n",
        "        with torch.no_grad():        \n",
        "\n",
        "        \n",
        "            result = model(b_input_ids, \n",
        "                           token_type_ids=None, \n",
        "                           attention_mask=b_input_mask,\n",
        "                           labels=b_labels,\n",
        "                           return_dict=True)\n",
        "\n",
        "      \n",
        "        loss = result.loss\n",
        "        logits = result.logits\n",
        "            \n",
        "        # Accumulate the validation loss.\n",
        "        total_eval_loss += loss.item()\n",
        "\n",
        "        # Move logits and labels to CPU\n",
        "        logits = logits.detach().cpu().numpy()\n",
        "        label_ids = b_labels.to('cpu').numpy()\n",
        "\n",
        "       \n",
        "        total_eval_accuracy += flat_accuracy(logits, label_ids)\n",
        "        \n",
        "\n",
        "    # Report the final accuracy for this validation run.\n",
        "    avg_val_accuracy = total_eval_accuracy / len(validation_dataloader)\n",
        "    print(\"  Accuracy: {0:.2f}\".format(avg_val_accuracy))\n",
        "\n",
        "    # Calculate the average loss over all of the batches.\n",
        "    avg_val_loss = total_eval_loss / len(validation_dataloader)\n",
        "    \n",
        "    # Measure how long the validation run took.\n",
        "    validation_time = format_time(time.time() - t0)\n",
        "    \n",
        "    print(\"  Validation Loss: {0:.2f}\".format(avg_val_loss))\n",
        "    print(\"  Validation took: {:}\".format(validation_time))\n",
        "\n",
        "    # Record all statistics from this epoch.\n",
        "    training_stats.append(\n",
        "        {\n",
        "            'epoch': epoch_i + 1,\n",
        "            'Training Loss': avg_train_loss,\n",
        "            'Valid. Loss': avg_val_loss,\n",
        "            'Valid. Accur.': avg_val_accuracy,\n",
        "            'Training Time': training_time,\n",
        "            'Validation Time': validation_time\n",
        "        }\n",
        "    )\n",
        "\n",
        "print(\"\")\n",
        "print(\"Training complete!\")\n",
        "\n",
        "print(\"Total training took {:} (h:mm:ss)\".format(format_time(time.time()-total_t0)))\n"
      ],
      "execution_count": null,
      "outputs": [
        {
          "output_type": "stream",
          "text": [
            "\n",
            "======== Epoch 1 / 2 ========\n",
            "Training...\n",
            "  Batch    40  of  5,064.    Elapsed: 0:00:28.\n",
            "  Batch    80  of  5,064.    Elapsed: 0:00:56.\n",
            "  Batch   120  of  5,064.    Elapsed: 0:01:23.\n",
            "  Batch   160  of  5,064.    Elapsed: 0:01:51.\n",
            "  Batch   200  of  5,064.    Elapsed: 0:02:19.\n",
            "  Batch   240  of  5,064.    Elapsed: 0:02:47.\n",
            "  Batch   280  of  5,064.    Elapsed: 0:03:14.\n",
            "  Batch   320  of  5,064.    Elapsed: 0:03:42.\n",
            "  Batch   360  of  5,064.    Elapsed: 0:04:10.\n",
            "  Batch   400  of  5,064.    Elapsed: 0:04:38.\n",
            "  Batch   440  of  5,064.    Elapsed: 0:05:05.\n",
            "  Batch   480  of  5,064.    Elapsed: 0:05:33.\n",
            "  Batch   520  of  5,064.    Elapsed: 0:06:01.\n",
            "  Batch   560  of  5,064.    Elapsed: 0:06:28.\n",
            "  Batch   600  of  5,064.    Elapsed: 0:06:56.\n",
            "  Batch   640  of  5,064.    Elapsed: 0:07:24.\n",
            "  Batch   680  of  5,064.    Elapsed: 0:07:52.\n",
            "  Batch   720  of  5,064.    Elapsed: 0:08:19.\n",
            "  Batch   760  of  5,064.    Elapsed: 0:08:47.\n",
            "  Batch   800  of  5,064.    Elapsed: 0:09:15.\n",
            "  Batch   840  of  5,064.    Elapsed: 0:09:43.\n",
            "  Batch   880  of  5,064.    Elapsed: 0:10:10.\n",
            "  Batch   920  of  5,064.    Elapsed: 0:10:38.\n",
            "  Batch   960  of  5,064.    Elapsed: 0:11:06.\n",
            "  Batch 1,000  of  5,064.    Elapsed: 0:11:33.\n",
            "  Batch 1,040  of  5,064.    Elapsed: 0:12:01.\n",
            "  Batch 1,080  of  5,064.    Elapsed: 0:12:29.\n",
            "  Batch 1,120  of  5,064.    Elapsed: 0:12:56.\n",
            "  Batch 1,160  of  5,064.    Elapsed: 0:13:24.\n",
            "  Batch 1,200  of  5,064.    Elapsed: 0:13:52.\n",
            "  Batch 1,240  of  5,064.    Elapsed: 0:14:20.\n",
            "  Batch 1,280  of  5,064.    Elapsed: 0:14:47.\n",
            "  Batch 1,320  of  5,064.    Elapsed: 0:15:15.\n",
            "  Batch 1,360  of  5,064.    Elapsed: 0:15:43.\n",
            "  Batch 1,400  of  5,064.    Elapsed: 0:16:10.\n",
            "  Batch 1,440  of  5,064.    Elapsed: 0:16:38.\n",
            "  Batch 1,480  of  5,064.    Elapsed: 0:17:06.\n",
            "  Batch 1,520  of  5,064.    Elapsed: 0:17:33.\n",
            "  Batch 1,560  of  5,064.    Elapsed: 0:18:01.\n",
            "  Batch 1,600  of  5,064.    Elapsed: 0:18:29.\n",
            "  Batch 1,640  of  5,064.    Elapsed: 0:18:57.\n",
            "  Batch 1,680  of  5,064.    Elapsed: 0:19:24.\n",
            "  Batch 1,720  of  5,064.    Elapsed: 0:19:52.\n",
            "  Batch 1,760  of  5,064.    Elapsed: 0:20:20.\n",
            "  Batch 1,800  of  5,064.    Elapsed: 0:20:47.\n",
            "  Batch 1,840  of  5,064.    Elapsed: 0:21:15.\n",
            "  Batch 1,880  of  5,064.    Elapsed: 0:21:43.\n",
            "  Batch 1,920  of  5,064.    Elapsed: 0:22:11.\n",
            "  Batch 1,960  of  5,064.    Elapsed: 0:22:38.\n",
            "  Batch 2,000  of  5,064.    Elapsed: 0:23:06.\n",
            "  Batch 2,040  of  5,064.    Elapsed: 0:23:34.\n",
            "  Batch 2,080  of  5,064.    Elapsed: 0:24:01.\n",
            "  Batch 2,120  of  5,064.    Elapsed: 0:24:29.\n",
            "  Batch 2,160  of  5,064.    Elapsed: 0:24:57.\n",
            "  Batch 2,200  of  5,064.    Elapsed: 0:25:24.\n",
            "  Batch 2,240  of  5,064.    Elapsed: 0:25:52.\n",
            "  Batch 2,280  of  5,064.    Elapsed: 0:26:20.\n",
            "  Batch 2,320  of  5,064.    Elapsed: 0:26:47.\n",
            "  Batch 2,360  of  5,064.    Elapsed: 0:27:15.\n",
            "  Batch 2,400  of  5,064.    Elapsed: 0:27:43.\n",
            "  Batch 2,440  of  5,064.    Elapsed: 0:28:11.\n",
            "  Batch 2,480  of  5,064.    Elapsed: 0:28:38.\n",
            "  Batch 2,520  of  5,064.    Elapsed: 0:29:06.\n",
            "  Batch 2,560  of  5,064.    Elapsed: 0:29:34.\n",
            "  Batch 2,600  of  5,064.    Elapsed: 0:30:02.\n",
            "  Batch 2,640  of  5,064.    Elapsed: 0:30:29.\n",
            "  Batch 2,680  of  5,064.    Elapsed: 0:30:57.\n",
            "  Batch 2,720  of  5,064.    Elapsed: 0:31:25.\n",
            "  Batch 2,760  of  5,064.    Elapsed: 0:31:53.\n",
            "  Batch 2,800  of  5,064.    Elapsed: 0:32:20.\n",
            "  Batch 2,840  of  5,064.    Elapsed: 0:32:48.\n",
            "  Batch 2,880  of  5,064.    Elapsed: 0:33:16.\n",
            "  Batch 2,920  of  5,064.    Elapsed: 0:33:43.\n",
            "  Batch 2,960  of  5,064.    Elapsed: 0:34:11.\n",
            "  Batch 3,000  of  5,064.    Elapsed: 0:34:39.\n",
            "  Batch 3,040  of  5,064.    Elapsed: 0:35:06.\n",
            "  Batch 3,080  of  5,064.    Elapsed: 0:35:34.\n",
            "  Batch 3,120  of  5,064.    Elapsed: 0:36:02.\n",
            "  Batch 3,160  of  5,064.    Elapsed: 0:36:30.\n",
            "  Batch 3,200  of  5,064.    Elapsed: 0:36:57.\n",
            "  Batch 3,240  of  5,064.    Elapsed: 0:37:25.\n",
            "  Batch 3,280  of  5,064.    Elapsed: 0:37:53.\n",
            "  Batch 3,320  of  5,064.    Elapsed: 0:38:20.\n",
            "  Batch 3,360  of  5,064.    Elapsed: 0:38:48.\n",
            "  Batch 3,400  of  5,064.    Elapsed: 0:39:16.\n",
            "  Batch 3,440  of  5,064.    Elapsed: 0:39:43.\n",
            "  Batch 3,480  of  5,064.    Elapsed: 0:40:11.\n",
            "  Batch 3,520  of  5,064.    Elapsed: 0:40:39.\n",
            "  Batch 3,560  of  5,064.    Elapsed: 0:41:06.\n",
            "  Batch 3,600  of  5,064.    Elapsed: 0:41:34.\n",
            "  Batch 3,640  of  5,064.    Elapsed: 0:42:02.\n",
            "  Batch 3,680  of  5,064.    Elapsed: 0:42:30.\n",
            "  Batch 3,720  of  5,064.    Elapsed: 0:42:57.\n",
            "  Batch 3,760  of  5,064.    Elapsed: 0:43:25.\n",
            "  Batch 3,800  of  5,064.    Elapsed: 0:43:53.\n",
            "  Batch 3,840  of  5,064.    Elapsed: 0:44:20.\n",
            "  Batch 3,880  of  5,064.    Elapsed: 0:44:48.\n",
            "  Batch 3,920  of  5,064.    Elapsed: 0:45:16.\n",
            "  Batch 3,960  of  5,064.    Elapsed: 0:45:43.\n",
            "  Batch 4,000  of  5,064.    Elapsed: 0:46:11.\n",
            "  Batch 4,040  of  5,064.    Elapsed: 0:46:39.\n",
            "  Batch 4,080  of  5,064.    Elapsed: 0:47:07.\n",
            "  Batch 4,120  of  5,064.    Elapsed: 0:47:34.\n",
            "  Batch 4,160  of  5,064.    Elapsed: 0:48:02.\n",
            "  Batch 4,200  of  5,064.    Elapsed: 0:48:30.\n",
            "  Batch 4,240  of  5,064.    Elapsed: 0:48:57.\n",
            "  Batch 4,280  of  5,064.    Elapsed: 0:49:25.\n",
            "  Batch 4,320  of  5,064.    Elapsed: 0:49:53.\n",
            "  Batch 4,360  of  5,064.    Elapsed: 0:50:20.\n",
            "  Batch 4,400  of  5,064.    Elapsed: 0:50:48.\n",
            "  Batch 4,440  of  5,064.    Elapsed: 0:51:16.\n",
            "  Batch 4,480  of  5,064.    Elapsed: 0:51:44.\n",
            "  Batch 4,520  of  5,064.    Elapsed: 0:52:11.\n",
            "  Batch 4,560  of  5,064.    Elapsed: 0:52:39.\n",
            "  Batch 4,600  of  5,064.    Elapsed: 0:53:07.\n",
            "  Batch 4,640  of  5,064.    Elapsed: 0:53:35.\n",
            "  Batch 4,680  of  5,064.    Elapsed: 0:54:02.\n",
            "  Batch 4,720  of  5,064.    Elapsed: 0:54:30.\n",
            "  Batch 4,760  of  5,064.    Elapsed: 0:54:58.\n",
            "  Batch 4,800  of  5,064.    Elapsed: 0:55:25.\n",
            "  Batch 4,840  of  5,064.    Elapsed: 0:55:53.\n",
            "  Batch 4,880  of  5,064.    Elapsed: 0:56:21.\n",
            "  Batch 4,920  of  5,064.    Elapsed: 0:56:49.\n",
            "  Batch 4,960  of  5,064.    Elapsed: 0:57:16.\n",
            "  Batch 5,000  of  5,064.    Elapsed: 0:57:44.\n",
            "  Batch 5,040  of  5,064.    Elapsed: 0:58:12.\n",
            "\n",
            "  Average training loss: 0.37\n",
            "  Training epcoh took: 0:58:28\n",
            "\n",
            "Running Validation...\n",
            "  Accuracy: 0.88\n",
            "  Validation Loss: 0.33\n",
            "  Validation took: 0:02:08\n",
            "\n",
            "======== Epoch 2 / 2 ========\n",
            "Training...\n",
            "  Batch    40  of  5,064.    Elapsed: 0:00:28.\n",
            "  Batch    80  of  5,064.    Elapsed: 0:00:55.\n",
            "  Batch   120  of  5,064.    Elapsed: 0:01:23.\n",
            "  Batch   160  of  5,064.    Elapsed: 0:01:51.\n",
            "  Batch   200  of  5,064.    Elapsed: 0:02:19.\n",
            "  Batch   240  of  5,064.    Elapsed: 0:02:46.\n",
            "  Batch   280  of  5,064.    Elapsed: 0:03:14.\n",
            "  Batch   320  of  5,064.    Elapsed: 0:03:42.\n",
            "  Batch   360  of  5,064.    Elapsed: 0:04:09.\n",
            "  Batch   400  of  5,064.    Elapsed: 0:04:37.\n",
            "  Batch   440  of  5,064.    Elapsed: 0:05:05.\n",
            "  Batch   480  of  5,064.    Elapsed: 0:05:33.\n",
            "  Batch   520  of  5,064.    Elapsed: 0:06:01.\n",
            "  Batch   560  of  5,064.    Elapsed: 0:06:28.\n",
            "  Batch   600  of  5,064.    Elapsed: 0:06:56.\n",
            "  Batch   640  of  5,064.    Elapsed: 0:07:24.\n",
            "  Batch   680  of  5,064.    Elapsed: 0:07:51.\n",
            "  Batch   720  of  5,064.    Elapsed: 0:08:19.\n",
            "  Batch   760  of  5,064.    Elapsed: 0:08:47.\n",
            "  Batch   800  of  5,064.    Elapsed: 0:09:15.\n",
            "  Batch   840  of  5,064.    Elapsed: 0:09:42.\n",
            "  Batch   880  of  5,064.    Elapsed: 0:10:10.\n",
            "  Batch   920  of  5,064.    Elapsed: 0:10:38.\n",
            "  Batch   960  of  5,064.    Elapsed: 0:11:05.\n",
            "  Batch 1,000  of  5,064.    Elapsed: 0:11:33.\n",
            "  Batch 1,040  of  5,064.    Elapsed: 0:12:01.\n",
            "  Batch 1,080  of  5,064.    Elapsed: 0:12:28.\n",
            "  Batch 1,120  of  5,064.    Elapsed: 0:12:56.\n",
            "  Batch 1,160  of  5,064.    Elapsed: 0:13:24.\n",
            "  Batch 1,200  of  5,064.    Elapsed: 0:13:52.\n",
            "  Batch 1,240  of  5,064.    Elapsed: 0:14:19.\n",
            "  Batch 1,280  of  5,064.    Elapsed: 0:14:47.\n",
            "  Batch 1,320  of  5,064.    Elapsed: 0:15:15.\n",
            "  Batch 1,360  of  5,064.    Elapsed: 0:15:42.\n",
            "  Batch 1,400  of  5,064.    Elapsed: 0:16:10.\n",
            "  Batch 1,440  of  5,064.    Elapsed: 0:16:38.\n",
            "  Batch 1,480  of  5,064.    Elapsed: 0:17:06.\n",
            "  Batch 1,520  of  5,064.    Elapsed: 0:17:33.\n",
            "  Batch 1,560  of  5,064.    Elapsed: 0:18:01.\n",
            "  Batch 1,600  of  5,064.    Elapsed: 0:18:29.\n",
            "  Batch 1,640  of  5,064.    Elapsed: 0:18:56.\n",
            "  Batch 1,680  of  5,064.    Elapsed: 0:19:24.\n",
            "  Batch 1,720  of  5,064.    Elapsed: 0:19:52.\n",
            "  Batch 1,760  of  5,064.    Elapsed: 0:20:20.\n",
            "  Batch 1,800  of  5,064.    Elapsed: 0:20:47.\n",
            "  Batch 1,840  of  5,064.    Elapsed: 0:21:15.\n",
            "  Batch 1,880  of  5,064.    Elapsed: 0:21:43.\n",
            "  Batch 1,920  of  5,064.    Elapsed: 0:22:11.\n",
            "  Batch 1,960  of  5,064.    Elapsed: 0:22:38.\n",
            "  Batch 2,000  of  5,064.    Elapsed: 0:23:06.\n",
            "  Batch 2,040  of  5,064.    Elapsed: 0:23:34.\n",
            "  Batch 2,080  of  5,064.    Elapsed: 0:24:02.\n",
            "  Batch 2,120  of  5,064.    Elapsed: 0:24:29.\n",
            "  Batch 2,160  of  5,064.    Elapsed: 0:24:57.\n",
            "  Batch 2,200  of  5,064.    Elapsed: 0:25:25.\n",
            "  Batch 2,240  of  5,064.    Elapsed: 0:25:52.\n",
            "  Batch 2,280  of  5,064.    Elapsed: 0:26:20.\n",
            "  Batch 2,320  of  5,064.    Elapsed: 0:26:48.\n",
            "  Batch 2,360  of  5,064.    Elapsed: 0:27:16.\n",
            "  Batch 2,400  of  5,064.    Elapsed: 0:27:44.\n",
            "  Batch 2,440  of  5,064.    Elapsed: 0:28:11.\n",
            "  Batch 2,480  of  5,064.    Elapsed: 0:28:39.\n",
            "  Batch 2,520  of  5,064.    Elapsed: 0:29:07.\n",
            "  Batch 2,560  of  5,064.    Elapsed: 0:29:35.\n",
            "  Batch 2,600  of  5,064.    Elapsed: 0:30:02.\n",
            "  Batch 2,640  of  5,064.    Elapsed: 0:30:30.\n",
            "  Batch 2,680  of  5,064.    Elapsed: 0:30:58.\n",
            "  Batch 2,720  of  5,064.    Elapsed: 0:31:25.\n",
            "  Batch 2,760  of  5,064.    Elapsed: 0:31:53.\n",
            "  Batch 2,800  of  5,064.    Elapsed: 0:32:21.\n",
            "  Batch 2,840  of  5,064.    Elapsed: 0:32:49.\n",
            "  Batch 2,880  of  5,064.    Elapsed: 0:33:16.\n",
            "  Batch 2,920  of  5,064.    Elapsed: 0:33:44.\n",
            "  Batch 2,960  of  5,064.    Elapsed: 0:34:12.\n",
            "  Batch 3,000  of  5,064.    Elapsed: 0:34:39.\n",
            "  Batch 3,040  of  5,064.    Elapsed: 0:35:07.\n",
            "  Batch 3,080  of  5,064.    Elapsed: 0:35:35.\n",
            "  Batch 3,120  of  5,064.    Elapsed: 0:36:03.\n",
            "  Batch 3,160  of  5,064.    Elapsed: 0:36:30.\n",
            "  Batch 3,200  of  5,064.    Elapsed: 0:36:58.\n",
            "  Batch 3,240  of  5,064.    Elapsed: 0:37:26.\n",
            "  Batch 3,280  of  5,064.    Elapsed: 0:37:54.\n",
            "  Batch 3,320  of  5,064.    Elapsed: 0:38:21.\n",
            "  Batch 3,360  of  5,064.    Elapsed: 0:38:49.\n",
            "  Batch 3,400  of  5,064.    Elapsed: 0:39:17.\n",
            "  Batch 3,440  of  5,064.    Elapsed: 0:39:44.\n",
            "  Batch 3,480  of  5,064.    Elapsed: 0:40:12.\n",
            "  Batch 3,520  of  5,064.    Elapsed: 0:40:40.\n",
            "  Batch 3,560  of  5,064.    Elapsed: 0:41:08.\n",
            "  Batch 3,600  of  5,064.    Elapsed: 0:41:36.\n",
            "  Batch 3,640  of  5,064.    Elapsed: 0:42:03.\n",
            "  Batch 3,680  of  5,064.    Elapsed: 0:42:31.\n",
            "  Batch 3,720  of  5,064.    Elapsed: 0:42:59.\n",
            "  Batch 3,760  of  5,064.    Elapsed: 0:43:27.\n",
            "  Batch 3,800  of  5,064.    Elapsed: 0:43:54.\n",
            "  Batch 3,840  of  5,064.    Elapsed: 0:44:22.\n",
            "  Batch 3,880  of  5,064.    Elapsed: 0:44:50.\n",
            "  Batch 3,920  of  5,064.    Elapsed: 0:45:18.\n",
            "  Batch 3,960  of  5,064.    Elapsed: 0:45:45.\n",
            "  Batch 4,000  of  5,064.    Elapsed: 0:46:13.\n",
            "  Batch 4,040  of  5,064.    Elapsed: 0:46:41.\n",
            "  Batch 4,080  of  5,064.    Elapsed: 0:47:08.\n",
            "  Batch 4,120  of  5,064.    Elapsed: 0:47:36.\n",
            "  Batch 4,160  of  5,064.    Elapsed: 0:48:04.\n",
            "  Batch 4,200  of  5,064.    Elapsed: 0:48:32.\n",
            "  Batch 4,240  of  5,064.    Elapsed: 0:48:59.\n",
            "  Batch 4,280  of  5,064.    Elapsed: 0:49:27.\n",
            "  Batch 4,320  of  5,064.    Elapsed: 0:49:55.\n",
            "  Batch 4,360  of  5,064.    Elapsed: 0:50:23.\n",
            "  Batch 4,400  of  5,064.    Elapsed: 0:50:50.\n",
            "  Batch 4,440  of  5,064.    Elapsed: 0:51:18.\n",
            "  Batch 4,480  of  5,064.    Elapsed: 0:51:46.\n",
            "  Batch 4,520  of  5,064.    Elapsed: 0:52:14.\n",
            "  Batch 4,560  of  5,064.    Elapsed: 0:52:41.\n",
            "  Batch 4,600  of  5,064.    Elapsed: 0:53:09.\n",
            "  Batch 4,640  of  5,064.    Elapsed: 0:53:37.\n",
            "  Batch 4,680  of  5,064.    Elapsed: 0:54:05.\n",
            "  Batch 4,720  of  5,064.    Elapsed: 0:54:32.\n",
            "  Batch 4,760  of  5,064.    Elapsed: 0:55:00.\n",
            "  Batch 4,800  of  5,064.    Elapsed: 0:55:28.\n",
            "  Batch 4,840  of  5,064.    Elapsed: 0:55:56.\n",
            "  Batch 4,880  of  5,064.    Elapsed: 0:56:23.\n",
            "  Batch 4,920  of  5,064.    Elapsed: 0:56:51.\n",
            "  Batch 4,960  of  5,064.    Elapsed: 0:57:19.\n",
            "  Batch 5,000  of  5,064.    Elapsed: 0:57:46.\n",
            "  Batch 5,040  of  5,064.    Elapsed: 0:58:14.\n",
            "\n",
            "  Average training loss: 0.27\n",
            "  Training epcoh took: 0:58:31\n",
            "\n",
            "Running Validation...\n",
            "  Accuracy: 0.88\n",
            "  Validation Loss: 0.33\n",
            "  Validation took: 0:02:08\n",
            "\n",
            "Training complete!\n",
            "Total training took 2:01:16 (h:mm:ss)\n"
          ],
          "name": "stdout"
        }
      ]
    },
    {
      "cell_type": "code",
      "metadata": {
        "colab": {
          "base_uri": "https://localhost:8080/",
          "height": 136
        },
        "id": "OYSpnS5P-bAz",
        "outputId": "574c8fdd-9252-4213-8f0b-0c3f41e3bb99"
      },
      "source": [
        "pd.set_option('precision', 2)\n",
        "df_stats = pd.DataFrame(data=training_stats)\n",
        "df_stats = df_stats.set_index('epoch')\n",
        "df_stats"
      ],
      "execution_count": null,
      "outputs": [
        {
          "output_type": "execute_result",
          "data": {
            "text/html": [
              "<div>\n",
              "<style scoped>\n",
              "    .dataframe tbody tr th:only-of-type {\n",
              "        vertical-align: middle;\n",
              "    }\n",
              "\n",
              "    .dataframe tbody tr th {\n",
              "        vertical-align: top;\n",
              "    }\n",
              "\n",
              "    .dataframe thead th {\n",
              "        text-align: right;\n",
              "    }\n",
              "</style>\n",
              "<table border=\"1\" class=\"dataframe\">\n",
              "  <thead>\n",
              "    <tr style=\"text-align: right;\">\n",
              "      <th></th>\n",
              "      <th>Training Loss</th>\n",
              "      <th>Valid. Loss</th>\n",
              "      <th>Valid. Accur.</th>\n",
              "      <th>Training Time</th>\n",
              "      <th>Validation Time</th>\n",
              "    </tr>\n",
              "    <tr>\n",
              "      <th>epoch</th>\n",
              "      <th></th>\n",
              "      <th></th>\n",
              "      <th></th>\n",
              "      <th></th>\n",
              "      <th></th>\n",
              "    </tr>\n",
              "  </thead>\n",
              "  <tbody>\n",
              "    <tr>\n",
              "      <th>1</th>\n",
              "      <td>0.37</td>\n",
              "      <td>0.33</td>\n",
              "      <td>0.88</td>\n",
              "      <td>0:58:28</td>\n",
              "      <td>0:02:08</td>\n",
              "    </tr>\n",
              "    <tr>\n",
              "      <th>2</th>\n",
              "      <td>0.27</td>\n",
              "      <td>0.33</td>\n",
              "      <td>0.88</td>\n",
              "      <td>0:58:31</td>\n",
              "      <td>0:02:08</td>\n",
              "    </tr>\n",
              "  </tbody>\n",
              "</table>\n",
              "</div>"
            ],
            "text/plain": [
              "       Training Loss  Valid. Loss  Valid. Accur. Training Time Validation Time\n",
              "epoch                                                                         \n",
              "1               0.37         0.33           0.88       0:58:28         0:02:08\n",
              "2               0.27         0.33           0.88       0:58:31         0:02:08"
            ]
          },
          "metadata": {
            "tags": []
          },
          "execution_count": 42
        }
      ]
    },
    {
      "cell_type": "code",
      "metadata": {
        "colab": {
          "base_uri": "https://localhost:8080/",
          "height": 427
        },
        "id": "osXt4fHB-bA4",
        "outputId": "87f494b0-e608-4714-cdd4-d3b00d2e68b6"
      },
      "source": [
        "import matplotlib.pyplot as plt\n",
        "% matplotlib inline\n",
        "\n",
        "import seaborn as sns\n",
        "\n",
        "# Use plot styling from seaborn.\n",
        "sns.set(style='darkgrid')\n",
        "\n",
        "# Increase the plot size and font size.\n",
        "sns.set(font_scale=1.5)\n",
        "plt.rcParams[\"figure.figsize\"] = (12,6)\n",
        "\n",
        "# Plot the learning curve.\n",
        "plt.plot(df_stats['Training Loss'], 'b-o', label=\"Training\")\n",
        "plt.plot(df_stats['Valid. Loss'], 'g-o', label=\"Validation\")\n",
        "\n",
        "# Label the plot.\n",
        "plt.title(\"Training & Validation Loss\")\n",
        "plt.xlabel(\"Epoch\")\n",
        "plt.ylabel(\"Loss\")\n",
        "plt.legend()\n",
        "plt.xticks([1, 2])\n",
        "\n",
        "plt.show()"
      ],
      "execution_count": null,
      "outputs": [
        {
          "output_type": "display_data",
          "data": {
            "image/png": "[encoded data removed]",
            "text/plain": [
              "<Figure size 864x432 with 1 Axes>"
            ]
          },
          "metadata": {
            "tags": []
          }
        }
      ]
    },
    {
      "cell_type": "markdown",
      "metadata": {
        "id": "I8_6nNw9-bA5"
      },
      "source": [
        "# Testing the model"
      ]
    },
    {
      "cell_type": "code",
      "metadata": {
        "id": "hIP3fFVT-bA7"
      },
      "source": [
        "# Create the DataLoader.\n",
        "prediction_sampler = SequentialSampler(dataset_test)\n",
        "prediction_dataloader = DataLoader(dataset_test, sampler=prediction_sampler, batch_size=29)"
      ],
      "execution_count": null,
      "outputs": []
    },
    {
      "cell_type": "code",
      "metadata": {
        "colab": {
          "base_uri": "https://localhost:8080/"
        },
        "id": "P7uptU45-bA8",
        "outputId": "0eb655d2-af89-498e-866c-a4b4154eab12"
      },
      "source": [
        "print('Predicting labels for {:,} test sentences...'.format(len(input_ids_test_bio)))\n",
        "\n",
        "model.eval()\n",
        "\n",
        "predictions , true_labels = [], []\n",
        "\n",
        "# Predict \n",
        "for batch in prediction_dataloader:\n",
        "  # Add batch to GPU\n",
        "  batch = tuple(t.to(device) for t in batch)\n",
        "  \n",
        "  # Unpack the inputs from our dataloader\n",
        "  b_input_ids, b_input_mask, b_labels = batch\n",
        "  \n",
        "  \n",
        "  with torch.no_grad():\n",
        "      # Forward pass, calculate logit predictions.\n",
        "      result = model(b_input_ids, \n",
        "                     token_type_ids=None, \n",
        "                     attention_mask=b_input_mask,\n",
        "                     return_dict=True)\n",
        "\n",
        "  logits = result.logits\n",
        "\n",
        "  # Move logits and labels to CPU\n",
        "  logits = logits.detach().cpu().numpy()\n",
        "  label_ids = b_labels.to('cpu').numpy()\n",
        "  \n",
        "  # Store predictions and true labels\n",
        "  predictions.append(logits)\n",
        "  true_labels.append(label_ids)\n",
        "\n",
        "print('    DONE.')"
      ],
      "execution_count": null,
      "outputs": [
        {
          "output_type": "stream",
          "text": [
            "Predicting labels for 30,135 test sentences...\n",
            "    DONE.\n"
          ],
          "name": "stdout"
        }
      ]
    },
    {
      "cell_type": "code",
      "metadata": {
        "id": "AVwEYpn4-bA9"
      },
      "source": [
        "from sklearn.metrics import classification_report"
      ],
      "execution_count": null,
      "outputs": []
    },
    {
      "cell_type": "code",
      "metadata": {
        "colab": {
          "base_uri": "https://localhost:8080/"
        },
        "id": "fDY_1uk0-bA9",
        "outputId": "c8b9acb6-010a-43e3-c639-ce5dbc03ea54"
      },
      "source": [
        "# Combine the results across all batches. \n",
        "flat_predictions = np.concatenate(predictions, axis=0)\n",
        "\n",
        "flat_predictions = np.argmax(flat_predictions, axis=1).flatten()\n",
        "\n",
        "flat_true_labels = np.concatenate(true_labels, axis=0)\n",
        "\n",
        "metrics_report = classification_report(flat_true_labels, flat_predictions,target_names=['BACKGROUND', 'OBJECTIVE', 'METHODS', 'RESULTS', 'CONCLUSIONS'])\n",
        "\n",
        "print(metrics_report)"
      ],
      "execution_count": null,
      "outputs": [
        {
          "output_type": "stream",
          "text": [
            "              precision    recall  f1-score   support\n",
            "\n",
            "  BACKGROUND       0.69      0.82      0.75      3621\n",
            "   OBJECTIVE       0.77      0.57      0.65      2333\n",
            "     METHODS       0.93      0.96      0.94      9897\n",
            "     RESULTS       0.93      0.92      0.92      9713\n",
            " CONCLUSIONS       0.87      0.84      0.85      4571\n",
            "\n",
            "    accuracy                           0.88     30135\n",
            "   macro avg       0.84      0.82      0.82     30135\n",
            "weighted avg       0.88      0.88      0.88     30135\n",
            "\n"
          ],
          "name": "stdout"
        }
      ]
    },
    {
      "cell_type": "code",
      "metadata": {
        "colab": {
          "base_uri": "https://localhost:8080/"
        },
        "id": "fkH9wC2U-bBB",
        "outputId": "0c687bbc-5bb7-423d-a749-b6594165afc1"
      },
      "source": [
        "acc_bertbio,pr_bertbio,re_bertbio,f1_bertbio=evaluate_model_bert(flat_predictions,flat_true_labels)\n",
        "print(\"Accuracy : \"+str(acc_bertbio))\n",
        "print(\"Precision : \"+str(pr_bertbio))\n",
        "print(\"Recall : \"+str(re_bertbio))\n",
        "print(\"F1 Score : \"+str(f1_bertbio))"
      ],
      "execution_count": null,
      "outputs": [
        {
          "output_type": "stream",
          "text": [
            "Accuracy : 0.8791770366683259\n",
            "Precision : 0.8383543945999843\n",
            "Recall : 0.8192483188370876\n",
            "F1 Score : 0.8247273690979648\n"
          ],
          "name": "stdout"
        }
      ]
    },
    {
      "cell_type": "code",
      "metadata": {
        "id": "PCoXma0GDySO"
      },
      "source": [
        "mt_df = pd.DataFrame()\n",
        "mt_df = mt_df.append({'accuracy':acc_bert,'precision':pr_bert,'recall':re_bert,'f1 score':f1_bert},ignore_index=True)\n",
        "mt_df = mt_df.append({'accuracy':acc_bertbio,'precision':pr_bertbio,'recall':re_bertbio,'f1 score':f1_bertbio},ignore_index=True)"
      ],
      "execution_count": null,
      "outputs": []
    },
    {
      "cell_type": "code",
      "metadata": {
        "id": "-uMfnOb9FeX7"
      },
      "source": [
        "mt_df.index =['bert','bioBert']"
      ],
      "execution_count": null,
      "outputs": []
    },
    {
      "cell_type": "code",
      "metadata": {
        "colab": {
          "base_uri": "https://localhost:8080/",
          "height": 106
        },
        "id": "AGNUd5VYFzpD",
        "outputId": "1c2f49b3-43db-42ca-e0b9-a315a3122f8e"
      },
      "source": [
        "mt_df"
      ],
      "execution_count": null,
      "outputs": [
        {
          "output_type": "execute_result",
          "data": {
            "text/html": [
              "<div>\n",
              "<style scoped>\n",
              "    .dataframe tbody tr th:only-of-type {\n",
              "        vertical-align: middle;\n",
              "    }\n",
              "\n",
              "    .dataframe tbody tr th {\n",
              "        vertical-align: top;\n",
              "    }\n",
              "\n",
              "    .dataframe thead th {\n",
              "        text-align: right;\n",
              "    }\n",
              "</style>\n",
              "<table border=\"1\" class=\"dataframe\">\n",
              "  <thead>\n",
              "    <tr style=\"text-align: right;\">\n",
              "      <th></th>\n",
              "      <th>accuracy</th>\n",
              "      <th>f1 score</th>\n",
              "      <th>precision</th>\n",
              "      <th>recall</th>\n",
              "    </tr>\n",
              "  </thead>\n",
              "  <tbody>\n",
              "    <tr>\n",
              "      <th>bert</th>\n",
              "      <td>0.87</td>\n",
              "      <td>0.82</td>\n",
              "      <td>0.83</td>\n",
              "      <td>0.81</td>\n",
              "    </tr>\n",
              "    <tr>\n",
              "      <th>bioBert</th>\n",
              "      <td>0.88</td>\n",
              "      <td>0.82</td>\n",
              "      <td>0.84</td>\n",
              "      <td>0.82</td>\n",
              "    </tr>\n",
              "  </tbody>\n",
              "</table>\n",
              "</div>"
            ],
            "text/plain": [
              "         accuracy  f1 score  precision  recall\n",
              "bert         0.87      0.82       0.83    0.81\n",
              "bioBert      0.88      0.82       0.84    0.82"
            ]
          },
          "metadata": {
            "tags": []
          },
          "execution_count": 65
        }
      ]
    },
    {
      "cell_type": "markdown",
      "metadata": {
        "id": "AqgZBwuZGJ-y"
      },
      "source": [
        "Based on the above table, values suggest that biobert has surpassed generic bert in modeling the given dataset. Time did not permit to proceed for blueBert"
      ]
    }
  ]
}