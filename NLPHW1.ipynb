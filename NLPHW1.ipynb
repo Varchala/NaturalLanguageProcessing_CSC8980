{
  "nbformat": 4,
  "nbformat_minor": 0,
  "metadata": {
    "colab": {
      "name": "NLPHW1.ipynb",
      "provenance": [],
      "collapsed_sections": [],
      "authorship_tag": "ABX9TyMVC+BvYMoMh053eWivaGVK",
      "include_colab_link": true
    },
    "kernelspec": {
      "name": "python3",
      "display_name": "Python 3"
    }
  },
  "cells": [
    {
      "cell_type": "markdown",
      "metadata": {
        "id": "view-in-github",
        "colab_type": "text"
      },
      "source": [
        "<a href=\"https://colab.research.google.com/github/Varchala/NaturalLanguageProcessing_CSC8980/blob/main/NLPHW1.ipynb\" target=\"_parent\"><img src=\"https://colab.research.google.com/assets/colab-badge.svg\" alt=\"Open In Colab\"/></a>"
      ]
    },
    {
      "cell_type": "markdown",
      "metadata": {
        "id": "2BYxr9A0o_Xr"
      },
      "source": [
        "**G Varchaleswari**\r\n",
        "vganugapati1@student.gsu.edu"
      ]
    },
    {
      "cell_type": "markdown",
      "metadata": {
        "id": "UcazQlrLpeos"
      },
      "source": [
        "1. Write a piece of code using a regular expression in Python to count how many times\r\n",
        "the following name appears: CICERO, this regex needs to be case-sensitive. (10 points)"
      ]
    },
    {
      "cell_type": "code",
      "metadata": {
        "id": "qSIth7lUoPAA"
      },
      "source": [
        "import regex as re\r\n",
        "import sklearn as sk"
      ],
      "execution_count": 2,
      "outputs": []
    },
    {
      "cell_type": "code",
      "metadata": {
        "colab": {
          "base_uri": "https://localhost:8080/"
        },
        "id": "v6u8QSKArvP1",
        "outputId": "a8e9b7cb-8460-4d46-c24f-20f8084374d5"
      },
      "source": [
        "word=\"CICERO\"\r\n",
        "count=0\r\n",
        "with open(\"/content/sample_data/hw_1-text.txt\") as openfile:\r\n",
        "    for line in openfile:\r\n",
        "          if(re.findall(r\"CICERO\",line)):\r\n",
        "            # print(line)\r\n",
        "            count += 1\r\n",
        "                \r\n",
        "    print(\"The count is : {}\".format(count))"
      ],
      "execution_count": 17,
      "outputs": [
        {
          "output_type": "stream",
          "text": [
            "The count is : 7\n"
          ],
          "name": "stdout"
        }
      ]
    },
    {
      "cell_type": "code",
      "metadata": {
        "colab": {
          "base_uri": "https://localhost:8080/"
        },
        "id": "pq6-rWsQ79hg",
        "outputId": "85cf1024-e9c8-491d-e283-7b64c8664f37"
      },
      "source": [
        "re.findall(r'\\bACT (\\w+)\\b',\"ACT 1 son of Gghhjk ak LLnhkl fkkkkk ACT 0 son of akakakk hhhhhhson of meoqwel son of abnhkl\")\r\n"
      ],
      "execution_count": 162,
      "outputs": [
        {
          "output_type": "execute_result",
          "data": {
            "text/plain": [
              "['1', '0']"
            ]
          },
          "metadata": {
            "tags": []
          },
          "execution_count": 162
        }
      ]
    },
    {
      "cell_type": "markdown",
      "metadata": {
        "id": "scPmGcFV00Iw"
      },
      "source": [
        "2. Write a regular expression in Python that finds all 6 character words found in this play.\r\n",
        "(10 points)\r\n"
      ]
    },
    {
      "cell_type": "code",
      "metadata": {
        "colab": {
          "base_uri": "https://localhost:8080/"
        },
        "id": "7BwxEn611ClM",
        "outputId": "0f29332d-2ae8-4747-f0e1-b6d2857f56f2"
      },
      "source": [
        "count=0\r\n",
        "sixChar = []\r\n",
        "unqChar = []\r\n",
        "textfile = open(\"/content/sample_data/hw_1-text.txt\",mode='r')\r\n",
        "# print(textfile.read())\r\n",
        "\r\n",
        "sixChar.append(re.findall(r'\\b([A-Za-z]{6,6})\\b',textfile.read()))\r\n",
        "            \r\n",
        "sixChar = sixChar[0]\r\n",
        "\r\n",
        "print(\" Total 6 character words used: {}\".format(sixChar))\r\n",
        "print(\" Count of 6 character words: {}\".format(len(sixChar)))\r\n",
        "\r\n",
        "for i in sixChar:\r\n",
        "  if i not in unqChar:\r\n",
        "    unqChar.append(i)\r\n",
        "\r\n",
        "print(\"UNIQUE 6 character words used: {} \".format(unqChar))\r\n",
        "print(\"Count of UNIQUE 6 character words: {} \".format(len(unqChar)))\r\n",
        "\r\n"
      ],
      "execution_count": 102,
      "outputs": [
        {
          "output_type": "stream",
          "text": [
            " Total 6 character words used: ['Julius', 'Caesar', 'street', 'Second', 'answer', 'Second', 'indeed', 'mender', 'Second', 'fellow', 'Second', 'cobble', 'Second', 'meddle', 'indeed', 'danger', 'proper', 'Second', 'myself', 'indeed', 'Caesar', 'brings', 'follow', 'wheels', 'blocks', 'stones', 'things', 'hearts', 'Pompey', 'towers', 'Pompey', 'appear', 'sounds', 'shores', 'attire', 'Pompey', 'houses', 'plague', 'lowest', 'stream', 'shores', 'Exeunt', 'basest', 'vanish', 'tongue', 'images', 'matter', 'images', 'Caesar', 'vulgar', 'Caesar', 'Exeunt', 'public', 'CAESAR', 'ANTONY', 'course', 'PORTIA', 'DECIUS', 'BRUTUS', 'CICERO', 'BRUTUS', 'CAESAR', 'Caesar', 'speaks', 'CAESAR', 'CAESAR', 'course', 'ANTONY', 'Caesar', 'CAESAR', 'Forget', 'elders', 'barren', 'ANTONY', 'Caesar', 'CAESAR', 'Caesar', 'CAESAR', 'CAESAR', 'tongue', 'Caesar', 'Caesar', 'Beware', 'CAESAR', 'BRUTUS', 'beware', 'CAESAR', 'before', 'Fellow', 'throng', 'Caesar', 'CAESAR', 'Beware', 'CAESAR', 'Sennet', 'Exeunt', 'except', 'BRUTUS', 'course', 'BRUTUS', 'BRUTUS', 'spirit', 'Antony', 'hinder', 'Brutus', 'friend', 'BRUTUS', 'Merely', 'myself', 'proper', 'myself', 'number', 'Brutus', 'Brutus', 'breast', 'buried', 'worthy', 'Brutus', 'BRUTUS', 'itself', 'things', 'Brutus', 'hidden', 'shadow', 'Except', 'Caesar', 'Brutus', 'Brutus', 'BRUTUS', 'myself', 'Brutus', 'cannot', 'gentle', 'Brutus', 'common', 'myself', 'BRUTUS', 'people', 'Choose', 'Caesar', 'BRUTUS', 'impart', 'toward', 'honour', 'honour', 'virtue', 'Brutus', 'favour', 'honour', 'cannot', 'single', 'myself', 'Caesar', 'Endure', 'winter', 'shores', 'Caesar', 'Darest', 'yonder', 'follow', 'indeed', 'buffet', 'sinews', 'hearts', 'arrive', 'Caesar', 'Aeneas', 'flames', 'Caesar', 'become', 'Caesar', 'coward', 'colour', 'lustre', 'tongue', 'Romans', 'feeble', 'temper', 'should', 'BRUTUS', 'Caesar', 'narrow', 'graves', 'Brutus', 'Brutus', 'Caesar', 'should', 'Caesar', 'should', 'become', 'Brutus', 'spirit', 'Caesar', 'Caesar', 'shamed', 'bloods', 'indeed', 'enough', 'Brutus', 'easily', 'BRUTUS', 'answer', 'things', 'friend', 'Brutus', 'rather', 'repute', 'struck', 'Brutus', 'BRUTUS', 'Caesar', 'sleeve', 'worthy', 'CAESAR', 'BRUTUS', 'Caesar', 'Cicero', 'ferret', 'matter', 'CAESAR', 'ANTONY', 'Caesar', 'CAESAR', 'headed', 'nights', 'hungry', 'thinks', 'ANTONY', 'Caesar', 'CAESAR', 'fatter', 'liable', 'should', 'Antony', 'Seldom', 'smiles', 'smiles', 'spirit', 'Whiles', 'behold', 'rather', 'always', 'Caesar', 'Sennet', 'Exeunt', 'CAESAR', 'BRUTUS', 'Caesar', 'BRUTUS', 'should', 'people', 'BRUTUS', 'second', 'thrice', 'BRUTUS', 'thrice', 'thrice', 'honest', 'Antony', 'BRUTUS', 'manner', 'gentle', 'hanged', 'manner', 'Antony', 'hooted', 'sweaty', 'breath', 'Caesar', 'almost', 'choked', 'Caesar', 'Caesar', 'swound', 'market', 'foamed', 'BRUTUS', 'Caesar', 'honest', 'Caesar', 'people', 'BRUTUS', 'before', 'common', 'throat', 'rogues', 'hearts', 'Caesar', 'BRUTUS', 'Cicero', 'effect', 'smiled', 'scarfs', 'Caesar', 'images', 'morrow', 'dinner', 'eating', 'expect', 'BRUTUS', 'fellow', 'mettle', 'school', 'digest', 'better', 'BRUTUS', 'morrow', 'please', 'BRUTUS', 'Brutus', 'cannot', 'Caesar', 'Brutus', 'Brutus', 'should', 'humour', 'Caesar', 'Caesar', 'endure', 'street', 'CICERO', 'CICERO', 'Caesar', 'Shakes', 'unfirm', 'Cicero', 'knotty', 'clouds', 'Either', 'strife', 'heaven', 'CICERO', 'common', 'twenty', 'remain', 'glared', 'market', 'things', 'CICERO', 'Indeed', 'things', 'things', 'Caesar', 'morrow', 'morrow', 'CICERO', 'Cicero', 'CICERO', 'honest', 'menace', 'faults', 'breast', 'heaven', 'myself', 'mighty', 'tokens', 'sparks', 'should', 'wonder', 'ghosts', 'beasts', 'things', 'change', 'heaven', 'graves', 'action', 'Caesar', 'Romans', 'govern', 'Indeed', 'Caesar', 'dagger', 'strong', 'defeat', 'beaten', 'strong', 'spirit', 'itself', 'cancel', 'should', 'Caesar', 'tyrant', 'Romans', 'Romans', 'mighty', 'straws', 'serves', 'matter', 'Caesar', 'Before', 'answer', 'griefs', 'minded', 'Romans', 'Pompey', 'favour', 'bloody', 'awhile', 'friend', 'Cimber', 'sights', 'Brutus', 'Brutus', 'window', 'Brutus', 'statue', 'Repair', 'Pompey', 'Decius', 'Brutus', 'Cimber', 'bestow', 'papers', 'repair', 'Pompey', 'Brutus', 'entire', 'yields', 'people', 'hearts', 'appear', 'change', 'virtue', 'Exeunt', 'BRUTUS', 'BRUTUS', 'BRUTUS', 'Lucius', 'cannot', 'Lucius', 'Lucius', 'Lucius', 'LUCIUS', 'LUCIUS', 'BRUTUS', 'Lucius', 'LUCIUS', 'BRUTUS', 'change', 'nature', 'bright', 'brings', 'craves', 'danger', 'Caesar', 'reason', 'common', 'ladder', 'upward', 'upmost', 'ladder', 'clouds', 'ascend', 'Caesar', 'colour', 'LUCIUS', 'LUCIUS', 'closet', 'window', 'letter', 'BRUTUS', 'morrow', 'LUCIUS', 'BRUTUS', 'LUCIUS', 'BRUTUS', 'letter', 'Brutus', 'strike', 'Brutus', 'strike', 'strike', 'follow', 'Brutus', 'LUCIUS', 'LUCIUS', 'wasted', 'within', 'BRUTUS', 'knocks', 'LUCIUS', 'Caesar', 'acting', 'motion', 'Genius', 'mortal', 'little', 'nature', 'LUCIUS', 'LUCIUS', 'desire', 'BRUTUS', 'LUCIUS', 'BRUTUS', 'LUCIUS', 'buried', 'cloaks', 'favour', 'BRUTUS', 'LUCIUS', 'cavern', 'enough', 'visage', 'smiles', 'native', 'Erebus', 'itself', 'enough', 'DECIUS', 'BRUTUS', 'CIMBER', 'morrow', 'Brutus', 'BRUTUS', 'BRUTUS', 'hither', 'Decius', 'Brutus', 'BRUTUS', 'Cimber', 'BRUTUS', 'BRUTUS', 'DECIUS', 'BRUTUS', 'pardon', 'clouds', 'arises', 'season', 'months', 'higher', 'toward', 'Stands', 'BRUTUS', 'BRUTUS', 'enough', 'kindle', 'valour', 'secret', 'Romans', 'palter', 'feeble', 'wrongs', 'causes', 'virtue', 'mettle', 'guilty', 'Cicero', 'strong', 'CIMBER', 'silver', 'voices', 'youths', 'appear', 'buried', 'BRUTUS', 'follow', 'Indeed', 'DECIUS', 'BRUTUS', 'Caesar', 'Decius', 'Antony', 'Caesar', 'Should', 'Caesar', 'shrewd', 'Antony', 'Caesar', 'BRUTUS', 'course', 'bloody', 'Antony', 'Caesar', 'spirit', 'Caesar', 'spirit', 'Caesar', 'spirit', 'Caesar', 'Caesar', 'gentle', 'boldly', 'hounds', 'hearts', 'subtle', 'common', 'Antony', 'Caesar', 'Caesar', 'Caesar', 'BRUTUS', 'Caesar', 'Caesar', 'should', 'sports', 'BRUTUS', 'Caesar', 'dreams', 'terror', 'DECIUS', 'BRUTUS', 'ersway', 'betray', 'humour', 'BRUTUS', 'eighth', 'CIMBER', 'Caesar', 'Pompey', 'wonder', 'BRUTUS', 'hither', 'Brutus', 'Romans', 'BRUTUS', 'actors', 'formal', 'morrow', 'Exeunt', 'BRUTUS', 'Lucius', 'asleep', 'matter', 'brains', 'PORTIA', 'PORTIA', 'Brutus', 'BRUTUS', 'Portia', 'health', 'commit', 'PORTIA', 'Brutus', 'supper', 'Musing', 'across', 'matter', 'stared', 'answer', 'withal', 'Hoping', 'effect', 'humour', 'should', 'Brutus', 'BRUTUS', 'health', 'PORTIA', 'Brutus', 'health', 'BRUTUS', 'Portia', 'PORTIA', 'Brutus', 'Brutus', 'rheumy', 'Brutus', 'within', 'virtue', 'beauty', 'unfold', 'resort', 'BRUTUS', 'gentle', 'Portia', 'PORTIA', 'should', 'gentle', 'Brutus', 'Within', 'Brutus', 'should', 'Portia', 'Brutus', 'harlot', 'BRUTUS', 'PORTIA', 'should', 'secret', 'withal', 'Brutus', 'withal', 'father', 'strong', 'Giving', 'myself', 'BRUTUS', 'Render', 'worthy', 'within', 'knocks', 'Portia', 'awhile', 'PORTIA', 'Lucius', 'knocks', 'LUCIUS', 'LUCIUS', 'BRUTUS', 'morrow', 'feeble', 'tongue', 'BRUTUS', 'Brutus', 'worthy', 'honour', 'BRUTUS', 'Romans', 'before', 'spirit', 'strive', 'things', 'better', 'BRUTUS', 'BRUTUS', 'unfold', 'follow', 'Brutus', 'BRUTUS', 'Follow', 'Exeunt', 'CAESAR', 'CAESAR', 'CAESAR', 'heaven', 'Thrice', 'murder', 'Caesar', 'within', 'CAESAR', 'Caesar', 'CAESAR', 'Caesar', 'things', 'Caesar', 'Caesar', 'fright', 'within', 'things', 'horrid', 'sights', 'graves', 'Fierce', 'fought', 'clouds', 'battle', 'Horses', 'ghosts', 'shriek', 'squeal', 'Caesar', 'things', 'beyond', 'CAESAR', 'mighty', 'Caesar', 'Caesar', 'comets', 'CAESAR', 'before', 'deaths', 'should', 'Seeing', 'within', 'CAESAR', 'Caesar', 'should', 'should', 'Caesar', 'danger', 'Caesar', 'litter', 'Caesar', 'wisdom', 'Antony', 'senate', 'CAESAR', 'Antony', 'humour', 'DECIUS', 'BRUTUS', 'Decius', 'Brutus', 'DECIUS', 'BRUTUS', 'Caesar', 'morrow', 'worthy', 'Caesar', 'senate', 'CAESAR', 'Cannot', 'falser', 'Decius', 'CAESAR', 'Caesar', 'afraid', 'Decius', 'Caesar', 'DECIUS', 'BRUTUS', 'mighty', 'Caesar', 'CAESAR', 'enough', 'senate', 'dreamt', 'statua', 'spouts', 'Romans', 'DECIUS', 'BRUTUS', 'vision', 'statue', 'Romans', 'bathed', 'stains', 'relics', 'CAESAR', 'DECIUS', 'BRUTUS', 'senate', 'mighty', 'Caesar', 'change', 'render', 'senate', 'Caesar', 'better', 'dreams', 'Caesar', 'Caesar', 'afraid', 'Pardon', 'Caesar', 'reason', 'liable', 'CAESAR', 'BRUTUS', 'morrow', 'Caesar', 'CAESAR', 'Brutus', 'morrow', 'Caesar', 'BRUTUS', 'Caesar', 'CAESAR', 'ANTONY', 'Antony', 'revels', 'nights', 'morrow', 'Antony', 'ANTONY', 'Caesar', 'CAESAR', 'within', 'waited', 'Caesar', 'CAESAR', 'BRUTUS', 'Caesar', 'Brutus', 'yearns', 'Exeunt', 'street', 'Caesar', 'beware', 'Brutus', 'Cimber', 'Decius', 'Brutus', 'Caesar', 'mighty', 'defend', 'Caesar', 'suitor', 'virtue', 'cannot', 'Caesar', 'street', 'before', 'BRUTUS', 'PORTIA', 'LUCIUS', 'PORTIA', 'senate', 'answer', 'LUCIUS', 'errand', 'PORTIA', 'strong', 'tongue', 'LUCIUS', 'should', 'return', 'PORTIA', 'sickly', 'Caesar', 'LUCIUS', 'PORTIA', 'listen', 'rumour', 'brings', 'LUCIUS', 'PORTIA', 'hither', 'fellow', 'PORTIA', 'PORTIA', 'Caesar', 'PORTIA', 'Caesar', 'please', 'Caesar', 'Caesar', 'PORTIA', 'chance', 'morrow', 'street', 'narrow', 'throng', 'Caesar', 'common', 'feeble', 'almost', 'Caesar', 'PORTIA', 'Brutus', 'Brutus', 'Caesar', 'Lucius', 'Exeunt', 'Before', 'Senate', 'people', 'CAESAR', 'BRUTUS', 'DECIUS', 'BRUTUS', 'CIMBER', 'ANTONY', 'others', 'CAESAR', 'Caesar', 'Caesar', 'DECIUS', 'BRUTUS', 'desire', 'erread', 'humble', 'Caesar', 'Caesar', 'nearer', 'Caesar', 'CAESAR', 'served', 'Caesar', 'CAESAR', 'fellow', 'Sirrah', 'street', 'CAESAR', 'Senate', 'thrive', 'CAESAR', 'BRUTUS', 'thrive', 'BRUTUS', 'Caesar', 'sudden', 'Brutus', 'Caesar', 'myself', 'BRUTUS', 'speaks', 'smiles', 'Caesar', 'change', 'Brutus', 'Antony', 'Exeunt', 'ANTONY', 'DECIUS', 'BRUTUS', 'Cimber', 'prefer', 'Caesar', 'BRUTUS', 'second', 'CAESAR', 'Caesar', 'senate', 'CIMBER', 'mighty', 'Caesar', 'Cimber', 'throws', 'before', 'humble', 'CAESAR', 'Cimber', 'decree', 'Caesar', 'decree', 'Caesar', 'CIMBER', 'worthy', 'Caesar', 'banish', 'BRUTUS', 'Caesar', 'Cimber', 'repeal', 'CAESAR', 'Brutus', 'Pardon', 'Caesar', 'Caesar', 'pardon', 'Cimber', 'fellow', 'sparks', 'number', 'motion', 'little', 'Cimber', 'should', 'banish', 'remain', 'Caesar', 'CAESAR', 'DECIUS', 'BRUTUS', 'Caesar', 'CAESAR', 'Brutus', 'BRUTUS', 'CAESAR', 'CAESAR', 'Caesar', 'common', 'BRUTUS', 'People', 'pulpit', 'Brutus', 'DECIUS', 'BRUTUS', 'BRUTUS', 'mutiny', 'CIMBER', 'friend', 'Caesar', 'Should', 'chance', 'BRUTUS', 'person', 'people', 'should', 'BRUTUS', 'Antony', 'amazed', 'BRUTUS', 'twenty', 'BRUTUS', 'Caesar', 'Romans', 'Caesar', 'elbows', 'swords', 'market', 'waving', 'states', 'unborn', 'BRUTUS', 'Caesar', 'Pompey', 'DECIUS', 'BRUTUS', 'Brutus', 'hearts', 'BRUTUS', 'friend', 'Antony', 'Brutus', 'master', 'Antony', 'Brutus', 'honest', 'Caesar', 'mighty', 'loving', 'Brutus', 'honour', 'Caesar', 'honour', 'Brutus', 'Antony', 'safely', 'Caesar', 'Antony', 'Caesar', 'Brutus', 'living', 'follow', 'Brutus', 'untrod', 'master', 'Antony', 'BRUTUS', 'master', 'please', 'honour', 'Depart', 'BRUTUS', 'friend', 'BRUTUS', 'Antony', 'ANTONY', 'Antony', 'ANTONY', 'mighty', 'Caesar', 'spoils', 'Shrunk', 'little', 'intend', 'myself', 'Caesar', 'swords', 'whilst', 'Fulfil', 'myself', 'please', 'Caesar', 'choice', 'master', 'BRUTUS', 'Antony', 'Though', 'appear', 'bloody', 'hearts', 'drives', 'Caesar', 'swords', 'leaden', 'points', 'Antony', 'malice', 'hearts', 'temper', 'strong', 'BRUTUS', 'beside', 'Caesar', 'struck', 'ANTONY', 'wisdom', 'render', 'bloody', 'Marcus', 'Brutus', 'Decius', 'Brutus', 'Though', 'credit', 'stands', 'ground', 'Either', 'coward', 'Caesar', 'spirit', 'grieve', 'dearer', 'making', 'bloody', 'wounds', 'stream', 'become', 'better', 'Pardon', 'Julius', 'forest', 'indeed', 'Antony', 'ANTONY', 'Pardon', 'Caesar', 'friend', 'Caesar', 'number', 'depend', 'ANTONY', 'indeed', 'Caesar', 'Caesar', 'BRUTUS', 'savage', 'regard', 'Antony', 'Caesar', 'should', 'ANTONY', 'suitor', 'market', 'pulpit', 'friend', 'BRUTUS', 'Antony', 'Brutus', 'BRUTUS', 'Antony', 'people', 'BRUTUS', 'pardon', 'myself', 'pulpit', 'reason', 'Caesar', 'Antony', 'speaks', 'Caesar', 'lawful', 'BRUTUS', 'Antony', 'Caesar', 'speech', 'devise', 'Caesar', 'pulpit', 'speech', 'ANTONY', 'desire', 'BRUTUS', 'follow', 'Exeunt', 'ANTONY', 'ANTONY', 'pardon', 'gentle', 'costly', 'wounds', 'mouths', 'tongue', 'fierce', 'strife', 'cumber', 'behold', 'choked', 'custom', 'Caesar', 'spirit', 'burial', 'Caesar', 'Antony', 'ANTONY', 'Caesar', 'coming', 'Caesar', 'Seeing', 'ANTONY', 'Seeing', 'sorrow', 'master', 'coming', 'within', 'ANTONY', 'safety', 'awhile', 'market', 'people', 'bloody', 'things', 'Exeunt', 'CAESAR', 'BRUTUS', 'throng', 'BRUTUS', 'follow', 'street', 'follow', 'public', 'Caesar', 'Brutus', 'Second', 'BRUTUS', 'pulpit', 'Brutus', 'BRUTUS', 'Romans', 'lovers', 'silent', 'honour', 'honour', 'wisdom', 'senses', 'better', 'friend', 'Caesar', 'Brutus', 'Caesar', 'friend', 'demand', 'Brutus', 'Caesar', 'answer', 'Caesar', 'rather', 'Caesar', 'living', 'slaves', 'Caesar', 'Caesar', 'honour', 'honour', 'valour', 'Brutus', 'BRUTUS', 'Caesar', 'Brutus', 'worthy', 'ANTONY', 'others', 'CAESAR', 'Antony', 'though', 'depart', 'dagger', 'myself', 'please', 'Brutus', 'Second', 'statue', 'Caesar', 'Fourth', 'Caesar', 'better', 'Brutus', 'shouts', 'BRUTUS', 'Second', 'Brutus', 'speaks', 'BRUTUS', 'depart', 'Antony', 'Caesar', 'corpse', 'speech', 'Caesar', 'Antony', 'depart', 'Antony', 'Antony', 'public', 'Antony', 'ANTONY', 'Brutus', 'pulpit', 'Fourth', 'Brutus', 'Brutus', 'Fourth', 'Brutus', 'Caesar', 'tyrant', 'Second', 'Antony', 'ANTONY', 'gentle', 'Romans', 'ANTONY', 'Romans', 'Caesar', 'praise', 'Caesar', 'Brutus', 'Caesar', 'Caesar', 'answer', 'Brutus', 'Brutus', 'Caesar', 'friend', 'Brutus', 'Brutus', 'Caesar', 'Caesar', 'should', 'Brutus', 'Brutus', 'thrice', 'kingly', 'thrice', 'refuse', 'Brutus', 'Brutus', 'beasts', 'reason', 'coffin', 'Caesar', 'reason', 'Second', 'matter', 'Caesar', 'Fourth', 'Second', 'nobler', 'Antony', 'Fourth', 'begins', 'ANTONY', 'Caesar', 'hearts', 'mutiny', 'should', 'Brutus', 'rather', 'choose', 'myself', 'Caesar', 'closet', 'pardon', 'Caesar', 'wounds', 'sacred', 'memory', 'within', 'legacy', 'Fourth', 'Antony', 'Caesar', 'ANTONY', 'gentle', 'Caesar', 'stones', 'Caesar', 'should', 'Fourth', 'Antony', 'Caesar', 'ANTONY', 'awhile', 'ershot', 'myself', 'Caesar', 'Fourth', 'Second', 'ANTONY', 'compel', 'corpse', 'Caesar', 'Second', 'ANTONY', 'Fourth', 'hearse', 'Second', 'Antony', 'Antony', 'ANTONY', 'ANTONY', 'mantle', 'Caesar', 'summer', 'Nervii', 'dagger', 'Brutus', 'cursed', 'Caesar', 'follow', 'Brutus', 'Brutus', 'Caesar', 'dearly', 'Caesar', 'Caesar', 'strong', 'mighty', 'mantle', 'Pompey', 'statua', 'Caesar', 'Whilst', 'bloody', 'behold', 'Caesar', 'Second', 'Caesar', 'Fourth', 'bloody', 'Second', 'ANTONY', 'Antony', 'Second', 'follow', 'ANTONY', 'sudden', 'mutiny', 'griefs', 'answer', 'hearts', 'orator', 'Brutus', 'friend', 'public', 'Action', 'speech', 'Caesar', 'wounds', 'mouths', 'Brutus', 'Brutus', 'Antony', 'Antony', 'ruffle', 'tongue', 'Caesar', 'should', 'stones', 'mutiny', 'mutiny', 'Brutus', 'ANTONY', 'Antony', 'Antony', 'ANTONY', 'Caesar', 'forgot', 'ANTONY', 'Caesar', 'Second', 'Caesar', 'Caesar', 'ANTONY', 'ANTONY', 'common', 'abroad', 'Caesar', 'brands', 'houses', 'Second', 'Fourth', 'Exeunt', 'ANTONY', 'course', 'fellow', 'ANTONY', 'Caesar', 'ANTONY', 'Brutus', 'madmen', 'ANTONY', 'Belike', 'notice', 'people', 'Exeunt', 'street', 'dreamt', 'Caesar', 'things', 'charge', 'wander', 'Second', 'Fourth', 'Second', 'Answer', 'Fourth', 'wisely', 'answer', 'wisely', 'wisely', 'Second', 'Caesar', 'friend', 'friend', 'Second', 'matter', 'Fourth', 'pieces', 'Fourth', 'verses', 'verses', 'Fourth', 'matter', 'brands', 'brands', 'Brutus', 'Decius', 'Exeunt', 'ANTONY', 'seated', 'ANTONY', 'Antony', 'sister', 'Antony', 'ANTONY', 'Caesar', 'hither', 'charge', 'ANTONY', 'slight', 'should', 'should', 'ANTONY', 'though', 'divers', 'Either', 'driven', 'having', 'ANTONY', 'motion', 'govern', 'spirit', 'taught', 'barren', 'fellow', 'staled', 'Listen', 'things', 'Brutus', 'powers', 'covert', 'perils', 'surest', 'hearts', 'Exeunt', 'Sardis', 'Before', 'BRUTUS', 'BRUTUS', 'LUCIUS', 'BRUTUS', 'BRUTUS', 'master', 'BRUTUS', 'greets', 'master', 'change', 'worthy', 'Things', 'undone', 'master', 'appear', 'regard', 'honour', 'BRUTUS', 'enough', 'BRUTUS', 'friend', 'begins', 'sicken', 'tricks', 'simple', 'hollow', 'horses', 'mettle', 'should', 'endure', 'bloody', 'crests', 'Sardis', 'BRUTUS', 'within', 'gently', 'powers', 'BRUTUS', 'Second', 'BRUTUS', 'should', 'Brutus', 'wrongs', 'BRUTUS', 'griefs', 'softly', 'Before', 'armies', 'should', 'griefs', 'little', 'ground', 'BRUTUS', 'Lucius', 'Exeunt', 'Brutus', 'BRUTUS', 'appear', 'Lucius', 'taking', 'bribes', 'BRUTUS', 'should', 'BRUTUS', 'Brutus', 'speech', 'BRUTUS', 'BRUTUS', 'Julius', 'struck', 'bribes', 'mighty', 'rather', 'Brutus', 'endure', 'forget', 'BRUTUS', 'BRUTUS', 'forget', 'myself', 'health', 'BRUTUS', 'slight', 'BRUTUS', 'choler', 'madman', 'stares', 'endure', 'BRUTUS', 'slaves', 'crouch', 'humour', 'digest', 'spleen', 'Though', 'BRUTUS', 'better', 'appear', 'please', 'Brutus', 'better', 'better', 'BRUTUS', 'Caesar', 'BRUTUS', 'BRUTUS', 'BRUTUS', 'BRUTUS', 'should', 'terror', 'strong', 'denied', 'heaven', 'rather', 'denied', 'Should', 'answer', 'Marcus', 'Brutus', 'rascal', 'pieces', 'denied', 'BRUTUS', 'answer', 'Brutus', 'friend', 'should', 'friend', 'Brutus', 'BRUTUS', 'BRUTUS', 'faults', 'faults', 'BRUTUS', 'though', 'appear', 'Antony', 'aweary', 'braved', 'Cheque', 'faults', 'spirit', 'dagger', 'breast', 'within', 'Dearer', 'Plutus', 'richer', 'denied', 'Strike', 'Caesar', 'better', 'BRUTUS', 'dagger', 'humour', 'Brutus', 'temper', 'vexeth', 'BRUTUS', 'temper', 'BRUTUS', 'Brutus', 'BRUTUS', 'matter', 'enough', 'humour', 'mother', 'BRUTUS', 'Brutus', 'mother', 'chides', 'Within', 'grudge', 'Within', 'Within', 'LUCIUS', 'matter', 'should', 'vilely', 'BRUTUS', 'sirrah', 'fellow', 'Brutus', 'BRUTUS', 'humour', 'should', 'BRUTUS', 'Exeunt', 'BRUTUS', 'Lucius', 'LUCIUS', 'BRUTUS', 'griefs', 'BRUTUS', 'sorrow', 'better', 'Portia', 'Portia', 'BRUTUS', 'scaped', 'BRUTUS', 'Antony', 'strong', 'absent', 'BRUTUS', 'LUCIUS', 'BRUTUS', 'pledge', 'Lucius', 'cannot', 'Brutus', 'BRUTUS', 'LUCIUS', 'Portia', 'BRUTUS', 'Antony', 'mighty', 'toward', 'Myself', 'BRUTUS', 'Antony', 'BRUTUS', 'Cicero', 'Cicero', 'Cicero', 'BRUTUS', 'BRUTUS', 'BRUTUS', 'BRUTUS', 'manner', 'BRUTUS', 'Portia', 'endure', 'losses', 'should', 'endure', 'nature', 'BRUTUS', 'BRUTUS', 'reason', 'better', 'whilst', 'BRUTUS', 'better', 'people', 'ground', 'forced', 'fuller', 'number', 'people', 'BRUTUS', 'pardon', 'beside', 'utmost', 'height', 'voyage', 'afloat', 'serves', 'BRUTUS', 'nature', 'little', 'morrow', 'BRUTUS', 'Lucius', 'LUCIUS', 'LUCIUS', 'repose', 'Brutus', 'BRUTUS', 'BRUTUS', 'Brutus', 'BRUTUS', 'Exeunt', 'BRUTUS', 'LUCIUS', 'LUCIUS', 'BRUTUS', 'LUCIUS', 'BRUTUS', 'please', 'BRUTUS', 'Lucius', 'sought', 'pocket', 'LUCIUS', 'BRUTUS', 'awhile', 'strain', 'LUCIUS', 'please', 'BRUTUS', 'LUCIUS', 'BRUTUS', 'should', 'bloods', 'LUCIUS', 'BRUTUS', 'sleepy', 'leaden', 'Gentle', 'CAESAR', 'shapes', 'makest', 'spirit', 'Brutus', 'BRUTUS', 'comest', 'BRUTUS', 'BRUTUS', 'spirit', 'Lucius', 'LUCIUS', 'BRUTUS', 'thinks', 'Lucius', 'LUCIUS', 'BRUTUS', 'Lucius', 'LUCIUS', 'BRUTUS', 'LUCIUS', 'BRUTUS', 'Lucius', 'Sirrah', 'Fellow', 'BRUTUS', 'BRUTUS', 'BRUTUS', 'powers', 'before', 'follow', 'Exeunt', 'plains', 'ANTONY', 'Antony', 'proves', 'before', 'demand', 'ANTONY', 'bosoms', 'places', 'fasten', 'bloody', 'battle', 'ANTONY', 'battle', 'softly', 'ANTONY', 'BRUTUS', 'others', 'BRUTUS', 'parley', 'Antony', 'battle', 'ANTONY', 'Caesar', 'answer', 'charge', 'signal', 'BRUTUS', 'before', 'better', 'BRUTUS', 'better', 'ANTONY', 'Brutus', 'Caesar', 'Crying', 'Caesar', 'Antony', 'ANTONY', 'BRUTUS', 'Antony', 'wisely', 'threat', 'before', 'ANTONY', 'Caesar', 'hounds', 'Caesar', 'Whilst', 'damned', 'behind', 'Struck', 'Caesar', 'Brutus', 'tongue', 'redder', 'Caesar', 'thirty', 'wounds', 'Caesar', 'BRUTUS', 'Caesar', 'Unless', 'Brutus', 'BRUTUS', 'strain', 'honour', 'masker', 'ANTONY', 'Antony', 'Exeunt', 'ANTONY', 'billow', 'hazard', 'BRUTUS', 'BRUTUS', 'Pompey', 'battle', 'strong', 'change', 'partly', 'credit', 'things', 'Coming', 'Sardis', 'former', 'ensign', 'mighty', 'eagles', 'steads', 'ravens', 'sickly', 'canopy', 'partly', 'spirit', 'perils', 'BRUTUS', 'Brutus', 'Lovers', 'reason', 'befall', 'battle', 'BRUTUS', 'arming', 'myself', 'powers', 'govern', 'battle', 'BRUTUS', 'Brutus', 'Brutus', 'indeed', 'BRUTUS', 'Exeunt', 'battle', 'Alarum', 'BRUTUS', 'BRUTUS', 'alarum', 'sudden', 'Exeunt', 'Myself', 'ensign', 'coward', 'Brutus', 'having', 'Whilst', 'Antony', 'Antony', 'enough', 'lovest', 'yonder', 'troops', 'troops', 'friend', 'higher', 'regard', 'notest', 'Sirrah', 'almost', 'lights', 'behold', 'coward', 'friend', 'before', 'hither', 'sirrah', 'saving', 'Caesar', 'bowels', 'search', 'answer', 'Caesar', 'change', 'Brutus', 'Antony', 'ground', 'living', 'Clouds', 'things', 'comest', 'mother', 'whilst', 'Brutus', 'report', 'Brutus', 'wreath', 'shouts', 'Brutus', 'Brutus', 'Alarum', 'BRUTUS', 'STRATO', 'BRUTUS', 'yonder', 'BRUTUS', 'upward', 'BRUTUS', 'Julius', 'Caesar', 'mighty', 'spirit', 'abroad', 'swords', 'proper', 'BRUTUS', 'Romans', 'living', 'Romans', 'Should', 'fellow', 'Thasos', 'Romans', 'second', 'Exeunt', 'Alarum', 'armies', 'BRUTUS', 'others', 'BRUTUS', 'Marcus', 'friend', 'Marcus', 'BRUTUS', 'Brutus', 'Marcus', 'Brutus', 'Brutus', 'friend', 'Brutus', 'honour', 'Brutus', 'honour', 'Second', 'Antony', 'Brutus', 'ANTONY', 'Brutus', 'Brutus', 'ANTONY', 'Antony', 'Brutus', 'enough', 'assure', 'Brutus', 'defend', 'Brutus', 'ANTONY', 'Brutus', 'friend', 'assure', 'rather', 'Brutus', 'Exeunt', 'BRUTUS', 'CLITUS', 'STRATO', 'BRUTUS', 'CLITUS', 'BRUTUS', 'Clitus', 'Clitus', 'CLITUS', 'BRUTUS', 'CLITUS', 'rather', 'myself', 'BRUTUS', 'CLITUS', 'Clitus', 'CLITUS', 'Brutus', 'Clitus', 'CLITUS', 'vessel', 'BRUTUS', 'hither', 'BRUTUS', 'Caesar', 'appear', 'Sardis', 'fields', 'BRUTUS', 'worthy', 'school', 'whilst', 'office', 'friend', 'Alarum', 'CLITUS', 'BRUTUS', 'Strato', 'asleep', 'Strato', 'losing', 'Antony', 'attain', 'Brutus', 'tongue', 'almost', 'labour', 'attain', 'Alarum', 'within', 'CLITUS', 'BRUTUS', 'follow', 'Exeunt', 'CLITUS', 'Strato', 'fellow', 'smatch', 'honour', 'Strato', 'STRATO', 'BRUTUS', 'Strato', 'Caesar', 'Alarum', 'ANTONY', 'master', 'Strato', 'master', 'STRATO', 'Brutus', 'honour', 'Brutus', 'should', 'Brutus', 'proved', 'saying', 'served', 'Brutus', 'Fellow', 'bestow', 'STRATO', 'prefer', 'master', 'Strato', 'STRATO', 'follow', 'latest', 'master', 'ANTONY', 'Caesar', 'honest', 'common', 'gentle', 'Nature', 'virtue', 'burial', 'Within', 'Exeunt']\n",
            " Count of 6 character words: 2295\n",
            "UNIQUE 6 character words used: ['Julius', 'Caesar', 'street', 'Second', 'answer', 'indeed', 'mender', 'fellow', 'cobble', 'meddle', 'danger', 'proper', 'myself', 'brings', 'follow', 'wheels', 'blocks', 'stones', 'things', 'hearts', 'Pompey', 'towers', 'appear', 'sounds', 'shores', 'attire', 'houses', 'plague', 'lowest', 'stream', 'Exeunt', 'basest', 'vanish', 'tongue', 'images', 'matter', 'vulgar', 'public', 'CAESAR', 'ANTONY', 'course', 'PORTIA', 'DECIUS', 'BRUTUS', 'CICERO', 'speaks', 'Forget', 'elders', 'barren', 'Beware', 'beware', 'before', 'Fellow', 'throng', 'Sennet', 'except', 'spirit', 'Antony', 'hinder', 'Brutus', 'friend', 'Merely', 'number', 'breast', 'buried', 'worthy', 'itself', 'hidden', 'shadow', 'Except', 'cannot', 'gentle', 'common', 'people', 'Choose', 'impart', 'toward', 'honour', 'virtue', 'favour', 'single', 'Endure', 'winter', 'Darest', 'yonder', 'buffet', 'sinews', 'arrive', 'Aeneas', 'flames', 'become', 'coward', 'colour', 'lustre', 'Romans', 'feeble', 'temper', 'should', 'narrow', 'graves', 'shamed', 'bloods', 'enough', 'easily', 'rather', 'repute', 'struck', 'sleeve', 'Cicero', 'ferret', 'headed', 'nights', 'hungry', 'thinks', 'fatter', 'liable', 'Seldom', 'smiles', 'Whiles', 'behold', 'always', 'second', 'thrice', 'honest', 'manner', 'hanged', 'hooted', 'sweaty', 'breath', 'almost', 'choked', 'swound', 'market', 'foamed', 'throat', 'rogues', 'effect', 'smiled', 'scarfs', 'morrow', 'dinner', 'eating', 'expect', 'mettle', 'school', 'digest', 'better', 'please', 'humour', 'endure', 'Shakes', 'unfirm', 'knotty', 'clouds', 'Either', 'strife', 'heaven', 'twenty', 'remain', 'glared', 'Indeed', 'menace', 'faults', 'mighty', 'tokens', 'sparks', 'wonder', 'ghosts', 'beasts', 'change', 'action', 'govern', 'dagger', 'strong', 'defeat', 'beaten', 'cancel', 'tyrant', 'straws', 'serves', 'Before', 'griefs', 'minded', 'bloody', 'awhile', 'Cimber', 'sights', 'window', 'statue', 'Repair', 'Decius', 'bestow', 'papers', 'repair', 'entire', 'yields', 'Lucius', 'LUCIUS', 'nature', 'bright', 'craves', 'reason', 'ladder', 'upward', 'upmost', 'ascend', 'closet', 'letter', 'strike', 'wasted', 'within', 'knocks', 'acting', 'motion', 'Genius', 'mortal', 'little', 'desire', 'cloaks', 'cavern', 'visage', 'native', 'Erebus', 'CIMBER', 'hither', 'pardon', 'arises', 'season', 'months', 'higher', 'Stands', 'kindle', 'valour', 'secret', 'palter', 'wrongs', 'causes', 'guilty', 'silver', 'voices', 'youths', 'Should', 'shrewd', 'boldly', 'hounds', 'subtle', 'sports', 'dreams', 'terror', 'ersway', 'betray', 'eighth', 'actors', 'formal', 'asleep', 'brains', 'Portia', 'health', 'commit', 'supper', 'Musing', 'across', 'stared', 'withal', 'Hoping', 'rheumy', 'beauty', 'unfold', 'resort', 'Within', 'harlot', 'father', 'Giving', 'Render', 'strive', 'Follow', 'Thrice', 'murder', 'fright', 'horrid', 'Fierce', 'fought', 'battle', 'Horses', 'shriek', 'squeal', 'beyond', 'comets', 'deaths', 'Seeing', 'litter', 'wisdom', 'senate', 'Cannot', 'falser', 'afraid', 'dreamt', 'statua', 'spouts', 'vision', 'bathed', 'stains', 'relics', 'render', 'Pardon', 'revels', 'waited', 'yearns', 'defend', 'suitor', 'errand', 'return', 'sickly', 'listen', 'rumour', 'chance', 'Senate', 'others', 'erread', 'humble', 'nearer', 'served', 'Sirrah', 'thrive', 'sudden', 'prefer', 'throws', 'decree', 'banish', 'repeal', 'People', 'pulpit', 'mutiny', 'person', 'amazed', 'elbows', 'swords', 'waving', 'states', 'unborn', 'master', 'loving', 'safely', 'living', 'untrod', 'Depart', 'spoils', 'Shrunk', 'intend', 'whilst', 'Fulfil', 'choice', 'Though', 'drives', 'leaden', 'points', 'malice', 'beside', 'Marcus', 'credit', 'stands', 'ground', 'grieve', 'dearer', 'making', 'wounds', 'forest', 'depend', 'savage', 'regard', 'lawful', 'speech', 'devise', 'costly', 'mouths', 'fierce', 'cumber', 'custom', 'burial', 'coming', 'sorrow', 'safety', 'lovers', 'silent', 'senses', 'demand', 'slaves', 'though', 'depart', 'Fourth', 'shouts', 'corpse', 'praise', 'kingly', 'refuse', 'coffin', 'nobler', 'begins', 'choose', 'sacred', 'memory', 'legacy', 'ershot', 'compel', 'hearse', 'mantle', 'summer', 'Nervii', 'cursed', 'dearly', 'Whilst', 'orator', 'Action', 'ruffle', 'forgot', 'abroad', 'brands', 'madmen', 'Belike', 'notice', 'charge', 'wander', 'Answer', 'wisely', 'pieces', 'verses', 'seated', 'sister', 'slight', 'divers', 'driven', 'having', 'taught', 'staled', 'Listen', 'powers', 'covert', 'perils', 'surest', 'Sardis', 'greets', 'Things', 'undone', 'sicken', 'tricks', 'simple', 'hollow', 'horses', 'crests', 'gently', 'softly', 'armies', 'taking', 'bribes', 'forget', 'choler', 'madman', 'stares', 'crouch', 'spleen', 'denied', 'rascal', 'aweary', 'braved', 'Cheque', 'Dearer', 'Plutus', 'richer', 'Strike', 'vexeth', 'mother', 'chides', 'grudge', 'vilely', 'sirrah', 'scaped', 'absent', 'pledge', 'Myself', 'losses', 'forced', 'fuller', 'utmost', 'height', 'voyage', 'afloat', 'repose', 'sought', 'pocket', 'strain', 'sleepy', 'Gentle', 'shapes', 'makest', 'comest', 'plains', 'proves', 'bosoms', 'places', 'fasten', 'parley', 'signal', 'Crying', 'threat', 'damned', 'behind', 'Struck', 'redder', 'thirty', 'Unless', 'masker', 'billow', 'hazard', 'partly', 'Coming', 'former', 'ensign', 'eagles', 'steads', 'ravens', 'canopy', 'Lovers', 'befall', 'arming', 'Alarum', 'alarum', 'lovest', 'troops', 'notest', 'lights', 'saving', 'bowels', 'search', 'Clouds', 'report', 'wreath', 'STRATO', 'Thasos', 'assure', 'CLITUS', 'Clitus', 'vessel', 'fields', 'office', 'Strato', 'losing', 'attain', 'labour', 'smatch', 'proved', 'saying', 'latest', 'Nature'] \n",
            "Count of UNIQUE 6 character words: 553 \n"
          ],
          "name": "stdout"
        }
      ]
    },
    {
      "cell_type": "markdown",
      "metadata": {
        "id": "vuObqsRbZpy5"
      },
      "source": [
        "3. Write a piece of code that uses a regular expression in Python to count how many\r\n",
        "words are capitalized in the first letter only. (20 points)"
      ]
    },
    {
      "cell_type": "code",
      "metadata": {
        "colab": {
          "base_uri": "https://localhost:8080/"
        },
        "id": "X_TcLlLcZvbo",
        "outputId": "89431e12-c9d1-485f-aabd-f890be05336d"
      },
      "source": [
        "count=0\r\n",
        "cap = []\r\n",
        "unqCap = []\r\n",
        "textfile = open(\"/content/sample_data/hw_1-text.txt\",mode='r')\r\n",
        "# print(textfile.read())\r\n",
        "\r\n",
        "cap.append(re.findall(r'\\b([A-Z]{1}[a-z]*)\\b',textfile.read()))\r\n",
        "            \r\n",
        "cap = cap[0]\r\n",
        "\r\n",
        "print(\" Total first letter 'only', capitalized words: {}\".format(cap))\r\n",
        "print(\" Count of first letter 'only', capitalized words: {}\".format(len(cap)))\r\n",
        "\r\n",
        "for j in cap:\r\n",
        "  if j not in unqCap:\r\n",
        "    unqCap.append(j)\r\n",
        "\r\n",
        "print(\"UNIQUE first letter 'only', capitalized words: {} \".format(unqCap))\r\n",
        "print(\"Count of UNIQUE first letter 'only', capitalized words: {} \".format(len(unqCap)))\r\n",
        "\r\n"
      ],
      "execution_count": 118,
      "outputs": [
        {
          "output_type": "stream",
          "text": [
            " Total first letter 'only', capitalized words: ['The', 'Life', 'Death', 'Julius', 'Caesar', 'I', 'I', 'Rome', 'A', 'Enter', 'Commoners', 'Hence', 'Is', 'Being', 'Upon', 'Of', 'Speak', 'First', 'Commoner', 'Why', 'Where', 'What', 'You', 'Second', 'Commoner', 'Truly', 'I', 'But', 'Second', 'Commoner', 'A', 'I', 'I', 'What', 'Second', 'Commoner', 'Nay', 'I', 'I', 'What', 'Second', 'Commoner', 'Why', 'Thou', 'Second', 'Commoner', 'Truly', 'I', 'I', 'I', 'I', 'As', 'But', 'Why', 'Second', 'Commoner', 'Truly', 'But', 'Caesar', 'Wherefore', 'What', 'What', 'Rome', 'To', 'You', 'O', 'Rome', 'Knew', 'Pompey', 'Many', 'Have', 'To', 'Your', 'The', 'To', 'Pompey', 'Rome', 'And', 'Have', 'That', 'Tiber', 'To', 'Made', 'And', 'And', 'And', 'That', 'Pompey', 'Be', 'Run', 'Pray', 'That', 'Go', 'Assemble', 'Draw', 'Tiber', 'Into', 'Do', 'Exeunt', 'Commoners', 'See', 'They', 'Go', 'Capitol', 'This', 'I', 'If', 'May', 'You', 'Lupercal', 'It', 'Be', 'Caesar', 'I', 'And', 'So', 'These', 'Caesar', 'Will', 'Who', 'And', 'Exeunt', 'A', 'Flourish', 'Enter', 'Soothsayer', 'Calpurnia', 'Peace', 'Caesar', 'Calpurnia', 'Here', 'Stand', 'Antonius', 'When', 'Antonius', 'Caesar', 'Forget', 'Antonius', 'To', 'Calpurnia', 'The', 'Shake', 'I', 'When', 'Caesar', 'Set', 'Flourish', 'Soothsayer', 'Caesar', 'Ha', 'Bid', 'Who', 'I', 'Cry', 'Caesar', 'Speak', 'Caesar', 'Soothsayer', 'Beware', 'March', 'What', 'A', 'March', 'Set', 'Fellow', 'Caesar', 'What', 'Soothsayer', 'Beware', 'March', 'He', 'Sennet', 'Exeunt', 'Will', 'Not', 'I', 'I', 'I', 'I', 'Of', 'Antony', 'Let', 'Cassius', 'I', 'Brutus', 'I', 'I', 'And', 'I', 'You', 'Over', 'Cassius', 'Be', 'I', 'I', 'Merely', 'Vexed', 'I', 'Of', 'Conceptions', 'Which', 'But', 'Among', 'Cassius', 'Nor', 'Than', 'Brutus', 'Forgets', 'Then', 'Brutus', 'I', 'By', 'Thoughts', 'Tell', 'Brutus', 'No', 'Cassius', 'But', 'Tis', 'And', 'Brutus', 'That', 'Your', 'That', 'I', 'Where', 'Rome', 'Except', 'Caesar', 'Brutus', 'And', 'Have', 'Brutus', 'Into', 'Cassius', 'That', 'For', 'Therefore', 'Brutus', 'And', 'So', 'I', 'Will', 'That', 'And', 'Brutus', 'Were', 'I', 'To', 'To', 'That', 'I', 'And', 'That', 'I', 'To', 'Flourish', 'What', 'I', 'Choose', 'Caesar', 'Ay', 'Then', 'I', 'I', 'Cassius', 'I', 'But', 'What', 'If', 'Set', 'And', 'I', 'For', 'I', 'The', 'I', 'I', 'Brutus', 'As', 'I', 'Well', 'I', 'Think', 'I', 'In', 'I', 'I', 'Caesar', 'We', 'Endure', 'For', 'The', 'Tiber', 'Caesar', 'Darest', 'Cassius', 'Leap', 'And', 'Upon', 'Accoutred', 'I', 'I', 'And', 'The', 'With', 'And', 'But', 'Caesar', 'Help', 'Cassius', 'I', 'I', 'Aeneas', 'Did', 'Troy', 'The', 'Anchises', 'Tiber', 'Did', 'I', 'Caesar', 'And', 'Is', 'Cassius', 'A', 'If', 'Caesar', 'He', 'Spain', 'And', 'I', 'How', 'His', 'And', 'Did', 'I', 'Ay', 'Romans', 'Mark', 'Alas', 'Give', 'Titinius', 'As', 'Ye', 'A', 'So', 'And', 'Shout', 'Flourish', 'Another', 'I', 'For', 'Caesar', 'Why', 'Like', 'Colossus', 'Walk', 'To', 'Men', 'The', 'Brutus', 'But', 'Brutus', 'Caesar', 'Caesar', 'Why', 'Write', 'Sound', 'Weigh', 'Brutus', 'Caesar', 'Now', 'Upon', 'Caesar', 'That', 'Age', 'Rome', 'When', 'But', 'When', 'Rome', 'That', 'Now', 'Rome', 'When', 'O', 'I', 'There', 'Brutus', 'The', 'Rome', 'As', 'That', 'I', 'What', 'I', 'How', 'I', 'I', 'I', 'I', 'Be', 'What', 'I', 'I', 'Both', 'Till', 'Brutus', 'Than', 'Rome', 'Under', 'Is', 'I', 'Have', 'Brutus', 'The', 'Caesar', 'As', 'Casca', 'And', 'What', 'Re', 'Train', 'I', 'But', 'Cassius', 'The', 'Caesar', 'And', 'Calpurnia', 'Cicero', 'Looks', 'As', 'Capitol', 'Being', 'Casca', 'Antonius', 'Caesar', 'Let', 'Sleek', 'Yond', 'Cassius', 'He', 'Fear', 'Caesar', 'He', 'Roman', 'Would', 'But', 'I', 'Yet', 'I', 'I', 'So', 'Cassius', 'He', 'He', 'Quite', 'As', 'Antony', 'Seldom', 'As', 'That', 'Such', 'Whiles', 'And', 'I', 'Than', 'I', 'I', 'Caesar', 'Come', 'And', 'Sennet', 'Exeunt', 'Train', 'You', 'Ay', 'Casca', 'That', 'Caesar', 'Why', 'I', 'Casca', 'Why', 'What', 'Why', 'They', 'Why', 'Was', 'Ay', 'Who', 'Why', 'Antony', 'Tell', 'Casca', 'I', 'I', 'I', 'Mark', 'Antony', 'I', 'Then', 'And', 'Caesar', 'Caesar', 'I', 'But', 'I', 'Caesar', 'He', 'Tis', 'No', 'Caesar', 'I', 'And', 'Casca', 'I', 'I', 'Caesar', 'If', 'I', 'What', 'Marry', 'An', 'I', 'I', 'I', 'I', 'And', 'When', 'If', 'Three', 'I', 'Alas', 'Caesar', 'And', 'Ay', 'Did', 'Cicero', 'Ay', 'Greek', 'To', 'Nay', 'I', 'Ill', 'Greek', 'I', 'Marullus', 'Flavius', 'Caesar', 'Fare', 'There', 'I', 'Will', 'Casca', 'No', 'I', 'Will', 'Ay', 'I', 'Good', 'I', 'Do', 'Farewell', 'Exit', 'What', 'He', 'So', 'Of', 'However', 'This', 'Which', 'With', 'And', 'For', 'I', 'To', 'I', 'Come', 'I', 'I', 'Exit', 'Well', 'Brutus', 'I', 'Thy', 'From', 'That', 'For', 'Caesar', 'Brutus', 'If', 'I', 'Brutus', 'Cassius', 'He', 'I', 'In', 'As', 'Writings', 'That', 'Rome', 'Caesar', 'And', 'Caesar', 'For', 'Exit', 'The', 'A', 'Thunder', 'Enter', 'Good', 'Casca', 'Caesar', 'Why', 'Are', 'Shakes', 'O', 'Cicero', 'I', 'Have', 'I', 'The', 'To', 'But', 'Did', 'I', 'Either', 'Or', 'Incenses', 'Why', 'A', 'Held', 'Like', 'Not', 'Besides', 'I', 'Against', 'Capitol', 'I', 'Who', 'Without', 'Upon', 'Transformed', 'Men', 'And', 'Even', 'Hooting', 'When', 'Do', 'These', 'For', 'I', 'Unto', 'Indeed', 'But', 'Clean', 'Come', 'Caesar', 'Capitol', 'He', 'Antonius', 'Send', 'Good', 'Casca', 'Is', 'Farewell', 'Cicero', 'Exit', 'Enter', 'Who', 'A', 'Roman', 'Casca', 'Your', 'Cassius', 'A', 'Who', 'Those', 'For', 'I', 'Submitting', 'And', 'Casca', 'Have', 'And', 'The', 'I', 'Even', 'But', 'It', 'When', 'Such', 'You', 'Casca', 'That', 'Roman', 'Or', 'You', 'And', 'To', 'But', 'Why', 'Why', 'Why', 'Why', 'Their', 'To', 'That', 'To', 'Unto', 'Now', 'I', 'Casca', 'Most', 'That', 'As', 'Capitol', 'A', 'In', 'And', 'Tis', 'Caesar', 'Cassius', 'Let', 'Romans', 'Have', 'But', 'And', 'Our', 'Indeed', 'Mean', 'Caesar', 'And', 'In', 'Italy', 'I', 'I', 'Cassius', 'Cassius', 'Therein', 'Therein', 'Nor', 'Nor', 'Can', 'But', 'Never', 'If', 'I', 'That', 'I', 'I', 'Thunder', 'So', 'I', 'So', 'The', 'And', 'Caesar', 'Poor', 'I', 'But', 'Romans', 'He', 'Romans', 'Those', 'Begin', 'Rome', 'What', 'For', 'So', 'Caesar', 'But', 'O', 'Where', 'I', 'Before', 'I', 'My', 'But', 'I', 'And', 'You', 'Casca', 'That', 'Hold', 'Be', 'And', 'I', 'As', 'There', 'Now', 'Casca', 'I', 'Some', 'Romans', 'To', 'Of', 'And', 'I', 'In', 'Pompey', 'There', 'And', 'In', 'Most', 'Stand', 'Tis', 'Cinna', 'I', 'He', 'Enter', 'Cinna', 'To', 'Who', 'Metellus', 'Cimber', 'No', 'Casca', 'To', 'Am', 'I', 'Cinna', 'I', 'What', 'There', 'Am', 'I', 'Yes', 'O', 'Cassius', 'But', 'Brutus', 'Be', 'Cinna', 'And', 'Where', 'Brutus', 'In', 'Upon', 'Brutus', 'Repair', 'Pompey', 'Is', 'Decius', 'Brutus', 'Trebonius', 'All', 'Metellus', 'Cimber', 'To', 'Well', 'I', 'And', 'That', 'Pompey', 'Exit', 'Come', 'Casca', 'I', 'See', 'Brutus', 'Is', 'Upon', 'O', 'And', 'His', 'Will', 'Him', 'You', 'Let', 'For', 'We', 'Exeunt', 'I', 'Rome', 'Enter', 'What', 'Lucius', 'I', 'Give', 'Lucius', 'I', 'I', 'When', 'Lucius', 'I', 'Lucius', 'Enter', 'Call', 'Get', 'Lucius', 'When', 'I', 'Exit', 'It', 'I', 'But', 'He', 'How', 'It', 'And', 'Crown', 'And', 'I', 'That', 'The', 'Remorse', 'Caesar', 'I', 'More', 'But', 'That', 'Whereto', 'But', 'He', 'Looks', 'By', 'So', 'Caesar', 'Then', 'And', 'Will', 'Fashion', 'Would', 'And', 'Which', 'And', 'Re', 'The', 'Searching', 'I', 'This', 'I', 'It', 'I', 'Gives', 'Get', 'Is', 'March', 'I', 'Look', 'I', 'Exit', 'The', 'Give', 'I', 'Opens', 'Brutus', 'Shall', 'Rome', 'Speak', 'Brutus', 'Such', 'Where', 'I', 'Shall', 'Rome', 'Thus', 'I', 'Shall', 'Rome', 'What', 'Rome', 'My', 'Rome', 'The', 'Tarquin', 'Speak', 'Am', 'I', 'To', 'O', 'Rome', 'I', 'If', 'Thy', 'Brutus', 'Re', 'Sir', 'March', 'Knocking', 'Tis', 'Go', 'Exit', 'Since', 'Cassius', 'Caesar', 'I', 'Between', 'And', 'Like', 'The', 'Genius', 'Are', 'Like', 'The', 'Re', 'Sir', 'Cassius', 'Who', 'Is', 'No', 'Do', 'No', 'And', 'That', 'I', 'By', 'Let', 'Exit', 'They', 'O', 'Shamest', 'When', 'O', 'Where', 'To', 'Seek', 'Hide', 'For', 'Not', 'Erebus', 'To', 'Enter', 'I', 'Good', 'Brutus', 'I', 'Know', 'I', 'Yes', 'But', 'You', 'Which', 'Roman', 'This', 'Trebonius', 'He', 'This', 'Decius', 'Brutus', 'He', 'This', 'Casca', 'Cinna', 'Metellus', 'Cimber', 'They', 'What', 'Betwixt', 'Shall', 'I', 'Here', 'No', 'O', 'That', 'You', 'Here', 'I', 'Which', 'Weighing', 'Some', 'He', 'Stands', 'Capitol', 'Give', 'And', 'No', 'The', 'If', 'And', 'So', 'Till', 'But', 'As', 'I', 'To', 'The', 'What', 'To', 'Than', 'Romans', 'And', 'Than', 'That', 'Swear', 'Old', 'That', 'Such', 'The', 'Nor', 'To', 'Did', 'That', 'Roman', 'Is', 'If', 'Of', 'But', 'Cicero', 'I', 'Let', 'No', 'O', 'Will', 'And', 'It', 'Our', 'But', 'O', 'For', 'That', 'Then', 'Indeed', 'Shall', 'Caesar', 'Decius', 'I', 'Mark', 'Antony', 'Caesar', 'Should', 'Caesar', 'A', 'If', 'As', 'Let', 'Antony', 'Caesar', 'Our', 'Caius', 'Cassius', 'To', 'Like', 'For', 'Antony', 'Caesar', 'Let', 'Caius', 'We', 'Caesar', 'And', 'O', 'Caesar', 'And', 'Caesar', 'But', 'Caesar', 'And', 'Let', 'Let', 'Not', 'And', 'Stir', 'And', 'This', 'Our', 'Which', 'We', 'And', 'Mark', 'Antony', 'For', 'Caesar', 'When', 'Caesar', 'Yet', 'I', 'For', 'Caesar', 'Alas', 'Cassius', 'If', 'Caesar', 'Is', 'Caesar', 'And', 'To', 'There', 'For', 'Clock', 'Peace', 'The', 'Tis', 'But', 'Whether', 'Caesar', 'For', 'Quite', 'Of', 'It', 'The', 'And', 'May', 'Capitol', 'Never', 'I', 'That', 'And', 'Lions', 'But', 'I', 'He', 'Let', 'For', 'I', 'And', 'I', 'Capitol', 'Nay', 'By', 'Be', 'Caius', 'Ligarius', 'Caesar', 'Who', 'Pompey', 'I', 'Now', 'Metellus', 'He', 'I', 'Send', 'I', 'The', 'Brutus', 'And', 'What', 'Romans', 'Good', 'Let', 'But', 'Roman', 'With', 'And', 'Exeunt', 'Boy', 'Lucius', 'Fast', 'It', 'Enjoy', 'Thou', 'Which', 'Therefore', 'Enter', 'Brutus', 'Portia', 'It', 'Your', 'Nor', 'You', 'Brutus', 'Stole', 'You', 'Musing', 'And', 'I', 'You', 'I', 'And', 'Yet', 'I', 'But', 'Gave', 'I', 'Fearing', 'Which', 'Hoping', 'Which', 'It', 'And', 'As', 'I', 'Brutus', 'Dear', 'Make', 'I', 'Brutus', 'He', 'Why', 'I', 'Good', 'Portia', 'Is', 'Brutus', 'To', 'Of', 'What', 'Brutus', 'And', 'To', 'And', 'To', 'No', 'Brutus', 'You', 'Which', 'I', 'I', 'By', 'Which', 'That', 'Why', 'Have', 'Some', 'Even', 'Kneel', 'Portia', 'I', 'Brutus', 'Within', 'Brutus', 'Is', 'I', 'That', 'Am', 'I', 'But', 'To', 'And', 'Dwell', 'I', 'Of', 'If', 'Portia', 'Brutus', 'You', 'As', 'That', 'If', 'I', 'I', 'I', 'A', 'Lord', 'Brutus', 'I', 'I', 'A', 'Cato', 'Think', 'I', 'Being', 'Tell', 'I', 'I', 'Giving', 'Here', 'I', 'And', 'O', 'Render', 'Knocking', 'Hark', 'Portia', 'And', 'The', 'All', 'I', 'All', 'Leave', 'Exit', 'Lucius', 'Re', 'He', 'Caius', 'Ligarius', 'Metellus', 'Boy', 'Caius', 'Ligarius', 'Vouchsafe', 'O', 'Caius', 'To', 'Would', 'I', 'Brutus', 'Any', 'Such', 'I', 'Ligarius', 'Had', 'By', 'Romans', 'I', 'Soul', 'Rome', 'Brave', 'Thou', 'My', 'Now', 'And', 'I', 'Yea', 'What', 'A', 'But', 'That', 'What', 'Caius', 'I', 'To', 'Set', 'And', 'I', 'To', 'I', 'That', 'Brutus', 'Follow', 'Exeunt', 'Thunder', 'Enter', 'Nor', 'Thrice', 'Calpurnia', 'Help', 'Caesar', 'Who', 'Enter', 'Servant', 'Servant', 'My', 'Go', 'And', 'Servant', 'I', 'Exit', 'Enter', 'What', 'Caesar', 'You', 'Caesar', 'Ne', 'The', 'Caesar', 'Caesar', 'I', 'Yet', 'There', 'Besides', 'Recounts', 'A', 'And', 'Fierce', 'In', 'Which', 'Capitol', 'The', 'Horses', 'And', 'O', 'Caesar', 'And', 'I', 'What', 'Whose', 'Yet', 'Caesar', 'Are', 'Caesar', 'When', 'The', 'Cowards', 'The', 'Of', 'I', 'It', 'Seeing', 'Will', 'Re', 'Servant', 'What', 'Servant', 'They', 'Plucking', 'They', 'The', 'Caesar', 'If', 'No', 'Caesar', 'That', 'Caesar', 'We', 'And', 'I', 'And', 'Caesar', 'Alas', 'Your', 'Do', 'That', 'We', 'Mark', 'Antony', 'And', 'Let', 'Mark', 'Antony', 'I', 'And', 'I', 'Enter', 'Here', 'Decius', 'Brutus', 'Caesar', 'Caesar', 'I', 'And', 'To', 'And', 'I', 'Cannot', 'I', 'I', 'Decius', 'Say', 'Shall', 'Caesar', 'Have', 'I', 'To', 'Decius', 'Caesar', 'Most', 'Caesar', 'Lest', 'I', 'I', 'The', 'I', 'That', 'But', 'Because', 'I', 'I', 'Calpurnia', 'She', 'Which', 'Did', 'Romans', 'Came', 'And', 'And', 'Hath', 'I', 'This', 'It', 'Your', 'In', 'Romans', 'Signifies', 'Rome', 'Reviving', 'For', 'This', 'Calpurnia', 'And', 'I', 'I', 'And', 'To', 'Caesar', 'If', 'Their', 'Besides', 'Apt', 'Break', 'When', 'Caesar', 'If', 'Caesar', 'Lo', 'Caesar', 'Pardon', 'Caesar', 'To', 'And', 'How', 'Calpurnia', 'I', 'I', 'Give', 'I', 'Enter', 'And', 'Publius', 'Good', 'Caesar', 'Welcome', 'Publius', 'What', 'Brutus', 'Good', 'Casca', 'Caius', 'Ligarius', 'Caesar', 'As', 'What', 'Caesar', 'I', 'Enter', 'See', 'Antony', 'Is', 'Good', 'Antony', 'So', 'Caesar', 'Bid', 'I', 'Now', 'Cinna', 'Metellus', 'Trebonius', 'I', 'Remember', 'Be', 'I', 'Caesar', 'I', 'Aside', 'I', 'That', 'I', 'Good', 'And', 'Aside', 'That', 'O', 'Caesar', 'The', 'Brutus', 'Exeunt', 'A', 'Capitol', 'Enter', 'Caesar', 'Brutus', 'Cassius', 'Casca', 'Cinna', 'Trebonius', 'Metellus', 'Cimber', 'Decius', 'Brutus', 'Caius', 'Ligarius', 'There', 'Caesar', 'If', 'The', 'Thy', 'Here', 'I', 'Caesar', 'And', 'I', 'My', 'Out', 'If', 'O', 'Caesar', 'If', 'Fates', 'Exit', 'Another', 'Enter', 'I', 'Stay', 'Why', 'To', 'I', 'Ere', 'I', 'O', 'Set', 'I', 'How', 'Art', 'Madam', 'I', 'Run', 'Capitol', 'And', 'Yes', 'For', 'What', 'Caesar', 'Hark', 'I', 'Prithee', 'I', 'And', 'Capitol', 'Sooth', 'I', 'Enter', 'Soothsayer', 'Come', 'Soothsayer', 'At', 'What', 'Soothsayer', 'About', 'Is', 'Caesar', 'Capitol', 'Soothsayer', 'Madam', 'I', 'To', 'Capitol', 'Thou', 'Caesar', 'Soothsayer', 'That', 'I', 'Caesar', 'To', 'Caesar', 'I', 'Why', 'Soothsayer', 'None', 'I', 'I', 'Good', 'Here', 'The', 'Caesar', 'Of', 'Will', 'I', 'Speak', 'Caesar', 'Exit', 'I', 'Ay', 'The', 'O', 'Brutus', 'The', 'Sure', 'Brutus', 'That', 'Caesar', 'O', 'I', 'Run', 'Lucius', 'Say', 'I', 'And', 'Exeunt', 'I', 'Rome', 'Before', 'Capitol', 'Senate', 'A', 'Soothsayer', 'Flourish', 'Enter', 'To', 'Soothsayer', 'The', 'March', 'Soothsayer', 'Ay', 'Caesar', 'Hail', 'Caesar', 'Trebonius', 'At', 'O', 'Caesar', 'That', 'Caesar', 'Caesar', 'What', 'Delay', 'Caesar', 'What', 'Sirrah', 'What', 'Come', 'Capitol', 'Senate', 'House', 'I', 'What', 'Popilius', 'Fare', 'Advances', 'What', 'Popilius', 'Lena', 'He', 'I', 'Look', 'Caesar', 'Casca', 'Brutus', 'If', 'Cassius', 'Caesar', 'For', 'I', 'Cassius', 'Popilius', 'Lena', 'For', 'Caesar', 'Trebonius', 'Brutus', 'He', 'Mark', 'Antony', 'Exeunt', 'Where', 'Metellus', 'Cimber', 'Let', 'And', 'Caesar', 'He', 'Casca', 'Are', 'What', 'That', 'Caesar', 'Most', 'Caesar', 'Metellus', 'Cimber', 'An', 'Kneeling', 'I', 'Cimber', 'These', 'Might', 'And', 'Into', 'Be', 'To', 'Caesar', 'That', 'With', 'I', 'Low', 'Thy', 'If', 'I', 'Know', 'Caesar', 'Will', 'Is', 'To', 'Caesar', 'For', 'I', 'Caesar', 'Desiring', 'Publius', 'Cimber', 'Have', 'What', 'Brutus', 'Pardon', 'Caesar', 'Caesar', 'As', 'Cassius', 'To', 'Publius', 'Cimber', 'I', 'I', 'If', 'I', 'But', 'I', 'Of', 'There', 'The', 'They', 'But', 'So', 'And', 'Yet', 'I', 'That', 'Unshaked', 'I', 'Let', 'That', 'I', 'Cimber', 'And', 'O', 'Caesar', 'Hence', 'Olympus', 'Great', 'Caesar', 'Doth', 'Brutus', 'Speak', 'Conspirators', 'Et', 'Brute', 'Then', 'Caesar', 'Dies', 'Liberty', 'Freedom', 'Tyranny', 'Run', 'Some', 'Liberty', 'People', 'Fly', 'Go', 'Brutus', 'And', 'Cassius', 'Where', 'Publius', 'Here', 'Stand', 'Caesar', 'Should', 'Talk', 'Publius', 'There', 'Nor', 'Roman', 'Publius', 'And', 'Publius', 'Rushing', 'Do', 'But', 'Re', 'Where', 'Antony', 'Fled', 'Men', 'As', 'Fates', 'That', 'And', 'Why', 'Cuts', 'Grant', 'So', 'Caesar', 'His', 'Stoop', 'Romans', 'And', 'Caesar', 'Up', 'Then', 'And', 'Let', 'Peace', 'Stoop', 'How', 'Shall', 'In', 'How', 'Caesar', 'That', 'Pompey', 'No', 'So', 'So', 'The', 'What', 'Ay', 'Brutus', 'With', 'Rome', 'Enter', 'Servant', 'Soft', 'A', 'Antony', 'Servant', 'Thus', 'Brutus', 'Thus', 'Mark', 'Antony', 'And', 'Brutus', 'Caesar', 'Say', 'I', 'Brutus', 'I', 'Say', 'I', 'Caesar', 'If', 'Brutus', 'Antony', 'May', 'How', 'Caesar', 'Mark', 'Antony', 'Caesar', 'So', 'Brutus', 'The', 'Brutus', 'Thorough', 'With', 'So', 'Antony', 'Thy', 'Roman', 'I', 'Tell', 'He', 'Depart', 'Servant', 'I', 'Exit', 'I', 'I', 'I', 'That', 'Falls', 'But', 'Antony', 'Re', 'Welcome', 'Mark', 'Antony', 'O', 'Caesar', 'Are', 'Shrunk', 'Fare', 'I', 'Who', 'If', 'I', 'As', 'Caesar', 'Of', 'With', 'I', 'Now', 'Fulfil', 'Live', 'I', 'No', 'As', 'Caesar', 'The', 'O', 'Antony', 'Though', 'As', 'You', 'And', 'Our', 'And', 'Rome', 'As', 'Hath', 'Caesar', 'For', 'To', 'Mark', 'Antony', 'Our', 'Of', 'With', 'Your', 'In', 'Only', 'The', 'And', 'Why', 'I', 'Caesar', 'I', 'Have', 'I', 'Let', 'First', 'Marcus', 'Brutus', 'I', 'Next', 'Caius', 'Cassius', 'I', 'Now', 'Decius', 'Brutus', 'Metellus', 'Yours', 'Cinna', 'Casca', 'Though', 'Trebonius', 'Gentlemen', 'I', 'My', 'That', 'Either', 'That', 'I', 'Caesar', 'O', 'If', 'Shall', 'To', 'Anthony', 'Shaking', 'Most', 'Had', 'I', 'Weeping', 'It', 'In', 'Pardon', 'Julius', 'Here', 'Here', 'Sign', 'O', 'And', 'O', 'How', 'Dost', 'Mark', 'Antony', 'Pardon', 'Caius', 'Cassius', 'The', 'Caesar', 'Then', 'I', 'Caesar', 'But', 'Will', 'Or', 'Therefore', 'I', 'Sway', 'Caesar', 'Friends', 'I', 'Upon', 'Why', 'Caesar', 'Or', 'Our', 'That', 'Antony', 'Caesar', 'You', 'That', 'I', 'And', 'I', 'Produce', 'And', 'Speak', 'You', 'Mark', 'Antony', 'Brutus', 'Aside', 'You', 'That', 'Antony', 'Know', 'By', 'By', 'I', 'And', 'Caesar', 'What', 'Antony', 'I', 'He', 'And', 'Caesar', 'Have', 'It', 'I', 'I', 'Mark', 'Antony', 'Caesar', 'You', 'But', 'Caesar', 'And', 'Else', 'About', 'In', 'I', 'After', 'Be', 'I', 'Prepare', 'Exeunt', 'O', 'That', 'I', 'Thou', 'That', 'Woe', 'Over', 'I', 'Which', 'To', 'A', 'Domestic', 'Shall', 'Italy', 'Blood', 'And', 'That', 'Their', 'All', 'And', 'Caesar', 'With', 'Ate', 'Shall', 'Cry', 'Havoc', 'That', 'With', 'Enter', 'Servant', 'You', 'Octavius', 'Caesar', 'Servant', 'I', 'Mark', 'Antony', 'Caesar', 'Rome', 'Servant', 'He', 'And', 'O', 'Caesar', 'Seeing', 'Thy', 'Passion', 'I', 'Seeing', 'Began', 'Is', 'Servant', 'He', 'Rome', 'Post', 'Here', 'Rome', 'Rome', 'No', 'Rome', 'Octavius', 'Hie', 'Yet', 'Thou', 'I', 'Into', 'I', 'In', 'The', 'According', 'To', 'Octavius', 'Lend', 'Exeunt', 'The', 'Forum', 'Enter', 'Citizens', 'Citizens', 'We', 'Then', 'Cassius', 'And', 'Those', 'Those', 'Cassius', 'And', 'Of', 'Caesar', 'First', 'Citizen', 'I', 'Brutus', 'Second', 'Citizen', 'I', 'Cassius', 'When', 'Exit', 'Citizens', 'Third', 'Citizen', 'The', 'Brutus', 'Be', 'Romans', 'If', 'Caesar', 'I', 'Brutus', 'Caesar', 'If', 'Brutus', 'Caesar', 'Not', 'I', 'Caesar', 'I', 'Rome', 'Had', 'Caesar', 'Caesar', 'As', 'Caesar', 'I', 'I', 'I', 'I', 'There', 'Who', 'If', 'I', 'Who', 'Roman', 'If', 'I', 'Who', 'If', 'I', 'I', 'All', 'None', 'Brutus', 'Then', 'I', 'I', 'Caesar', 'Brutus', 'The', 'Capitol', 'Enter', 'Here', 'Mark', 'Antony', 'With', 'I', 'I', 'Rome', 'I', 'All', 'Live', 'Brutus', 'First', 'Citizen', 'Bring', 'Second', 'Citizen', 'Give', 'Third', 'Citizen', 'Let', 'Caesar', 'Fourth', 'Citizen', 'Caesar', 'Shall', 'Brutus', 'First', 'Citizen', 'We', 'With', 'My', 'Second', 'Citizen', 'Peace', 'Brutus', 'First', 'Citizen', 'Peace', 'Good', 'And', 'Antony', 'Do', 'Caesar', 'Tending', 'Caesar', 'Mark', 'Antony', 'By', 'I', 'Save', 'I', 'Antony', 'Exit', 'First', 'Citizen', 'Stay', 'Mark', 'Antony', 'Third', 'Citizen', 'Let', 'We', 'Noble', 'Antony', 'For', 'Brutus', 'I', 'Goes', 'Fourth', 'Citizen', 'What', 'Brutus', 'Third', 'Citizen', 'He', 'Brutus', 'He', 'Fourth', 'Citizen', 'Twere', 'Brutus', 'First', 'Citizen', 'This', 'Caesar', 'Third', 'Citizen', 'Nay', 'We', 'Rome', 'Second', 'Citizen', 'Peace', 'Antony', 'You', 'Romans', 'Citizens', 'Peace', 'Friends', 'Romans', 'I', 'Caesar', 'The', 'The', 'So', 'Caesar', 'The', 'Brutus', 'Hath', 'Caesar', 'If', 'And', 'Caesar', 'Here', 'Brutus', 'For', 'Brutus', 'So', 'Come', 'I', 'Caesar', 'He', 'But', 'Brutus', 'And', 'Brutus', 'He', 'Rome', 'Whose', 'Did', 'Caesar', 'When', 'Caesar', 'Ambition', 'Yet', 'Brutus', 'And', 'Brutus', 'You', 'Lupercal', 'I', 'Which', 'Yet', 'Brutus', 'And', 'I', 'Brutus', 'But', 'I', 'I', 'You', 'What', 'O', 'And', 'Bear', 'My', 'Caesar', 'And', 'I', 'First', 'Citizen', 'Methinks', 'Second', 'Citizen', 'If', 'Caesar', 'Third', 'Citizen', 'Has', 'I', 'Fourth', 'Citizen', 'Mark', 'He', 'Therefore', 'First', 'Citizen', 'If', 'Second', 'Citizen', 'Poor', 'Third', 'Citizen', 'There', 'Rome', 'Antony', 'Fourth', 'Citizen', 'Now', 'But', 'Caesar', 'Have', 'And', 'O', 'I', 'Your', 'I', 'Brutus', 'Cassius', 'Who', 'I', 'I', 'To', 'Than', 'I', 'But', 'Caesar', 'I', 'Let', 'Which', 'I', 'And', 'Caesar', 'And', 'Yea', 'And', 'Bequeathing', 'Unto', 'Fourth', 'Citizen', 'We', 'Mark', 'Antony', 'All', 'The', 'Caesar', 'Have', 'I', 'It', 'Caesar', 'You', 'And', 'Caesar', 'It', 'Tis', 'For', 'O', 'Fourth', 'Citizen', 'Read', 'Antony', 'You', 'Caesar', 'Will', 'I', 'I', 'I', 'Whose', 'Caesar', 'I', 'Fourth', 'Citizen', 'They', 'All', 'The', 'Second', 'Citizen', 'They', 'You', 'Then', 'Caesar', 'And', 'Shall', 'I', 'Several', 'Citizens', 'Come', 'Second', 'Citizen', 'Descend', 'Third', 'Citizen', 'You', 'Fourth', 'Citizen', 'A', 'First', 'Citizen', 'Stand', 'Second', 'Citizen', 'Room', 'Antony', 'Antony', 'Nay', 'Several', 'Citizens', 'Stand', 'If', 'You', 'I', 'The', 'Caesar', 'Twas', 'That', 'Nervii', 'Look', 'Cassius', 'See', 'Casca', 'Through', 'Brutus', 'And', 'Mark', 'Caesar', 'As', 'If', 'Brutus', 'For', 'Brutus', 'Caesar', 'Judge', 'O', 'Caesar', 'This', 'For', 'Caesar', 'Ingratitude', 'Quite', 'And', 'Even', 'Pompey', 'Which', 'Caesar', 'O', 'Then', 'I', 'Whilst', 'O', 'I', 'The', 'Kind', 'Our', 'Caesar', 'Look', 'Here', 'First', 'Citizen', 'O', 'Second', 'Citizen', 'O', 'Caesar', 'Third', 'Citizen', 'O', 'Fourth', 'Citizen', 'O', 'First', 'Citizen', 'O', 'Second', 'Citizen', 'We', 'All', 'Revenge', 'About', 'Seek', 'Burn', 'Fire', 'Kill', 'Slay', 'Let', 'Stay', 'First', 'Citizen', 'Peace', 'Antony', 'Second', 'Citizen', 'We', 'Good', 'To', 'They', 'What', 'I', 'That', 'And', 'I', 'I', 'Brutus', 'But', 'That', 'That', 'For', 'I', 'Action', 'To', 'I', 'I', 'Show', 'Caesar', 'And', 'I', 'Brutus', 'And', 'Brutus', 'Antony', 'Antony', 'Would', 'In', 'Caesar', 'The', 'Rome', 'All', 'We', 'First', 'Citizen', 'We', 'Brutus', 'Third', 'Citizen', 'Away', 'Yet', 'All', 'Peace', 'Hear', 'Antony', 'Most', 'Antony', 'Why', 'Wherein', 'Caesar', 'Alas', 'I', 'You', 'I', 'All', 'Most', 'The', 'Let', 'Here', 'Caesar', 'To', 'Roman', 'To', 'Second', 'Citizen', 'Most', 'Caesar', 'We', 'Third', 'Citizen', 'O', 'Caesar', 'Hear', 'All', 'Peace', 'Moreover', 'His', 'On', 'Tiber', 'And', 'To', 'Here', 'Caesar', 'First', 'Citizen', 'Never', 'Come', 'We', 'And', 'Take', 'Second', 'Citizen', 'Go', 'Third', 'Citizen', 'Pluck', 'Fourth', 'Citizen', 'Pluck', 'Exeunt', 'Citizens', 'Now', 'Mischief', 'Take', 'Enter', 'Servant', 'How', 'Servant', 'Sir', 'Octavius', 'Rome', 'Where', 'Servant', 'He', 'Lepidus', 'Caesar', 'And', 'I', 'He', 'Fortune', 'And', 'Servant', 'I', 'Brutus', 'Cassius', 'Are', 'Rome', 'Belike', 'How', 'I', 'Bring', 'Octavius', 'Exeunt', 'A', 'Enter', 'I', 'I', 'Caesar', 'And', 'I', 'Yet', 'Enter', 'Citizens', 'First', 'Citizen', 'What', 'Second', 'Citizen', 'Whither', 'Third', 'Citizen', 'Where', 'Fourth', 'Citizen', 'Are', 'Second', 'Citizen', 'Answer', 'First', 'Citizen', 'Ay', 'Fourth', 'Citizen', 'Ay', 'Third', 'Citizen', 'Ay', 'What', 'Whither', 'I', 'Where', 'I', 'Am', 'I', 'Then', 'I', 'I', 'Second', 'Citizen', 'That', 'I', 'Proceed', 'Directly', 'I', 'Caesar', 'First', 'Citizen', 'As', 'As', 'Second', 'Citizen', 'That', 'Fourth', 'Citizen', 'For', 'Briefly', 'I', 'Capitol', 'Third', 'Citizen', 'Your', 'Truly', 'Cinna', 'First', 'Citizen', 'Tear', 'I', 'Cinna', 'I', 'Cinna', 'Fourth', 'Citizen', 'Tear', 'I', 'Cinna', 'Fourth', 'Citizen', 'It', 'Cinna', 'Third', 'Citizen', 'Tear', 'Come', 'Brutus', 'Cassius', 'Decius', 'Casca', 'Ligarius', 'Exeunt', 'I', 'A', 'Rome', 'These', 'Your', 'Lepidus', 'I', 'Prick', 'Antony', 'Upon', 'Publius', 'Who', 'Mark', 'Antony', 'He', 'I', 'But', 'Lepidus', 'Caesar', 'Fetch', 'How', 'What', 'I', 'Or', 'Capitol', 'Exit', 'This', 'Meet', 'The', 'One', 'So', 'And', 'In', 'Octavius', 'I', 'And', 'To', 'He', 'To', 'Either', 'And', 'Then', 'Like', 'And', 'You', 'But', 'So', 'Octavius', 'I', 'It', 'I', 'To', 'His', 'And', 'Lepidus', 'He', 'A', 'On', 'Which', 'Begin', 'But', 'And', 'Octavius', 'Listen', 'Brutus', 'Cassius', 'Are', 'Therefore', 'Our', 'And', 'How', 'And', 'Let', 'And', 'And', 'I', 'Millions', 'Exeunt', 'Camp', 'Sardis', 'Before', 'Drum', 'Enter', 'Soldiers', 'Stand', 'Give', 'What', 'Lucilius', 'Cassius', 'He', 'Pindarus', 'To', 'He', 'Your', 'Pindarus', 'In', 'Hath', 'Things', 'I', 'I', 'But', 'Such', 'He', 'A', 'Lucilius', 'How', 'With', 'But', 'Nor', 'As', 'Thou', 'A', 'Lucilius', 'When', 'It', 'There', 'But', 'Make', 'But', 'They', 'Sink', 'Comes', 'They', 'Sardis', 'The', 'Are', 'Cassius', 'Hark', 'Low', 'March', 'Enter', 'Stand', 'Stand', 'Speak', 'First', 'Soldier', 'Stand', 'Second', 'Soldier', 'Stand', 'Third', 'Soldier', 'Stand', 'Most', 'Judge', 'I', 'And', 'I', 'Brutus', 'And', 'Cassius', 'Speak', 'I', 'Before', 'Which', 'Let', 'Then', 'Cassius', 'And', 'I', 'Pindarus', 'Bid', 'A', 'Lucilius', 'Come', 'Let', 'Lucius', 'Titinius', 'Exeunt', 'Brutus', 'Enter', 'That', 'You', 'Lucius', 'Pella', 'For', 'Sardians', 'Wherein', 'Because', 'I', 'You', 'In', 'That', 'Let', 'Cassius', 'Are', 'To', 'To', 'I', 'You', 'Brutus', 'Or', 'The', 'Cassius', 'And', 'Chastisement', 'Remember', 'March', 'March', 'Did', 'Julius', 'What', 'And', 'What', 'That', 'But', 'Contaminate', 'And', 'For', 'I', 'Than', 'Roman', 'Brutus', 'I', 'To', 'I', 'I', 'Older', 'To', 'Go', 'Cassius', 'I', 'I', 'Urge', 'I', 'Have', 'Away', 'Is', 'Hear', 'I', 'Must', 'I', 'Shall', 'I', 'O', 'I', 'All', 'Go', 'And', 'Must', 'I', 'Must', 'I', 'I', 'Under', 'By', 'You', 'Though', 'I', 'When', 'Is', 'You', 'Let', 'And', 'I', 'You', 'Brutus', 'I', 'Did', 'I', 'If', 'I', 'When', 'Caesar', 'Peace', 'I', 'No', 'What', 'For', 'Do', 'I', 'I', 'You', 'There', 'Cassius', 'For', 'I', 'That', 'Which', 'I', 'I', 'For', 'For', 'I', 'By', 'I', 'And', 'From', 'By', 'I', 'To', 'Which', 'Cassius', 'Should', 'I', 'Caius', 'Cassius', 'When', 'Marcus', 'Brutus', 'To', 'Be', 'Dash', 'I', 'You', 'I', 'My', 'Brutus', 'A', 'But', 'Brutus', 'I', 'You', 'I', 'A', 'A', 'As', 'Olympus', 'Come', 'Antony', 'Octavius', 'Revenge', 'Cassius', 'For', 'Cassius', 'Hated', 'Cheque', 'Set', 'To', 'O', 'I', 'My', 'There', 'And', 'Dearer', 'Plutus', 'If', 'Roman', 'I', 'Strike', 'Caesar', 'I', 'When', 'Than', 'Cassius', 'Sheathe', 'Be', 'Do', 'O', 'Cassius', 'That', 'Who', 'And', 'Hath', 'Cassius', 'To', 'Brutus', 'When', 'When', 'I', 'I', 'Do', 'Give', 'And', 'O', 'Brutus', 'What', 'Have', 'When', 'Makes', 'Yes', 'Cassius', 'When', 'Brutus', 'He', 'Poet', 'Within', 'Let', 'There', 'They', 'Within', 'You', 'Poet', 'Within', 'Nothing', 'Enter', 'Poet', 'How', 'Poet', 'For', 'Love', 'For', 'I', 'I', 'Ha', 'Get', 'Bear', 'Brutus', 'I', 'What', 'Companion', 'Away', 'Exit', 'Poet', 'Lucilius', 'Titinius', 'Prepare', 'And', 'Messala', 'Immediately', 'Exeunt', 'Lucius', 'Exit', 'I', 'O', 'Cassius', 'I', 'Of', 'If', 'No', 'Portia', 'Ha', 'Portia', 'She', 'How', 'I', 'I', 'O', 'Upon', 'Impatient', 'And', 'Octavius', 'Mark', 'Antony', 'Have', 'That', 'And', 'And', 'Even', 'O', 'Re', 'Speak', 'Give', 'In', 'I', 'Cassius', 'My', 'Fill', 'Lucius', 'I', 'Brutus', 'Come', 'Titinius', 'Exit', 'Re', 'Welcome', 'Messala', 'Now', 'And', 'Portia', 'No', 'I', 'Messala', 'I', 'That', 'Octavius', 'Mark', 'Antony', 'Come', 'Bending', 'Philippi', 'Myself', 'With', 'That', 'Octavius', 'Antony', 'Lepidus', 'Have', 'Therein', 'Mine', 'By', 'Cicero', 'Cicero', 'Cicero', 'And', 'Had', 'No', 'Messala', 'Nor', 'Nothing', 'Messala', 'That', 'Why', 'No', 'Now', 'Roman', 'Then', 'Roman', 'I', 'For', 'Why', 'Portia', 'We', 'Messala', 'With', 'I', 'Even', 'I', 'But', 'Well', 'What', 'Of', 'Philippi', 'I', 'Your', 'This', 'Tis', 'So', 'Doing', 'Are', 'Good', 'The', 'Philippi', 'Do', 'For', 'The', 'By', 'Come', 'From', 'If', 'Philippi', 'These', 'Hear', 'Under', 'You', 'That', 'Our', 'The', 'We', 'There', 'Which', 'Omitted', 'Is', 'On', 'And', 'Or', 'Then', 'We', 'Philippi', 'The', 'And', 'Which', 'There', 'No', 'Good', 'Early', 'Lucius', 'Enter', 'My', 'Exit', 'Farewell', 'Messala', 'Good', 'Titinius', 'Noble', 'Cassius', 'Good', 'O', 'This', 'Never', 'Let', 'Brutus', 'Every', 'Good', 'Good', 'Good', 'Lord', 'Brutus', 'Farewell', 'Exeunt', 'Re', 'Give', 'Where', 'Here', 'What', 'Poor', 'I', 'Call', 'Claudius', 'I', 'Varro', 'Claudius', 'Enter', 'Calls', 'I', 'It', 'I', 'On', 'Cassius', 'So', 'I', 'It', 'I', 'Look', 'Lucius', 'I', 'I', 'I', 'Bear', 'I', 'Canst', 'And', 'Ay', 'It', 'I', 'It', 'I', 'I', 'I', 'It', 'I', 'I', 'I', 'Music', 'This', 'O', 'Lay', 'That', 'Gentle', 'I', 'If', 'I', 'Let', 'Where', 'I', 'Here', 'I', 'Enter', 'Ghost', 'How', 'Ha', 'I', 'That', 'It', 'Art', 'Art', 'That', 'Speak', 'Thy', 'Brutus', 'Why', 'To', 'Philippi', 'Well', 'I', 'Ay', 'Philippi', 'Why', 'I', 'Philippi', 'Exit', 'Ghost', 'Now', 'I', 'Ill', 'I', 'Boy', 'Lucius', 'Varro', 'Claudius', 'Sirs', 'Claudius', 'The', 'He', 'Lucius', 'My', 'Didst', 'Lucius', 'My', 'I', 'I', 'Yes', 'Nothing', 'Sleep', 'Lucius', 'Sirrah', 'Claudius', 'To', 'Fellow', 'My', 'My', 'Why', 'Did', 'Ay', 'No', 'I', 'Nor', 'I', 'Go', 'Cassius', 'Bid', 'And', 'It', 'Exeunt', 'V', 'I', 'The', 'Philippi', 'Enter', 'Now', 'Antony', 'You', 'But', 'It', 'They', 'Philippi', 'Answering', 'Tut', 'I', 'I', 'Wherefore', 'To', 'With', 'To', 'But', 'Enter', 'Messenger', 'Messenger', 'Prepare', 'The', 'Their', 'And', 'Octavius', 'Upon', 'Upon', 'I', 'Why', 'I', 'I', 'March', 'Drum', 'Enter', 'Army', 'They', 'Stand', 'Titinius', 'Mark', 'Antony', 'No', 'Caesar', 'Make', 'Stir', 'Words', 'Not', 'Good', 'Octavius', 'In', 'Brutus', 'Witness', 'Caesar', 'Crying', 'Long', 'Caesar', 'Antony', 'The', 'But', 'Hybla', 'And', 'Not', 'O', 'For', 'Antony', 'And', 'Villains', 'Hack', 'Caesar', 'You', 'And', 'Caesar', 'Whilst', 'Casca', 'Struck', 'Caesar', 'O', 'Flatterers', 'Now', 'Brutus', 'This', 'If', 'Cassius', 'Come', 'The', 'Look', 'I', 'When', 'Never', 'Caesar', 'Be', 'Caesar', 'Have', 'Caesar', 'Unless', 'So', 'I', 'I', 'Brutus', 'O', 'Young', 'A', 'Join', 'Old', 'Cassius', 'Come', 'Antony', 'Defiance', 'If', 'If', 'Exeunt', 'Why', 'The', 'Ho', 'Lucilius', 'Standing', 'My', 'Messala', 'Standing', 'What', 'Messala', 'This', 'Was', 'Cassius', 'Give', 'Messala', 'Be', 'As', 'Pompey', 'I', 'Upon', 'You', 'I', 'Epicurus', 'And', 'I', 'And', 'Coming', 'Sardis', 'Two', 'Gorging', 'Who', 'Philippi', 'This', 'And', 'Fly', 'As', 'A', 'Our', 'Believe', 'I', 'For', 'I', 'To', 'Even', 'Lucilius', 'Now', 'Brutus', 'The', 'Lovers', 'But', 'Let', 'If', 'The', 'What', 'Even', 'By', 'I', 'Cato', 'Which', 'I', 'But', 'I', 'For', 'The', 'To', 'That', 'Then', 'You', 'Thorough', 'Rome', 'No', 'Cassius', 'Roman', 'That', 'Brutus', 'Rome', 'He', 'But', 'Must', 'March', 'And', 'I', 'Therefore', 'For', 'Cassius', 'If', 'If', 'For', 'Brutus', 'If', 'If', 'Why', 'O', 'The', 'But', 'And', 'Come', 'Exeunt', 'The', 'The', 'Alarum', 'Enter', 'Ride', 'Messala', 'Unto', 'Loud', 'Let', 'I', 'But', 'Octavius', 'And', 'Ride', 'Messala', 'Exeunt', 'Another', 'Alarums', 'Enter', 'O', 'Titinius', 'Myself', 'This', 'I', 'O', 'Cassius', 'Brutus', 'Who', 'Octavius', 'Took', 'Whilst', 'Antony', 'Enter', 'Fly', 'Mark', 'Antony', 'Fly', 'Cassius', 'This', 'Look', 'Titinius', 'Are', 'I', 'They', 'Titinius', 'Mount', 'Till', 'And', 'I', 'Whether', 'I', 'Exit', 'Go', 'Pindarus', 'My', 'Titinius', 'And', 'This', 'I', 'And', 'I', 'I', 'My', 'Sirrah', 'Above', 'O', 'What', 'Above', 'Titinius', 'With', 'Yet', 'Now', 'Now', 'Titinius', 'Now', 'O', 'He', 'Shout', 'And', 'Come', 'O', 'I', 'To', 'Come', 'In', 'Parthia', 'I', 'And', 'I', 'That', 'I', 'Thou', 'Come', 'Now', 'That', 'Caesar', 'Stand', 'And', 'Guide', 'Caesar', 'Even', 'Dies', 'So', 'I', 'Durst', 'I', 'O', 'Cassius', 'Far', 'Pindarus', 'Where', 'Roman', 'Exit', 'Re', 'It', 'Titinius', 'Octavius', 'Is', 'Brutus', 'As', 'Cassius', 'Antony', 'These', 'Cassius', 'Where', 'All', 'With', 'Pindarus', 'Is', 'He', 'O', 'Is', 'No', 'Messala', 'But', 'Cassius', 'O', 'As', 'So', 'Cassius', 'The', 'Rome', 'Our', 'Clouds', 'Mistrust', 'Mistrust', 'O', 'Why', 'The', 'O', 'Thou', 'But', 'What', 'Pindarus', 'Pindarus', 'Seek', 'Titinius', 'I', 'The', 'Brutus', 'Into', 'I', 'For', 'Shall', 'Brutus', 'As', 'Hie', 'Messala', 'And', 'I', 'Pindarus', 'Exit', 'Why', 'Cassius', 'Did', 'I', 'Put', 'And', 'Didst', 'Alas', 'But', 'Thy', 'Brutus', 'I', 'Will', 'Brutus', 'And', 'I', 'Caius', 'Cassius', 'By', 'Roman', 'Come', 'Cassius', 'Titinius', 'Kills', 'Alarum', 'Re', 'Where', 'Messala', 'Lo', 'Titinius', 'Titinius', 'He', 'O', 'Julius', 'Caesar', 'Thy', 'In', 'Low', 'Brave', 'Titinius', 'Look', 'Cassius', 'Are', 'Romans', 'The', 'Romans', 'It', 'Rome', 'Should', 'Friends', 'I', 'To', 'I', 'Cassius', 'I', 'Come', 'Thasos', 'His', 'Lest', 'Lucilius', 'And', 'Cato', 'Labeo', 'Flavius', 'Tis', 'Romans', 'We', 'Exeunt', 'Another', 'Alarum', 'Enter', 'Soldiers', 'Yet', 'O', 'What', 'Who', 'I', 'I', 'Marcus', 'Cato', 'A', 'I', 'Marcus', 'Cato', 'And', 'I', 'Brutus', 'Marcus', 'Brutus', 'I', 'Brutus', 'Brutus', 'Exit', 'O', 'Cato', 'Why', 'Titinius', 'And', 'Cato', 'First', 'Soldier', 'Yield', 'Only', 'I', 'There', 'Offering', 'Kill', 'Brutus', 'First', 'Soldier', 'We', 'A', 'Second', 'Soldier', 'Room', 'Tell', 'Antony', 'Brutus', 'First', 'Soldier', 'I', 'Here', 'Enter', 'Brutus', 'Brutus', 'Where', 'Safe', 'Antony', 'Brutus', 'I', 'Shall', 'Brutus', 'The', 'When', 'He', 'Brutus', 'This', 'Brutus', 'I', 'A', 'Give', 'I', 'Such', 'Go', 'And', 'Brutus', 'And', 'Octavius', 'How', 'Exeunt', 'V', 'Another', 'Enter', 'Come', 'Statilius', 'He', 'Sit', 'Clitus', 'It', 'Hark', 'Clitus', 'Whispers', 'What', 'I', 'No', 'Peace', 'I', 'Hark', 'Dardanius', 'Whispers', 'Shall', 'I', 'O', 'Dardanius', 'O', 'Clitus', 'What', 'Brutus', 'To', 'Clitus', 'Look', 'Now', 'That', 'Come', 'Volumnius', 'What', 'Why', 'Volumnius', 'The', 'Caesar', 'Two', 'Sardis', 'And', 'Philippi', 'I', 'Not', 'Nay', 'I', 'Volumnius', 'Thou', 'Volumnius', 'Our', 'Low', 'It', 'Than', 'Good', 'Volumnius', 'Thou', 'Even', 'I', 'Hold', 'I', 'That', 'Alarum', 'Fly', 'Farewell', 'Volumnius', 'Strato', 'Farewell', 'Strato', 'Countrymen', 'My', 'I', 'I', 'More', 'Octavius', 'Mark', 'Antony', 'By', 'So', 'Brutus', 'Hath', 'Night', 'That', 'Alarum', 'Cry', 'Fly', 'Fly', 'Hence', 'I', 'Exeunt', 'I', 'Strato', 'Thou', 'Thy', 'Hold', 'While', 'I', 'Wilt', 'Strato', 'Give', 'Fare', 'Farewell', 'Strato', 'Runs', 'Caesar', 'I', 'Dies', 'Alarum', 'Retreat', 'Enter', 'What', 'My', 'Strato', 'Free', 'Messala', 'The', 'For', 'Brutus', 'And', 'So', 'Brutus', 'I', 'Brutus', 'That', 'Lucilius', 'All', 'Brutus', 'I', 'Fellow', 'Ay', 'Messala', 'Do', 'Messala', 'How', 'Strato', 'I', 'Octavius', 'That', 'This', 'Roman', 'All', 'Did', 'Caesar', 'He', 'And', 'His', 'So', 'Nature', 'And', 'This', 'According', 'With', 'Within', 'Most', 'So', 'To', 'Exeunt']\n",
            " Count of first letter 'only', capitalized words: 4376\n",
            "UNIQUE first letter 'only', capitalized words: ['The', 'Life', 'Death', 'Julius', 'Caesar', 'I', 'Rome', 'A', 'Enter', 'Commoners', 'Hence', 'Is', 'Being', 'Upon', 'Of', 'Speak', 'First', 'Commoner', 'Why', 'Where', 'What', 'You', 'Second', 'Truly', 'But', 'Nay', 'Thou', 'As', 'Wherefore', 'To', 'O', 'Knew', 'Pompey', 'Many', 'Have', 'Your', 'And', 'That', 'Tiber', 'Made', 'Be', 'Run', 'Pray', 'Go', 'Assemble', 'Draw', 'Into', 'Do', 'Exeunt', 'See', 'They', 'Capitol', 'This', 'If', 'May', 'Lupercal', 'It', 'So', 'These', 'Will', 'Who', 'Flourish', 'Soothsayer', 'Calpurnia', 'Peace', 'Here', 'Stand', 'Antonius', 'When', 'Forget', 'Shake', 'Set', 'Ha', 'Bid', 'Cry', 'Beware', 'March', 'Fellow', 'He', 'Sennet', 'Not', 'Antony', 'Let', 'Cassius', 'Brutus', 'Over', 'Merely', 'Vexed', 'Conceptions', 'Which', 'Among', 'Nor', 'Than', 'Forgets', 'Then', 'By', 'Thoughts', 'Tell', 'No', 'Tis', 'Except', 'For', 'Therefore', 'Were', 'Choose', 'Ay', 'Well', 'Think', 'In', 'We', 'Endure', 'Darest', 'Leap', 'Accoutred', 'With', 'Help', 'Aeneas', 'Did', 'Troy', 'Anchises', 'Spain', 'How', 'His', 'Romans', 'Mark', 'Alas', 'Give', 'Titinius', 'Ye', 'Shout', 'Another', 'Like', 'Colossus', 'Walk', 'Men', 'Write', 'Sound', 'Weigh', 'Now', 'Age', 'There', 'Both', 'Till', 'Under', 'Casca', 'Re', 'Train', 'Cicero', 'Looks', 'Sleek', 'Yond', 'Fear', 'Roman', 'Would', 'Yet', 'Quite', 'Seldom', 'Such', 'Whiles', 'Come', 'Was', 'Marry', 'An', 'Three', 'Greek', 'Ill', 'Marullus', 'Flavius', 'Fare', 'Good', 'Farewell', 'Exit', 'However', 'Thy', 'From', 'Writings', 'Thunder', 'Are', 'Shakes', 'Either', 'Or', 'Incenses', 'Held', 'Besides', 'Against', 'Without', 'Transformed', 'Even', 'Hooting', 'Unto', 'Indeed', 'Clean', 'Send', 'Those', 'Submitting', 'Their', 'Most', 'Our', 'Mean', 'Italy', 'Therein', 'Can', 'Never', 'Poor', 'Begin', 'Before', 'My', 'Hold', 'Some', 'Cinna', 'Metellus', 'Cimber', 'Am', 'Yes', 'Repair', 'Decius', 'Trebonius', 'All', 'Him', 'Lucius', 'Call', 'Get', 'Crown', 'Remorse', 'More', 'Whereto', 'Fashion', 'Searching', 'Gives', 'Look', 'Opens', 'Shall', 'Thus', 'Tarquin', 'Sir', 'Knocking', 'Since', 'Between', 'Genius', 'Shamest', 'Seek', 'Hide', 'Erebus', 'Know', 'Betwixt', 'Weighing', 'Stands', 'Swear', 'Old', 'Should', 'Caius', 'Stir', 'Clock', 'Whether', 'Lions', 'Ligarius', 'Boy', 'Fast', 'Enjoy', 'Portia', 'Stole', 'Musing', 'Gave', 'Fearing', 'Hoping', 'Dear', 'Make', 'Kneel', 'Within', 'Dwell', 'Lord', 'Cato', 'Giving', 'Render', 'Hark', 'Leave', 'Vouchsafe', 'Any', 'Had', 'Soul', 'Brave', 'Yea', 'Follow', 'Thrice', 'Servant', 'Ne', 'Recounts', 'Fierce', 'Horses', 'Whose', 'Cowards', 'Seeing', 'Plucking', 'Cannot', 'Say', 'Lest', 'Because', 'She', 'Came', 'Hath', 'Signifies', 'Reviving', 'Apt', 'Break', 'Lo', 'Pardon', 'Publius', 'Welcome', 'Remember', 'Aside', 'Out', 'Fates', 'Stay', 'Ere', 'Art', 'Madam', 'Prithee', 'Sooth', 'At', 'About', 'None', 'Sure', 'Senate', 'Hail', 'Delay', 'Sirrah', 'House', 'Popilius', 'Advances', 'Lena', 'Kneeling', 'Might', 'Low', 'Desiring', 'Unshaked', 'Olympus', 'Great', 'Doth', 'Conspirators', 'Et', 'Brute', 'Dies', 'Liberty', 'Freedom', 'Tyranny', 'People', 'Fly', 'Talk', 'Rushing', 'Fled', 'Cuts', 'Grant', 'Stoop', 'Up', 'Soft', 'Thorough', 'Depart', 'Falls', 'Shrunk', 'Fulfil', 'Live', 'Though', 'Only', 'Marcus', 'Next', 'Yours', 'Gentlemen', 'Anthony', 'Shaking', 'Weeping', 'Sign', 'Dost', 'Sway', 'Friends', 'Produce', 'Else', 'After', 'Prepare', 'Woe', 'Domestic', 'Blood', 'Ate', 'Havoc', 'Octavius', 'Passion', 'Began', 'Post', 'Hie', 'According', 'Lend', 'Forum', 'Citizens', 'Citizen', 'Third', 'Bring', 'Fourth', 'Tending', 'Save', 'Noble', 'Goes', 'Twere', 'Ambition', 'Bear', 'Methinks', 'Has', 'Bequeathing', 'Read', 'Several', 'Descend', 'Room', 'Twas', 'Nervii', 'Through', 'Judge', 'Ingratitude', 'Whilst', 'Kind', 'Revenge', 'Burn', 'Fire', 'Kill', 'Slay', 'Action', 'Show', 'Away', 'Hear', 'Wherein', 'Moreover', 'On', 'Take', 'Pluck', 'Mischief', 'Lepidus', 'Fortune', 'Belike', 'Whither', 'Answer', 'Proceed', 'Directly', 'Briefly', 'Tear', 'Prick', 'Fetch', 'Meet', 'One', 'Listen', 'Millions', 'Camp', 'Sardis', 'Drum', 'Soldiers', 'Lucilius', 'Pindarus', 'Things', 'Sink', 'Comes', 'Soldier', 'Pella', 'Sardians', 'Chastisement', 'Contaminate', 'Older', 'Urge', 'Must', 'Dash', 'Hated', 'Cheque', 'Dearer', 'Plutus', 'Strike', 'Sheathe', 'Makes', 'Poet', 'Nothing', 'Love', 'Companion', 'Messala', 'Immediately', 'Impatient', 'Fill', 'Bending', 'Philippi', 'Myself', 'Mine', 'Doing', 'Omitted', 'Early', 'Every', 'Claudius', 'Varro', 'Calls', 'Canst', 'Music', 'Lay', 'Gentle', 'Ghost', 'Sirs', 'Didst', 'Sleep', 'V', 'Answering', 'Tut', 'Messenger', 'Army', 'Words', 'Witness', 'Crying', 'Long', 'Hybla', 'Villains', 'Hack', 'Struck', 'Flatterers', 'Unless', 'Young', 'Join', 'Defiance', 'Ho', 'Standing', 'Epicurus', 'Coming', 'Two', 'Gorging', 'Believe', 'Lovers', 'Alarum', 'Ride', 'Loud', 'Alarums', 'Took', 'Mount', 'Above', 'Parthia', 'Guide', 'Durst', 'Far', 'Clouds', 'Mistrust', 'Put', 'Kills', 'Thasos', 'Labeo', 'Yield', 'Offering', 'Safe', 'Statilius', 'Sit', 'Clitus', 'Whispers', 'Dardanius', 'Volumnius', 'Strato', 'Countrymen', 'Night', 'While', 'Wilt', 'Runs', 'Retreat', 'Free', 'Nature'] \n",
            "Count of UNIQUE first letter 'only', capitalized words: 560 \n"
          ],
          "name": "stdout"
        }
      ]
    },
    {
      "cell_type": "markdown",
      "metadata": {
        "id": "QkNKi6D5gY_F"
      },
      "source": [
        "4. Write a regular expression using groups in Python that extracts all phrases that have\r\n",
        "“son of ” and extract/output the answer in a case-insensitive way. For example, for the\r\n",
        "following “I am the son of earth”, should find “son of earth” and extract/output “earth”.\r\n",
        "(20 points)\r\n"
      ]
    },
    {
      "cell_type": "code",
      "metadata": {
        "colab": {
          "base_uri": "https://localhost:8080/"
        },
        "id": "XVmBhWoohuCJ",
        "outputId": "cf5e5625-1471-4de4-a7b7-7905747c861f"
      },
      "source": [
        "\r\n",
        "#using groups\r\n",
        "with open(\"/content/sample_data/hw_1-text.txt\") as openfile:\r\n",
        "    for line in openfile:\r\n",
        "      searchObj =re.search(r'\\bson of (\\w+)\\b',line,re.M|re.I)\r\n",
        "      if searchObj:\r\n",
        "        print(\"searchObj.group(1) : \",searchObj.group(1))\r\n",
        "\r\n",
        "\r\n",
        "\r\n",
        "\r\n",
        "\r\n",
        "# #without using groups\r\n",
        "# count=0\r\n",
        "# cap = []\r\n",
        "# unqCap = []\r\n",
        "# textfile = open(\"/content/sample_data/hw_1-text.txt\",mode='r')\r\n",
        "# # print(textfile.read())\r\n",
        "\r\n",
        "# cap.append(re.findall(r'\\bson of (\\w+)\\b',textfile.read()))\r\n",
        "            \r\n",
        "# cap = cap[0]\r\n",
        "\r\n",
        "# print(\" \\nNon unique values: {}\".format(cap))\r\n",
        "# print(\"Count : {}\".format(len(cap)))\r\n",
        "\r\n",
        "# for j in cap:\r\n",
        "#   if j not in unqCap:\r\n",
        "#     unqCap.append(j)\r\n",
        "\r\n",
        "# print(\"UNIQUE values: {} \".format(unqCap))\r\n",
        "# print(\"Count : {} \".format(len(unqCap)))\r\n",
        "\r\n",
        "\r\n",
        "\r\n"
      ],
      "execution_count": 169,
      "outputs": [
        {
          "output_type": "stream",
          "text": [
            "searchObj.group(1) :  Rome\n",
            "searchObj.group(1) :  Caesar\n",
            "searchObj.group(1) :  Marcus\n",
            "searchObj.group(1) :  Marcus\n"
          ],
          "name": "stdout"
        }
      ]
    },
    {
      "cell_type": "markdown",
      "metadata": {
        "id": "v10QVRyfpmYs"
      },
      "source": [
        "5. Plays are divided in acts, write a regular expression using groups in Python that\r\n",
        "extracts the number of each act found in this play in a case-sensitive way. (20 points)"
      ]
    },
    {
      "cell_type": "code",
      "metadata": {
        "colab": {
          "base_uri": "https://localhost:8080/"
        },
        "id": "SraDPgx7pqjQ",
        "outputId": "7be01dd7-87b4-4243-c32c-59b2682c191e"
      },
      "source": [
        "#using groups\r\n",
        "with open(\"/content/sample_data/hw_1-text.txt\") as openfile:\r\n",
        "    for line in openfile:\r\n",
        "      searchObj =re.search(r'\\bACT (\\w+)\\b',line,re.M)\r\n",
        "      if searchObj:\r\n",
        "        print(\"searchObj.group(1) : \",searchObj.group(1))"
      ],
      "execution_count": 178,
      "outputs": [
        {
          "output_type": "stream",
          "text": [
            "searchObj.group(1) :  I\n",
            "searchObj.group(1) :  II\n",
            "searchObj.group(1) :  III\n",
            "searchObj.group(1) :  IV\n",
            "searchObj.group(1) :  V\n"
          ],
          "name": "stdout"
        }
      ]
    },
    {
      "cell_type": "markdown",
      "metadata": {
        "id": "5ET0cB25yxGs"
      },
      "source": [
        "6. Write a Python function that takes the file as an input and outputs how many lines end\r\n",
        "with: ? , that is a question mark at the end of the line. This function needs to use a\r\n",
        "regular expression. (20 points)"
      ]
    },
    {
      "cell_type": "code",
      "metadata": {
        "colab": {
          "base_uri": "https://localhost:8080/"
        },
        "id": "FrXzTefyywqa",
        "outputId": "5f7ab444-174e-43fc-9b3c-200514a05159"
      },
      "source": [
        "#using groups\r\n",
        "cl = 0\r\n",
        "with open(\"/content/sample_data/hw_1-text.txt\") as openfile:\r\n",
        "    for line in openfile:\r\n",
        "      # searchObj =re.search(r'\\b\\?$',line,re.M)\r\n",
        "      searchObj=re.findall(r'\\?$',line)\r\n",
        "      if searchObj:\r\n",
        "        # print(\" Line with a ? found: \",line)\r\n",
        "        cl +=1\r\n",
        "print(\"Count of Lines ending with a ? : {}\".format(cl))"
      ],
      "execution_count": 188,
      "outputs": [
        {
          "output_type": "stream",
          "text": [
            "Count of Lines ending with a ? : 215\n"
          ],
          "name": "stdout"
        }
      ]
    },
    {
      "cell_type": "markdown",
      "metadata": {
        "id": "QGW4_mJu7_dE"
      },
      "source": [
        "7. Using the code from Class 04, train a Random Forest classification model for the same\r\n",
        "two newsgroups, generate the confusion matrix, and all the same performance metrics.\r\n",
        "(50 points)"
      ]
    },
    {
      "cell_type": "code",
      "metadata": {
        "colab": {
          "base_uri": "https://localhost:8080/"
        },
        "id": "8M6d7WPa1AYR",
        "outputId": "4099b75e-e4ec-4eef-bdac-196483441af4"
      },
      "source": [
        "from sklearn.datasets import fetch_20newsgroups\r\n",
        "\r\n",
        "data = fetch_20newsgroups()\r\n",
        "data.target_names"
      ],
      "execution_count": 189,
      "outputs": [
        {
          "output_type": "stream",
          "text": [
            "Downloading 20news dataset. This may take a few minutes.\n",
            "Downloading dataset from https://ndownloader.figshare.com/files/5975967 (14 MB)\n"
          ],
          "name": "stderr"
        },
        {
          "output_type": "execute_result",
          "data": {
            "text/plain": [
              "['alt.atheism',\n",
              " 'comp.graphics',\n",
              " 'comp.os.ms-windows.misc',\n",
              " 'comp.sys.ibm.pc.hardware',\n",
              " 'comp.sys.mac.hardware',\n",
              " 'comp.windows.x',\n",
              " 'misc.forsale',\n",
              " 'rec.autos',\n",
              " 'rec.motorcycles',\n",
              " 'rec.sport.baseball',\n",
              " 'rec.sport.hockey',\n",
              " 'sci.crypt',\n",
              " 'sci.electronics',\n",
              " 'sci.med',\n",
              " 'sci.space',\n",
              " 'soc.religion.christian',\n",
              " 'talk.politics.guns',\n",
              " 'talk.politics.mideast',\n",
              " 'talk.politics.misc',\n",
              " 'talk.religion.misc']"
            ]
          },
          "metadata": {
            "tags": []
          },
          "execution_count": 189
        }
      ]
    },
    {
      "cell_type": "code",
      "metadata": {
        "id": "My6-3FCwMqdA"
      },
      "source": [
        "categories = ['rec.autos','comp.graphics']\r\n",
        "train = fetch_20newsgroups(subset='train', categories=categories)\r\n",
        "test = fetch_20newsgroups(subset='test', categories=categories)"
      ],
      "execution_count": 190,
      "outputs": []
    },
    {
      "cell_type": "code",
      "metadata": {
        "colab": {
          "base_uri": "https://localhost:8080/"
        },
        "id": "7U-0Nl3kOWga",
        "outputId": "e5be4cd2-24dc-422b-c01c-36f7cb2a8b7a"
      },
      "source": [
        "len(train.filenames)"
      ],
      "execution_count": 197,
      "outputs": [
        {
          "output_type": "execute_result",
          "data": {
            "text/plain": [
              "1178"
            ]
          },
          "metadata": {
            "tags": []
          },
          "execution_count": 197
        }
      ]
    },
    {
      "cell_type": "code",
      "metadata": {
        "colab": {
          "base_uri": "https://localhost:8080/"
        },
        "id": "UjaS6YTwMw_B",
        "outputId": "9ee8d3ad-4020-40e1-b31d-cc7afe97164a"
      },
      "source": [
        "print(train.data[22])"
      ],
      "execution_count": 192,
      "outputs": [
        {
          "output_type": "stream",
          "text": [
            "From: jek@icf.hrb.com (Joe Karolchik)\n",
            "Subject: Re: WARNING.....(please read)...\n",
            "Organization: HRB Systems, Inc.\n",
            "Lines: 31\n",
            "\n",
            "(I deleted your name because I don't want to sound accusative in my remark)\n",
            "> \n",
            "> This is a two-sided problem. Unfortunately our culture has been deteriorating over time.\n",
            "> The \"breeding\" of these low-life's is getting worse; our justice system is at best\n",
            "> extremely weak to handle these problems. That is why low-abiding citizens should have\n",
            "> the power to protect themselves and their property using deadly force if necessary \n",
            "> anywhere a threat is imminent.\n",
            "> \n",
            "> My Camaro (my pride and joy) got stolen right out of my driveway a few years back.\n",
            "> The persons that did that were eventually caught (lucky for me!) but not before\n",
            "> having trashed the car.\n",
            "> \n",
            "> On another occasion, on my way from Texas to Florida, I had stopped in a small motel\n",
            "> for the night in a small town somewhere in Florida. About 5 youths were disturbing my\n",
            "> car, setting off the alarm and challenging me to come out. When I and another tenant\n",
            "> walked out with a 357 Magnum and a 45 automatic respectively, they vanished. \n",
            "> Needless to say, I immediately packed-up and left.\n",
            "> \n",
            "> Watch out for car-jacking and staged accidents. They can be deadly!\n",
            "> \n",
            "I'm not going to argue the issue of carrying weapons, but I would ask you if \n",
            "you would have thought seriously about shooting a kid for setting off your\n",
            "alarm?  I can think of worse things in the world.  Glad you got out of there\n",
            "before they did anything to give you a reason to fire your gun.\n",
            "\n",
            "We can all ask \"what's happening to society these days\", but don't forget to\n",
            "ask another important question too: What effort am I expending to make it any\n",
            "different than it is?\n",
            "\n",
            "Just my thoughts,\n",
            "Joe Karolchik\n",
            "\n"
          ],
          "name": "stdout"
        }
      ]
    },
    {
      "cell_type": "code",
      "metadata": {
        "id": "DEG5z35yM5K_"
      },
      "source": [
        "from sklearn.feature_extraction.text import CountVectorizer\r\n",
        "from sklearn.ensemble import RandomForestClassifier\r\n",
        "from sklearn.pipeline import make_pipeline\r\n",
        "\r\n",
        "model = make_pipeline(CountVectorizer(), RandomForestClassifier(max_depth=15, random_state=0))"
      ],
      "execution_count": 235,
      "outputs": []
    },
    {
      "cell_type": "code",
      "metadata": {
        "id": "A4omFlpGNRTo"
      },
      "source": [
        "model.fit(train.data, train.target)\r\n",
        "labels = model.predict(test.data)"
      ],
      "execution_count": 236,
      "outputs": []
    },
    {
      "cell_type": "code",
      "metadata": {
        "colab": {
          "base_uri": "https://localhost:8080/"
        },
        "id": "-yeOsqEZPCPG",
        "outputId": "ff048c50-8483-468b-e1ad-d60f00840034"
      },
      "source": [
        "labels"
      ],
      "execution_count": 237,
      "outputs": [
        {
          "output_type": "execute_result",
          "data": {
            "text/plain": [
              "array([1, 1, 0, 1, 0, 0, 0, 1, 1, 1, 0, 0, 1, 0, 0, 0, 0, 1, 0, 0, 0, 1,\n",
              "       1, 0, 1, 0, 1, 0, 1, 1, 0, 1, 1, 0, 0, 1, 1, 0, 0, 0, 0, 1, 0, 1,\n",
              "       1, 0, 1, 0, 0, 1, 1, 1, 1, 0, 0, 1, 0, 1, 1, 1, 1, 0, 0, 1, 0, 0,\n",
              "       0, 0, 1, 1, 1, 0, 1, 1, 0, 1, 0, 1, 0, 0, 0, 0, 1, 1, 1, 0, 1, 1,\n",
              "       1, 0, 1, 1, 0, 1, 0, 0, 1, 1, 1, 0, 0, 0, 0, 1, 0, 1, 0, 1, 0, 0,\n",
              "       0, 1, 0, 1, 0, 1, 0, 1, 0, 0, 1, 0, 1, 1, 1, 0, 0, 1, 1, 0, 1, 1,\n",
              "       1, 0, 1, 1, 1, 0, 1, 0, 0, 0, 1, 0, 0, 0, 1, 1, 1, 1, 0, 1, 1, 0,\n",
              "       0, 1, 1, 0, 1, 0, 0, 0, 1, 1, 0, 0, 0, 1, 0, 0, 1, 1, 0, 0, 1, 0,\n",
              "       1, 1, 0, 1, 1, 1, 1, 1, 1, 0, 1, 1, 1, 1, 0, 1, 1, 0, 1, 1, 0, 1,\n",
              "       1, 1, 1, 0, 1, 1, 1, 1, 0, 1, 1, 0, 1, 0, 0, 0, 0, 0, 0, 1, 0, 1,\n",
              "       0, 0, 0, 1, 1, 0, 0, 1, 1, 1, 0, 0, 0, 0, 0, 0, 0, 1, 0, 1, 1, 0,\n",
              "       0, 0, 0, 1, 0, 1, 1, 0, 0, 1, 0, 1, 1, 0, 0, 0, 1, 0, 1, 1, 1, 0,\n",
              "       1, 1, 0, 0, 1, 1, 0, 0, 1, 1, 0, 0, 1, 0, 1, 0, 0, 0, 0, 0, 0, 1,\n",
              "       1, 1, 1, 1, 1, 1, 0, 1, 1, 0, 0, 1, 0, 0, 1, 0, 0, 0, 0, 1, 1, 0,\n",
              "       1, 1, 1, 0, 1, 1, 0, 1, 0, 1, 1, 1, 1, 1, 0, 0, 1, 1, 0, 0, 1, 0,\n",
              "       1, 0, 0, 0, 0, 1, 1, 0, 0, 1, 1, 1, 0, 1, 0, 1, 0, 1, 1, 1, 0, 0,\n",
              "       1, 0, 0, 1, 0, 0, 1, 1, 0, 0, 1, 0, 1, 0, 1, 1, 1, 1, 0, 1, 1, 0,\n",
              "       1, 1, 1, 0, 1, 0, 1, 1, 0, 1, 1, 1, 0, 0, 1, 1, 0, 1, 1, 1, 0, 0,\n",
              "       0, 1, 1, 1, 0, 1, 1, 1, 1, 1, 1, 0, 0, 0, 1, 1, 1, 1, 1, 1, 1, 1,\n",
              "       1, 0, 0, 1, 0, 0, 1, 0, 1, 1, 1, 1, 0, 0, 0, 0, 0, 0, 0, 1, 1, 0,\n",
              "       0, 0, 1, 0, 0, 1, 0, 1, 1, 0, 1, 0, 1, 1, 0, 0, 1, 0, 0, 0, 1, 1,\n",
              "       0, 0, 0, 0, 1, 0, 0, 0, 0, 0, 0, 0, 0, 0, 0, 0, 0, 0, 0, 1, 0, 1,\n",
              "       0, 0, 1, 0, 1, 0, 0, 0, 1, 1, 0, 0, 0, 1, 0, 1, 0, 0, 0, 0, 1, 1,\n",
              "       0, 0, 0, 0, 1, 0, 1, 1, 0, 1, 0, 1, 0, 0, 1, 0, 0, 0, 0, 0, 1, 0,\n",
              "       0, 0, 0, 1, 1, 1, 1, 0, 1, 0, 0, 0, 1, 0, 1, 1, 0, 0, 0, 0, 1, 0,\n",
              "       0, 1, 0, 0, 0, 0, 0, 0, 1, 0, 0, 0, 1, 0, 0, 0, 1, 1, 0, 0, 1, 1,\n",
              "       0, 1, 0, 0, 0, 1, 1, 0, 1, 0, 0, 1, 1, 0, 0, 0, 0, 1, 0, 0, 1, 0,\n",
              "       1, 1, 0, 0, 1, 1, 1, 0, 1, 1, 0, 1, 1, 1, 0, 1, 0, 0, 1, 0, 1, 0,\n",
              "       1, 1, 0, 0, 0, 0, 1, 0, 0, 0, 0, 1, 0, 0, 1, 1, 0, 0, 0, 0, 0, 0,\n",
              "       1, 0, 1, 1, 0, 0, 0, 0, 1, 0, 1, 0, 1, 0, 1, 1, 1, 0, 1, 1, 1, 0,\n",
              "       1, 1, 0, 0, 1, 1, 0, 1, 1, 0, 0, 0, 1, 1, 1, 1, 0, 0, 1, 1, 0, 0,\n",
              "       0, 0, 1, 0, 0, 0, 0, 0, 1, 1, 0, 1, 1, 0, 1, 0, 1, 1, 1, 0, 1, 1,\n",
              "       1, 1, 0, 1, 0, 1, 0, 1, 1, 1, 1, 1, 0, 0, 1, 1, 0, 0, 0, 0, 0, 0,\n",
              "       1, 0, 1, 1, 0, 0, 0, 0, 0, 1, 0, 0, 1, 1, 0, 0, 0, 0, 0, 1, 0, 0,\n",
              "       0, 0, 1, 0, 0, 0, 0, 0, 0, 0, 0, 1, 0, 1, 0, 1, 1, 0, 0, 1, 0, 1,\n",
              "       0, 0, 1, 1, 1, 1, 1, 0, 0, 0, 0, 1, 1, 0, 1])"
            ]
          },
          "metadata": {
            "tags": []
          },
          "execution_count": 237
        }
      ]
    },
    {
      "cell_type": "code",
      "metadata": {
        "colab": {
          "base_uri": "https://localhost:8080/",
          "height": 279
        },
        "id": "IgPI0lCSPF0X",
        "outputId": "95f02e19-3e0f-4cc2-ee2f-891de40ce009"
      },
      "source": [
        "from sklearn.metrics import confusion_matrix\r\n",
        "import seaborn as sns\r\n",
        "import matplotlib.pyplot as plt\r\n",
        "import numpy as np\r\n",
        "\r\n",
        "mat = confusion_matrix(test.target, labels)\r\n",
        "sns.heatmap(mat.T, square=True, annot=True, fmt='d', cbar=False, cmap=\"Accent_r\", xticklabels=train.target_names, yticklabels=train.target_names)\r\n",
        "plt.xlabel('true label')\r\n",
        "plt.ylabel('predicted label');"
      ],
      "execution_count": 251,
      "outputs": [
        {
          "output_type": "display_data",
          "data": {
            "image/png": "[encoded data removed]",
            "text/plain": [
              "<Figure size 432x288 with 1 Axes>"
            ]
          },
          "metadata": {
            "tags": [],
            "needs_background": "light"
          }
        }
      ]
    },
    {
      "cell_type": "code",
      "metadata": {
        "colab": {
          "base_uri": "https://localhost:8080/"
        },
        "id": "L2Saqk_RP3G4",
        "outputId": "914c8e97-a7a0-4c9c-877a-b2193a46af16"
      },
      "source": [
        "import sklearn.metrics as sm\r\n",
        "print('Accuracy:', sm.accuracy_score(test.target,labels))\r\n",
        "print('Precision:', sm.precision_score(test.target,labels))\r\n",
        "print('Recall:', sm.recall_score(test.target,labels))\r\n",
        "print('F1 Score:', sm.f1_score(labels, test.target, average='macro'))\r\n",
        "print('Mean Absolute Error:', sm.mean_absolute_error(test.target,labels))\r\n",
        "print('Mean Squared Error:', sm.mean_squared_error(test.target, labels))  \r\n",
        "print('Root Mean Squared Error:', np.sqrt(sm.mean_squared_error(test.target, labels)))"
      ],
      "execution_count": 241,
      "outputs": [
        {
          "output_type": "stream",
          "text": [
            "Accuracy: 0.9222929936305733\n",
            "Precision: 0.9514824797843666\n",
            "Recall: 0.8914141414141414\n",
            "F1 Score: 0.922252115193838\n",
            "Mean Absolute Error: 0.07770700636942675\n",
            "Mean Squared Error: 0.07770700636942675\n",
            "Root Mean Squared Error: 0.27875976461718205\n"
          ],
          "name": "stdout"
        }
      ]
    },
    {
      "cell_type": "markdown",
      "metadata": {
        "id": "Ysuv4yrWSfcH"
      },
      "source": [
        "Bonus (15 points): Using the code from Class 04. Write a function to find the best\r\n",
        "performing model for the TF-IDF vectorization. The requirements for this are: 1) Pass all\r\n",
        "metrics for each model in a single dataframe (each row has a metric value, each column\r\n",
        "is a model type). 2) Make the decision of the best model by counting which column has\r\n",
        "the highest F1-score and accuracy."
      ]
    },
    {
      "cell_type": "code",
      "metadata": {
        "id": "7GghfFGqRv5r"
      },
      "source": [
        "import pandas as pd\r\n",
        "# dfObj.idxmax(axis=1)\r\n",
        "def bestModel(metrics):\r\n",
        "  print(metrics)\r\n",
        "  bestm=[]\r\n",
        "  colu=\"\"\r\n",
        "  cols=metrics.columns\r\n",
        "  for row in range(metrics.shape[0]-5):\r\n",
        "   max = metrics.iloc[row][0]\r\n",
        "   for cols1 in metrics.columns:\r\n",
        "      if(float(metrics.iloc[row][cols1])>=float(max)):\r\n",
        "        max = metrics.iloc[row][cols1]\r\n",
        "        colu = cols1\r\n",
        "   bestm.append(colu)\r\n",
        "  if(bestm[0]==bestm[1]):\r\n",
        "    bestm = bestm[0]\r\n",
        "  else:\r\n",
        "    bestm=\"One has a better F1 score than other and the other one has a better Accuracy. So none win!\"\r\n",
        "    \r\n",
        "  return bestm\r\n"
      ],
      "execution_count": 332,
      "outputs": []
    },
    {
      "cell_type": "code",
      "metadata": {
        "id": "d5Xaj5u8YUI1"
      },
      "source": [
        "metric = pd.DataFrame(metric,columns=['MultinomialNB','Perceptron','LogisticRegression','Random Forest'],\r\n",
        "                      index=['F1 Score','Accuracy','Precision','Recall','Mean Absolute Error','Mean Squared Error','Root Mean Squared Error'])\r\n",
        "# print(metric)\r\n",
        "# b = bestModel(metric)\r\n",
        "# print(b)"
      ],
      "execution_count": 358,
      "outputs": []
    },
    {
      "cell_type": "code",
      "metadata": {
        "id": "kwJH-FkqqYXm"
      },
      "source": [
        "# def predict_category(s, train=train, model=model):\r\n",
        "#     pred = model.predict([s])\r\n",
        "#     return train.target_names[pred[0]]"
      ],
      "execution_count": null,
      "outputs": []
    },
    {
      "cell_type": "code",
      "metadata": {
        "id": "9EnoqhvDqIIE"
      },
      "source": [
        "\r\n",
        "from sklearn.feature_extraction.text import TfidfVectorizer\r\n",
        "from sklearn.naive_bayes import MultinomialNB\r\n",
        "from sklearn.pipeline import make_pipeline\r\n",
        "model = make_pipeline(TfidfVectorizer(), MultinomialNB())"
      ],
      "execution_count": 359,
      "outputs": []
    },
    {
      "cell_type": "code",
      "metadata": {
        "id": "3retdj8gqRK0"
      },
      "source": [
        "model.fit(train.data, train.target)\r\n",
        "labels = model.predict(test.data)\r\n",
        "metric.iloc[0]['MultinomialNB'] = sm.accuracy_score(test.target,labels)\r\n",
        "metric.iloc[1]['MultinomialNB'] = sm.f1_score(test.target,labels)\r\n",
        "metric.iloc[2]['MultinomialNB'] = sm.precision_score(test.target,labels)\r\n",
        "metric.iloc[3]['MultinomialNB'] = sm.recall_score(test.target,labels)\r\n",
        "metric.iloc[4]['MultinomialNB'] = sm.mean_absolute_error(test.target,labels)\r\n",
        "metric.iloc[5]['MultinomialNB'] = sm.mean_squared_error(test.target, labels)\r\n",
        "metric.iloc[6]['MultinomialNB'] = np.sqrt(sm.mean_squared_error(test.target, labels))"
      ],
      "execution_count": 360,
      "outputs": []
    },
    {
      "cell_type": "code",
      "metadata": {
        "id": "oYx4nl03rPfK"
      },
      "source": [
        "model = make_pipeline(TfidfVectorizer(), RandomForestClassifier())\r\n",
        "model.fit(train.data, train.target)\r\n",
        "labels = model.predict(test.data)\r\n",
        "metric.iloc[0]['Random Forest'] = sm.accuracy_score(test.target,labels)\r\n",
        "metric.iloc[1]['Random Forest'] = sm.f1_score(test.target,labels)\r\n",
        "metric.iloc[2]['Random Forest'] = sm.precision_score(test.target,labels)\r\n",
        "metric.iloc[3]['Random Forest'] = sm.recall_score(test.target,labels)\r\n",
        "metric.iloc[4]['Random Forest'] = sm.mean_absolute_error(test.target,labels)\r\n",
        "metric.iloc[5]['Random Forest'] = sm.mean_squared_error(test.target, labels)\r\n",
        "metric.iloc[6]['Random Forest'] = np.sqrt(sm.mean_squared_error(test.target, labels))"
      ],
      "execution_count": 361,
      "outputs": []
    },
    {
      "cell_type": "code",
      "metadata": {
        "id": "qOMvZJhbrrsN"
      },
      "source": [
        "from sklearn.linear_model import Perceptron\r\n",
        "model = make_pipeline(TfidfVectorizer(), Perceptron())\r\n",
        "model.fit(train.data, train.target)\r\n",
        "labels = model.predict(test.data)\r\n",
        "metric.iloc[0]['Perceptron'] = sm.accuracy_score(test.target,labels)\r\n",
        "metric.iloc[1]['Perceptron'] = sm.f1_score(test.target,labels)\r\n",
        "metric.iloc[2]['Perceptron'] = sm.precision_score(test.target,labels)\r\n",
        "metric.iloc[3]['Perceptron'] = sm.recall_score(test.target,labels)\r\n",
        "metric.iloc[4]['Perceptron'] = sm.mean_absolute_error(test.target,labels)\r\n",
        "metric.iloc[5]['Perceptron'] = sm.mean_squared_error(test.target, labels)\r\n",
        "metric.iloc[6]['Perceptron'] = np.sqrt(sm.mean_squared_error(test.target, labels))"
      ],
      "execution_count": 362,
      "outputs": []
    },
    {
      "cell_type": "code",
      "metadata": {
        "id": "7_rHoXBIr9Ot"
      },
      "source": [
        "from sklearn.linear_model import LogisticRegression\r\n",
        "model = make_pipeline(TfidfVectorizer(), LogisticRegression())\r\n",
        "model.fit(train.data, train.target)\r\n",
        "labels = model.predict(test.data)\r\n",
        "metric.iloc[0]['LogisticRegression'] = sm.accuracy_score(test.target,labels)\r\n",
        "metric.iloc[1]['LogisticRegression'] = sm.f1_score(test.target,labels)\r\n",
        "metric.iloc[2]['LogisticRegression'] = sm.precision_score(test.target,labels)\r\n",
        "metric.iloc[3]['LogisticRegression'] = sm.recall_score(test.target,labels)\r\n",
        "metric.iloc[4]['LogisticRegression'] = sm.mean_absolute_error(test.target,labels)\r\n",
        "metric.iloc[5]['LogisticRegression'] = sm.mean_squared_error(test.target, labels)\r\n",
        "metric.iloc[6]['LogisticRegression'] = np.sqrt(sm.mean_squared_error(test.target, labels))"
      ],
      "execution_count": 363,
      "outputs": []
    },
    {
      "cell_type": "code",
      "metadata": {
        "colab": {
          "base_uri": "https://localhost:8080/"
        },
        "id": "OnscQug-sPQo",
        "outputId": "8f74240a-3c15-4b20-cbdb-0bbc316f0c36"
      },
      "source": [
        "b = bestModel(metric)\r\n",
        "# print(metric.head())\r\n",
        "print(b+\" is the best model\")\r\n"
      ],
      "execution_count": 370,
      "outputs": [
        {
          "output_type": "stream",
          "text": [
            "                        MultinomialNB  ... Random Forest\n",
            "F1 Score                     0.947771  ...      0.917197\n",
            "Accuracy                     0.950423  ...      0.915912\n",
            "Precision                    0.911833  ...      0.938992\n",
            "Recall                       0.992424  ...      0.893939\n",
            "Mean Absolute Error         0.0522293  ...     0.0828025\n",
            "Mean Squared Error          0.0522293  ...     0.0828025\n",
            "Root Mean Squared Error      0.228537  ...      0.287754\n",
            "\n",
            "[7 rows x 4 columns]\n",
            "LogisticRegression is the best model\n"
          ],
          "name": "stdout"
        }
      ]
    }
  ]
}