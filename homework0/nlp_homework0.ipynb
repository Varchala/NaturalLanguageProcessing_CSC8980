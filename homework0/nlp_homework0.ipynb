{
  "nbformat": 4,
  "nbformat_minor": 0,
  "metadata": {
    "colab": {
      "name": "nlp_homework0.ipynb",
      "provenance": []
    },
    "kernelspec": {
      "name": "python3",
      "display_name": "Python 3"
    }
  },
  "cells": [
    {
      "cell_type": "markdown",
      "metadata": {
        "id": "scZ_Anbq-1KF"
      },
      "source": [
        "**G Varchaleswari\r\n",
        "vganugapati1@student.gsu.edu**"
      ]
    },
    {
      "cell_type": "markdown",
      "metadata": {
        "id": "tDp2WcMM_QPZ"
      },
      "source": [
        "1. Write a function that finds the factorial of a number. Test the function finding the\r\n",
        "factorial of the number 10.\r\n"
      ]
    },
    {
      "cell_type": "code",
      "metadata": {
        "colab": {
          "base_uri": "https://localhost:8080/"
        },
        "id": "dBtgk9dJ-w2o",
        "outputId": "289f9d52-a3c2-4bf8-bfed-179592631fca"
      },
      "source": [
        "def factorial(num):\r\n",
        "  fact = 1\r\n",
        "  for i in range(1,num+1):\r\n",
        "    fact = fact*i\r\n",
        "  return fact\r\n",
        "\r\n",
        "fact = factorial(10)\r\n",
        "print(fact)"
      ],
      "execution_count": 2,
      "outputs": [
        {
          "output_type": "stream",
          "text": [
            "3628800\n"
          ],
          "name": "stdout"
        }
      ]
    },
    {
      "cell_type": "markdown",
      "metadata": {
        "id": "9d0jaFEo-x4n"
      },
      "source": [
        "2. Write a function that determines if a number is a prime number. Test the function with\r\n",
        "the following numbers: 3 and 1251."
      ]
    },
    {
      "cell_type": "code",
      "metadata": {
        "colab": {
          "base_uri": "https://localhost:8080/"
        },
        "id": "O0FujNBYBqHX",
        "outputId": "8038b282-983c-49b5-ff61-1e17e4432eea"
      },
      "source": [
        "def prime(n):\r\n",
        "\r\n",
        "  for i in range(2,n):\r\n",
        "    if(n%i==0):\r\n",
        "      print(\"{} is not prime\".format(n))\r\n",
        "      break;\r\n",
        "  if(i==n-1):\r\n",
        "    print(\"{} is prime\".format(n))\r\n",
        "\r\n",
        "prime(3)\r\n",
        "prime(1251)\r\n"
      ],
      "execution_count": 3,
      "outputs": [
        {
          "output_type": "stream",
          "text": [
            "3 is prime\n",
            "1251 is not prime\n"
          ],
          "name": "stdout"
        }
      ]
    },
    {
      "cell_type": "markdown",
      "metadata": {
        "id": "V4n33ekhDwat"
      },
      "source": [
        "3. Write a function that transposes a matrix. Test with a 3 x 3 identity matrix."
      ]
    },
    {
      "cell_type": "code",
      "metadata": {
        "colab": {
          "base_uri": "https://localhost:8080/"
        },
        "id": "Z5KuI5n6DvuZ",
        "outputId": "3eea9548-5be9-45c7-c3c8-b95352f2573d"
      },
      "source": [
        "def transpose(n):\r\n",
        "\r\n",
        "  tran = [[n[i][j] for i in range(len(n))] for j in range(len(n[0]))] \r\n",
        "  print(\"\\n\") \r\n",
        "  for r in tran: \r\n",
        "      print(r)\r\n",
        "\r\n",
        "matrix = [[1,0,0],[0,1,0],[0,0,1]] \r\n",
        "for row in matrix: \r\n",
        "  print(row)\r\n",
        "\r\n",
        "transpose(matrix)\r\n"
      ],
      "execution_count": 4,
      "outputs": [
        {
          "output_type": "stream",
          "text": [
            "[1, 0, 0]\n",
            "[0, 1, 0]\n",
            "[0, 0, 1]\n",
            "\n",
            "\n",
            "[1, 0, 0]\n",
            "[0, 1, 0]\n",
            "[0, 0, 1]\n"
          ],
          "name": "stdout"
        }
      ]
    },
    {
      "cell_type": "markdown",
      "metadata": {
        "id": "LJkr8l86GE-j"
      },
      "source": [
        "4. Using Pandas and Numpy, write a piece of code to combine two series into one. Test\r\n",
        "your code with:\r\n",
        "np.random.seed(0)\r\n",
        "series1 = pd.Series(np.arange(10))\r\n",
        "series2 = pd.Series(np.arange(26))\r\n",
        "Do not forget to set the seed, or your answer won’t be reproducible.\r\n"
      ]
    },
    {
      "cell_type": "code",
      "metadata": {
        "colab": {
          "base_uri": "https://localhost:8080/"
        },
        "id": "a9145m37GEWU",
        "outputId": "06e83ea9-e5c2-47b7-e2c6-e5c644e24a7b"
      },
      "source": [
        "import numpy as np\r\n",
        "import pandas as pd\r\n",
        "np.random.seed(0) \r\n",
        "series1 = pd.Series(np.arange(10)) \r\n",
        "series2 = pd.Series(np.arange(26))\r\n",
        "combine = pd.concat((series1,series2), axis=0)\r\n",
        "print(series1,\"\\n\\n\\n\",series2,\"\\n\\n\\n\\n\",combine)"
      ],
      "execution_count": 5,
      "outputs": [
        {
          "output_type": "stream",
          "text": [
            "0    0\n",
            "1    1\n",
            "2    2\n",
            "3    3\n",
            "4    4\n",
            "5    5\n",
            "6    6\n",
            "7    7\n",
            "8    8\n",
            "9    9\n",
            "dtype: int64 \n",
            "\n",
            "\n",
            " 0      0\n",
            "1      1\n",
            "2      2\n",
            "3      3\n",
            "4      4\n",
            "5      5\n",
            "6      6\n",
            "7      7\n",
            "8      8\n",
            "9      9\n",
            "10    10\n",
            "11    11\n",
            "12    12\n",
            "13    13\n",
            "14    14\n",
            "15    15\n",
            "16    16\n",
            "17    17\n",
            "18    18\n",
            "19    19\n",
            "20    20\n",
            "21    21\n",
            "22    22\n",
            "23    23\n",
            "24    24\n",
            "25    25\n",
            "dtype: int64 \n",
            "\n",
            "\n",
            "\n",
            " 0      0\n",
            "1      1\n",
            "2      2\n",
            "3      3\n",
            "4      4\n",
            "5      5\n",
            "6      6\n",
            "7      7\n",
            "8      8\n",
            "9      9\n",
            "0      0\n",
            "1      1\n",
            "2      2\n",
            "3      3\n",
            "4      4\n",
            "5      5\n",
            "6      6\n",
            "7      7\n",
            "8      8\n",
            "9      9\n",
            "10    10\n",
            "11    11\n",
            "12    12\n",
            "13    13\n",
            "14    14\n",
            "15    15\n",
            "16    16\n",
            "17    17\n",
            "18    18\n",
            "19    19\n",
            "20    20\n",
            "21    21\n",
            "22    22\n",
            "23    23\n",
            "24    24\n",
            "25    25\n",
            "dtype: int64\n"
          ],
          "name": "stdout"
        }
      ]
    },
    {
      "cell_type": "markdown",
      "metadata": {
        "id": "GQI52--ZPDfs"
      },
      "source": [
        "5. Using pandas, write a piece of code to convert the first character of each element in a\r\n",
        "series to uppercase. Test your code with:\r\n",
        "series = pd.Series(['nlp', 'will', 'be', 'easy?'])\r\n"
      ]
    },
    {
      "cell_type": "code",
      "metadata": {
        "colab": {
          "base_uri": "https://localhost:8080/"
        },
        "id": "LjyaMuytPLKA",
        "outputId": "56dc58fe-92d3-4de7-9380-205ebb555e34"
      },
      "source": [
        "def convert_u(w):\r\n",
        "  j=-1\r\n",
        "  word = pd.Series(dtype=str)\r\n",
        "  for i in w:\r\n",
        "    # print(i[0].upper())\r\n",
        "    i = i.replace(i[0],i[0].upper(),1)\r\n",
        "    word = word.append(pd.Series(i,dtype=str))\r\n",
        "  return word\r\n",
        "  print(series)\r\n",
        "series = pd.Series(['nlp', 'will', 'be', 'easy?'])\r\n",
        "print(series,\"\\n\")\r\n",
        "series = convert_u(series)\r\n",
        "print(series)"
      ],
      "execution_count": 41,
      "outputs": [
        {
          "output_type": "stream",
          "text": [
            "0      nlp\n",
            "1     will\n",
            "2       be\n",
            "3    easy?\n",
            "dtype: object \n",
            "\n",
            "0      Nlp\n",
            "0     Will\n",
            "0       Be\n",
            "0    Easy?\n",
            "dtype: object\n"
          ],
          "name": "stdout"
        }
      ]
    },
    {
      "cell_type": "markdown",
      "metadata": {
        "id": "f4cl60dou0VY"
      },
      "source": [
        "Bonus: Using pandas, write a piece of code to get the frequency of unique values in the\r\n",
        "entire dataframe (not using built in functions). Test your code with:\r\n"
      ]
    },
    {
      "cell_type": "code",
      "metadata": {
        "colab": {
          "base_uri": "https://localhost:8080/",
          "height": 195
        },
        "id": "CNOUV03Fu1Dv",
        "outputId": "2feb9041-1d6b-4bda-d70c-aeafdf5a2cdb"
      },
      "source": [
        "dataFrame = pd.DataFrame(np.random.randint(5, 10, 20).reshape(-1, 4), columns = list('abcd'))\r\n",
        "dataFrame"
      ],
      "execution_count": 7,
      "outputs": [
        {
          "output_type": "execute_result",
          "data": {
            "text/html": [
              "<div>\n",
              "<style scoped>\n",
              "    .dataframe tbody tr th:only-of-type {\n",
              "        vertical-align: middle;\n",
              "    }\n",
              "\n",
              "    .dataframe tbody tr th {\n",
              "        vertical-align: top;\n",
              "    }\n",
              "\n",
              "    .dataframe thead th {\n",
              "        text-align: right;\n",
              "    }\n",
              "</style>\n",
              "<table border=\"1\" class=\"dataframe\">\n",
              "  <thead>\n",
              "    <tr style=\"text-align: right;\">\n",
              "      <th></th>\n",
              "      <th>a</th>\n",
              "      <th>b</th>\n",
              "      <th>c</th>\n",
              "      <th>d</th>\n",
              "    </tr>\n",
              "  </thead>\n",
              "  <tbody>\n",
              "    <tr>\n",
              "      <th>0</th>\n",
              "      <td>9</td>\n",
              "      <td>5</td>\n",
              "      <td>8</td>\n",
              "      <td>8</td>\n",
              "    </tr>\n",
              "    <tr>\n",
              "      <th>1</th>\n",
              "      <td>8</td>\n",
              "      <td>6</td>\n",
              "      <td>8</td>\n",
              "      <td>7</td>\n",
              "    </tr>\n",
              "    <tr>\n",
              "      <th>2</th>\n",
              "      <td>9</td>\n",
              "      <td>5</td>\n",
              "      <td>5</td>\n",
              "      <td>9</td>\n",
              "    </tr>\n",
              "    <tr>\n",
              "      <th>3</th>\n",
              "      <td>7</td>\n",
              "      <td>6</td>\n",
              "      <td>5</td>\n",
              "      <td>6</td>\n",
              "    </tr>\n",
              "    <tr>\n",
              "      <th>4</th>\n",
              "      <td>6</td>\n",
              "      <td>5</td>\n",
              "      <td>6</td>\n",
              "      <td>9</td>\n",
              "    </tr>\n",
              "  </tbody>\n",
              "</table>\n",
              "</div>"
            ],
            "text/plain": [
              "   a  b  c  d\n",
              "0  9  5  8  8\n",
              "1  8  6  8  7\n",
              "2  9  5  5  9\n",
              "3  7  6  5  6\n",
              "4  6  5  6  9"
            ]
          },
          "metadata": {
            "tags": []
          },
          "execution_count": 7
        }
      ]
    },
    {
      "cell_type": "code",
      "metadata": {
        "colab": {
          "base_uri": "https://localhost:8080/"
        },
        "id": "FTl9T7g8vMgq",
        "outputId": "634f801e-02a0-48aa-f1a8-2eb824b7102a"
      },
      "source": [
        "def count_uniq(n):\r\n",
        "  nuniq = 0\r\n",
        "  flag = 0\r\n",
        "  j = 0\r\n",
        "  values = n.values.flatten()\r\n",
        "  # print(values)\r\n",
        "  for i in range(values.size):\r\n",
        "    for j in range(i):\r\n",
        "      if(values[j]==values[i] and i != j):\r\n",
        "        flag += 1\r\n",
        "        break;\r\n",
        "    if(flag==0):\r\n",
        "      nuniq +=1\r\n",
        "    else:\r\n",
        "      flag=0\r\n",
        "    \r\n",
        "  return nuniq\r\n",
        "\r\n",
        "count = count_uniq(dataFrame)\r\n",
        "print(count)"
      ],
      "execution_count": 40,
      "outputs": [
        {
          "output_type": "stream",
          "text": [
            "5\n"
          ],
          "name": "stdout"
        }
      ]
    }
  ]
}
